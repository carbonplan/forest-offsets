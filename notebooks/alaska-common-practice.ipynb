{
 "cells": [
  {
   "cell_type": "markdown",
   "metadata": {},
   "source": [
    "# Alaska Common Practice\n",
    "\n",
    "_by Grayson Badgley_\n",
    "\n",
    "This notebook represents our best effort to recreate common practice value for the three Alaska\n",
    "assessment areas.\n"
   ]
  },
  {
   "cell_type": "code",
   "execution_count": null,
   "metadata": {},
   "outputs": [],
   "source": [
    "import holoviews as hv\n",
    "import geoviews as gv\n",
    "import geoviews.feature as gf\n",
    "import cartopy\n",
    "import cartopy.feature as cf\n",
    "from shapely.geometry import Point\n",
    "\n",
    "import seaborn as sns\n",
    "\n",
    "from geoviews import opts, dim\n",
    "from cartopy import crs as ccrs\n",
    "\n",
    "gv.extension(\"matplotlib\", \"bokeh\")\n",
    "\n",
    "gv.output(dpi=120, fig=\"svg\")\n",
    "\n",
    "hv.output(backend=\"bokeh\")"
   ]
  },
  {
   "cell_type": "code",
   "execution_count": null,
   "metadata": {},
   "outputs": [],
   "source": [
    "import geopandas\n",
    "import numpy as np\n",
    "import pandas as pd\n",
    "from shapely.geometry import Point\n",
    "\n",
    "from carbonplan_retro.load.fia import load_fia_common_practice\n",
    "from carbonplan_retro.data import cat\n",
    "from carbonplan_retro.load import geometry"
   ]
  },
  {
   "cell_type": "code",
   "execution_count": null,
   "metadata": {},
   "outputs": [],
   "source": [
    "from collections import defaultdict"
   ]
  },
  {
   "cell_type": "markdown",
   "metadata": {},
   "source": [
    "## Load the data\n"
   ]
  },
  {
   "cell_type": "code",
   "execution_count": null,
   "metadata": {},
   "outputs": [],
   "source": [
    "df = load_fia_common_practice(\"ak\", min_year=2000, max_year=2020, private_only=False)\n",
    "\n",
    "supersections = geometry.load_supersections(\"https://storage.googleapis.com/carbonplan-data\")\n",
    "\n",
    "df = geopandas.sjoin(df, supersections[[\"SSection\", \"geometry\", \"ss_id\"]], how=\"inner\", op=\"within\")\n",
    "# df = df.rename(columns={\"index_right\": \"supersection_id\"})"
   ]
  },
  {
   "cell_type": "markdown",
   "metadata": {},
   "source": [
    "## Target\n",
    "\n",
    "We're aiming to reproduce the following numbers:\n"
   ]
  },
  {
   "cell_type": "code",
   "execution_count": null,
   "metadata": {},
   "outputs": [],
   "source": [
    "arb_cp = pd.Series(\n",
    "    {\n",
    "        \"Alaska Range Transition\": 37.14,\n",
    "        \"Alexander Archipelago - Kodiak\": 120.22,\n",
    "        \"Gulf-NorthCoast-Chugach\": 84.9,\n",
    "    },\n",
    "    name=\"ARB_calc\",\n",
    ")\n",
    "display(arb_cp)"
   ]
  },
  {
   "cell_type": "markdown",
   "metadata": {},
   "source": [
    "From our CONUS work we've learned that resampling the data can be helpful in narrowing in on how our\n",
    "CP estimates relate to ARB estimates.\n"
   ]
  },
  {
   "cell_type": "code",
   "execution_count": null,
   "metadata": {},
   "outputs": [],
   "source": [
    "def ci(data, summarize=True, n_samples=500, weights=True):\n",
    "    if weights:\n",
    "        resample = [\n",
    "            data.sample(len(data), replace=True, weights=\"CONDPROP_UNADJ\").slag_co2e_acre.mean()\n",
    "            for i in range(n_samples)\n",
    "        ]\n",
    "    if summarize:\n",
    "        return pd.Series(resample).quantile(q=[0.025, 0.5, 0.975])\n",
    "    else:\n",
    "        return resample"
   ]
  },
  {
   "cell_type": "markdown",
   "metadata": {},
   "source": [
    "## Conus Method\n",
    "\n",
    "In CONUS, we use the following criteria:\n",
    "\n",
    "- min_year of 2002, 2005, or 2008\n",
    "- max_year of 2012\n",
    "- owncd == 46 (private land)\n",
    "\n",
    "If we make no assumptions about FORTYPCDS (e.g., include all CONDS) - we don't get the ARB number\n",
    "for two of the three assessment areas.\n"
   ]
  },
  {
   "cell_type": "code",
   "execution_count": null,
   "metadata": {},
   "outputs": [],
   "source": [
    "df[(df.MEASYEAR >= 2008) & (df.OWNCD == 46) & (df.MEASYEAR <= 2012)].groupby(\"SSection\").apply(ci)"
   ]
  },
  {
   "cell_type": "markdown",
   "metadata": {},
   "source": [
    "We're also fairly sure that limiting the number of FORTYPS considered doesn't make a significant\n",
    "difference. I hand transcribed the \"associated species\" from the ARB lookup table into the lists in\n",
    "the following cell -- these represent the FORTYPCDs that map to the listed species in the ARB lookup\n",
    "table.\n"
   ]
  },
  {
   "cell_type": "code",
   "execution_count": null,
   "metadata": {},
   "outputs": [],
   "source": [
    "# mapping of all FORTYPCDs that appear in TREE table for state of Alaska -- used as reference to populat ss_fortyps\n",
    "# ak_fortyps = {703: 'cottonwood', 902: 'paper birch', 901: 'aspen', 122: 'white spruce', 125: 'black spruce', 709: 'cottonwood/willow', 270: 'moutain hemlock', 305: 'sitka spruce', 999: 'unstocked', 904: 'balsam poplar', 301: 'western hemlock', 264: 'pacific silver fir', 271: 'ak yellow-cedar', 962: 'other hardwoods', 911: 'red alder', 281: 'lodgepole pine', 304: 'western redcedar' }\n",
    "ss_fortyps = {\n",
    "    285: [305, 122, 125, 703, 709, 901, 902, 999],\n",
    "    286: [271, 703, 709, 281, 270, 902, 911, 305, 301, 304, 999],\n",
    "    287: [703, 270, 902, 305, 301, 122, 999],\n",
    "}"
   ]
  },
  {
   "cell_type": "code",
   "execution_count": null,
   "metadata": {},
   "outputs": [],
   "source": [
    "res = {}\n",
    "for ss_id, fortyps in ss_fortyps.items():\n",
    "    mean_slag = df[\n",
    "        (df.INVYR >= 2002)\n",
    "        & (df.INVYR <= 2012)\n",
    "        & (df.OWNCD == 46)\n",
    "        & (df.ss_id == ss_id)\n",
    "        & (df.FORTYPCD.isin(fortyps))\n",
    "    ].slag_co2e_acre.mean()\n",
    "    res[ss_id] = mean_slag\n",
    "display(res)"
   ]
  },
  {
   "cell_type": "markdown",
   "metadata": {},
   "source": [
    "Changing the years around doesn't help all that much either, though changing to 2008 really changes\n",
    "287 -- North Coast/Chugach. But things are still way too low.\n"
   ]
  },
  {
   "cell_type": "code",
   "execution_count": null,
   "metadata": {},
   "outputs": [],
   "source": [
    "res = defaultdict(dict)\n",
    "\n",
    "\n",
    "for min_year in [2002, 2005, 2008]:\n",
    "    for ss_id, fortyps in ss_fortyps.items():\n",
    "        mean_slag = df[\n",
    "            (df.INVYR >= min_year)\n",
    "            & (df.INVYR <= 2012)\n",
    "            & (df.OWNCD == 46)\n",
    "            & (df.ss_id == ss_id)\n",
    "            & (df.FORTYPCD.isin(fortyps))\n",
    "        ].slag_co2e_acre.mean()\n",
    "        res[min_year][ss_id] = mean_slag\n",
    "pd.DataFrame(res)"
   ]
  },
  {
   "cell_type": "markdown",
   "metadata": {},
   "source": [
    "If we relax the ownership requirement [commented out `OWNCD` criterion below] -- things look a\n",
    "little better. Now, 286 is about where ARB calculates, 287 is closer to ARB number (but high), and\n",
    "285 is significantly below the reported CP of 37.14 tCO2e acre-1.\n"
   ]
  },
  {
   "cell_type": "code",
   "execution_count": null,
   "metadata": {},
   "outputs": [],
   "source": [
    "res = defaultdict(dict)\n",
    "\n",
    "\n",
    "for min_year in [2002, 2005, 2008]:\n",
    "    for ss_id, fortyps in ss_fortyps.items():\n",
    "        mean_slag = df[\n",
    "            (df.INVYR >= min_year)\n",
    "            & (df.INVYR <= 2012)\n",
    "            &\n",
    "            # (df.OWNCD == 46) &\n",
    "            (df.ss_id == ss_id)\n",
    "            & (df.FORTYPCD.isin(fortyps))\n",
    "        ].slag_co2e_acre.mean()\n",
    "        res[min_year][ss_id] = mean_slag\n",
    "pd.DataFrame(res)"
   ]
  },
  {
   "cell_type": "markdown",
   "metadata": {},
   "source": [
    "Mostly through trial and error, I learned that removing three OWNCDs helps a bunch.\n",
    "\n",
    "- 21: NPS -- national parks cant be logged (i dont think) so it made sense to exclude them\n",
    "- 31: state land\n",
    "- 32: local authorites\n",
    "\n",
    "When we exclude those, we get about the best quest -- 286/287 are more or less spot on. Sure ARB's\n",
    "actual calculation will be slightly different, but atleast we can demonstrate there is a reasonable\n",
    "approach for going from the data we have available to the estimates they provide. For 285, however,\n",
    "we're still not able to get the right answer.\n"
   ]
  },
  {
   "cell_type": "code",
   "execution_count": null,
   "metadata": {},
   "outputs": [],
   "source": [
    "res = defaultdict(dict)\n",
    "for min_year in [2002, 2005, 2008]:\n",
    "\n",
    "    for ss_id, fortyps in ss_fortyps.items():\n",
    "        mean_slag = df[\n",
    "            (df.INVYR >= min_year)\n",
    "            & (df.INVYR <= 2012)\n",
    "            & (~df.OWNCD.isin([21, 31, 32]))\n",
    "            & (df.ss_id == ss_id)\n",
    "            & (df.FORTYPCD.isin(fortyps))\n",
    "        ].slag_co2e_acre.mean()\n",
    "        res[min_year][ss_id] = mean_slag\n",
    "pd.DataFrame(res)"
   ]
  },
  {
   "cell_type": "markdown",
   "metadata": {},
   "source": [
    "For good measure, let's just relax the forestyp constriant for now and instead do the resampling\n",
    "esimate of mean SLAG for each assessment area. This gives us another glimpse -- looks like we can\n",
    "get decently close for Alex/Kodiak and NorthCoast/Chugach -- but Alaska Range Transition just isn't\n",
    "there\n"
   ]
  },
  {
   "cell_type": "code",
   "execution_count": null,
   "metadata": {},
   "outputs": [],
   "source": [
    "df[(df.MEASYEAR >= 2002) & (df.MEASYEAR <= 2012) & (~df.OWNCD.isin([21, 31, 32]))].groupby(\n",
    "    \"SSection\"\n",
    ").apply(ci)"
   ]
  },
  {
   "cell_type": "markdown",
   "metadata": {},
   "source": [
    "## Looking for obvious explanations\n",
    "\n",
    "Our CP estimate for ART is just too low. That means we need some sizable pool of plots that have a\n",
    "higher SLAG to get the right answer.\n",
    "\n",
    "To explore this, we aggregate the data across various dimensions to see if there is some dimension\n",
    "that has much higher SLAG.\n",
    "\n",
    "### Measurement Year\n",
    "\n",
    "Looks like there are some ups and downs year to year, but nothing obvious pops out -- so it doesnt\n",
    "look like just fiddling with temporal filtering is going to solve our problem\n"
   ]
  },
  {
   "cell_type": "code",
   "execution_count": null,
   "metadata": {},
   "outputs": [],
   "source": [
    "res = defaultdict(dict)\n",
    "df[\n",
    "    (df.INVYR >= 2000)\n",
    "    & (df.INVYR <= 2015)\n",
    "    &\n",
    "    # (~df.OWNCD.isin([21,31,32])) &\n",
    "    (df.ss_id == 285)\n",
    "    & (df.FORTYPCD.isin(ss_fortyps[285]))\n",
    "].groupby(\"MEASYEAR\").slag_co2e_acre.agg([\"mean\", \"count\"])"
   ]
  },
  {
   "cell_type": "markdown",
   "metadata": {},
   "source": [
    "### OWNCD\n",
    "\n",
    "Ownership paints a similar picture -- we see that `OWNCD == 31` are definitely lower than other\n",
    "ownership classes -- which helps explain why their exclusion helps us get closer to the\n",
    "ARB-estimated CPs. But apart from `31`, there isn't some ownership class with significntly higher CP\n",
    "that we're somehow understampling (apart from 25, but with just two plots I'm not going to read\n",
    "anything into that.)\n"
   ]
  },
  {
   "cell_type": "code",
   "execution_count": null,
   "metadata": {},
   "outputs": [],
   "source": [
    "res = defaultdict(dict)\n",
    "df[\n",
    "    (df.INVYR >= 2000)\n",
    "    & (df.INVYR <= 2018)\n",
    "    &\n",
    "    # (~df.OWNCD.isin([21,31,32])) &\n",
    "    (df.ss_id == 285)\n",
    "    & (df.FORTYPCD.isin(ss_fortyps[285]))\n",
    "].groupby(\"OWNCD\").slag_co2e_acre.agg([\"mean\", \"count\"])"
   ]
  },
  {
   "cell_type": "markdown",
   "metadata": {},
   "source": [
    "### FORTYPCD\n",
    "\n",
    "Last but not least, is there anything going on by FORTYPCD and OWNCD? I'm just not seeing it. I\n",
    "guess if we excluded 122/125 (white/black spruce) we'd probably get much closer -- but we know that\n",
    "black spruce is going to thrive in this transition zone. These FORTYPCDs are also specifically\n",
    "mentioned in the ARB lookup table. So yeah there just isn't a clear explanation for why our CP\n",
    "estimate in ART is so much lower.\n"
   ]
  },
  {
   "cell_type": "code",
   "execution_count": null,
   "metadata": {},
   "outputs": [],
   "source": [
    "res = defaultdict(dict)\n",
    "df[\n",
    "    (df.INVYR >= 2002)\n",
    "    & (df.INVYR <= 2018)\n",
    "    &\n",
    "    # (~df.OWNCD.isin([21,31,32])) &\n",
    "    (df.ss_id == 285)\n",
    "    # (df.FORTYPCD.isin(ss_fortyps[285]))\n",
    "].groupby([\"FORTYPCD\", \"OWNCD\"]).slag_co2e_acre.agg([\"mean\", \"count\"])"
   ]
  },
  {
   "cell_type": "markdown",
   "metadata": {},
   "source": [
    "## FIA spatial coverage in ART.\n",
    "\n",
    "The fact we can figure out two of the AK assessment areas, but not the third (ART) might not be\n",
    "_that_ troubling if it weren't for another fact. There do not seem to be FIA plots in large portions\n",
    "of the ART assessment area (shown in blue below). The lightly shaded black points in the figure\n",
    "below are FIA plot locations, taken from the\n",
    "[AK.accdb posted by ARB](https://ww2.arb.ca.gov/our-work/programs/compliance-offset-program/compliance-offset-protocols/us-forest-projects/2015/common-practice-data).\n",
    "We are under the assumption that these raw data are the basis for ARB's reported CP estimates. When\n",
    "we plot those data, however, we see that large sections of the Alaska Range Transition assessment\n",
    "area have no FIA data. In my conversations with some folks at USFS and reading of online materials,\n",
    "it doesn't seem that FIA has actually made it to these parts of Alaska yet. So how did ARB include\n",
    "them? Do these regions not have FIA data? Or is there some other data source, thus explaining our\n",
    "inability to recreate the CP number from FIA data alone? Without more guidance, I do not believe\n",
    "that we can definitively calculate CP for the Alaska Range Transition assessment area.\n"
   ]
  },
  {
   "cell_type": "code",
   "execution_count": null,
   "metadata": {},
   "outputs": [],
   "source": [
    "arb_ak_plot = pd.read_csv(\"/home/jovyan/lost+found/arb_ak_plot.csv\")\n",
    "arb_ak_plot = arb_ak_plot[arb_ak_plot[\"PLOT_STATUS_CD\"] == 1]  # at least one forest COND sampled\n",
    "\n",
    "geo = [Point(r.LON, r.LAT) for r in arb_ak_plot.itertuples()]\n",
    "arb_ak_plot = geopandas.GeoDataFrame(data=arb_ak_plot, geometry=geo, crs=\"epsg:4326\")\n",
    "\n",
    "supersections.geometry = supersections.simplify(0.025)\n",
    "\n",
    "gv.Polygons(supersections[supersections[\"ss_id\"] > 100], vdims=[\"SSection\"]).opts(\n",
    "    cmap=\"tab10\", width=600, height=300, alpha=0.25\n",
    ") * gv.Points(arb_ak_plot).opts(color=\"k\", size=2, alpha=0.10)"
   ]
  }
 ],
 "metadata": {
  "kernelspec": {
   "display_name": "Python 3",
   "language": "python",
   "name": "python3"
  },
  "language_info": {
   "codemirror_mode": {
    "name": "ipython",
    "version": 3
   },
   "file_extension": ".py",
   "mimetype": "text/x-python",
   "name": "python",
   "nbconvert_exporter": "python",
   "pygments_lexer": "ipython3",
   "version": "3.7.9"
  }
 },
 "nbformat": 4,
 "nbformat_minor": 4
}
