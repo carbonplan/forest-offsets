{
 "cells": [
  {
   "cell_type": "code",
   "execution_count": 5,
   "metadata": {},
   "outputs": [],
   "source": [
    "import sys\n",
    "sys.path.append('/Users/darryl/proj/carbonplan/retro/')\n",
    "\n",
    "from retrospective.load.issuance import load_issuance_table, ifm_opr_ids"
   ]
  },
  {
   "cell_type": "code",
   "execution_count": 97,
   "metadata": {},
   "outputs": [],
   "source": [
    "import numpy as np"
   ]
  },
  {
   "cell_type": "code",
   "execution_count": 43,
   "metadata": {},
   "outputs": [],
   "source": [
    "from retrospective.load.project_db import load_project_db"
   ]
  },
  {
   "cell_type": "code",
   "execution_count": 3,
   "metadata": {},
   "outputs": [],
   "source": [
    "df = load_issuance_table('/Users/darryl/forest-retro/documents-of-interest/arb/issuance/arboc_issuance_2020-09-09.xlsx',\n",
    "                         forest_only=False)"
   ]
  },
  {
   "cell_type": "code",
   "execution_count": 4,
   "metadata": {},
   "outputs": [],
   "source": [
    "total_issued_arbocs = df['allocation'].sum()"
   ]
  },
  {
   "cell_type": "code",
   "execution_count": 6,
   "metadata": {},
   "outputs": [],
   "source": [
    "ifms = df[df['opr_id'].isin(ifm_opr_ids)]"
   ]
  },
  {
   "cell_type": "code",
   "execution_count": 14,
   "metadata": {},
   "outputs": [
    {
     "data": {
      "text/plain": [
       "130"
      ]
     },
     "execution_count": 14,
     "metadata": {},
     "output_type": "execute_result"
    }
   ],
   "source": [
    "df[df['project_type'] == 'forest'].opr_id.nunique()"
   ]
  },
  {
   "cell_type": "code",
   "execution_count": 9,
   "metadata": {},
   "outputs": [
    {
     "data": {
      "text/plain": [
       "93"
      ]
     },
     "execution_count": 9,
     "metadata": {},
     "output_type": "execute_result"
    }
   ],
   "source": [
    "len(ifm_opr_ids)"
   ]
  },
  {
   "cell_type": "markdown",
   "metadata": {},
   "source": [
    "Early Action ARBOCs are actually a fairly sizable fraction of the overall program -- weighing in at 12.5 percent. \n",
    "I acutally find this a little surprising...\n",
    "EA projects also have similar skew toward forests. "
   ]
  },
  {
   "cell_type": "code",
   "execution_count": 67,
   "metadata": {},
   "outputs": [
    {
     "data": {
      "text/plain": [
       "'12.53 percent ARBOCs in the issuance table come from EA period'"
      ]
     },
     "metadata": {},
     "output_type": "display_data"
    },
    {
     "data": {
      "text/plain": [
       "'And EA forest projects represent 6.88 percent of all issued ARBOCs'"
      ]
     },
     "metadata": {},
     "output_type": "display_data"
    },
    {
     "data": {
      "text/plain": [
       "'This means EA forests represent a little over half of all EA ARBOCs (54.89 percent to be exact)'"
      ]
     },
     "metadata": {},
     "output_type": "display_data"
    }
   ],
   "source": [
    "total_ea_arbocs = df[df['is_ea'] == 1].allocation.sum()\n",
    "\n",
    "fraction_arboc_ea = total_ea_arbocs / total_issued_arbocs\n",
    "display(f\"{fraction_arboc_ea* 100:0.2f} percent ARBOCs in the issuance table come from EA period\")\n",
    "\n",
    "forest_ea_arbocs =  df[(df['is_ea'] == 1) & (df['project_type'] == 'forest')].allocation.sum()\n",
    "fraction_arboc_forest_ea = forest_ea_arbocs / total_issued_arbocs\n",
    "\n",
    "display(f\"And EA forest projects represent {fraction_arboc_forest_ea*100:.2f} percent of all issued ARBOCs\")\n",
    "\n",
    "forest_ea_as_frac_of_ea = forest_ea_arbocs / total_ea_arbocs\n",
    "display(f\"This means EA forests represent a little over half of all EA ARBOCs ({forest_ea_as_frac_of_ea * 100:.2f} percent to be exact)\")"
   ]
  },
  {
   "cell_type": "markdown",
   "metadata": {},
   "source": [
    "## Graduated projects"
   ]
  },
  {
   "cell_type": "code",
   "execution_count": 142,
   "metadata": {},
   "outputs": [
    {
     "name": "stdout",
     "output_type": "stream",
     "text": [
      "loading load Forest-Offset-Projects-v0.3 from /Users/darryl/proj/carbonplan/retro/data\n"
     ]
    },
    {
     "data": {
      "text/plain": [
       "{'CAR1063': 'CAR657',\n",
       " 'CAR1161': 'CAR681',\n",
       " 'CAR1162': 'CAR655',\n",
       " 'CAR1159': 'CAR696',\n",
       " 'CAR1134': 'CAR658',\n",
       " 'CAR1140': 'CAR661',\n",
       " 'CAR1099': 'CAR660',\n",
       " 'CAR1067': 'CAR1004',\n",
       " 'CAR1086': 'CAR648',\n",
       " 'CAR1147': 'CAR697',\n",
       " 'CAR1100': 'CAR408',\n",
       " 'CAR1070': 'CAR777',\n",
       " 'CAR1130': 'CAR582',\n",
       " 'CAR1088': 'CAR645',\n",
       " 'CAR1141': 'CAR101',\n",
       " 'CAR1139': 'CAR730',\n",
       " 'CAR1062': 'CAR780',\n",
       " 'CAR1098': 'CAR102',\n",
       " 'CAR1160': 'CAR686',\n",
       " 'CAR1109': 'CAR749'}"
      ]
     },
     "execution_count": 142,
     "metadata": {},
     "output_type": "execute_result"
    }
   ],
   "source": [
    "project_db = load_project_db('Forest-Offset-Projects-v0.3', use_cache=True)\n",
    "\n",
    "graduated_projects = project_db[project_db['project']['early_action'].str.startswith('CAR')]['project']['early_action'].to_dict()\n",
    "\n",
    "graduated_projects['CAR1109'] = 'CAR749' # One AC project converted over...ha\n",
    "graduated_projects"
   ]
  },
  {
   "cell_type": "code",
   "execution_count": 94,
   "metadata": {},
   "outputs": [],
   "source": [
    "non_grads = df[(df['project_type'] == 'forest') & (df['is_ea']) & (~df['opr_id'].isin(graduated_projects.values()))]['opr_id'].unique().tolist()"
   ]
  },
  {
   "cell_type": "code",
   "execution_count": 95,
   "metadata": {},
   "outputs": [],
   "source": [
    "graduated_list = list(graduated_projects.values()) + list(graduated_projects.keys())"
   ]
  },
  {
   "cell_type": "code",
   "execution_count": 98,
   "metadata": {},
   "outputs": [],
   "source": [
    "df['project_category'] = np.nan"
   ]
  },
  {
   "cell_type": "code",
   "execution_count": 103,
   "metadata": {},
   "outputs": [],
   "source": [
    "non_graduated_counts = {'ifm': 3, 'ac': 6}\n",
    "graduated_counts = {'ifm':19, 'ac': 1}\n",
    "compliance_counts = {'ifm': 74, 'ac':5, 'refor': 2}"
   ]
  },
  {
   "cell_type": "code",
   "execution_count": 99,
   "metadata": {},
   "outputs": [],
   "source": [
    "df.loc[df['project_type'] == 'forest', 'project_category'] = 'compliance'\n",
    "df.loc[(df['project_type'] == 'forest') & (df['opr_id'].isin(non_grads)), 'project_category'] = 'non-graduated'\n",
    "df.loc[(df['project_type'] == 'forest') & (df['opr_id'].isin(graduated_list)), 'project_category'] = 'graduated'"
   ]
  },
  {
   "cell_type": "code",
   "execution_count": 104,
   "metadata": {},
   "outputs": [],
   "source": [
    "df['guid'] = df['opr_id']\n",
    "df.loc[df['opr_id'].isin(graduated_projects.keys()), 'guid'] = df['opr_id'].map(graduated_projects)"
   ]
  },
  {
   "cell_type": "code",
   "execution_count": 115,
   "metadata": {},
   "outputs": [],
   "source": [
    "forest_share_total = (df.groupby(df['project_type'] == 'forest')['allocation'].sum() / df['allocation'].sum()).rename('forest_share_total')"
   ]
  },
  {
   "cell_type": "markdown",
   "metadata": {},
   "source": [
    "## Total forests"
   ]
  },
  {
   "cell_type": "code",
   "execution_count": 121,
   "metadata": {},
   "outputs": [
    {
     "data": {
      "text/plain": [
       "'Across EA and COP there are 110 unique forest projects'"
      ]
     },
     "metadata": {},
     "output_type": "display_data"
    }
   ],
   "source": [
    "display(f\"Across EA and COP there are {forests['guid'].nunique()} unique forest projects\")"
   ]
  },
  {
   "cell_type": "markdown",
   "metadata": {},
   "source": [
    "We can break those 110 projects down into three categories of projects: compliance, graduate, and non-graduated projects"
   ]
  },
  {
   "cell_type": "code",
   "execution_count": 183,
   "metadata": {},
   "outputs": [],
   "source": [
    "def danny_table_stats(subset, total_arbocs):\n",
    "    return {'n_proj': subset['guid'].nunique(),\n",
    "     'allocation': subset['allocation'].sum(),\n",
    "     'frac_total_arbocs': round(subset['allocation'].sum()/total_arbocs, 3)}"
   ]
  },
  {
   "cell_type": "code",
   "execution_count": 184,
   "metadata": {},
   "outputs": [],
   "source": [
    "initial_forests = df[(df['project_type'] == 'forest') & (df['arb_rp_id'].isin(['A', '(']))] # '(' catches the two reforestation projects"
   ]
  },
  {
   "cell_type": "code",
   "execution_count": 185,
   "metadata": {},
   "outputs": [
    {
     "data": {
      "text/plain": [
       "72"
      ]
     },
     "execution_count": 185,
     "metadata": {},
     "output_type": "execute_result"
    }
   ],
   "source": [
    "ics_gt_cp_lst = project_db[project_db['baseline']['initial_carbon_stock'] > project_db['baseline']['common_practice']].index.tolist()\n",
    "\n",
    "ics_gt_cp_lst = [x for x in ics_gt_cp_lst if x not in graduated_projects.keys()]\n",
    "\n",
    "len(ics_gt_cp_lst)"
   ]
  },
  {
   "cell_type": "code",
   "execution_count": 201,
   "metadata": {},
   "outputs": [],
   "source": [
    "subsets = {'all_forest': initial_forests,\n",
    "          'compliance_ifm': initial_forests[(initial_forests['project_category'] == 'compliance') & (initial_forests['opr_id'].isin(ifm_opr_ids))],\n",
    "          'ifm_ics_gt_cp': initial_forests[initial_forests['opr_id'].isin(ics_gt_cp_lst)]}"
   ]
  },
  {
   "cell_type": "code",
   "execution_count": 202,
   "metadata": {},
   "outputs": [],
   "source": [
    "import pandas as pd"
   ]
  },
  {
   "cell_type": "code",
   "execution_count": 203,
   "metadata": {},
   "outputs": [],
   "source": [
    "initial_forest_table = pd.DataFrame({k: danny_table_stats(v, total_issued_arbocs) for k, v in subsets.items()}).T"
   ]
  },
  {
   "cell_type": "code",
   "execution_count": 204,
   "metadata": {},
   "outputs": [
    {
     "data": {
      "text/html": [
       "<div>\n",
       "<style scoped>\n",
       "    .dataframe tbody tr th:only-of-type {\n",
       "        vertical-align: middle;\n",
       "    }\n",
       "\n",
       "    .dataframe tbody tr th {\n",
       "        vertical-align: top;\n",
       "    }\n",
       "\n",
       "    .dataframe thead th {\n",
       "        text-align: right;\n",
       "    }\n",
       "</style>\n",
       "<table border=\"1\" class=\"dataframe\">\n",
       "  <thead>\n",
       "    <tr style=\"text-align: right;\">\n",
       "      <th></th>\n",
       "      <th>Project Count</th>\n",
       "      <th>First RP ARBOCs</th>\n",
       "      <th>Fraction of Total Issued ARBOCs</th>\n",
       "    </tr>\n",
       "  </thead>\n",
       "  <tbody>\n",
       "    <tr>\n",
       "      <th>all_forest</th>\n",
       "      <td>110.0</td>\n",
       "      <td>131853870.0</td>\n",
       "      <td>0.683</td>\n",
       "    </tr>\n",
       "    <tr>\n",
       "      <th>compliance_ifm</th>\n",
       "      <td>74.0</td>\n",
       "      <td>121198020.0</td>\n",
       "      <td>0.628</td>\n",
       "    </tr>\n",
       "    <tr>\n",
       "      <th>ifm_ics_gt_cp</th>\n",
       "      <td>72.0</td>\n",
       "      <td>120954134.0</td>\n",
       "      <td>0.627</td>\n",
       "    </tr>\n",
       "  </tbody>\n",
       "</table>\n",
       "</div>"
      ],
      "text/plain": [
       "                Project Count  First RP ARBOCs  \\\n",
       "all_forest              110.0      131853870.0   \n",
       "compliance_ifm           74.0      121198020.0   \n",
       "ifm_ics_gt_cp            72.0      120954134.0   \n",
       "\n",
       "                Fraction of Total Issued ARBOCs  \n",
       "all_forest                                0.683  \n",
       "compliance_ifm                            0.628  \n",
       "ifm_ics_gt_cp                             0.627  "
      ]
     },
     "execution_count": 204,
     "metadata": {},
     "output_type": "execute_result"
    }
   ],
   "source": [
    "initial_forest_table.rename(columns={'n_proj': 'Project Count', 'allocation': \"First RP ARBOCs\", 'frac_total_arbocs':\"Fraction of Total Issued ARBOCs\"})"
   ]
  },
  {
   "cell_type": "code",
   "execution_count": 123,
   "metadata": {},
   "outputs": [
    {
     "data": {
      "text/plain": [
       "project_category\n",
       "compliance       81\n",
       "graduated        20\n",
       "non-graduated     9\n",
       "Name: guid, dtype: int64"
      ]
     },
     "execution_count": 123,
     "metadata": {},
     "output_type": "execute_result"
    }
   ],
   "source": [
    "df.groupby('project_category')['guid'].nunique()"
   ]
  },
  {
   "cell_type": "code",
   "execution_count": 125,
   "metadata": {},
   "outputs": [
    {
     "data": {
      "text/plain": [
       "'Compliance Forest projects represent 73.64 percent of all forest projects'"
      ]
     },
     "metadata": {},
     "output_type": "display_data"
    }
   ],
   "source": [
    "display(f\"Compliance Forest projects represent {81/110. * 100:.2f} percent of all forest projects\")"
   ]
  },
  {
   "cell_type": "code",
   "execution_count": 127,
   "metadata": {},
   "outputs": [
    {
     "data": {
      "text/plain": [
       "'0.7956989247311828'"
      ]
     },
     "metadata": {},
     "output_type": "display_data"
    }
   ],
   "source": [
    "\n",
    "display(f\"{compliance_counts['ifm']/93.}\")"
   ]
  },
  {
   "cell_type": "code",
   "execution_count": 49,
   "metadata": {},
   "outputs": [
    {
     "data": {
      "text/plain": [
       "'There are 19 graduated projects'"
      ]
     },
     "metadata": {},
     "output_type": "display_data"
    }
   ],
   "source": [
    "display(f\"There are {len(graduated_projects)} graduated projects\")"
   ]
  },
  {
   "cell_type": "code",
   "execution_count": 58,
   "metadata": {},
   "outputs": [
    {
     "data": {
      "text/plain": [
       "'Graudated projects represent just 2.92 percent of all issued arbocs'"
      ]
     },
     "metadata": {},
     "output_type": "display_data"
    }
   ],
   "source": [
    "graduated_arbocs = df[df['opr_id'].isin(graduated_projects)].allocation.sum()\n",
    "fraction_arbocs_from_graduated = graduated_arbocs/total_issued_arbocs\n",
    "\n",
    "display(f\"Graudated projects represent just {fraction_arbocs_from_graduated *100:0.2f} percent of all issued arbocs\")"
   ]
  },
  {
   "cell_type": "markdown",
   "metadata": {},
   "source": [
    "So if graduated projects are 2.92 percent of all ARBOCs and EA forests are 6.88 percent of all issued ARBOCs, EA+graduated projects represent less than 10 percent of all ARBOCs issued to date. "
   ]
  },
  {
   "cell_type": "code",
   "execution_count": 15,
   "metadata": {},
   "outputs": [],
   "source": [
    "total_ifm_issued_arbocs = ifms['allocation'].sum()"
   ]
  },
  {
   "cell_type": "code",
   "execution_count": 16,
   "metadata": {},
   "outputs": [],
   "source": [
    "initial_ifm_arbocs = ifms[ifms['arb_rp_id'] == 'A']['allocation'].sum()"
   ]
  },
  {
   "cell_type": "code",
   "execution_count": 17,
   "metadata": {},
   "outputs": [
    {
     "data": {
      "text/plain": [
       "'IFMs repsent 71.04 percent of all compliance (EA excluded) ARBOCS'"
      ]
     },
     "metadata": {},
     "output_type": "display_data"
    }
   ],
   "source": [
    "display(f\"IFMs represent {total_ifm_issued_arbocs/total_issued_arbocs * 100:.2f} percent of all compliance (EA excluded) ARBOCS\")"
   ]
  },
  {
   "cell_type": "code",
   "execution_count": 18,
   "metadata": {},
   "outputs": [],
   "source": [
    "initial_frac_total_ifm = initial_ifm_arbocs/total_ifm_issued_arbocs\n",
    "initial_frac_total_issued = initial_ifm_arbocs/total_issued_arbocs"
   ]
  },
  {
   "cell_type": "code",
   "execution_count": 68,
   "metadata": {},
   "outputs": [
    {
     "data": {
      "text/plain": [
       "'Initial IFM ARBOCs represent 90.33 percent of all ARBOCs issued to compliance IFM projects'"
      ]
     },
     "metadata": {},
     "output_type": "display_data"
    }
   ],
   "source": [
    "display(f\"Initial IFM ARBOCs represent {initial_frac_total_ifm * 100:.2f} percent of all ARBOCs issued to compliance IFM projects\")"
   ]
  },
  {
   "cell_type": "code",
   "execution_count": 69,
   "metadata": {},
   "outputs": [
    {
     "data": {
      "text/plain": [
       "'Initial IFMs ARBOCs represent 64.17 percent of all issued ARBOCS'"
      ]
     },
     "metadata": {},
     "output_type": "display_data"
    }
   ],
   "source": [
    "display(f\"Initial IFMs ARBOCs represent {initial_frac_total_issued * 100:.2f} percent of all issued ARBOCS\")"
   ]
  },
  {
   "cell_type": "code",
   "execution_count": null,
   "metadata": {},
   "outputs": [],
   "source": []
  },
  {
   "cell_type": "markdown",
   "metadata": {},
   "source": [
    "## Some other stuff"
   ]
  },
  {
   "cell_type": "code",
   "execution_count": null,
   "metadata": {},
   "outputs": [],
   "source": []
  },
  {
   "cell_type": "code",
   "execution_count": 90,
   "metadata": {},
   "outputs": [
    {
     "name": "stdout",
     "output_type": "stream",
     "text": [
      "loading load Forest-Offset-Projects-v0.3 from /Users/darryl/proj/carbonplan/retro/data\n"
     ]
    }
   ],
   "source": [
    "from retrospective.load.retro import retro\n",
    "\n",
    "\n",
    "retro_db = retro(\"Forest-Offset-Projects-v0.3\", use_cache=True)\n",
    "\n",
    "graduated_projects = [\n",
    "    k\n",
    "    for k, v in retro_db[\"project\"]\n",
    "    .set_index(\"opr_id\")[\"early_action\"]\n",
    "    .to_dict()\n",
    "    .items()\n",
    "    if v.startswith(\"CAR\")\n",
    "]"
   ]
  },
  {
   "cell_type": "code",
   "execution_count": 86,
   "metadata": {},
   "outputs": [],
   "source": [
    "def initial_delta(data):\n",
    "    \"\"\" For projects with more than one reporting period, how much bigger was \n",
    "    initial than subsequent? \n",
    "    \"\"\"\n",
    "    if 'B' in data['arb_rp_id'].unique().tolist():\n",
    "        \n",
    "        initial = data[data['arb_rp_id'] == 'A']['allocation'].sum()\n",
    "        # have to aggregate by arb_rp_id first because issuances can be rolling (rare -- only know of one case)\n",
    "        avg_subsequent = data[data['arb_rp_id'] != 'A'].groupby('arb_rp_id')['allocation'].sum().mean()\n",
    "        return initial/avg_subsequent\n",
    "    return None"
   ]
  },
  {
   "cell_type": "code",
   "execution_count": 94,
   "metadata": {},
   "outputs": [
    {
     "data": {
      "text/plain": [
       "count    41.000000\n",
       "mean     20.416665\n",
       "std      15.040035\n",
       "min       0.537271\n",
       "25%       9.786371\n",
       "50%      15.499460\n",
       "75%      28.218495\n",
       "max      70.459507\n",
       "dtype: float64"
      ]
     },
     "execution_count": 94,
     "metadata": {},
     "output_type": "execute_result"
    }
   ],
   "source": [
    "ifms[~ifms.opr_id.isin(graduated_projects)].groupby(['opr_id']).apply(initial_delta).sort_values().dropna().describe()"
   ]
  },
  {
   "cell_type": "code",
   "execution_count": null,
   "metadata": {},
   "outputs": [],
   "source": []
  }
 ],
 "metadata": {
  "kernelspec": {
   "display_name": "Python 3",
   "language": "python",
   "name": "python3"
  },
  "language_info": {
   "codemirror_mode": {
    "name": "ipython",
    "version": 3
   },
   "file_extension": ".py",
   "mimetype": "text/x-python",
   "name": "python",
   "nbconvert_exporter": "python",
   "pygments_lexer": "ipython3",
   "version": "3.7.4"
  }
 },
 "nbformat": 4,
 "nbformat_minor": 2
}
