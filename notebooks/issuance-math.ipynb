{
 "cells": [
  {
   "cell_type": "code",
   "execution_count": null,
   "metadata": {},
   "outputs": [],
   "source": [
    "import numpy as np\n",
    "import pandas as pd\n",
    "\n",
    "from carbonplan_retro.load.issuance import load_issuance_table, ifm_opr_ids\n",
    "from carbonplan_retro.load.project_db import load_project_db"
   ]
  },
  {
   "cell_type": "code",
   "execution_count": null,
   "metadata": {},
   "outputs": [],
   "source": [
    "from carbonplan_retro.data import cat"
   ]
  },
  {
   "cell_type": "markdown",
   "metadata": {},
   "source": [
    "## Issusance Summary Statistics\n",
    "\n",
    "This notebook generates summary statistics from the 2020-09-09 ARB Issuance Table. The numbers\n",
    "generated here provide context to over-crediting calculations.\n"
   ]
  },
  {
   "cell_type": "code",
   "execution_count": null,
   "metadata": {},
   "outputs": [],
   "source": [
    "df = load_issuance_table(forest_only=False)\n",
    "\n",
    "\n",
    "def subset_stats(criteria):\n",
    "    nunique_opr_ids = df[criteria][\"opr_id\"].nunique()\n",
    "    total_arbocs = df[criteria][\"allocation\"].sum()\n",
    "    return (nunique_opr_ids, total_arbocs)\n",
    "\n",
    "\n",
    "retro_json = cat.retro_db_light_json.read()\n",
    "upfront_opr_ids = [\n",
    "    project[\"opr_id\"]\n",
    "    for project in retro_json\n",
    "    if project[\"carbon\"][\"initial_carbon_stock\"][\"value\"]\n",
    "    > project[\"carbon\"][\"common_practice\"][\"value\"]\n",
    "]\n",
    "compliance_opr_ids = [project[\"opr_id\"] for project in retro_json]\n",
    "\n",
    "subsets = {\n",
    "    \"all\": np.tile(True, len(df)),\n",
    "    \"all_forest\": df[\"project_type\"] == \"forest\",\n",
    "    \"compliance_ifm\": (df[\"opr_id\"].isin(ifm_opr_ids)) & (df[\"Early Action/ Compliance\"] == \"COP\"),\n",
    "    \"non_graduated_compliance_ifms\": (df[\"opr_id\"].isin(compliance_opr_ids))\n",
    "    & (df[\"Early Action/ Compliance\"] == \"COP\"),\n",
    "    \"upfront_ifm\": (df[\"opr_id\"].isin(upfront_opr_ids)) & (df[\"arb_rp_id\"].isin([\"A\"])),\n",
    "}\n",
    "{k: subset_stats(v) for k, v in subsets.items()}"
   ]
  },
  {
   "cell_type": "code",
   "execution_count": null,
   "metadata": {},
   "outputs": [],
   "source": [
    "total_issued_arbocs = df[\"allocation\"].sum()"
   ]
  },
  {
   "cell_type": "code",
   "execution_count": null,
   "metadata": {},
   "outputs": [],
   "source": [
    "ifms = df[df[\"opr_id\"].isin(ifm_opr_ids)]"
   ]
  },
  {
   "cell_type": "code",
   "execution_count": null,
   "metadata": {},
   "outputs": [],
   "source": [
    "df[df[\"project_type\"] == \"forest\"].opr_id.nunique()"
   ]
  },
  {
   "cell_type": "code",
   "execution_count": null,
   "metadata": {},
   "outputs": [],
   "source": [
    "len(ifm_opr_ids)"
   ]
  },
  {
   "cell_type": "markdown",
   "metadata": {},
   "source": [
    "Early Action ARBOCs are actually a fairly sizable fraction of the overall program -- weighing in at\n",
    "12.5 percent. I acutally find this a little surprising... EA projects also have similar skew toward\n",
    "forests.\n"
   ]
  },
  {
   "cell_type": "code",
   "execution_count": null,
   "metadata": {},
   "outputs": [],
   "source": [
    "total_ea_arbocs = df[df[\"is_ea\"] == 1].allocation.sum()\n",
    "\n",
    "fraction_arboc_ea = total_ea_arbocs / total_issued_arbocs\n",
    "display(f\"{fraction_arboc_ea* 100:0.2f} percent ARBOCs in the issuance table come from EA period\")\n",
    "\n",
    "forest_ea_arbocs = df[(df[\"is_ea\"] == 1) & (df[\"project_type\"] == \"forest\")].allocation.sum()\n",
    "fraction_arboc_forest_ea = forest_ea_arbocs / total_issued_arbocs\n",
    "\n",
    "display(\n",
    "    f\"And EA forest projects represent {fraction_arboc_forest_ea*100:.2f} percent of all issued ARBOCs\"\n",
    ")\n",
    "\n",
    "forest_ea_as_frac_of_ea = forest_ea_arbocs / total_ea_arbocs\n",
    "display(\n",
    "    f\"This means EA forests represent a little over half of all EA ARBOCs ({forest_ea_as_frac_of_ea * 100:.2f} percent to be exact)\"\n",
    ")"
   ]
  },
  {
   "cell_type": "markdown",
   "metadata": {},
   "source": [
    "## Graduated projects\n"
   ]
  },
  {
   "cell_type": "code",
   "execution_count": null,
   "metadata": {},
   "outputs": [],
   "source": [
    "project_db = load_project_db(\n",
    "    \"/home/jovyan/lost+found/Forest-Offset-Projects-v0.3.json\", use_cache=True, save=False\n",
    ")\n",
    "\n",
    "graduated_projects = project_db[project_db[\"project\"][\"early_action\"].str.startswith(\"CAR\")][\n",
    "    \"project\"\n",
    "][\"early_action\"].to_dict()\n",
    "\n",
    "graduated_projects[\"CAR1109\"] = \"CAR749\"  # One AC project converted over...ha\n",
    "graduated_projects"
   ]
  },
  {
   "cell_type": "code",
   "execution_count": null,
   "metadata": {},
   "outputs": [],
   "source": [
    "non_grads = (\n",
    "    df[\n",
    "        (df[\"project_type\"] == \"forest\")\n",
    "        & (df[\"is_ea\"])\n",
    "        & (~df[\"opr_id\"].isin(graduated_projects.values()))\n",
    "    ][\"opr_id\"]\n",
    "    .unique()\n",
    "    .tolist()\n",
    ")"
   ]
  },
  {
   "cell_type": "code",
   "execution_count": null,
   "metadata": {},
   "outputs": [],
   "source": [
    "graduated_list = list(graduated_projects.values()) + list(graduated_projects.keys())"
   ]
  },
  {
   "cell_type": "code",
   "execution_count": null,
   "metadata": {},
   "outputs": [],
   "source": [
    "df[\"project_category\"] = np.nan"
   ]
  },
  {
   "cell_type": "code",
   "execution_count": null,
   "metadata": {},
   "outputs": [],
   "source": [
    "non_graduated_counts = {\"ifm\": 3, \"ac\": 6}\n",
    "graduated_counts = {\"ifm\": 19, \"ac\": 1}\n",
    "compliance_counts = {\"ifm\": 74, \"ac\": 5, \"refor\": 2}"
   ]
  },
  {
   "cell_type": "code",
   "execution_count": null,
   "metadata": {},
   "outputs": [],
   "source": [
    "sum(compliance_counts.values()) + sum(graduated_counts.values())"
   ]
  },
  {
   "cell_type": "code",
   "execution_count": null,
   "metadata": {},
   "outputs": [],
   "source": [
    "df.loc[df[\"project_type\"] == \"forest\", \"project_category\"] = \"compliance\"\n",
    "df.loc[\n",
    "    (df[\"project_type\"] == \"forest\") & (df[\"opr_id\"].isin(non_grads)),\n",
    "    \"project_category\",\n",
    "] = \"non-graduated\"\n",
    "df.loc[\n",
    "    (df[\"project_type\"] == \"forest\") & (df[\"opr_id\"].isin(graduated_list)),\n",
    "    \"project_category\",\n",
    "] = \"graduated\""
   ]
  },
  {
   "cell_type": "code",
   "execution_count": null,
   "metadata": {},
   "outputs": [],
   "source": [
    "df[\"guid\"] = df[\"opr_id\"]\n",
    "df.loc[df[\"opr_id\"].isin(graduated_projects.keys()), \"guid\"] = df[\"opr_id\"].map(graduated_projects)"
   ]
  },
  {
   "cell_type": "code",
   "execution_count": null,
   "metadata": {},
   "outputs": [],
   "source": [
    "forest_share_total = (\n",
    "    df.groupby(df[\"project_type\"] == \"forest\")[\"allocation\"].sum() / df[\"allocation\"].sum()\n",
    ").rename(\"forest_share_total\")"
   ]
  },
  {
   "cell_type": "markdown",
   "metadata": {},
   "source": [
    "## Total forests\n"
   ]
  },
  {
   "cell_type": "code",
   "execution_count": null,
   "metadata": {},
   "outputs": [],
   "source": [
    "forests = df[df[\"project_type\"] == \"forest\"]"
   ]
  },
  {
   "cell_type": "code",
   "execution_count": null,
   "metadata": {},
   "outputs": [],
   "source": [
    "# Note from JH: the commented out line below was here before but there aren't any variables in the notebook\n",
    "# called `forests`. I've switched this to `df` for now but Grayson should confirm.\n",
    "# display(f\"Across EA and COP there are {forests['guid'].nunique()} unique forest projects\")\n",
    "display(f\"Across EA and COP there are {forests['guid'].nunique()} unique forest projects\")"
   ]
  },
  {
   "cell_type": "markdown",
   "metadata": {},
   "source": [
    "We can break those 110 projects down into three categories of projects: compliance, graduate, and\n",
    "non-graduated projects\n"
   ]
  },
  {
   "cell_type": "code",
   "execution_count": null,
   "metadata": {},
   "outputs": [],
   "source": [
    "def danny_table_stats(subset, total_arbocs):\n",
    "    return {\n",
    "        \"n_proj\": subset[\"guid\"].nunique(),\n",
    "        \"allocation\": subset[\"allocation\"].sum(),\n",
    "        \"frac_total_arbocs\": round(subset[\"allocation\"].sum() / total_arbocs, 3),\n",
    "    }"
   ]
  },
  {
   "cell_type": "code",
   "execution_count": null,
   "metadata": {},
   "outputs": [],
   "source": [
    "initial_forests = df[\n",
    "    (df[\"project_type\"] == \"forest\") & (df[\"arb_rp_id\"].isin([\"A\", \"(\"]))\n",
    "]  # '(' catches the two reforestation projects"
   ]
  },
  {
   "cell_type": "code",
   "execution_count": null,
   "metadata": {},
   "outputs": [],
   "source": [
    "from carbonplan_retro.data import cat"
   ]
  },
  {
   "cell_type": "code",
   "execution_count": null,
   "metadata": {},
   "outputs": [],
   "source": [
    "retro_json = cat.retro_db_light_json.read()\n",
    "upfront_opr_ids = [\n",
    "    project[\"opr_id\"]\n",
    "    for project in retro_json\n",
    "    if project[\"carbon\"][\"initial_carbon_stock\"][\"value\"]\n",
    "    > project[\"carbon\"][\"common_practice\"][\"value\"]\n",
    "]"
   ]
  },
  {
   "cell_type": "code",
   "execution_count": null,
   "metadata": {},
   "outputs": [],
   "source": [
    "ics_gt_cp_lst = project_db[\n",
    "    project_db[\"baseline\"][\"initial_carbon_stock\"] > project_db[\"baseline\"][\"common_practice\"]\n",
    "].index.tolist()\n",
    "\n",
    "ics_gt_cp_lst = [x for x in ics_gt_cp_lst if x not in graduated_projects.keys()]\n",
    "\n",
    "len(ics_gt_cp_lst)"
   ]
  },
  {
   "cell_type": "code",
   "execution_count": null,
   "metadata": {},
   "outputs": [],
   "source": [
    "subsets = {\n",
    "    \"all_forest\": initial_forests,\n",
    "    \"compliance_ifm\": initial_forests[\n",
    "        (initial_forests[\"project_category\"] == \"compliance\")\n",
    "        & (initial_forests[\"opr_id\"].isin(ifm_opr_ids))\n",
    "    ],\n",
    "    \"ifm_ics_gt_cp\": initial_forests[initial_forests[\"opr_id\"].isin(ics_gt_cp_lst)],\n",
    "}"
   ]
  },
  {
   "cell_type": "code",
   "execution_count": null,
   "metadata": {},
   "outputs": [],
   "source": [
    "initial_forest_table = pd.DataFrame(\n",
    "    {k: danny_table_stats(v, total_issued_arbocs) for k, v in subsets.items()}\n",
    ").T"
   ]
  },
  {
   "cell_type": "code",
   "execution_count": null,
   "metadata": {},
   "outputs": [],
   "source": [
    "initial_forest_table.rename(\n",
    "    columns={\n",
    "        \"n_proj\": \"Project Count\",\n",
    "        \"allocation\": \"First RP ARBOCs\",\n",
    "        \"frac_total_arbocs\": \"Fraction of Total Issued ARBOCs\",\n",
    "    }\n",
    ")"
   ]
  },
  {
   "cell_type": "code",
   "execution_count": null,
   "metadata": {},
   "outputs": [],
   "source": [
    "df.groupby(\"project_category\")[\"guid\"].nunique()"
   ]
  },
  {
   "cell_type": "code",
   "execution_count": null,
   "metadata": {},
   "outputs": [],
   "source": [
    "display(f\"Compliance Forest projects represent {81/110. * 100:.2f} percent of all forest projects\")"
   ]
  },
  {
   "cell_type": "code",
   "execution_count": null,
   "metadata": {},
   "outputs": [],
   "source": [
    "display(f\"{compliance_counts['ifm']/93.}\")"
   ]
  },
  {
   "cell_type": "code",
   "execution_count": null,
   "metadata": {},
   "outputs": [],
   "source": [
    "display(f\"There are {len(graduated_projects)} graduated projects\")"
   ]
  },
  {
   "cell_type": "code",
   "execution_count": null,
   "metadata": {},
   "outputs": [],
   "source": [
    "graduated_arbocs = df[df[\"opr_id\"].isin(graduated_projects)].allocation.sum()\n",
    "fraction_arbocs_from_graduated = graduated_arbocs / total_issued_arbocs\n",
    "\n",
    "display(\n",
    "    f\"Graudated projects represent just {fraction_arbocs_from_graduated *100:0.2f} percent of all issued arbocs\"\n",
    ")"
   ]
  },
  {
   "cell_type": "markdown",
   "metadata": {},
   "source": [
    "So if graduated projects are 2.92 percent of all ARBOCs and EA forests are 6.88 percent of all\n",
    "issued ARBOCs, EA+graduated projects represent less than 10 percent of all ARBOCs issued to date.\n"
   ]
  },
  {
   "cell_type": "code",
   "execution_count": null,
   "metadata": {},
   "outputs": [],
   "source": [
    "total_ifm_issued_arbocs = ifms[\"allocation\"].sum()"
   ]
  },
  {
   "cell_type": "code",
   "execution_count": null,
   "metadata": {},
   "outputs": [],
   "source": [
    "initial_ifm_arbocs = ifms[ifms[\"arb_rp_id\"] == \"A\"][\"allocation\"].sum()"
   ]
  },
  {
   "cell_type": "code",
   "execution_count": null,
   "metadata": {},
   "outputs": [],
   "source": [
    "display(\n",
    "    f\"IFMs represent {total_ifm_issued_arbocs/total_issued_arbocs * 100:.2f} percent of all compliance (EA excluded) ARBOCS\"\n",
    ")"
   ]
  },
  {
   "cell_type": "code",
   "execution_count": null,
   "metadata": {},
   "outputs": [],
   "source": [
    "initial_frac_total_ifm = initial_ifm_arbocs / total_ifm_issued_arbocs\n",
    "initial_frac_total_issued = initial_ifm_arbocs / total_issued_arbocs"
   ]
  },
  {
   "cell_type": "code",
   "execution_count": null,
   "metadata": {},
   "outputs": [],
   "source": [
    "display(\n",
    "    f\"Initial IFM ARBOCs represent {initial_frac_total_ifm * 100:.2f} percent of all ARBOCs issued to compliance IFM projects\"\n",
    ")"
   ]
  },
  {
   "cell_type": "code",
   "execution_count": null,
   "metadata": {},
   "outputs": [],
   "source": [
    "display(\n",
    "    f\"Initial IFMs ARBOCs represent {initial_frac_total_issued * 100:.2f} percent of all issued ARBOCS\"\n",
    ")"
   ]
  },
  {
   "cell_type": "markdown",
   "metadata": {},
   "source": [
    "## Some other stuff\n"
   ]
  },
  {
   "cell_type": "code",
   "execution_count": null,
   "metadata": {},
   "outputs": [],
   "source": [
    "retro_db = load_project_db(\"Forest-Offset-Projects-v0.3\", use_cache=False, save=False)\n",
    "\n",
    "graduated_projects = [\n",
    "    k\n",
    "    for k, v in retro_db[\"project\"].set_index(\"opr_id\")[\"early_action\"].to_dict().items()\n",
    "    if v.startswith(\"CAR\")\n",
    "]"
   ]
  },
  {
   "cell_type": "code",
   "execution_count": null,
   "metadata": {},
   "outputs": [],
   "source": [
    "def initial_delta(data):\n",
    "    \"\"\"For projects with more than one reporting period, how much bigger was\n",
    "    initial than subsequent?\n",
    "    \"\"\"\n",
    "    if \"B\" in data[\"arb_rp_id\"].unique().tolist():\n",
    "\n",
    "        initial = data[data[\"arb_rp_id\"] == \"A\"][\"allocation\"].sum()\n",
    "        # have to aggregate by arb_rp_id first because issuances can be rolling (rare -- only know of one case)\n",
    "        avg_subsequent = (\n",
    "            data[data[\"arb_rp_id\"] != \"A\"].groupby(\"arb_rp_id\")[\"allocation\"].sum().mean()\n",
    "        )\n",
    "        return initial / avg_subsequent\n",
    "    return None"
   ]
  },
  {
   "cell_type": "code",
   "execution_count": null,
   "metadata": {},
   "outputs": [],
   "source": [
    "ifms[~ifms.opr_id.isin(graduated_projects)].groupby([\"opr_id\"]).apply(\n",
    "    initial_delta\n",
    ").sort_values().dropna().describe()"
   ]
  }
 ],
 "metadata": {
  "kernelspec": {
   "display_name": "Python 3",
   "language": "python",
   "name": "python3"
  },
  "language_info": {
   "codemirror_mode": {
    "name": "ipython",
    "version": 3
   },
   "file_extension": ".py",
   "mimetype": "text/x-python",
   "name": "python",
   "nbconvert_exporter": "python",
   "pygments_lexer": "ipython3",
   "version": "3.8.8"
  }
 },
 "nbformat": 4,
 "nbformat_minor": 4
}
