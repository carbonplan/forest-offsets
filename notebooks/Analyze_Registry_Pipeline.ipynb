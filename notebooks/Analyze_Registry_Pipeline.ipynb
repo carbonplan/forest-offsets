{
 "cells": [
  {
   "cell_type": "code",
   "execution_count": null,
   "metadata": {},
   "outputs": [],
   "source": [
    "%load_ext nb_black"
   ]
  },
  {
   "cell_type": "code",
   "execution_count": null,
   "metadata": {},
   "outputs": [],
   "source": [
    "import pandas as pd"
   ]
  },
  {
   "cell_type": "code",
   "execution_count": null,
   "metadata": {},
   "outputs": [],
   "source": [
    "acr = pd.read_csv(\"data/acr_ifm_20201016.csv\", engine=\"python\")\n",
    "car = pd.read_csv(\"data/car_ifm_20201016.csv\")"
   ]
  },
  {
   "cell_type": "code",
   "execution_count": null,
   "metadata": {},
   "outputs": [],
   "source": [
    "car.info()"
   ]
  },
  {
   "cell_type": "code",
   "execution_count": null,
   "metadata": {},
   "outputs": [],
   "source": [
    "car.columns"
   ]
  },
  {
   "cell_type": "code",
   "execution_count": null,
   "metadata": {},
   "outputs": [],
   "source": [
    "def load_registry_csv(fname):\n",
    "    data = pd.read_csv(fname, engine=\"python\")\n",
    "    data = data.rename(\n",
    "        columns={\n",
    "            \"Total Number of Offset Credits Registered \": \"total_arbocs\",\n",
    "            \"Total Number of Credits Registered \": \"total_arbocs\",  # love different names, but both trailing space!\n",
    "            \"ARB ID\": \"arb_id\",\n",
    "            \"Project ID\": \"project_id\",\n",
    "            \"ARB Project Status\": \"arb_status\",\n",
    "            \"ARB Status\": \"arb_status\",\n",
    "        }\n",
    "    )\n",
    "    return data"
   ]
  },
  {
   "cell_type": "code",
   "execution_count": null,
   "metadata": {},
   "outputs": [],
   "source": [
    "car = load_registry_csv(\"data/car_ifm_20201016.csv\")"
   ]
  },
  {
   "cell_type": "code",
   "execution_count": null,
   "metadata": {},
   "outputs": [],
   "source": [
    "acr_car_status_map = {\n",
    "    \"Listed - Active ARB Project\": \"Active ARB Project\",\n",
    "    \"Listed - Proposed Project\": \"Proposed Project\",\n",
    "    \"Listed - Active Registry Project\": \"Active Registry Project\",\n",
    "    \"ARB Inactive\": \"Inactive\",\n",
    "    \"Not ARB Eligible\": \"Not ARB Eligible\",\n",
    "}\n",
    "acr = load_registry_csv(\"data/acr_ifm_20201016.csv\")\n",
    "acr[\"arb_status\"] = acr[\"arb_status\"].map(acr_car_status_map)"
   ]
  },
  {
   "cell_type": "code",
   "execution_count": null,
   "metadata": {},
   "outputs": [],
   "source": [
    "all_proj_status = pd.concat(\n",
    "    [\n",
    "        car[[\"project_id\", \"arb_id\", \"arb_status\", \"total_arbocs\"]],\n",
    "        acr[[\"project_id\", \"arb_id\", \"arb_status\", \"total_arbocs\"]],\n",
    "    ]\n",
    ")"
   ]
  },
  {
   "cell_type": "code",
   "execution_count": null,
   "metadata": {},
   "outputs": [],
   "source": [
    "with pd.option_context(\"display.float_format\", \"{:,.2f}\".format):\n",
    "    display(all_proj_status.groupby([\"arb_status\"]).project_id.nunique())"
   ]
  },
  {
   "cell_type": "code",
   "execution_count": null,
   "metadata": {},
   "outputs": [],
   "source": [
    "acr.columns"
   ]
  },
  {
   "cell_type": "code",
   "execution_count": null,
   "metadata": {},
   "outputs": [],
   "source": [
    "acr[\"ARB Project Status\"].value_counts()"
   ]
  },
  {
   "cell_type": "code",
   "execution_count": null,
   "metadata": {},
   "outputs": [],
   "source": [
    "car.info()"
   ]
  },
  {
   "cell_type": "code",
   "execution_count": null,
   "metadata": {},
   "outputs": [],
   "source": [
    "acr[[\"Project ID\", \"Total\"]]"
   ]
  },
  {
   "cell_type": "code",
   "execution_count": null,
   "metadata": {},
   "outputs": [],
   "source": [
    "acr[[\"ARB ID\"]]"
   ]
  },
  {
   "cell_type": "code",
   "execution_count": null,
   "metadata": {},
   "outputs": [],
   "source": [
    "acr[\"ARB Status\"].value_counts().index"
   ]
  },
  {
   "cell_type": "code",
   "execution_count": null,
   "metadata": {},
   "outputs": [],
   "source": [
    "import networkx as nx\n",
    "from networkx.drawing.nx_agraph import graphviz_layout\n",
    "\n",
    "%matplotlib inline\n",
    "\n",
    "G = nx.DiGraph()\n",
    "\n",
    "states = ['Proposed', 'Voluntary', 'Inactive', 'Active - Registry', 'Active - ARB', 'Terminated']\n",
    "for state in states: \n",
    "    G.add_node(state, s=150, alpha=0.2)\n",
    "\n",
    "G.add_node(\"Proposed\")\n",
    "G.add_node(\"Voluntary\")\n",
    "G.add_node(\"Inactive\")\n",
    "G.add_edge(*(\"Proposed\",\"Voluntary\"))\n",
    "G.add_edge(*(\"Proposed\",\"Inactive\"))\n",
    "G.add_node(\"Active - Registry\")\n",
    "G.add_node(\"Active - ARB\")\n",
    "G.add_node('Terminated')\n",
    "\n",
    "\n",
    "\n",
    "\n",
    "\n",
    "\n",
    "G.add_edge(*(\"Proposed\",\"Active - Registry\"))\n",
    "G.add_edge(*(\"Active - Registry\", \"Active - ARB\"))\n",
    "G.add_edge(*(\"Active - Registry\", \"Terminated\"))\n",
    "G.add_edge(*(\"Active - ARB\", \"Terminated\"))\n",
    "\n",
    "\n",
    "\n",
    "\n",
    "\n",
    "pos = graphviz_layout(G, prog='dot')\n",
    "nx.draw(G, with_labels=True)# connectionstyle='arc3, rad=0.1')"
   ]
  }
 ],
 "metadata": {
  "kernelspec": {
   "display_name": "Python 3",
   "language": "python",
   "name": "python3"
  },
  "language_info": {
   "codemirror_mode": {
    "name": "ipython",
    "version": 3
   },
   "file_extension": ".py",
   "mimetype": "text/x-python",
   "name": "python",
   "nbconvert_exporter": "python",
   "pygments_lexer": "ipython3",
   "version": "3.7.8"
  }
 },
 "nbformat": 4,
 "nbformat_minor": 4
}
