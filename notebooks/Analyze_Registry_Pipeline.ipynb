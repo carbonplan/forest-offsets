{
 "cells": [
  {
   "cell_type": "code",
   "execution_count": 28,
   "metadata": {},
   "outputs": [
    {
     "data": {
      "application/javascript": [
       "\n",
       "            setTimeout(function() {\n",
       "                var nbb_cell_id = 28;\n",
       "                var nbb_unformatted_code = \"%load_ext nb_black\";\n",
       "                var nbb_formatted_code = \"%load_ext nb_black\";\n",
       "                var nbb_cells = Jupyter.notebook.get_cells();\n",
       "                for (var i = 0; i < nbb_cells.length; ++i) {\n",
       "                    if (nbb_cells[i].input_prompt_number == nbb_cell_id) {\n",
       "                        if (nbb_cells[i].get_text() == nbb_unformatted_code) {\n",
       "                             nbb_cells[i].set_text(nbb_formatted_code);\n",
       "                        }\n",
       "                        break;\n",
       "                    }\n",
       "                }\n",
       "            }, 500);\n",
       "            "
      ],
      "text/plain": [
       "<IPython.core.display.Javascript object>"
      ]
     },
     "metadata": {},
     "output_type": "display_data"
    }
   ],
   "source": [
    "%load_ext nb_black"
   ]
  },
  {
   "cell_type": "code",
   "execution_count": 29,
   "metadata": {},
   "outputs": [
    {
     "data": {
      "application/javascript": [
       "\n",
       "            setTimeout(function() {\n",
       "                var nbb_cell_id = 29;\n",
       "                var nbb_unformatted_code = \"import pandas as pd\";\n",
       "                var nbb_formatted_code = \"import pandas as pd\";\n",
       "                var nbb_cells = Jupyter.notebook.get_cells();\n",
       "                for (var i = 0; i < nbb_cells.length; ++i) {\n",
       "                    if (nbb_cells[i].input_prompt_number == nbb_cell_id) {\n",
       "                        if (nbb_cells[i].get_text() == nbb_unformatted_code) {\n",
       "                             nbb_cells[i].set_text(nbb_formatted_code);\n",
       "                        }\n",
       "                        break;\n",
       "                    }\n",
       "                }\n",
       "            }, 500);\n",
       "            "
      ],
      "text/plain": [
       "<IPython.core.display.Javascript object>"
      ]
     },
     "metadata": {},
     "output_type": "display_data"
    }
   ],
   "source": [
    "import pandas as pd"
   ]
  },
  {
   "cell_type": "code",
   "execution_count": 21,
   "metadata": {},
   "outputs": [],
   "source": [
    "acr = pd.read_csv('data/acr_ifm_20201016.csv', engine='python')\n",
    "car = pd.read_csv('data/car_ifm_20201016.csv')"
   ]
  },
  {
   "cell_type": "code",
   "execution_count": 50,
   "metadata": {},
   "outputs": [
    {
     "name": "stdout",
     "output_type": "stream",
     "text": [
      "<class 'pandas.core.frame.DataFrame'>\n",
      "RangeIndex: 143 entries, 0 to 142\n",
      "Data columns (total 25 columns):\n",
      " #   Column                                      Non-Null Count  Dtype  \n",
      "---  ------                                      --------------  -----  \n",
      " 0   project_id                                  143 non-null    object \n",
      " 1   arb_id                                      117 non-null    object \n",
      " 2   Cooperative/ Aggregate ID                   0 non-null      float64\n",
      " 3   Project Developer                           143 non-null    object \n",
      " 4   Project Owner                               143 non-null    object \n",
      " 5   Project Name                                143 non-null    object \n",
      " 6   Offset Project Operator                     130 non-null    object \n",
      " 7   Authorized Project Designee                 120 non-null    object \n",
      " 8   Verification Body                           31 non-null     object \n",
      " 9   Project Type                                143 non-null    object \n",
      " 10  Status                                      143 non-null    object \n",
      " 11  ARB Project Status                          143 non-null    object \n",
      " 12  Project Site Location                       143 non-null    object \n",
      " 13  Project Site State                          143 non-null    object \n",
      " 14  Project Site Country                        143 non-null    object \n",
      " 15  Additional Certification(s)                 0 non-null      float64\n",
      " 16  SDG Impact                                  0 non-null      float64\n",
      " 17  Project Notes                               12 non-null     object \n",
      " 18  Total Number of Offset Credits Registered   88 non-null     float64\n",
      " 19  Project Listed Date                         143 non-null    object \n",
      " 20  Project Registered Date                     89 non-null     object \n",
      " 21  Documents                                   143 non-null    object \n",
      " 22  Data                                        143 non-null    object \n",
      " 23  Project Website                             48 non-null     object \n",
      " 24  Unnamed: 24                                 0 non-null      float64\n",
      "dtypes: float64(5), object(20)\n",
      "memory usage: 28.1+ KB\n"
     ]
    },
    {
     "data": {
      "application/javascript": [
       "\n",
       "            setTimeout(function() {\n",
       "                var nbb_cell_id = 50;\n",
       "                var nbb_unformatted_code = \"car.info()\";\n",
       "                var nbb_formatted_code = \"car.info()\";\n",
       "                var nbb_cells = Jupyter.notebook.get_cells();\n",
       "                for (var i = 0; i < nbb_cells.length; ++i) {\n",
       "                    if (nbb_cells[i].input_prompt_number == nbb_cell_id) {\n",
       "                        if (nbb_cells[i].get_text() == nbb_unformatted_code) {\n",
       "                             nbb_cells[i].set_text(nbb_formatted_code);\n",
       "                        }\n",
       "                        break;\n",
       "                    }\n",
       "                }\n",
       "            }, 500);\n",
       "            "
      ],
      "text/plain": [
       "<IPython.core.display.Javascript object>"
      ]
     },
     "metadata": {},
     "output_type": "display_data"
    }
   ],
   "source": [
    "car.info()"
   ]
  },
  {
   "cell_type": "code",
   "execution_count": 64,
   "metadata": {},
   "outputs": [
    {
     "data": {
      "text/plain": [
       "Index(['project_id', 'arb_id', 'Cooperative/ Aggregate ID',\n",
       "       'Project Developer', 'Project Owner', 'Project Name',\n",
       "       'Offset Project Operator', 'Authorized Project Designee',\n",
       "       'Verification Body', 'Project Type', 'Status', 'ARB Project Status',\n",
       "       'Project Site Location', 'Project Site State', 'Project Site Country',\n",
       "       'Additional Certification(s)', 'SDG Impact', 'Project Notes',\n",
       "       'total_arbocs', 'Project Listed Date', 'Project Registered Date',\n",
       "       'Documents', 'Data', 'Project Website', 'Unnamed: 24'],\n",
       "      dtype='object')"
      ]
     },
     "execution_count": 64,
     "metadata": {},
     "output_type": "execute_result"
    },
    {
     "data": {
      "application/javascript": [
       "\n",
       "            setTimeout(function() {\n",
       "                var nbb_cell_id = 64;\n",
       "                var nbb_unformatted_code = \"car.columns\";\n",
       "                var nbb_formatted_code = \"car.columns\";\n",
       "                var nbb_cells = Jupyter.notebook.get_cells();\n",
       "                for (var i = 0; i < nbb_cells.length; ++i) {\n",
       "                    if (nbb_cells[i].input_prompt_number == nbb_cell_id) {\n",
       "                        if (nbb_cells[i].get_text() == nbb_unformatted_code) {\n",
       "                             nbb_cells[i].set_text(nbb_formatted_code);\n",
       "                        }\n",
       "                        break;\n",
       "                    }\n",
       "                }\n",
       "            }, 500);\n",
       "            "
      ],
      "text/plain": [
       "<IPython.core.display.Javascript object>"
      ]
     },
     "metadata": {},
     "output_type": "display_data"
    }
   ],
   "source": [
    "car.columns"
   ]
  },
  {
   "cell_type": "code",
   "execution_count": 73,
   "metadata": {},
   "outputs": [
    {
     "data": {
      "application/javascript": [
       "\n",
       "            setTimeout(function() {\n",
       "                var nbb_cell_id = 73;\n",
       "                var nbb_unformatted_code = \"def load_registry_csv(fname):\\n    data = pd.read_csv(fname, engine=\\\"python\\\")\\n    data = data.rename(\\n        columns={\\n            \\\"Total Number of Offset Credits Registered \\\": \\\"total_arbocs\\\",\\n            \\\"Total Number of Credits Registered \\\": 'total_arbocs', # love different names, but both trailing space!\\n            \\\"ARB ID\\\": \\\"arb_id\\\",\\n            \\\"Project ID\\\": \\\"project_id\\\",\\n            \\\"ARB Project Status\\\": \\\"arb_status\\\",\\n            \\\"ARB Status\\\": \\\"arb_status\\\",\\n        }\\n    )\\n    return data\";\n",
       "                var nbb_formatted_code = \"def load_registry_csv(fname):\\n    data = pd.read_csv(fname, engine=\\\"python\\\")\\n    data = data.rename(\\n        columns={\\n            \\\"Total Number of Offset Credits Registered \\\": \\\"total_arbocs\\\",\\n            \\\"Total Number of Credits Registered \\\": \\\"total_arbocs\\\",  # love different names, but both trailing space!\\n            \\\"ARB ID\\\": \\\"arb_id\\\",\\n            \\\"Project ID\\\": \\\"project_id\\\",\\n            \\\"ARB Project Status\\\": \\\"arb_status\\\",\\n            \\\"ARB Status\\\": \\\"arb_status\\\",\\n        }\\n    )\\n    return data\";\n",
       "                var nbb_cells = Jupyter.notebook.get_cells();\n",
       "                for (var i = 0; i < nbb_cells.length; ++i) {\n",
       "                    if (nbb_cells[i].input_prompt_number == nbb_cell_id) {\n",
       "                        if (nbb_cells[i].get_text() == nbb_unformatted_code) {\n",
       "                             nbb_cells[i].set_text(nbb_formatted_code);\n",
       "                        }\n",
       "                        break;\n",
       "                    }\n",
       "                }\n",
       "            }, 500);\n",
       "            "
      ],
      "text/plain": [
       "<IPython.core.display.Javascript object>"
      ]
     },
     "metadata": {},
     "output_type": "display_data"
    }
   ],
   "source": [
    "def load_registry_csv(fname):\n",
    "    data = pd.read_csv(fname, engine=\"python\")\n",
    "    data = data.rename(\n",
    "        columns={\n",
    "            \"Total Number of Offset Credits Registered \": \"total_arbocs\",\n",
    "            \"Total Number of Credits Registered \": \"total_arbocs\",  # love different names, but both trailing space!\n",
    "            \"ARB ID\": \"arb_id\",\n",
    "            \"Project ID\": \"project_id\",\n",
    "            \"ARB Project Status\": \"arb_status\",\n",
    "            \"ARB Status\": \"arb_status\",\n",
    "        }\n",
    "    )\n",
    "    return data"
   ]
  },
  {
   "cell_type": "code",
   "execution_count": 74,
   "metadata": {},
   "outputs": [
    {
     "data": {
      "application/javascript": [
       "\n",
       "            setTimeout(function() {\n",
       "                var nbb_cell_id = 74;\n",
       "                var nbb_unformatted_code = \"car = load_registry_csv(\\\"data/car_ifm_20201016.csv\\\")\";\n",
       "                var nbb_formatted_code = \"car = load_registry_csv(\\\"data/car_ifm_20201016.csv\\\")\";\n",
       "                var nbb_cells = Jupyter.notebook.get_cells();\n",
       "                for (var i = 0; i < nbb_cells.length; ++i) {\n",
       "                    if (nbb_cells[i].input_prompt_number == nbb_cell_id) {\n",
       "                        if (nbb_cells[i].get_text() == nbb_unformatted_code) {\n",
       "                             nbb_cells[i].set_text(nbb_formatted_code);\n",
       "                        }\n",
       "                        break;\n",
       "                    }\n",
       "                }\n",
       "            }, 500);\n",
       "            "
      ],
      "text/plain": [
       "<IPython.core.display.Javascript object>"
      ]
     },
     "metadata": {},
     "output_type": "display_data"
    }
   ],
   "source": [
    "car = load_registry_csv(\"data/car_ifm_20201016.csv\")"
   ]
  },
  {
   "cell_type": "code",
   "execution_count": 75,
   "metadata": {},
   "outputs": [
    {
     "data": {
      "application/javascript": [
       "\n",
       "            setTimeout(function() {\n",
       "                var nbb_cell_id = 75;\n",
       "                var nbb_unformatted_code = \"acr_car_status_map = {\\n    \\\"Listed - Active ARB Project\\\": \\\"Active ARB Project\\\",\\n    \\\"Listed - Proposed Project\\\": \\\"Proposed Project\\\",\\n    \\\"Listed - Active Registry Project\\\": \\\"Active Registry Project\\\",\\n    \\\"ARB Inactive\\\": \\\"Inactive\\\",\\n    \\\"Not ARB Eligible\\\": \\\"Not ARB Eligible\\\",\\n}\\nacr = load_registry_csv(\\\"data/acr_ifm_20201016.csv\\\")\\nacr[\\\"arb_status\\\"] = acr[\\\"arb_status\\\"].map(acr_car_status_map)\";\n",
       "                var nbb_formatted_code = \"acr_car_status_map = {\\n    \\\"Listed - Active ARB Project\\\": \\\"Active ARB Project\\\",\\n    \\\"Listed - Proposed Project\\\": \\\"Proposed Project\\\",\\n    \\\"Listed - Active Registry Project\\\": \\\"Active Registry Project\\\",\\n    \\\"ARB Inactive\\\": \\\"Inactive\\\",\\n    \\\"Not ARB Eligible\\\": \\\"Not ARB Eligible\\\",\\n}\\nacr = load_registry_csv(\\\"data/acr_ifm_20201016.csv\\\")\\nacr[\\\"arb_status\\\"] = acr[\\\"arb_status\\\"].map(acr_car_status_map)\";\n",
       "                var nbb_cells = Jupyter.notebook.get_cells();\n",
       "                for (var i = 0; i < nbb_cells.length; ++i) {\n",
       "                    if (nbb_cells[i].input_prompt_number == nbb_cell_id) {\n",
       "                        if (nbb_cells[i].get_text() == nbb_unformatted_code) {\n",
       "                             nbb_cells[i].set_text(nbb_formatted_code);\n",
       "                        }\n",
       "                        break;\n",
       "                    }\n",
       "                }\n",
       "            }, 500);\n",
       "            "
      ],
      "text/plain": [
       "<IPython.core.display.Javascript object>"
      ]
     },
     "metadata": {},
     "output_type": "display_data"
    }
   ],
   "source": [
    "acr_car_status_map = {\n",
    "    \"Listed - Active ARB Project\": \"Active ARB Project\",\n",
    "    \"Listed - Proposed Project\": \"Proposed Project\",\n",
    "    \"Listed - Active Registry Project\": \"Active Registry Project\",\n",
    "    \"ARB Inactive\": \"Inactive\",\n",
    "    \"Not ARB Eligible\": \"Not ARB Eligible\",\n",
    "}\n",
    "acr = load_registry_csv(\"data/acr_ifm_20201016.csv\")\n",
    "acr[\"arb_status\"] = acr[\"arb_status\"].map(acr_car_status_map)"
   ]
  },
  {
   "cell_type": "code",
   "execution_count": 79,
   "metadata": {},
   "outputs": [
    {
     "data": {
      "application/javascript": [
       "\n",
       "            setTimeout(function() {\n",
       "                var nbb_cell_id = 79;\n",
       "                var nbb_unformatted_code = \"all_proj_status = pd.concat(\\n    [\\n        car[[\\\"project_id\\\", \\\"arb_id\\\", \\\"arb_status\\\", \\\"total_arbocs\\\"]],\\n        acr[[\\\"project_id\\\", \\\"arb_id\\\", \\\"arb_status\\\", \\\"total_arbocs\\\"]],\\n    ]\\n)\";\n",
       "                var nbb_formatted_code = \"all_proj_status = pd.concat(\\n    [\\n        car[[\\\"project_id\\\", \\\"arb_id\\\", \\\"arb_status\\\", \\\"total_arbocs\\\"]],\\n        acr[[\\\"project_id\\\", \\\"arb_id\\\", \\\"arb_status\\\", \\\"total_arbocs\\\"]],\\n    ]\\n)\";\n",
       "                var nbb_cells = Jupyter.notebook.get_cells();\n",
       "                for (var i = 0; i < nbb_cells.length; ++i) {\n",
       "                    if (nbb_cells[i].input_prompt_number == nbb_cell_id) {\n",
       "                        if (nbb_cells[i].get_text() == nbb_unformatted_code) {\n",
       "                             nbb_cells[i].set_text(nbb_formatted_code);\n",
       "                        }\n",
       "                        break;\n",
       "                    }\n",
       "                }\n",
       "            }, 500);\n",
       "            "
      ],
      "text/plain": [
       "<IPython.core.display.Javascript object>"
      ]
     },
     "metadata": {},
     "output_type": "display_data"
    }
   ],
   "source": [
    "all_proj_status = pd.concat(\n",
    "    [\n",
    "        car[[\"project_id\", \"arb_id\", \"arb_status\", \"total_arbocs\"]],\n",
    "        acr[[\"project_id\", \"arb_id\", \"arb_status\", \"total_arbocs\"]],\n",
    "    ]\n",
    ")"
   ]
  },
  {
   "cell_type": "code",
   "execution_count": 93,
   "metadata": {},
   "outputs": [
    {
     "data": {
      "text/plain": [
       "arb_status\n",
       "Active ARB Project         97\n",
       "Active Registry Project    21\n",
       "Inactive                   38\n",
       "Not ARB Eligible           64\n",
       "Proposed Project           55\n",
       "Terminated                  1\n",
       "Name: project_id, dtype: int64"
      ]
     },
     "metadata": {},
     "output_type": "display_data"
    },
    {
     "data": {
      "application/javascript": [
       "\n",
       "            setTimeout(function() {\n",
       "                var nbb_cell_id = 93;\n",
       "                var nbb_unformatted_code = \"with pd.option_context(\\\"display.float_format\\\", \\\"{:,.2f}\\\".format):\\n    display(all_proj_status.groupby([\\\"arb_status\\\"]).project_id.nunique())\";\n",
       "                var nbb_formatted_code = \"with pd.option_context(\\\"display.float_format\\\", \\\"{:,.2f}\\\".format):\\n    display(all_proj_status.groupby([\\\"arb_status\\\"]).project_id.nunique())\";\n",
       "                var nbb_cells = Jupyter.notebook.get_cells();\n",
       "                for (var i = 0; i < nbb_cells.length; ++i) {\n",
       "                    if (nbb_cells[i].input_prompt_number == nbb_cell_id) {\n",
       "                        if (nbb_cells[i].get_text() == nbb_unformatted_code) {\n",
       "                             nbb_cells[i].set_text(nbb_formatted_code);\n",
       "                        }\n",
       "                        break;\n",
       "                    }\n",
       "                }\n",
       "            }, 500);\n",
       "            "
      ],
      "text/plain": [
       "<IPython.core.display.Javascript object>"
      ]
     },
     "metadata": {},
     "output_type": "display_data"
    }
   ],
   "source": [
    "with pd.option_context(\"display.float_format\", \"{:,.2f}\".format):\n",
    "    display(all_proj_status.groupby([\"arb_status\"]).project_id.nunique())"
   ]
  },
  {
   "cell_type": "code",
   "execution_count": 72,
   "metadata": {},
   "outputs": [
    {
     "data": {
      "text/plain": [
       "Index(['project_id', 'arb_id', 'Project Developer', 'Project Name', 'Verifier',\n",
       "       'Project Type', 'Voluntary Status', 'arb_status',\n",
       "       'Project Site Location', 'Project Site State', 'Project Site Country',\n",
       "       'Additional Certification(s)', 'Project Notes',\n",
       "       'Total Number of Credits Registered ', 'Documents', 'Project Website',\n",
       "       'Unnamed: 16'],\n",
       "      dtype='object')"
      ]
     },
     "execution_count": 72,
     "metadata": {},
     "output_type": "execute_result"
    },
    {
     "data": {
      "application/javascript": [
       "\n",
       "            setTimeout(function() {\n",
       "                var nbb_cell_id = 72;\n",
       "                var nbb_unformatted_code = \"acr.columns\";\n",
       "                var nbb_formatted_code = \"acr.columns\";\n",
       "                var nbb_cells = Jupyter.notebook.get_cells();\n",
       "                for (var i = 0; i < nbb_cells.length; ++i) {\n",
       "                    if (nbb_cells[i].input_prompt_number == nbb_cell_id) {\n",
       "                        if (nbb_cells[i].get_text() == nbb_unformatted_code) {\n",
       "                             nbb_cells[i].set_text(nbb_formatted_code);\n",
       "                        }\n",
       "                        break;\n",
       "                    }\n",
       "                }\n",
       "            }, 500);\n",
       "            "
      ],
      "text/plain": [
       "<IPython.core.display.Javascript object>"
      ]
     },
     "metadata": {},
     "output_type": "display_data"
    }
   ],
   "source": [
    "acr.columns"
   ]
  },
  {
   "cell_type": "code",
   "execution_count": 40,
   "metadata": {},
   "outputs": [
    {
     "data": {
      "text/plain": [
       "Active ARB Project         49\n",
       "Not ARB Eligible           39\n",
       "Proposed Project           30\n",
       "Active Registry Project     8\n",
       "Inactive                    7\n",
       "Name: ARB Project Status, dtype: int64"
      ]
     },
     "execution_count": 40,
     "metadata": {},
     "output_type": "execute_result"
    },
    {
     "data": {
      "application/javascript": [
       "\n",
       "            setTimeout(function() {\n",
       "                var nbb_cell_id = 40;\n",
       "                var nbb_unformatted_code = \"acr[\\\"ARB Project Status\\\"].value_counts()\";\n",
       "                var nbb_formatted_code = \"acr[\\\"ARB Project Status\\\"].value_counts()\";\n",
       "                var nbb_cells = Jupyter.notebook.get_cells();\n",
       "                for (var i = 0; i < nbb_cells.length; ++i) {\n",
       "                    if (nbb_cells[i].input_prompt_number == nbb_cell_id) {\n",
       "                        if (nbb_cells[i].get_text() == nbb_unformatted_code) {\n",
       "                             nbb_cells[i].set_text(nbb_formatted_code);\n",
       "                        }\n",
       "                        break;\n",
       "                    }\n",
       "                }\n",
       "            }, 500);\n",
       "            "
      ],
      "text/plain": [
       "<IPython.core.display.Javascript object>"
      ]
     },
     "metadata": {},
     "output_type": "display_data"
    }
   ],
   "source": [
    "acr[\"ARB Project Status\"].value_counts()"
   ]
  },
  {
   "cell_type": "code",
   "execution_count": 44,
   "metadata": {},
   "outputs": [
    {
     "name": "stdout",
     "output_type": "stream",
     "text": [
      "<class 'pandas.core.frame.DataFrame'>\n",
      "RangeIndex: 143 entries, 0 to 142\n",
      "Data columns (total 25 columns):\n",
      " #   Column                                      Non-Null Count  Dtype  \n",
      "---  ------                                      --------------  -----  \n",
      " 0   Project ID                                  143 non-null    object \n",
      " 1   ARB ID                                      117 non-null    object \n",
      " 2   Cooperative/ Aggregate ID                   0 non-null      float64\n",
      " 3   Project Developer                           143 non-null    object \n",
      " 4   Project Owner                               143 non-null    object \n",
      " 5   Project Name                                143 non-null    object \n",
      " 6   Offset Project Operator                     130 non-null    object \n",
      " 7   Authorized Project Designee                 120 non-null    object \n",
      " 8   Verification Body                           31 non-null     object \n",
      " 9   Project Type                                143 non-null    object \n",
      " 10  Status                                      143 non-null    object \n",
      " 11  ARB Project Status                          143 non-null    object \n",
      " 12  Project Site Location                       143 non-null    object \n",
      " 13  Project Site State                          143 non-null    object \n",
      " 14  Project Site Country                        143 non-null    object \n",
      " 15  Additional Certification(s)                 0 non-null      float64\n",
      " 16  SDG Impact                                  0 non-null      float64\n",
      " 17  Project Notes                               12 non-null     object \n",
      " 18  Total Number of Offset Credits Registered   88 non-null     float64\n",
      " 19  Project Listed Date                         143 non-null    object \n",
      " 20  Project Registered Date                     89 non-null     object \n",
      " 21  Documents                                   143 non-null    object \n",
      " 22  Data                                        143 non-null    object \n",
      " 23  Project Website                             48 non-null     object \n",
      " 24  Unnamed: 24                                 0 non-null      float64\n",
      "dtypes: float64(5), object(20)\n",
      "memory usage: 28.1+ KB\n"
     ]
    },
    {
     "data": {
      "application/javascript": [
       "\n",
       "            setTimeout(function() {\n",
       "                var nbb_cell_id = 44;\n",
       "                var nbb_unformatted_code = \"car.info()\";\n",
       "                var nbb_formatted_code = \"car.info()\";\n",
       "                var nbb_cells = Jupyter.notebook.get_cells();\n",
       "                for (var i = 0; i < nbb_cells.length; ++i) {\n",
       "                    if (nbb_cells[i].input_prompt_number == nbb_cell_id) {\n",
       "                        if (nbb_cells[i].get_text() == nbb_unformatted_code) {\n",
       "                             nbb_cells[i].set_text(nbb_formatted_code);\n",
       "                        }\n",
       "                        break;\n",
       "                    }\n",
       "                }\n",
       "            }, 500);\n",
       "            "
      ],
      "text/plain": [
       "<IPython.core.display.Javascript object>"
      ]
     },
     "metadata": {},
     "output_type": "display_data"
    }
   ],
   "source": [
    "car.info()"
   ]
  },
  {
   "cell_type": "code",
   "execution_count": null,
   "metadata": {},
   "outputs": [],
   "source": []
  },
  {
   "cell_type": "code",
   "execution_count": 42,
   "metadata": {},
   "outputs": [
    {
     "name": "stdout",
     "output_type": "stream",
     "text": [
      "<class 'pandas.core.frame.DataFrame'>\n",
      "RangeIndex: 135 entries, 0 to 134\n",
      "Data columns (total 18 columns):\n",
      " #   Column                               Non-Null Count  Dtype  \n",
      "---  ------                               --------------  -----  \n",
      " 0   Project ID                           135 non-null    object \n",
      " 1   ARB ID                               60 non-null     object \n",
      " 2   Project Developer                    135 non-null    object \n",
      " 3   Project Name                         135 non-null    object \n",
      " 4   Verifier                             83 non-null     object \n",
      " 5   Project Type                         135 non-null    object \n",
      " 6   Voluntary Status                     41 non-null     object \n",
      " 7   ARB Status                           135 non-null    object \n",
      " 8   Project Site Location                135 non-null    object \n",
      " 9   Project Site State                   135 non-null    object \n",
      " 10  Project Site Country                 135 non-null    object \n",
      " 11  Additional Certification(s)          2 non-null      object \n",
      " 12  Project Notes                        1 non-null      object \n",
      " 13  Total Number of Credits Registered   76 non-null     float64\n",
      " 14  Documents                            135 non-null    object \n",
      " 15  Project Website                      16 non-null     object \n",
      " 16  Unnamed: 16                          0 non-null      float64\n",
      " 17  ARB Project Status                   133 non-null    object \n",
      "dtypes: float64(2), object(16)\n",
      "memory usage: 19.1+ KB\n"
     ]
    },
    {
     "data": {
      "application/javascript": [
       "\n",
       "            setTimeout(function() {\n",
       "                var nbb_cell_id = 42;\n",
       "                var nbb_unformatted_code = \"acr.info()\";\n",
       "                var nbb_formatted_code = \"acr.info()\";\n",
       "                var nbb_cells = Jupyter.notebook.get_cells();\n",
       "                for (var i = 0; i < nbb_cells.length; ++i) {\n",
       "                    if (nbb_cells[i].input_prompt_number == nbb_cell_id) {\n",
       "                        if (nbb_cells[i].get_text() == nbb_unformatted_code) {\n",
       "                             nbb_cells[i].set_text(nbb_formatted_code);\n",
       "                        }\n",
       "                        break;\n",
       "                    }\n",
       "                }\n",
       "            }, 500);\n",
       "            "
      ],
      "text/plain": [
       "<IPython.core.display.Javascript object>"
      ]
     },
     "metadata": {},
     "output_type": "display_data"
    }
   ],
   "source": [
    "acr[['Project ID', 'Total']]"
   ]
  },
  {
   "cell_type": "code",
   "execution_count": 41,
   "metadata": {},
   "outputs": [
    {
     "data": {
      "text/html": [
       "<div>\n",
       "<style scoped>\n",
       "    .dataframe tbody tr th:only-of-type {\n",
       "        vertical-align: middle;\n",
       "    }\n",
       "\n",
       "    .dataframe tbody tr th {\n",
       "        vertical-align: top;\n",
       "    }\n",
       "\n",
       "    .dataframe thead th {\n",
       "        text-align: right;\n",
       "    }\n",
       "</style>\n",
       "<table border=\"1\" class=\"dataframe\">\n",
       "  <thead>\n",
       "    <tr style=\"text-align: right;\">\n",
       "      <th></th>\n",
       "      <th>ARB ID</th>\n",
       "    </tr>\n",
       "  </thead>\n",
       "  <tbody>\n",
       "    <tr>\n",
       "      <th>0</th>\n",
       "      <td>NaN</td>\n",
       "    </tr>\n",
       "    <tr>\n",
       "      <th>1</th>\n",
       "      <td>NaN</td>\n",
       "    </tr>\n",
       "    <tr>\n",
       "      <th>2</th>\n",
       "      <td>NaN</td>\n",
       "    </tr>\n",
       "    <tr>\n",
       "      <th>3</th>\n",
       "      <td>NaN</td>\n",
       "    </tr>\n",
       "    <tr>\n",
       "      <th>4</th>\n",
       "      <td>NaN</td>\n",
       "    </tr>\n",
       "    <tr>\n",
       "      <th>...</th>\n",
       "      <td>...</td>\n",
       "    </tr>\n",
       "    <tr>\n",
       "      <th>130</th>\n",
       "      <td>NaN</td>\n",
       "    </tr>\n",
       "    <tr>\n",
       "      <th>131</th>\n",
       "      <td>NaN</td>\n",
       "    </tr>\n",
       "    <tr>\n",
       "      <th>132</th>\n",
       "      <td>NaN</td>\n",
       "    </tr>\n",
       "    <tr>\n",
       "      <th>133</th>\n",
       "      <td>NaN</td>\n",
       "    </tr>\n",
       "    <tr>\n",
       "      <th>134</th>\n",
       "      <td>NaN</td>\n",
       "    </tr>\n",
       "  </tbody>\n",
       "</table>\n",
       "<p>135 rows × 1 columns</p>\n",
       "</div>"
      ],
      "text/plain": [
       "    ARB ID\n",
       "0      NaN\n",
       "1      NaN\n",
       "2      NaN\n",
       "3      NaN\n",
       "4      NaN\n",
       "..     ...\n",
       "130    NaN\n",
       "131    NaN\n",
       "132    NaN\n",
       "133    NaN\n",
       "134    NaN\n",
       "\n",
       "[135 rows x 1 columns]"
      ]
     },
     "execution_count": 41,
     "metadata": {},
     "output_type": "execute_result"
    },
    {
     "data": {
      "application/javascript": [
       "\n",
       "            setTimeout(function() {\n",
       "                var nbb_cell_id = 41;\n",
       "                var nbb_unformatted_code = \"acr[['ARB ID']]\";\n",
       "                var nbb_formatted_code = \"acr[[\\\"ARB ID\\\"]]\";\n",
       "                var nbb_cells = Jupyter.notebook.get_cells();\n",
       "                for (var i = 0; i < nbb_cells.length; ++i) {\n",
       "                    if (nbb_cells[i].input_prompt_number == nbb_cell_id) {\n",
       "                        if (nbb_cells[i].get_text() == nbb_unformatted_code) {\n",
       "                             nbb_cells[i].set_text(nbb_formatted_code);\n",
       "                        }\n",
       "                        break;\n",
       "                    }\n",
       "                }\n",
       "            }, 500);\n",
       "            "
      ],
      "text/plain": [
       "<IPython.core.display.Javascript object>"
      ]
     },
     "metadata": {},
     "output_type": "display_data"
    }
   ],
   "source": [
    "acr[[\"ARB ID\"]]"
   ]
  },
  {
   "cell_type": "code",
   "execution_count": 27,
   "metadata": {},
   "outputs": [
    {
     "data": {
      "text/plain": [
       "Index(['Listed - Active ARB Project', 'Not ARB Eligible',\n",
       "       'Listed - Proposed Project', 'Listed - Active Registry Project',\n",
       "       'ARB Inactive', 'Proposed Early Action'],\n",
       "      dtype='object')"
      ]
     },
     "execution_count": 27,
     "metadata": {},
     "output_type": "execute_result"
    }
   ],
   "source": [
    "acr['ARB Status'].value_counts().index"
   ]
  },
  {
   "cell_type": "code",
   "execution_count": 18,
   "metadata": {},
   "outputs": [
    {
     "data": {
      "image/png": "[encoded data removed]",
      "text/plain": [
       "<Figure size 432x288 with 1 Axes>"
      ]
     },
     "metadata": {},
     "output_type": "display_data"
    }
   ],
   "source": [
    "import networkx as nx\n",
    "from networkx.drawing.nx_agraph import graphviz_layout\n",
    "\n",
    "%matplotlib inline\n",
    "\n",
    "G = nx.DiGraph()\n",
    "\n",
    "states = ['Proposed', 'Voluntary', 'Inactive', 'Active - Registry', 'Active - ARB', 'Terminated']\n",
    "for state in states: \n",
    "    G.add_node(state, s=150, alpha=0.2)\n",
    "\n",
    "G.add_node(\"Proposed\")\n",
    "G.add_node(\"Voluntary\")\n",
    "G.add_node(\"Inactive\")\n",
    "G.add_edge(*(\"Proposed\",\"Voluntary\"))\n",
    "G.add_edge(*(\"Proposed\",\"Inactive\"))\n",
    "G.add_node(\"Active - Registry\")\n",
    "G.add_node(\"Active - ARB\")\n",
    "G.add_node('Terminated')\n",
    "\n",
    "\n",
    "\n",
    "\n",
    "\n",
    "\n",
    "G.add_edge(*(\"Proposed\",\"Active - Registry\"))\n",
    "G.add_edge(*(\"Active - Registry\", \"Active - ARB\"))\n",
    "G.add_edge(*(\"Active - Registry\", \"Terminated\"))\n",
    "G.add_edge(*(\"Active - ARB\", \"Terminated\"))\n",
    "\n",
    "\n",
    "\n",
    "\n",
    "\n",
    "pos = graphviz_layout(G, prog='dot')\n",
    "nx.draw(G, with_labels=True)# connectionstyle='arc3, rad=0.1')"
   ]
  },
  {
   "cell_type": "code",
   "execution_count": null,
   "metadata": {},
   "outputs": [],
   "source": []
  }
 ],
 "metadata": {
  "kernelspec": {
   "display_name": "Python 3",
   "language": "python",
   "name": "python3"
  },
  "language_info": {
   "codemirror_mode": {
    "name": "ipython",
    "version": 3
   },
   "file_extension": ".py",
   "mimetype": "text/x-python",
   "name": "python",
   "nbconvert_exporter": "python",
   "pygments_lexer": "ipython3",
   "version": "3.7.4"
  }
 },
 "nbformat": 4,
 "nbformat_minor": 2
}
