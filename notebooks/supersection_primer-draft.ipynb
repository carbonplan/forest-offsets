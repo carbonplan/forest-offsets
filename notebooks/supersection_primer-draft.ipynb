{
 "cells": [
  {
   "cell_type": "code",
   "execution_count": null,
   "metadata": {},
   "outputs": [],
   "source": [
    "%load_ext nb_black\n",
    "\n",
    "from collections import Counter\n",
    "\n",
    "import geopandas as gpd\n",
    "import pandas as pd\n",
    "import pyproj\n",
    "from shapely.ops import transform\n",
    "from IPython.display import Image\n",
    "\n",
    "from preprocess.utils import load_supersection_shapes\n",
    "from project import ARBProject\n",
    "from primer_graphics import overview_png, norcal_png\n",
    "\n",
    "from utils import PROJECTED_CRS, load_retro_from_json\n",
    "\n",
    "import holoviews as hv\n",
    "import geoviews as gv\n",
    "import geoviews.feature as gf\n",
    "import cartopy\n",
    "import cartopy.feature as cf\n",
    "\n",
    "from geoviews import opts\n",
    "from cartopy import crs as ccrs\n",
    "\n",
    "gv.extension(\"matplotlib\", \"bokeh\")\n",
    "\n",
    "gv.output(dpi=120, fig=\"svg\")\n",
    "\n",
    "hv.output(backend=\"bokeh\")\n",
    "\n",
    "\n",
    "import logging\n",
    "\n",
    "logging.captureWarnings(True)  # holoviews is a little chatty."
   ]
  },
  {
   "cell_type": "code",
   "execution_count": null,
   "metadata": {},
   "outputs": [],
   "source": [
    "arb_supersections = load_supersection_shapes()\n",
    "\n",
    "arb_supersections.geometry = arb_supersections.simplify(\n",
    "    tolerance=5000\n",
    ")  # straightens out < 1km wiggles"
   ]
  },
  {
   "cell_type": "code",
   "execution_count": null,
   "metadata": {},
   "outputs": [],
   "source": [
    "cp_lut = pd.read_csv(\"data/2015_aa_lut.csv\")\n",
    "norcal_aa = cp_lut[cp_lut[\"supersection\"] == \"Northern California Coast\"]\n",
    "lst = [\"assessment_area\", \"site_class\", \"common_practice\"]"
   ]
  },
  {
   "cell_type": "code",
   "execution_count": null,
   "metadata": {},
   "outputs": [],
   "source": [
    "retro = load_retro_from_json(\"data/projects.json\")\n",
    "\n",
    "\n",
    "proj_count = Counter()\n",
    "for lst in retro[\"project\"][\"super_section\"].to_dict().values():\n",
    "    for val in lst:\n",
    "        proj_count[val] += 1\n",
    "\n",
    "proj_count = pd.Series(proj_count)\n",
    "proj_count.name = \"n_arb_proj\"\n",
    "\n",
    "arb_supersections = arb_supersections.join(proj_count)"
   ]
  },
  {
   "cell_type": "code",
   "execution_count": null,
   "metadata": {},
   "outputs": [],
   "source": [
    "states = gpd.read_file(\n",
    "    \"https://www.naturalearthdata.com/http//www.naturalearthdata.com/download/110m/cultural/ne_110m_admin_1_states_provinces.zip\"\n",
    ")\n",
    "ca = states.loc[states.name == \"California\"]\n",
    "ca_ecomap = gpd.overlay(arb_supersections.to_crs(ca.crs), ca, how=\"intersection\")\n",
    "ca_ecomap[\"is_northcoast\"] = ca_ecomap[\"SSection\"] == \"Northern California Coast\""
   ]
  },
  {
   "cell_type": "markdown",
   "metadata": {},
   "source": [
    "# Supersections, Assessment Areas, and Site Classes \n",
    "\n",
    "This notebook will introduce you to key concepts needed to understand how \"Improved Forest Management\" (IFM) projects are allocated credits. \n",
    "IFM projects have a unique feature in that they receive an \"upfront\" tranche of offset credits (termed ARBOCs, which stands for ARB offset credits). \n",
    "Though the precise calculation is somewhat involved, in practice the calculation hinges on two numbers: initial carbon stock (ICS) and common practice (CP). \n",
    "This document explains how CP is derived. \n",
    "\n",
    "\n",
    "## How is common practice calculated? \n",
    "ARB provides a pre-generated look-up table of common practice values. \n",
    "Ultimately, common practice links back to per-tree esitmates of carbon storage, as estimated from Forest Inventory and Analysis (FIA) data. \n",
    "However, for purposes of gaining a stronger intutition about how IFM projects are assigned common practice, we'll treat the ARB provided common practice values as a given. \n",
    "\n",
    "Determining per project common practice requires three pieces of information: \n",
    "\n",
    "1. Determine the *geographic* \"supersection(s)\" where the project falls.\n",
    "2. Within each supersection, stratify forested land within the project by assessment area (forest type).\n",
    "3. Within each assessment area, further stratify by \"site class\" (three choices: low, high, all) \n",
    "\n",
    "With these three pieces of information, a project owner or developer can then use the ARB provided common practice lookup table to calculate area weighted common practice. \n",
    "\n",
    "## Schematic representation of looking up CP\n",
    "Graphically, the relationship between the three stages of calculating common practice looks something like this:  "
   ]
  },
  {
   "cell_type": "code",
   "execution_count": null,
   "metadata": {},
   "outputs": [],
   "source": [
    "Image(overview_png())"
   ]
  },
  {
   "cell_type": "markdown",
   "metadata": {},
   "source": [
    "## A (California) specific example. \n",
    "Let's run through a more specific example, using a real supersection, the `Northern California Coast`. \n",
    "As its name suggests, the `Northern California Coast` supersection hugs the coastline of northern California, from Marin to the Oregon border (with a small incongruity around Klamath, CA).\n",
    "A large fraction of all ARB approved IFM projects fall within this supersection and its neighbor, the `Southern Cascades` supersection.\n"
   ]
  },
  {
   "cell_type": "code",
   "execution_count": null,
   "metadata": {},
   "outputs": [],
   "source": [
    "%%output backend='matplotlib', fig='svg'\n",
    "gv.Polygons(ca_ecomap, vdims=[\"is_northcoast\"]).opts(cmap=\"Dark2_r\")"
   ]
  },
  {
   "cell_type": "markdown",
   "metadata": {},
   "source": [
    "### Asssessmnet Area Assignation  \n",
    "Any ARB IFM project that overlays the supersection area (shown in green) then has to assign its forests to one of the two assessment areas: `Redwood/Douglas-fir Mixed Conifer` or `Oak Woodland`. \n"
   ]
  },
  {
   "cell_type": "code",
   "execution_count": null,
   "metadata": {},
   "outputs": [],
   "source": [
    "Image(norcal_png())"
   ]
  },
  {
   "cell_type": "markdown",
   "metadata": {},
   "source": [
    "A project developer would then need to assign each parcel of their land to one of these two assessment areas.\n",
    "To do this, ARB provides a list of species that are associated with each assessment area. \n",
    "From the assessment area lookup table, we see that `Redwood/Douglas-fir` consists of the following species: \n"
   ]
  },
  {
   "cell_type": "code",
   "execution_count": null,
   "metadata": {},
   "outputs": [],
   "source": [
    "norcal_aa.loc[norcal_aa[\"assessment_area\"].str.lower().str.contains(\"redwood/douglas\")][\n",
    "    \"species\"\n",
    "].iloc[0].split(\",\")"
   ]
  },
  {
   "cell_type": "markdown",
   "metadata": {},
   "source": [
    "It's important to note that the species list is mostly for guidance.\n",
    "It appears that developers have a degree of discretion in assigning land to assessment areas. \n",
    "The most easy to understand example of this discretion occurs when a project consists of species that do not appear in either any of the supersection's assessment area species lsits. \n",
    "That said, these are more technical details that warrant further discussion elsewhere. \n",
    "\n",
    "### Site class\n",
    "The final stage is to assign each parcel of land, within an assessment area, to a site class. \n",
    "There are two site class desigations that are mutually exclusive: `high/low` and `all`.\n",
    "In the case of Northcost `Oak Woodlnd`, there is no site class subdivision, so all parcels assigned to the assesssment area have the same site class and, as a result, the same common practice.\n",
    "The `Redwood/Douglas-fir` assessment area is an example of a `high/low` assessment area, meaning all `Redwood/Douglas-fir` parcels must be further stratified into high vs low site class (typically based off of soil properties).\n",
    "\n",
    "## The Lookup\n",
    "With all these parameters in place, we're finally ready to look up common practice. \n",
    "From the ARB provided table, we take supersection, assessment area, and site class to extract the assigned common practice"
   ]
  },
  {
   "cell_type": "code",
   "execution_count": null,
   "metadata": {},
   "outputs": [],
   "source": [
    "norcal_aa[[\"assessment_area\", \"site_class\", \"common_practice\"]]"
   ]
  }
 ],
 "metadata": {
  "kernelspec": {
   "display_name": "Python 3",
   "language": "python",
   "name": "python3"
  },
  "language_info": {
   "codemirror_mode": {
    "name": "ipython",
    "version": 3
   },
   "file_extension": ".py",
   "mimetype": "text/x-python",
   "name": "python",
   "nbconvert_exporter": "python",
   "pygments_lexer": "ipython3",
   "version": "3.7.4"
  }
 },
 "nbformat": 4,
 "nbformat_minor": 2
}
