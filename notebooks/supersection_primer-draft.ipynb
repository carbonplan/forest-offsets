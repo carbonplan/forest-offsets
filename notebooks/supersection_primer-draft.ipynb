{
 "cells": [
  {
   "cell_type": "code",
   "execution_count": null,
   "metadata": {},
   "outputs": [],
   "source": [
    "%load_ext nb_black\n",
    "\n",
    "from collections import Counter\n",
    "\n",
    "import geopandas as gpd\n",
    "import pandas as pd\n",
    "import pyproj\n",
    "from shapely.ops import transform\n",
    "from IPython.display import Image\n",
    "\n",
    "# from preprocess.utils import load_supersection_shapes\n",
    "\n",
    "# from project import ARBProject\n",
    "# from primer_graphics import overview_png, norcal_png\n",
    "\n",
    "# from utils import PROJECTED_CRS, load_retro_from_json\n",
    "\n",
    "import holoviews as hv\n",
    "import geoviews as gv\n",
    "import geoviews.feature as gf\n",
    "import cartopy\n",
    "import cartopy.feature as cf\n",
    "\n",
    "from geoviews import opts\n",
    "from cartopy import crs as ccrs\n",
    "\n",
    "gv.extension(\"matplotlib\", \"bokeh\")\n",
    "\n",
    "gv.output(dpi=120, fig=\"svg\")\n",
    "\n",
    "hv.output(backend=\"bokeh\")\n",
    "\n",
    "\n",
    "import logging\n",
    "\n",
    "logging.captureWarnings(True)  # holoviews is a little chatty."
   ]
  },
  {
   "cell_type": "code",
   "execution_count": null,
   "metadata": {},
   "outputs": [],
   "source": [
    "from pygraphviz import AGraph\n",
    "\n",
    "\n",
    "def norcal_png():\n",
    "    G = AGraph()\n",
    "    G.add_node(\"s\", label=\"Northern California Coast\")\n",
    "    assessment_areas = {\n",
    "        \"a_hilo\": \"Redwood/Douglas-fir\\nMixed Conifer\",\n",
    "        \"a_all\": \"Oak Woodland\",\n",
    "    }\n",
    "    for node, label in assessment_areas.items():\n",
    "        G.add_node(node, label=label)\n",
    "        G.add_edge(\"s\", node)\n",
    "\n",
    "    site_classes = {\"sc_1\": \"low\", \"sc_2\": \"high\", \"sc_3\": \"all\"}\n",
    "\n",
    "    for node, label in site_classes.items():\n",
    "        G.add_node(node, label=label)\n",
    "        if label == \"all\":\n",
    "            G.add_edge(\"a_all\", node)\n",
    "        else:\n",
    "            G.add_edge(\"a_hilo\", node)\n",
    "    G.add_subgraph(\n",
    "        [node for node in site_classes.keys()],\n",
    "        name=\"cluster_x\",\n",
    "        label=\"Site Class\",\n",
    "        labelloc=\"b\",\n",
    "        labeljust=\"b\",\n",
    "        style=\"dotted\",\n",
    "    )\n",
    "\n",
    "    # G.add_edge('s', 'a_1')\n",
    "    png = G.draw(prog=\"dot\", format=\"png\")\n",
    "    return png\n",
    "\n",
    "\n",
    "def overview_png():\n",
    "    G = AGraph()\n",
    "    G.add_node(\"s\", label=\"Supersection\")\n",
    "    assessment_areas = {\n",
    "        \"a_hilo\": \"Assessment Area 1\",\n",
    "        \"a_all\": \"Assessment Area 2\",\n",
    "    }\n",
    "    for node, label in assessment_areas.items():\n",
    "        G.add_node(node, label=label)\n",
    "        G.add_edge(\"s\", node)\n",
    "\n",
    "    site_classes = {\"sc_1\": \"low\", \"sc_2\": \"high\", \"sc_3\": \"all\"}\n",
    "\n",
    "    for node, label in site_classes.items():\n",
    "        G.add_node(node, label=label)\n",
    "        if label == \"all\":\n",
    "            G.add_edge(\"a_all\", node)\n",
    "        else:\n",
    "            G.add_edge(\"a_hilo\", node)\n",
    "    G.add_subgraph(\n",
    "        [node for node in site_classes.keys()],\n",
    "        name=\"cluster_x\",\n",
    "        label=\"Site Class\",\n",
    "        labelloc=\"b\",\n",
    "        labeljust=\"b\",\n",
    "        style=\"dotted\",\n",
    "    )\n",
    "\n",
    "    # G.add_edge('s', 'a_1')\n",
    "    png = G.draw(prog=\"dot\", format=\"png\")\n",
    "    return png"
   ]
  },
  {
   "cell_type": "code",
   "execution_count": null,
   "metadata": {},
   "outputs": [],
   "source": [
    "from carbonplan_retro.load.geometry import load_supersection_shapes"
   ]
  },
  {
   "cell_type": "code",
   "execution_count": null,
   "metadata": {},
   "outputs": [],
   "source": [
    "cp_lut = pd.read_csv(\"data/2015_aa_lut.csv\")\n",
    "norcal_aa = cp_lut[cp_lut[\"supersection\"] == \"Northern California Coast\"]\n",
    "lst = [\"assessment_area\", \"site_class\", \"common_practice\"]"
   ]
  },
  {
   "cell_type": "code",
   "execution_count": null,
   "metadata": {},
   "outputs": [],
   "source": [
    "retro = load_retro_from_json(\"data/projects.json\")\n",
    "\n",
    "\n",
    "proj_count = Counter()\n",
    "for lst in retro[\"project\"][\"super_section\"].to_dict().values():\n",
    "    for val in lst:\n",
    "        proj_count[val] += 1\n",
    "\n",
    "proj_count = pd.Series(proj_count)\n",
    "proj_count.name = \"n_arb_proj\"\n",
    "\n",
    "arb_supersections = arb_supersections.join(proj_count)"
   ]
  },
  {
   "cell_type": "code",
   "execution_count": null,
   "metadata": {},
   "outputs": [],
   "source": [
    "arb_supersections = load_supersection_shapes()\n",
    "\n",
    "arb_supersections.geometry = arb_supersections.simplify(\n",
    "    tolerance=5000\n",
    ")  # straightens out < 1km wiggles\n",
    "\n",
    "states = gpd.read_file(\n",
    "    \"https://www.naturalearthdata.com/http//www.naturalearthdata.com/download/110m/cultural/ne_110m_admin_1_states_provinces.zip\"\n",
    ")\n",
    "ca = states.loc[states.name == \"California\"]\n",
    "ca_ecomap = gpd.overlay(\n",
    "    arb_supersections.to_crs(ca.crs), ca, how=\"intersection\"\n",
    ")\n",
    "ca_ecomap[\"is_northcoast\"] = (\n",
    "    ca_ecomap[\"SSection\"] == \"Northern California Coast\"\n",
    ")"
   ]
  },
  {
   "cell_type": "markdown",
   "metadata": {},
   "source": [
    "# Supersections, Assessment Areas, and Site Classes\n",
    "\n",
    "This notebook will introduce you to key concepts needed to understand how\n",
    "\"Improved Forest Management\" (IFM) projects are allocated credits. IFM projects\n",
    "have a unique feature in that they receive an \"upfront\" tranche of offset\n",
    "credits (termed ARBOCs, which stands for ARB offset credits). Though the precise\n",
    "calculation is somewhat involved, in practice the calculation hinges on two\n",
    "numbers: initial carbon stock (ICS) and common practice (CP). This document\n",
    "explains how CP is derived.\n",
    "\n",
    "## How is common practice calculated?\n",
    "\n",
    "ARB provides a pre-generated look-up table of common practice values.\n",
    "Ultimately, common practice links back to per-tree esitmates of carbon storage,\n",
    "as estimated from Forest Inventory and Analysis (FIA) data. However, for\n",
    "purposes of gaining a stronger intutition about how IFM projects are assigned\n",
    "common practice, we'll treat the ARB provided common practice values as a given.\n",
    "\n",
    "Determining per project common practice requires three pieces of information:\n",
    "\n",
    "1. Determine the _geographic_ \"supersection(s)\" where the project falls.\n",
    "2. Within each supersection, stratify forested land within the project by\n",
    "   assessment area (forest type).\n",
    "3. Within each assessment area, further stratify by \"site class\" (three choices:\n",
    "   low, high, all)\n",
    "\n",
    "With these three pieces of information, a project owner or developer can then\n",
    "use the ARB provided common practice lookup table to calculate area weighted\n",
    "common practice.\n",
    "\n",
    "## Schematic representation of looking up CP\n",
    "\n",
    "Graphically, the relationship between the three stages of calculating common\n",
    "practice looks something like this:\n"
   ]
  },
  {
   "cell_type": "code",
   "execution_count": null,
   "metadata": {},
   "outputs": [],
   "source": [
    "Image(overview_png())"
   ]
  },
  {
   "cell_type": "markdown",
   "metadata": {},
   "source": [
    "## A (California) specific example.\n",
    "\n",
    "Let's run through a more specific example, using a real supersection, the\n",
    "`Northern California Coast`. As its name suggests, the\n",
    "`Northern California Coast` supersection hugs the coastline of northern\n",
    "California, from Marin to the Oregon border (with a small incongruity around\n",
    "Klamath, CA). A large fraction of all ARB approved IFM projects fall within this\n",
    "supersection and its neighbor, the `Southern Cascades` supersection.\n"
   ]
  },
  {
   "cell_type": "code",
   "execution_count": null,
   "metadata": {},
   "outputs": [],
   "source": [
    "%%output backend='matplotlib', fig='svg'\n",
    "gv.Polygons(ca_ecomap, vdims=[\"is_northcoast\"]).opts(cmap=\"Dark2_r\")"
   ]
  },
  {
   "cell_type": "markdown",
   "metadata": {},
   "source": [
    "### Asssessmnet Area Assignation\n",
    "\n",
    "Any ARB IFM project that overlays the supersection area (shown in green) then\n",
    "has to assign its forests to one of the two assessment areas:\n",
    "`Redwood/Douglas-fir Mixed Conifer` or `Oak Woodland`.\n"
   ]
  },
  {
   "cell_type": "code",
   "execution_count": null,
   "metadata": {},
   "outputs": [],
   "source": [
    "Image(norcal_png())"
   ]
  },
  {
   "cell_type": "markdown",
   "metadata": {},
   "source": [
    "A project developer would then need to assign each parcel of their land to one\n",
    "of these two assessment areas. To do this, ARB provides a list of species that\n",
    "are associated with each assessment area. From the assessment area lookup table,\n",
    "we see that `Redwood/Douglas-fir` consists of the following species:\n"
   ]
  },
  {
   "cell_type": "code",
   "execution_count": null,
   "metadata": {},
   "outputs": [],
   "source": [
    "norcal_aa.loc[\n",
    "    norcal_aa[\"assessment_area\"].str.lower().str.contains(\"redwood/douglas\")\n",
    "][\"species\"].iloc[0].split(\",\")"
   ]
  },
  {
   "cell_type": "markdown",
   "metadata": {},
   "source": [
    "It's important to note that the species list is mostly for guidance. It appears\n",
    "that developers have a degree of discretion in assigning land to assessment\n",
    "areas. The most easy to understand example of this discretion occurs when a\n",
    "project consists of species that do not appear in either any of the\n",
    "supersection's assessment area species lsits. That said, these are more\n",
    "technical details that warrant further discussion elsewhere.\n",
    "\n",
    "### Site class\n",
    "\n",
    "The final stage is to assign each parcel of land, within an assessment area, to\n",
    "a site class. There are two site class desigations that are mutually exclusive:\n",
    "`high/low` and `all`. In the case of Northcost `Oak Woodlnd`, there is no site\n",
    "class subdivision, so all parcels assigned to the assesssment area have the same\n",
    "site class and, as a result, the same common practice. The `Redwood/Douglas-fir`\n",
    "assessment area is an example of a `high/low` assessment area, meaning all\n",
    "`Redwood/Douglas-fir` parcels must be further stratified into high vs low site\n",
    "class (typically based off of soil properties).\n",
    "\n",
    "## The Lookup\n",
    "\n",
    "With all these parameters in place, we're finally ready to look up common\n",
    "practice. From the ARB provided table, we take supersection, assessment area,\n",
    "and site class to extract the assigned common practice\n"
   ]
  },
  {
   "cell_type": "code",
   "execution_count": null,
   "metadata": {},
   "outputs": [],
   "source": [
    "norcal_aa[[\"assessment_area\", \"site_class\", \"common_practice\"]]"
   ]
  },
  {
   "cell_type": "code",
   "execution_count": null,
   "metadata": {},
   "outputs": [],
   "source": [
    "from carbonplan_retro.load.project_db import load_project_db\n",
    "from carbonplan_retro.load.issuance import load_issuance_table"
   ]
  },
  {
   "cell_type": "code",
   "execution_count": null,
   "metadata": {},
   "outputs": [],
   "source": [
    "project_db = load_project_db(\"Forest-Offset-Projects-v0.3\", use_cache=True)"
   ]
  },
  {
   "cell_type": "code",
   "execution_count": null,
   "metadata": {},
   "outputs": [],
   "source": [
    "issuance_table = load_issuance_table(\n",
    "    \"/Users/darryl/forest-retro/documents-of-interest/arb/issuance/arboc_issuance_2020-09-09.xlsx\"\n",
    ")"
   ]
  },
  {
   "cell_type": "code",
   "execution_count": null,
   "metadata": {},
   "outputs": [],
   "source": [
    "import matplotlib.pyplot as plt\n",
    "\n",
    "import seaborn as sns\n",
    "\n",
    "sns.set(font_scale=1.5)\n",
    "sns.set_style(\"white\")"
   ]
  },
  {
   "cell_type": "code",
   "execution_count": null,
   "metadata": {},
   "outputs": [],
   "source": [
    "fig, (ax1, ax2) = plt.subplots(\n",
    "    ncols=2, figsize=(10, 5), gridspec_kw={\"wspace\": 0.30}\n",
    ")\n",
    "sns.barplot(\n",
    "    data=tp,\n",
    "    x=\"index\",\n",
    "    y=\"value\",\n",
    "    color=\".3\",\n",
    "    order=[\"common_practice\", \"initial_carbon_stock\"],\n",
    "    ax=ax1,\n",
    ")\n",
    "\n",
    "ax1.set_xticklabels([\"Regional\\nCommon Pratice\", \"Measured\\nOnsite Carbon\"])\n",
    "plt.xticks\n",
    "ax1.set_xlabel(\"\")\n",
    "ax1.set_ylabel(\"Carbon Stocks\\n(t CO2e acre$^{-1}$)\")\n",
    "\n",
    "proj_issuance = (\n",
    "    issuance_table.loc[issuance_table[\"opr_id\"] == \"ACR189\"][\n",
    "        \"allocation\"\n",
    "    ].reset_index(drop=True)\n",
    "    / 1_000\n",
    ")\n",
    "proj_issuance.index = range(1, len(proj_issuance) + 1)\n",
    "\n",
    "\n",
    "proj_issuance.plot(kind=\"bar\", color=\".3\", ax=ax2, width=0.85)\n",
    "plt.ylabel(\"ARBOCs Issued (Thousands)\")\n",
    "plt.xlabel(\"Reporting Period\")\n",
    "\n",
    "sns.despine()"
   ]
  }
 ],
 "metadata": {
  "kernelspec": {
   "display_name": "Python 3",
   "language": "python",
   "name": "python3"
  },
  "language_info": {
   "codemirror_mode": {
    "name": "ipython",
    "version": 3
   },
   "file_extension": ".py",
   "mimetype": "text/x-python",
   "name": "python",
   "nbconvert_exporter": "python",
   "pygments_lexer": "ipython3",
   "version": "3.7.8"
  }
 },
 "nbformat": 4,
 "nbformat_minor": 4
}
