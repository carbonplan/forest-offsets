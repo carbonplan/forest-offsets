{
 "cells": [
  {
   "cell_type": "markdown",
   "id": "engaging-application",
   "metadata": {},
   "source": [
    "This notebook recalculates ARBOC issuance based on values transcribed from project ODPRs.\n"
   ]
  },
  {
   "cell_type": "code",
   "execution_count": null,
   "id": "commercial-period",
   "metadata": {},
   "outputs": [],
   "source": [
    "import fsspec\n",
    "import os\n",
    "import json\n",
    "\n",
    "import matplotlib.pyplot as plt\n",
    "import numpy as np\n",
    "import pandas as pd\n",
    "import seaborn as sns\n",
    "\n",
    "from carbonplan_forest_offsets.analysis.allocation import get_arbocs\n",
    "from carbonplan_forest_offsets.data import cat\n",
    "\n",
    "from carbonplan import styles\n",
    "\n",
    "styles.mpl.set_theme(style=\"carbonplan_light\", font_scale=1.5)\n",
    "colors = styles.colors.light"
   ]
  },
  {
   "cell_type": "code",
   "execution_count": null,
   "id": "greatest-given",
   "metadata": {},
   "outputs": [],
   "source": [
    "project_db = cat.project_db_json.read()\n",
    "arbocs = pd.DataFrame(\n",
    "    {\n",
    "        project[\"opr_id\"]: (\n",
    "            get_arbocs(project[\"baseline\"], project[\"rp_1\"]),\n",
    "            project[\"arbocs\"][\"issuance\"],\n",
    "            project[\"arbocs\"][\"calculated\"],\n",
    "        )\n",
    "        for project in project_db\n",
    "    }\n",
    ").T.rename(columns={0: \"calculated\", 1: \"issued\", 2: \"old_calc\"})"
   ]
  },
  {
   "cell_type": "code",
   "execution_count": null,
   "id": "economic-input",
   "metadata": {},
   "outputs": [],
   "source": [
    "d = (\n",
    "    arbocs.reset_index()\n",
    "    .rename(columns={\"index\": \"opr_id\"})[[\"opr_id\", \"calculated\", \"issued\"]]\n",
    "    .to_dict(orient=\"records\")\n",
    ")"
   ]
  },
  {
   "cell_type": "code",
   "execution_count": null,
   "id": "acceptable-december",
   "metadata": {},
   "outputs": [],
   "source": [
    "g = sns.FacetGrid(data=arbocs / 1_000_000, height=3.5)\n",
    "g.map(plt.scatter, \"calculated\", \"issued\", s=125, color=\".3\", alpha=0.65)\n",
    "g.axes[0][0].plot((0, 15), (0, 15), lw=3, ls=\"--\", color=\"r\", zorder=-9)\n",
    "plt.xlabel(\"Calculated ARBOCs\\n(Millions)\")\n",
    "plt.ylabel(\"Issued ARBOCs\\n(Millions)\")\n",
    "plt.xlim(0, 15.5)\n",
    "plt.ylim(0, 15.5)\n",
    "\n",
    "g.axes[0][0].set_xticks(np.arange(0, 15.1, 5))\n",
    "g.axes[0][0].set_yticks(np.arange(0, 15.1, 5))\n",
    "# plt.savefig(\"/home/jovyan/pub-figs/recalculate_arbocs.pdf\", dpi=300, bbox_inches=\"tight\")"
   ]
  },
  {
   "cell_type": "code",
   "execution_count": null,
   "id": "narrative-softball",
   "metadata": {},
   "outputs": [],
   "source": [
    "with fsspec.open(\n",
    "    \"az://carbonplan-retro/results/crediting-verification.json\",\n",
    "    account_key=os.environ[\"BLOB_ACCOUNT_KEY\"],\n",
    "    account_name=\"carbonplan\",\n",
    "    mode=\"w\",\n",
    ") as f:\n",
    "    json.dump(d, f)"
   ]
  }
 ],
 "metadata": {
  "kernelspec": {
   "display_name": "Python 3",
   "language": "python",
   "name": "python3"
  },
  "language_info": {
   "codemirror_mode": {
    "name": "ipython",
    "version": 3
   },
   "file_extension": ".py",
   "mimetype": "text/x-python",
   "name": "python",
   "nbconvert_exporter": "python",
   "pygments_lexer": "ipython3",
   "version": "3.8.8"
  }
 },
 "nbformat": 4,
 "nbformat_minor": 5
}
