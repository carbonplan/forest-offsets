{
 "cells": [
  {
   "cell_type": "code",
   "execution_count": 1,
   "metadata": {},
   "outputs": [
    {
     "data": {
      "application/javascript": [
       "\n",
       "            setTimeout(function() {\n",
       "                var nbb_cell_id = 1;\n",
       "                var nbb_unformatted_code = \"%load_ext nb_black\\nimport pathlib\\nimport sys\\n\\nimport numpy as np\\nfrom itertools import permutations\\nimport pandas as pd\\n\\nsys.path.append(\\\"/Users/darryl/proj/carbonplan/retro/\\\")\\n\\nfrom retrospective.load.project_db import (\\n    load_project_db,\\n)  # this could be better organized.\\nfrom retrospective.load.issuance import load_issuance_table\\nfrom retrospective.analysis import allocation\";\n",
       "                var nbb_formatted_code = \"%load_ext nb_black\\nimport pathlib\\nimport sys\\n\\nimport numpy as np\\nfrom itertools import permutations\\nimport pandas as pd\\n\\nsys.path.append(\\\"/Users/darryl/proj/carbonplan/retro/\\\")\\n\\nfrom retrospective.load.project_db import (\\n    load_project_db,\\n)  # this could be better organized.\\nfrom retrospective.load.issuance import load_issuance_table\\nfrom retrospective.analysis import allocation\";\n",
       "                var nbb_cells = Jupyter.notebook.get_cells();\n",
       "                for (var i = 0; i < nbb_cells.length; ++i) {\n",
       "                    if (nbb_cells[i].input_prompt_number == nbb_cell_id) {\n",
       "                        if (nbb_cells[i].get_text() == nbb_unformatted_code) {\n",
       "                             nbb_cells[i].set_text(nbb_formatted_code);\n",
       "                        }\n",
       "                        break;\n",
       "                    }\n",
       "                }\n",
       "            }, 500);\n",
       "            "
      ],
      "text/plain": [
       "<IPython.core.display.Javascript object>"
      ]
     },
     "metadata": {},
     "output_type": "display_data"
    }
   ],
   "source": [
    "%load_ext nb_black\n",
    "import pathlib\n",
    "import sys\n",
    "\n",
    "import numpy as np\n",
    "from itertools import permutations\n",
    "import pandas as pd\n",
    "\n",
    "sys.path.append(\"/Users/darryl/proj/carbonplan/retro/\")\n",
    "\n",
    "from retrospective.load.project_db import (\n",
    "    load_project_db,\n",
    ")  # this could be better organized.\n",
    "from retrospective.load.issuance import load_issuance_table\n",
    "from retrospective.analysis import allocation"
   ]
  },
  {
   "cell_type": "markdown",
   "metadata": {},
   "source": [
    "This notebook is a first attempt at building the retro-db, containing all values extracted from Offset Project Data Reports (OPDRs) and marrying that data with the September 9, 2020 ARB issuance table. `retro-db` feeds into numerous downsteram analyses, including our initial efforts to lightly audit ARBOC issuance to individual projects.\n",
    "\n",
    "\n",
    "Means we end up with three \"allocation\" values:\n",
    "- Issuance: the official, issued allocation of ARBOCs as recorded by ARB.\n",
    "- OPDR-Reported: the OPO/APD reported ARBC\n",
    "- OPDR-Calculated: issuance derived from IFM-1, IFM-3, IFM-7, IFM-8, and secondary effects (SE). \n",
    "\n",
    "In a separate notebook, we explore cases where these values diverge."
   ]
  },
  {
   "cell_type": "markdown",
   "metadata": {},
   "source": [
    "\n",
    "# Load retro-db and issuance table"
   ]
  },
  {
   "cell_type": "code",
   "execution_count": 2,
   "metadata": {},
   "outputs": [
    {
     "name": "stdout",
     "output_type": "stream",
     "text": [
      "loading load Forest-Offset-Projects-v0.3 from /Users/darryl/proj/carbonplan/retro/data\n"
     ]
    },
    {
     "data": {
      "application/javascript": [
       "\n",
       "            setTimeout(function() {\n",
       "                var nbb_cell_id = 2;\n",
       "                var nbb_unformatted_code = \"project_db = load_project_db(\\\"Forest-Offset-Projects-v0.3\\\", use_cache=True)\";\n",
       "                var nbb_formatted_code = \"project_db = load_project_db(\\\"Forest-Offset-Projects-v0.3\\\", use_cache=True)\";\n",
       "                var nbb_cells = Jupyter.notebook.get_cells();\n",
       "                for (var i = 0; i < nbb_cells.length; ++i) {\n",
       "                    if (nbb_cells[i].input_prompt_number == nbb_cell_id) {\n",
       "                        if (nbb_cells[i].get_text() == nbb_unformatted_code) {\n",
       "                             nbb_cells[i].set_text(nbb_formatted_code);\n",
       "                        }\n",
       "                        break;\n",
       "                    }\n",
       "                }\n",
       "            }, 500);\n",
       "            "
      ],
      "text/plain": [
       "<IPython.core.display.Javascript object>"
      ]
     },
     "metadata": {},
     "output_type": "display_data"
    }
   ],
   "source": [
    "project_db = load_project_db(\"Forest-Offset-Projects-v0.3\", use_cache=True)"
   ]
  },
  {
   "cell_type": "markdown",
   "metadata": {},
   "source": [
    "There is this strange sub-class of projects within the compliance market which we refer to as \"graduated\" projects -- these are projects that started out in the \"Early Action\" period and later \"graduated\" into the full-fledged compliance program. \n",
    "Unfortunately, these projects tend to be materially deficient and tough to work with -- there are all sorts of issues with getting their numbers correct. \n"
   ]
  },
  {
   "cell_type": "code",
   "execution_count": 3,
   "metadata": {},
   "outputs": [
    {
     "data": {
      "application/javascript": [
       "\n",
       "            setTimeout(function() {\n",
       "                var nbb_cell_id = 3;\n",
       "                var nbb_unformatted_code = \"EXCLUDE_GRADUATED_PROJECTS = True\\n\\nif EXCLUDE_GRADUATED_PROJECTS:\\n    project_db = project_db[\\n        ~project_db[\\\"project\\\"][\\\"early_action\\\"].str.startswith(\\\"CAR\\\")\\n    ]\\n    project_db = project_db[\\n        project_db[\\\"baseline\\\"][\\\"initial_carbon_stock\\\"]\\n        > project_db[\\\"baseline\\\"][\\\"common_practice\\\"]\\n    ]\";\n",
       "                var nbb_formatted_code = \"EXCLUDE_GRADUATED_PROJECTS = True\\n\\nif EXCLUDE_GRADUATED_PROJECTS:\\n    project_db = project_db[\\n        ~project_db[\\\"project\\\"][\\\"early_action\\\"].str.startswith(\\\"CAR\\\")\\n    ]\\n    project_db = project_db[\\n        project_db[\\\"baseline\\\"][\\\"initial_carbon_stock\\\"]\\n        > project_db[\\\"baseline\\\"][\\\"common_practice\\\"]\\n    ]\";\n",
       "                var nbb_cells = Jupyter.notebook.get_cells();\n",
       "                for (var i = 0; i < nbb_cells.length; ++i) {\n",
       "                    if (nbb_cells[i].input_prompt_number == nbb_cell_id) {\n",
       "                        if (nbb_cells[i].get_text() == nbb_unformatted_code) {\n",
       "                             nbb_cells[i].set_text(nbb_formatted_code);\n",
       "                        }\n",
       "                        break;\n",
       "                    }\n",
       "                }\n",
       "            }, 500);\n",
       "            "
      ],
      "text/plain": [
       "<IPython.core.display.Javascript object>"
      ]
     },
     "metadata": {},
     "output_type": "display_data"
    }
   ],
   "source": [
    "EXCLUDE_GRADUATED_PROJECTS = True\n",
    "\n",
    "if EXCLUDE_GRADUATED_PROJECTS:\n",
    "    project_db = project_db[\n",
    "        ~project_db[\"project\"][\"early_action\"].str.startswith(\"CAR\")\n",
    "    ]\n",
    "    project_db = project_db[\n",
    "        project_db[\"baseline\"][\"initial_carbon_stock\"]\n",
    "        > project_db[\"baseline\"][\"common_practice\"]\n",
    "    ]"
   ]
  },
  {
   "cell_type": "markdown",
   "metadata": {},
   "source": [
    "## Get Issuance"
   ]
  },
  {
   "cell_type": "code",
   "execution_count": 4,
   "metadata": {},
   "outputs": [
    {
     "data": {
      "application/javascript": [
       "\n",
       "            setTimeout(function() {\n",
       "                var nbb_cell_id = 4;\n",
       "                var nbb_unformatted_code = \"# TODO: store this issuance file somewhere else!\\nissuance_table = load_issuance_table(\\n    \\\"/Users/darryl/forest-retro/documents-of-interest/arb/issuance/arboc_issuance_2020-09-09.xlsx\\\"\\n)\\n\\n# One project has multiple issuance events in its first reporting period, aggregate them\\nagg_by_rp = issuance_table.groupby([\\\"opr_id\\\", \\\"arb_rp_id\\\"])[\\n    [\\\"allocation\\\", \\\"buffer_pool\\\"]\\n].sum()\\nissuance_first_rp = agg_by_rp.xs(\\\"A\\\", level=1)\";\n",
       "                var nbb_formatted_code = \"# TODO: store this issuance file somewhere else!\\nissuance_table = load_issuance_table(\\n    \\\"/Users/darryl/forest-retro/documents-of-interest/arb/issuance/arboc_issuance_2020-09-09.xlsx\\\"\\n)\\n\\n# One project has multiple issuance events in its first reporting period, aggregate them\\nagg_by_rp = issuance_table.groupby([\\\"opr_id\\\", \\\"arb_rp_id\\\"])[\\n    [\\\"allocation\\\", \\\"buffer_pool\\\"]\\n].sum()\\nissuance_first_rp = agg_by_rp.xs(\\\"A\\\", level=1)\";\n",
       "                var nbb_cells = Jupyter.notebook.get_cells();\n",
       "                for (var i = 0; i < nbb_cells.length; ++i) {\n",
       "                    if (nbb_cells[i].input_prompt_number == nbb_cell_id) {\n",
       "                        if (nbb_cells[i].get_text() == nbb_unformatted_code) {\n",
       "                             nbb_cells[i].set_text(nbb_formatted_code);\n",
       "                        }\n",
       "                        break;\n",
       "                    }\n",
       "                }\n",
       "            }, 500);\n",
       "            "
      ],
      "text/plain": [
       "<IPython.core.display.Javascript object>"
      ]
     },
     "metadata": {},
     "output_type": "display_data"
    }
   ],
   "source": [
    "# TODO: store this issuance file somewhere else!\n",
    "issuance_table = load_issuance_table(\n",
    "    \"/Users/darryl/forest-retro/documents-of-interest/arb/issuance/arboc_issuance_2020-09-09.xlsx\"\n",
    ")\n",
    "\n",
    "# One project has multiple issuance events in its first reporting period, aggregate them\n",
    "agg_by_rp = issuance_table.groupby([\"opr_id\", \"arb_rp_id\"])[\n",
    "    [\"allocation\", \"buffer_pool\"]\n",
    "].sum()\n",
    "issuance_first_rp = agg_by_rp.xs(\"A\", level=1)"
   ]
  },
  {
   "cell_type": "markdown",
   "metadata": {},
   "source": [
    "## OPDRcalculated\n",
    "OPDRs report five individual components that we use to recalculate ARBOC issuance:\n",
    "\n",
    "- IFM-1: standing live\n",
    "- IFM-3: standing dead\n",
    "- IFM-7: in-use wood products\n",
    "- IFM-8: landfilled wood products\n",
    "- Secondary Effects: market leakage &etc.\n",
    "\n",
    "We use these five \"components\", as reported in the OPDR for both the Baseline scenario (imaginary/counterfactual) and the Project scenario (what actually happened), to re-derive the ARBOC allocation. \n",
    "This step (i) gives us confidence in the integrity of our data entry and (ii) lays the foundation for *re-calculating* ARBOCs under different common practice scenarios (see Notebook TK)"
   ]
  },
  {
   "cell_type": "markdown",
   "metadata": {},
   "source": [
    "And it turns out that joining to a multi-index is impossible....\n",
    "\n",
    "I have now tried: \n",
    "- .loc assigning doesnt work; nor does just naive df['foo']['bar'] = 'baz'\n",
    "- then i tried joins project_db['rp_1'].join(opdr_calculated). The join would work but I wasn't able to get the result to 'stick'. \n",
    "- then i tried adding a multicolumn index to opdr_calculated and doing the join. Here, again, the join is fine (no warning) but I cannot assign the result to the project_db object. There is some black magic here I don't understand. Starting to wonder if this nested-ness is useful or just getting in the way. \n"
   ]
  },
  {
   "cell_type": "code",
   "execution_count": 5,
   "metadata": {},
   "outputs": [
    {
     "data": {
      "application/javascript": [
       "\n",
       "            setTimeout(function() {\n",
       "                var nbb_cell_id = 5;\n",
       "                var nbb_unformatted_code = \"opdr_calculated = allocation.calculate_allocation(project_db, round_intermediates=False)\\n\\n\\nopdr_calculated = opdr_calculated.to_frame()\\n\\nopdr_calculated.columns = pd.MultiIndex.from_product(\\n    [[\\\"allocation\\\"], opdr_calculated.columns]\\n)\";\n",
       "                var nbb_formatted_code = \"opdr_calculated = allocation.calculate_allocation(project_db, round_intermediates=False)\\n\\n\\nopdr_calculated = opdr_calculated.to_frame()\\n\\nopdr_calculated.columns = pd.MultiIndex.from_product(\\n    [[\\\"allocation\\\"], opdr_calculated.columns]\\n)\";\n",
       "                var nbb_cells = Jupyter.notebook.get_cells();\n",
       "                for (var i = 0; i < nbb_cells.length; ++i) {\n",
       "                    if (nbb_cells[i].input_prompt_number == nbb_cell_id) {\n",
       "                        if (nbb_cells[i].get_text() == nbb_unformatted_code) {\n",
       "                             nbb_cells[i].set_text(nbb_formatted_code);\n",
       "                        }\n",
       "                        break;\n",
       "                    }\n",
       "                }\n",
       "            }, 500);\n",
       "            "
      ],
      "text/plain": [
       "<IPython.core.display.Javascript object>"
      ]
     },
     "metadata": {},
     "output_type": "display_data"
    }
   ],
   "source": [
    "opdr_calculated = allocation.calculate_allocation(project_db, round_intermediates=False)\n",
    "\n",
    "\n",
    "opdr_calculated = opdr_calculated.to_frame()\n",
    "\n",
    "opdr_calculated.columns = pd.MultiIndex.from_product(\n",
    "    [[\"allocation\"], opdr_calculated.columns]\n",
    ")"
   ]
  },
  {
   "cell_type": "code",
   "execution_count": 6,
   "metadata": {},
   "outputs": [
    {
     "name": "stderr",
     "output_type": "stream",
     "text": [
      "/Users/darryl/py37/lib/python3.7/site-packages/pandas/core/reshape/merge.py:643: UserWarning: merging between different levels can give an unintended result (2 levels on the left,1 on the right)\n",
      "  warnings.warn(msg, UserWarning)\n"
     ]
    },
    {
     "data": {
      "application/javascript": [
       "\n",
       "            setTimeout(function() {\n",
       "                var nbb_cell_id = 6;\n",
       "                var nbb_unformatted_code = \"project_db[\\\"rp_1\\\"] = project_db[\\\"rp_1\\\"].join(opdr_calculated)\\nproject_db[\\\"rp_1\\\"] = project_db[\\\"rp_1\\\"].join(\\n    issuance_first_rp[\\\"allocation\\\"].rename(\\n        \\\"arb_issuance\\\"\\n    )  # TODO: deal with buffer pool stuff later\\n)\";\n",
       "                var nbb_formatted_code = \"project_db[\\\"rp_1\\\"] = project_db[\\\"rp_1\\\"].join(opdr_calculated)\\nproject_db[\\\"rp_1\\\"] = project_db[\\\"rp_1\\\"].join(\\n    issuance_first_rp[\\\"allocation\\\"].rename(\\n        \\\"arb_issuance\\\"\\n    )  # TODO: deal with buffer pool stuff later\\n)\";\n",
       "                var nbb_cells = Jupyter.notebook.get_cells();\n",
       "                for (var i = 0; i < nbb_cells.length; ++i) {\n",
       "                    if (nbb_cells[i].input_prompt_number == nbb_cell_id) {\n",
       "                        if (nbb_cells[i].get_text() == nbb_unformatted_code) {\n",
       "                             nbb_cells[i].set_text(nbb_formatted_code);\n",
       "                        }\n",
       "                        break;\n",
       "                    }\n",
       "                }\n",
       "            }, 500);\n",
       "            "
      ],
      "text/plain": [
       "<IPython.core.display.Javascript object>"
      ]
     },
     "metadata": {},
     "output_type": "display_data"
    }
   ],
   "source": [
    "project_db[\"rp_1\"] = project_db[\"rp_1\"].join(opdr_calculated)\n",
    "project_db[\"rp_1\"] = project_db[\"rp_1\"].join(\n",
    "    issuance_first_rp[\"allocation\"].rename(\n",
    "        \"arb_issuance\"\n",
    "    )  # TODO: deal with buffer pool stuff later\n",
    ")"
   ]
  },
  {
   "cell_type": "code",
   "execution_count": 11,
   "metadata": {},
   "outputs": [
    {
     "data": {
      "text/plain": [
       "allocation  opdr_calculated    3298.4\n",
       "Name: ACR276, dtype: float64"
      ]
     },
     "execution_count": 11,
     "metadata": {},
     "output_type": "execute_result"
    },
    {
     "data": {
      "application/javascript": [
       "\n",
       "            setTimeout(function() {\n",
       "                var nbb_cell_id = 11;\n",
       "                var nbb_unformatted_code = \"opr_id = \\\"ACR276\\\"\\nopdr_calculated.loc[opr_id] - project_db[\\\"rp_1\\\"][\\\"allocation\\\"].loc[opr_id]\";\n",
       "                var nbb_formatted_code = \"opr_id = \\\"ACR276\\\"\\nopdr_calculated.loc[opr_id] - project_db[\\\"rp_1\\\"][\\\"allocation\\\"].loc[opr_id]\";\n",
       "                var nbb_cells = Jupyter.notebook.get_cells();\n",
       "                for (var i = 0; i < nbb_cells.length; ++i) {\n",
       "                    if (nbb_cells[i].input_prompt_number == nbb_cell_id) {\n",
       "                        if (nbb_cells[i].get_text() == nbb_unformatted_code) {\n",
       "                             nbb_cells[i].set_text(nbb_formatted_code);\n",
       "                        }\n",
       "                        break;\n",
       "                    }\n",
       "                }\n",
       "            }, 500);\n",
       "            "
      ],
      "text/plain": [
       "<IPython.core.display.Javascript object>"
      ]
     },
     "metadata": {},
     "output_type": "display_data"
    }
   ],
   "source": [
    "opr_id = \"ACR276\"\n",
    "opdr_calculated.loc[opr_id] - project_db[\"rp_1\"][\"allocation\"].loc[opr_id]"
   ]
  },
  {
   "cell_type": "code",
   "execution_count": 45,
   "metadata": {},
   "outputs": [
    {
     "data": {
      "application/javascript": [
       "\n",
       "            setTimeout(function() {\n",
       "                var nbb_cell_id = 45;\n",
       "                var nbb_unformatted_code = \"project_db[\\\"rp_1\\\"] = project_db[\\\"rp_1\\\"].join(opdr_calculated)\";\n",
       "                var nbb_formatted_code = \"project_db[\\\"rp_1\\\"] = project_db[\\\"rp_1\\\"].join(opdr_calculated)\";\n",
       "                var nbb_cells = Jupyter.notebook.get_cells();\n",
       "                for (var i = 0; i < nbb_cells.length; ++i) {\n",
       "                    if (nbb_cells[i].input_prompt_number == nbb_cell_id) {\n",
       "                        if (nbb_cells[i].get_text() == nbb_unformatted_code) {\n",
       "                             nbb_cells[i].set_text(nbb_formatted_code);\n",
       "                        }\n",
       "                        break;\n",
       "                    }\n",
       "                }\n",
       "            }, 500);\n",
       "            "
      ],
      "text/plain": [
       "<IPython.core.display.Javascript object>"
      ]
     },
     "metadata": {},
     "output_type": "display_data"
    }
   ],
   "source": [
    "project_db[\"rp_1\"] = project_db[\"rp_1\"].join(opdr_calculated,)"
   ]
  },
  {
   "cell_type": "code",
   "execution_count": 46,
   "metadata": {},
   "outputs": [
    {
     "data": {
      "text/html": [
       "<div>\n",
       "<style scoped>\n",
       "    .dataframe tbody tr th:only-of-type {\n",
       "        vertical-align: middle;\n",
       "    }\n",
       "\n",
       "    .dataframe tbody tr th {\n",
       "        vertical-align: top;\n",
       "    }\n",
       "\n",
       "    .dataframe thead tr th {\n",
       "        text-align: left;\n",
       "    }\n",
       "</style>\n",
       "<table border=\"1\" class=\"dataframe\">\n",
       "  <thead>\n",
       "    <tr>\n",
       "      <th></th>\n",
       "      <th>date_submitted</th>\n",
       "      <th>start</th>\n",
       "      <th>end</th>\n",
       "      <th>reversal</th>\n",
       "      <th>allocation</th>\n",
       "      <th>buffer_contribution</th>\n",
       "      <th>confidence_deduction</th>\n",
       "      <th colspan=\"6\" halign=\"left\">components</th>\n",
       "      <th>secondary_effects</th>\n",
       "      <th colspan=\"2\" halign=\"left\">attestation</th>\n",
       "      <th>notes</th>\n",
       "    </tr>\n",
       "    <tr>\n",
       "      <th></th>\n",
       "      <th></th>\n",
       "      <th></th>\n",
       "      <th></th>\n",
       "      <th></th>\n",
       "      <th></th>\n",
       "      <th></th>\n",
       "      <th></th>\n",
       "      <th>ifm_1</th>\n",
       "      <th>ifm_3</th>\n",
       "      <th>ifm_7</th>\n",
       "      <th>ifm_8</th>\n",
       "      <th>ifm_14</th>\n",
       "      <th>ifm_17</th>\n",
       "      <th></th>\n",
       "      <th>name</th>\n",
       "      <th>is_opo</th>\n",
       "      <th></th>\n",
       "    </tr>\n",
       "  </thead>\n",
       "  <tbody>\n",
       "    <tr>\n",
       "      <th>CAR1205</th>\n",
       "      <td>2020-04-30T00:00:00Z</td>\n",
       "      <td>2017-12-19T00:00:00Z</td>\n",
       "      <td>2018-08-18T00:00:00Z</td>\n",
       "      <td></td>\n",
       "      <td>2.95903e+06</td>\n",
       "      <td>569318</td>\n",
       "      <td>0</td>\n",
       "      <td>7.81476e+06</td>\n",
       "      <td>129401</td>\n",
       "      <td>0</td>\n",
       "      <td>0</td>\n",
       "      <td>-27304</td>\n",
       "      <td>0</td>\n",
       "      <td>-27304</td>\n",
       "      <td>David Hoffer</td>\n",
       "      <td>True</td>\n",
       "      <td></td>\n",
       "    </tr>\n",
       "    <tr>\n",
       "      <th>VCSOPR10</th>\n",
       "      <td>2018-05-21T00:00:00Z</td>\n",
       "      <td>2015-10-30T00:00:00Z</td>\n",
       "      <td>2017-10-29T00:00:00Z</td>\n",
       "      <td></td>\n",
       "      <td>99139</td>\n",
       "      <td>18489</td>\n",
       "      <td>0</td>\n",
       "      <td>322193</td>\n",
       "      <td>5522</td>\n",
       "      <td>0</td>\n",
       "      <td>0</td>\n",
       "      <td>NaN</td>\n",
       "      <td>NaN</td>\n",
       "      <td>-900</td>\n",
       "      <td>Roger Williams</td>\n",
       "      <td>False</td>\n",
       "      <td>Alllocation differs from issuance table; no ex...</td>\n",
       "    </tr>\n",
       "    <tr>\n",
       "      <th>ACR192</th>\n",
       "      <td>2014-11-20T00:00:00Z</td>\n",
       "      <td>2013-05-13T00:00:00Z</td>\n",
       "      <td>2013-12-06T00:00:00Z</td>\n",
       "      <td></td>\n",
       "      <td>201277</td>\n",
       "      <td>38726</td>\n",
       "      <td>0.041</td>\n",
       "      <td>492518</td>\n",
       "      <td>5956.63</td>\n",
       "      <td>0</td>\n",
       "      <td>0</td>\n",
       "      <td>NaN</td>\n",
       "      <td>NaN</td>\n",
       "      <td>-1594.77</td>\n",
       "      <td>Hunter Parks</td>\n",
       "      <td>True</td>\n",
       "      <td></td>\n",
       "    </tr>\n",
       "    <tr>\n",
       "      <th>ACR248</th>\n",
       "      <td>2016-08-31T00:00:00Z</td>\n",
       "      <td>2015-06-24T00:00:00Z</td>\n",
       "      <td>2016-03-23T00:00:00Z</td>\n",
       "      <td></td>\n",
       "      <td>2.95262e+06</td>\n",
       "      <td>568084</td>\n",
       "      <td>0</td>\n",
       "      <td>1.28497e+07</td>\n",
       "      <td>104096</td>\n",
       "      <td>3309.75</td>\n",
       "      <td>4241.17</td>\n",
       "      <td>-31140.4</td>\n",
       "      <td>NaN</td>\n",
       "      <td>-31140.4</td>\n",
       "      <td>Kaarsten Turner Dalby</td>\n",
       "      <td>True</td>\n",
       "      <td></td>\n",
       "    </tr>\n",
       "    <tr>\n",
       "      <th>ACR247</th>\n",
       "      <td>2019-08-28T00:00:00Z</td>\n",
       "      <td>2014-05-16T00:00:00Z</td>\n",
       "      <td>2016-05-15T00:00:00Z</td>\n",
       "      <td></td>\n",
       "      <td>780167</td>\n",
       "      <td>150105</td>\n",
       "      <td>0</td>\n",
       "      <td>7.01274e+06</td>\n",
       "      <td>195576</td>\n",
       "      <td>26874.1</td>\n",
       "      <td>34328.9</td>\n",
       "      <td>0</td>\n",
       "      <td>NaN</td>\n",
       "      <td>0</td>\n",
       "      <td>Kaarsten Turner</td>\n",
       "      <td>False</td>\n",
       "      <td></td>\n",
       "    </tr>\n",
       "    <tr>\n",
       "      <th>...</th>\n",
       "      <td>...</td>\n",
       "      <td>...</td>\n",
       "      <td>...</td>\n",
       "      <td>...</td>\n",
       "      <td>...</td>\n",
       "      <td>...</td>\n",
       "      <td>...</td>\n",
       "      <td>...</td>\n",
       "      <td>...</td>\n",
       "      <td>...</td>\n",
       "      <td>...</td>\n",
       "      <td>...</td>\n",
       "      <td>...</td>\n",
       "      <td>...</td>\n",
       "      <td>...</td>\n",
       "      <td>...</td>\n",
       "      <td>...</td>\n",
       "    </tr>\n",
       "    <tr>\n",
       "      <th>CAR1103</th>\n",
       "      <td>None</td>\n",
       "      <td>2014-06-21T00:00:00Z</td>\n",
       "      <td>2015-06-21T00:00:00Z</td>\n",
       "      <td></td>\n",
       "      <td>274079</td>\n",
       "      <td>52623</td>\n",
       "      <td>0.02</td>\n",
       "      <td>542167</td>\n",
       "      <td>7352</td>\n",
       "      <td>0</td>\n",
       "      <td>0</td>\n",
       "      <td>NaN</td>\n",
       "      <td>NaN</td>\n",
       "      <td>-2416</td>\n",
       "      <td>Brian Shillinglaw</td>\n",
       "      <td>False</td>\n",
       "      <td>Project note flagged a correctable error that ...</td>\n",
       "    </tr>\n",
       "    <tr>\n",
       "      <th>ACR292</th>\n",
       "      <td>2017-05-02T00:00:00Z</td>\n",
       "      <td>2015-10-21T00:00:00Z</td>\n",
       "      <td>2016-06-30T00:00:00Z</td>\n",
       "      <td></td>\n",
       "      <td>117216</td>\n",
       "      <td>22505</td>\n",
       "      <td>0</td>\n",
       "      <td>1.28744e+06</td>\n",
       "      <td>17380</td>\n",
       "      <td>0</td>\n",
       "      <td>0</td>\n",
       "      <td>-2126</td>\n",
       "      <td>NaN</td>\n",
       "      <td>-2126</td>\n",
       "      <td>James D. Clark</td>\n",
       "      <td>False</td>\n",
       "      <td></td>\n",
       "    </tr>\n",
       "    <tr>\n",
       "      <th>ACR211</th>\n",
       "      <td>None</td>\n",
       "      <td>2012-09-19T00:00:00Z</td>\n",
       "      <td>2014-07-31T00:00:00Z</td>\n",
       "      <td></td>\n",
       "      <td>4.45164e+06</td>\n",
       "      <td>626973</td>\n",
       "      <td>0</td>\n",
       "      <td>1.09752e+07</td>\n",
       "      <td>988165</td>\n",
       "      <td>0</td>\n",
       "      <td>0</td>\n",
       "      <td>0</td>\n",
       "      <td>0</td>\n",
       "      <td>-49614</td>\n",
       "      <td>Jonathan Brooks</td>\n",
       "      <td>True</td>\n",
       "      <td>rp[0] consists of two years, which are broken ...</td>\n",
       "    </tr>\n",
       "    <tr>\n",
       "      <th>CAR1032</th>\n",
       "      <td>2015-01-22T00:00:00Z</td>\n",
       "      <td>2013-04-25T00:00:00Z</td>\n",
       "      <td>2013-12-31T00:00:00Z</td>\n",
       "      <td></td>\n",
       "      <td>193277</td>\n",
       "      <td>37110</td>\n",
       "      <td>0</td>\n",
       "      <td>1.29158e+06</td>\n",
       "      <td>27504</td>\n",
       "      <td>351</td>\n",
       "      <td>621</td>\n",
       "      <td>NaN</td>\n",
       "      <td>NaN</td>\n",
       "      <td>-3381</td>\n",
       "      <td>Kaarsten Turner Dalby</td>\n",
       "      <td>True</td>\n",
       "      <td></td>\n",
       "    </tr>\n",
       "    <tr>\n",
       "      <th>ACR324</th>\n",
       "      <td>2018-03-06T00:00:00Z</td>\n",
       "      <td>2016-06-10T00:00:00Z</td>\n",
       "      <td>2016-12-09T00:00:00Z</td>\n",
       "      <td></td>\n",
       "      <td>1.10623e+07</td>\n",
       "      <td>1755591</td>\n",
       "      <td>0.0397</td>\n",
       "      <td>3.36953e+07</td>\n",
       "      <td>5.84137e+06</td>\n",
       "      <td>0</td>\n",
       "      <td>0</td>\n",
       "      <td>-43453.8</td>\n",
       "      <td>NaN</td>\n",
       "      <td>-43453.8</td>\n",
       "      <td>Brian L Kleinhenz</td>\n",
       "      <td>True</td>\n",
       "      <td></td>\n",
       "    </tr>\n",
       "  </tbody>\n",
       "</table>\n",
       "<p>72 rows × 17 columns</p>\n",
       "</div>"
      ],
      "text/plain": [
       "                date_submitted                 start                   end  \\\n",
       "                                                                             \n",
       "CAR1205   2020-04-30T00:00:00Z  2017-12-19T00:00:00Z  2018-08-18T00:00:00Z   \n",
       "VCSOPR10  2018-05-21T00:00:00Z  2015-10-30T00:00:00Z  2017-10-29T00:00:00Z   \n",
       "ACR192    2014-11-20T00:00:00Z  2013-05-13T00:00:00Z  2013-12-06T00:00:00Z   \n",
       "ACR248    2016-08-31T00:00:00Z  2015-06-24T00:00:00Z  2016-03-23T00:00:00Z   \n",
       "ACR247    2019-08-28T00:00:00Z  2014-05-16T00:00:00Z  2016-05-15T00:00:00Z   \n",
       "...                        ...                   ...                   ...   \n",
       "CAR1103                   None  2014-06-21T00:00:00Z  2015-06-21T00:00:00Z   \n",
       "ACR292    2017-05-02T00:00:00Z  2015-10-21T00:00:00Z  2016-06-30T00:00:00Z   \n",
       "ACR211                    None  2012-09-19T00:00:00Z  2014-07-31T00:00:00Z   \n",
       "CAR1032   2015-01-22T00:00:00Z  2013-04-25T00:00:00Z  2013-12-31T00:00:00Z   \n",
       "ACR324    2018-03-06T00:00:00Z  2016-06-10T00:00:00Z  2016-12-09T00:00:00Z   \n",
       "\n",
       "         reversal   allocation buffer_contribution confidence_deduction  \\\n",
       "                                                                          \n",
       "CAR1205            2.95903e+06              569318                    0   \n",
       "VCSOPR10                 99139               18489                    0   \n",
       "ACR192                  201277               38726                0.041   \n",
       "ACR248             2.95262e+06              568084                    0   \n",
       "ACR247                  780167              150105                    0   \n",
       "...           ...          ...                 ...                  ...   \n",
       "CAR1103                 274079               52623                 0.02   \n",
       "ACR292                  117216               22505                    0   \n",
       "ACR211             4.45164e+06              626973                    0   \n",
       "CAR1032                 193277               37110                    0   \n",
       "ACR324             1.10623e+07             1755591               0.0397   \n",
       "\n",
       "           components                                                 \\\n",
       "                ifm_1        ifm_3    ifm_7    ifm_8   ifm_14 ifm_17   \n",
       "CAR1205   7.81476e+06       129401        0        0   -27304      0   \n",
       "VCSOPR10       322193         5522        0        0      NaN    NaN   \n",
       "ACR192         492518      5956.63        0        0      NaN    NaN   \n",
       "ACR248    1.28497e+07       104096  3309.75  4241.17 -31140.4    NaN   \n",
       "ACR247    7.01274e+06       195576  26874.1  34328.9        0    NaN   \n",
       "...               ...          ...      ...      ...      ...    ...   \n",
       "CAR1103        542167         7352        0        0      NaN    NaN   \n",
       "ACR292    1.28744e+06        17380        0        0    -2126    NaN   \n",
       "ACR211    1.09752e+07       988165        0        0        0      0   \n",
       "CAR1032   1.29158e+06        27504      351      621      NaN    NaN   \n",
       "ACR324    3.36953e+07  5.84137e+06        0        0 -43453.8    NaN   \n",
       "\n",
       "         secondary_effects            attestation         \\\n",
       "                                             name is_opo   \n",
       "CAR1205             -27304           David Hoffer   True   \n",
       "VCSOPR10              -900         Roger Williams  False   \n",
       "ACR192            -1594.77           Hunter Parks   True   \n",
       "ACR248            -31140.4  Kaarsten Turner Dalby   True   \n",
       "ACR247                   0        Kaarsten Turner  False   \n",
       "...                    ...                    ...    ...   \n",
       "CAR1103              -2416      Brian Shillinglaw  False   \n",
       "ACR292               -2126         James D. Clark  False   \n",
       "ACR211              -49614        Jonathan Brooks   True   \n",
       "CAR1032              -3381  Kaarsten Turner Dalby   True   \n",
       "ACR324            -43453.8      Brian L Kleinhenz   True   \n",
       "\n",
       "                                                      notes  \n",
       "                                                             \n",
       "CAR1205                                                      \n",
       "VCSOPR10  Alllocation differs from issuance table; no ex...  \n",
       "ACR192                                                       \n",
       "ACR248                                                       \n",
       "ACR247                                                       \n",
       "...                                                     ...  \n",
       "CAR1103   Project note flagged a correctable error that ...  \n",
       "ACR292                                                       \n",
       "ACR211    rp[0] consists of two years, which are broken ...  \n",
       "CAR1032                                                      \n",
       "ACR324                                                       \n",
       "\n",
       "[72 rows x 17 columns]"
      ]
     },
     "execution_count": 46,
     "metadata": {},
     "output_type": "execute_result"
    },
    {
     "data": {
      "application/javascript": [
       "\n",
       "            setTimeout(function() {\n",
       "                var nbb_cell_id = 46;\n",
       "                var nbb_unformatted_code = \"project_db[\\\"rp_1\\\"] # doesnt work either...\";\n",
       "                var nbb_formatted_code = \"project_db[\\\"rp_1\\\"]  # doesnt work either...\";\n",
       "                var nbb_cells = Jupyter.notebook.get_cells();\n",
       "                for (var i = 0; i < nbb_cells.length; ++i) {\n",
       "                    if (nbb_cells[i].input_prompt_number == nbb_cell_id) {\n",
       "                        if (nbb_cells[i].get_text() == nbb_unformatted_code) {\n",
       "                             nbb_cells[i].set_text(nbb_formatted_code);\n",
       "                        }\n",
       "                        break;\n",
       "                    }\n",
       "                }\n",
       "            }, 500);\n",
       "            "
      ],
      "text/plain": [
       "<IPython.core.display.Javascript object>"
      ]
     },
     "metadata": {},
     "output_type": "display_data"
    }
   ],
   "source": [
    "project_db[\"rp_1\"]  # doesnt work either...[('allocation', 'calculated')]"
   ]
  },
  {
   "cell_type": "code",
   "execution_count": null,
   "metadata": {},
   "outputs": [],
   "source": []
  }
 ],
 "metadata": {
  "kernelspec": {
   "display_name": "Python 3",
   "language": "python",
   "name": "python3"
  },
  "language_info": {
   "codemirror_mode": {
    "name": "ipython",
    "version": 3
   },
   "file_extension": ".py",
   "mimetype": "text/x-python",
   "name": "python",
   "nbconvert_exporter": "python",
   "pygments_lexer": "ipython3",
   "version": "3.7.4"
  }
 },
 "nbformat": 4,
 "nbformat_minor": 2
}
