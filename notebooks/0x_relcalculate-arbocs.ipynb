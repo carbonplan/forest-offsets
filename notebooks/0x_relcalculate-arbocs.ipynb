{
 "cells": [
  {
   "cell_type": "code",
   "execution_count": null,
   "metadata": {},
   "outputs": [],
   "source": [
    "!pip install gspread oauth2client"
   ]
  },
  {
   "cell_type": "code",
   "execution_count": null,
   "metadata": {},
   "outputs": [],
   "source": [
    "%load_ext autoreload\n",
    "%autoreload 2\n",
    "import matplotlib.pyplot as plt\n",
    "import numpy as np\n",
    "import pandas as pd\n",
    "from sklearn.metrics import mean_squared_error\n",
    "import statsmodels.formula.api as smf\n",
    "\n",
    "from carbonplan_retro.data import cat\n",
    "from carbonplan_retro.load.project_db import load_project_db\n",
    "from carbonplan_retro.analysis.common_practice import get_arbocs_from_ifm1\n",
    "from carbonplan_retro.load.issuance import load_issuance_table"
   ]
  },
  {
   "cell_type": "code",
   "execution_count": null,
   "metadata": {},
   "outputs": [],
   "source": [
    "import seaborn as sns\n",
    "\n",
    "sns.set(font_scale=1.5)\n",
    "sns.set_style(\"white\")"
   ]
  },
  {
   "cell_type": "code",
   "execution_count": null,
   "metadata": {},
   "outputs": [],
   "source": [
    "def use_for_arbocs(new_ifm1, project_db, name=\"new_allocation\", scale_components=False):\n",
    "    \"\"\"recalcualte arbocs as a function of predicted ifm1\n",
    "    only ifm1 changes -- all other components are scaled to be proportional to observed <component>/ifm_1\n",
    "    scale_components: experimented with whether other bits of the baseline needed to move with changes in IFM-1 -- do\n",
    "    \"\"\"\n",
    "\n",
    "    alt_baseline_carbon = new_ifm1 + project_db[\"baseline\"][\"components\"][\"ifm_3\"]\n",
    "\n",
    "    onsite_carbon = (\n",
    "        project_db[\"rp_1\"][\"components\"][\"ifm_1\"] + project_db[\"rp_1\"][\"components\"][\"ifm_3\"]\n",
    "    )\n",
    "\n",
    "    adjusted_onsite = onsite_carbon * (1 - project_db[\"rp_1\"][\"confidence_deduction\"]).astype(\n",
    "        float\n",
    "    ).round(5)\n",
    "\n",
    "    delta_onsite = adjusted_onsite - alt_baseline_carbon\n",
    "\n",
    "    baseline_wood_products = (\n",
    "        project_db[\"baseline\"][\"components\"][\"ifm_7\"]\n",
    "        + project_db[\"baseline\"][\"components\"][\"ifm_8\"]\n",
    "    )\n",
    "\n",
    "    actual_wood_products = (\n",
    "        project_db[\"rp_1\"][\"components\"][\"ifm_7\"] + project_db[\"rp_1\"][\"components\"][\"ifm_8\"]\n",
    "    )\n",
    "\n",
    "    leakage_adjusted_delta_wood_products = (actual_wood_products - baseline_wood_products) * 0.8\n",
    "\n",
    "    secondary_effects = project_db[\"rp_1\"][\"secondary_effects\"]\n",
    "    secondary_effects[secondary_effects > 0] = 0  # Never allowed to have positive SE.\n",
    "\n",
    "    calculated_allocation = delta_onsite + leakage_adjusted_delta_wood_products + secondary_effects\n",
    "    return calculated_allocation.rename(name)"
   ]
  },
  {
   "cell_type": "markdown",
   "metadata": {},
   "source": [
    "# Overview\n",
    "\n",
    "The goal of this notebook is to explore how common practice (CP) relates to ARBOCs. One of the main\n",
    "goals of this _Retrospective_ is to understand how changes in CP translate into changes in ARBOCs.\n",
    "Therefore, we need to work through the math that links CP to Baseline Components (specifically,\n",
    "IFM-1) and, ultimately, ARBOCs.\n",
    "\n",
    "We should start with the actual equation for calculating ARBOCs. If I'd started here myself, I'd\n",
    "have saved myself a fair amount of grief...but hey, that's why we keep notes and do research!\n",
    "\n",
    "ARBOCs are calculated via the following equation: \\begin{align} ARBOC*{RP} & = (\\Delta\n",
    "Project*{onsite} - \\Delta Baseline*{onsite}) + 0.8(Project*{woodProducts, RP} -\n",
    "Baseline*{woodProducts, RP}) + SE*{RP}, \\end{align} where SE stands for secondary effects due to\n",
    "harvesting in the project scenario and RP denotes the reporting period. Furthermore, the onsite\n",
    "carbon pool comprises IFM-1 (standing live) and IFM-3 (standing dead), while the wood products pools\n",
    "are represented by in-use (IFM-7) and landfillled (IFM-8) woodproducts. The calculations for SE are\n",
    "little more complicated and we just end up using the value directly reported in each annual OPDR.\n",
    "\n",
    "Our analysis only concerns the first reporting period, which simplifies things a little bit. Because\n",
    "we're in the first reporting period, there is no \"change\" from previous reporting periods, so both\n",
    "$\\Delta$ terms for onsite carbon pools (IFM-1 \\& IFM-3) simplify to thier initial values:\n",
    "\\begin{align} ARBOC*{RP1} & = (Project*{onsite, RP1} - Baseline*{onsite, RP1}) +\n",
    "0.8(Project*{woodProducts, RP1} - Baseline*{woodProducts, 1}) + SE*{RP1} \\end{align}\n",
    "\n",
    "We can take this equation one step further by splitting out `initial` carbon from `project` or\n",
    "`growth` carbon. \\begin{align} ARBOC*{RP1} & = ARBOC*{initial} + ARBOC*{growth} \\\\ ARBOC*{growth} &\n",
    "= (Project*{onsite, End} - Project*{onsite, Start}) + 0.8(Project*{woodProducts, RP1} -\n",
    "Baseline*{woodProducts, 1}) + SE*{RP1}\\\\ ARBOC*{initial} & = Project*{onsite, Start} -\n",
    "Baseline*{onsite} \\end{align}\n",
    "\n",
    "Eq. 3 introduces a few new bits of terminology.\n",
    "\n",
    "From the issuance table we get ARBOCs, which we'll denote as $Issuance_{RP1}$ to emphasisze its\n",
    "provenance from official ARB source, so: [not clear if this helps or confuses] \\begin{align}\n",
    "ARBOC*{RP1} & = Issuance*{RP1} \\\\ ARBOC*{initial} & = Issuance*{RP1} - ARBOC\\_{growth} \\end{align}\n",
    "\n",
    "Meaning if we $Project_{onsite, End}$, $Project_{onsite, Start}$, $Project_{woodProducts, RP1}$,\n",
    "$Baseline_{woodProducts, RP1}$, and $SE_{RP1}$ (Eq. 2b). Thankfully, we get all the terms but\n",
    "$Project_{onsite, Start}$ from annual OPDR. Some projects' OPDRs actually report\n",
    "$Project_{onsite, Start}$ separately, but reporting is mostly inconsistent and we did not end up\n",
    "recording. Looking forward, it should also be possible to figure out the \"growth\" component of IFM-1\n",
    "and IFM-3 by looking across multiple reporting periods. If you just take the average increment in\n",
    "IFM-1 and IFM-3 over a few reporting periods and subtract it from IFM-1 and IFM-3 for RP_1 -- that\n",
    "would be a fairly good estimate of the onsite carbon at the project outset. Unfortuantely, this\n",
    "approach doesn't work either -- because we only entered values for RP_1! If we did have that data\n",
    "(and we might be able to get it from Barbara!), we could simply do:\n",
    "\n",
    "\\begin{align} \\Delta Project*{onsite} = Project*{onsite, End} - Project\\_{onsite, Start}, E some\n",
    "notation average delta \\end{align}\n",
    "\n",
    "Recall, we're just interested in how changes in common practice affect calculations of \"upfront\"\n",
    "carbon. In theory, this should just be the difference between project onsite carbon and baseline\n",
    "onsite carbon, **at the start of the first reporting period**. However, the project values for IFM-1\n",
    "and IFM-3 are reported at the _end of the reporting period_, meaning the reported values represent\n",
    "both the initial standing carbon and the \"growth\" carbon through the end of the first reporting\n",
    "period. Now, there are several ways to get around this problem.\n",
    "\n",
    "where $\\overline{\\Delta Project_{Onsite}}$ is the mean increment in IFM-1 and IFM-3. (N.B., such an\n",
    "approach would need to make sure to account for varying lengths in reporting periods.) [This math is\n",
    "a little clunky right now but still helpful in thinking things through. It's likely most helpful to\n",
    "rewrite in terms of RP0]\n",
    "\n",
    "For the current iteration, however, we're going to have to estimate $ARBOC_{Upfront}$ from the\n",
    "issuance table. This estimate requires a semi-strong assumption that the growth in IFM-1 and IFM-3,\n",
    "the leakage term (based on woodproducts), and secondary effects (SE) do not change across reporting\n",
    "periods. If we make that assumption, it should be the case that: \\begin{align} ARBOC*{Upfront} & =\n",
    "Issuance*{RP1} - Issuance\\_{RP2} \\end{align}\n",
    "\n",
    "Finally, since we're assuming that $Project_{Onsite, RP1}$ is constant (e.g., it doesn't change in\n",
    "response to changes in the baseline), any change in onsite baseline carbon caused by a change in CP\n",
    "leads directly to a change in $ARBOC_{Upfront}$. The remainder of this notebook explores the logic\n",
    "laid out above and concludes with a general approach for translating from CP to ARBOCs.\n"
   ]
  },
  {
   "cell_type": "markdown",
   "metadata": {},
   "source": [
    "## Exploring the logic from the overview\n",
    "\n",
    "### Load a bunch of data\n"
   ]
  },
  {
   "cell_type": "code",
   "execution_count": null,
   "metadata": {},
   "outputs": [],
   "source": [
    "retro_db = cat.retro_db_light.read()\n",
    "\n",
    "project_db = load_project_db(\"/home/jovyan/lost+found/Forest-Offset-Projects-v0.3.json\")\n",
    "project_db = project_db[~project_db[\"project\"][\"early_action\"].str.startswith(\"CAR\")]\n",
    "project_db = project_db[\n",
    "    project_db[\"baseline\"][\"initial_carbon_stock\"] > project_db[\"baseline\"][\"common_practice\"]\n",
    "]  # our analysis only pertains to upfront carbon\n",
    "\n",
    "issuance_table = load_issuance_table()"
   ]
  },
  {
   "cell_type": "code",
   "execution_count": null,
   "metadata": {},
   "outputs": [],
   "source": [
    "exclude_imputed = False\n",
    "if exclude_imputed:\n",
    "    project_db = project_db[\n",
    "        ~project_db[\"baseline\"][\"average_slag_comment\"].str.startswith(\"visual\")\n",
    "    ]\n",
    "    project_db = project_db[~project_db[\"baseline\"][\"average_slag_comment\"].str.startswith(\"digit\")]"
   ]
  },
  {
   "cell_type": "code",
   "execution_count": null,
   "metadata": {},
   "outputs": [],
   "source": [
    "data = pd.concat(\n",
    "    [\n",
    "        project_db[\"rp_1\"][\"allocation\"],\n",
    "        project_db[\"baseline\"][\"components\"][\"ifm_1\"],\n",
    "        project_db[\"baseline\"][\"components\"][\"ifm_3\"],\n",
    "        project_db[\"baseline\"][\"average_slag_baseline\"],\n",
    "        project_db[\"baseline\"][\"common_practice\"],\n",
    "        retro_db.set_index(\"opr_id\")[\"arbocs_calculated\"],\n",
    "        project_db[\"baseline\"][\"initial_carbon_stock\"],\n",
    "        project_db[\"project\"][\"acreage\"],\n",
    "    ],\n",
    "    axis=1,\n",
    ")\n",
    "\n",
    "data[\"baseline_onsite\"] = data[\"ifm_1\"] + data[\"ifm_3\"]\n",
    "data[\"project_onsite\"] = (\n",
    "    project_db[\"rp_1\"][\"components\"][\"ifm_1\"] + project_db[\"rp_1\"][\"components\"][\"ifm_3\"]\n",
    ") * (1 - project_db[\"rp_1\"][\"confidence_deduction\"])\n",
    "data[\"delta_onsite\"] = data[\"project_onsite\"] - data[\"baseline_onsite\"]\n",
    "\n",
    "\"\"\" MANUALLY ADJUST VALUES \n",
    "It's worth noting that the current notebook has a few manually adjusted values. \n",
    "These represent changes I've made to the underlying project database (due to inaccurate data entry on my part).\n",
    "However, because jupyter notebooks cannot read from the project database, I just manually adjust those values here, for now. \n",
    "A future iteration of this notebook will remove those lines (and this comment!).\n",
    "\"\"\"\n",
    "# data.loc[data.index == 'ACR279', 'average_slag_baseline'] = 87.1\n",
    "\n",
    "\n",
    "# special casing this bad-boy\n",
    "# CAR973 has lots of different reported acreages.\n",
    "exclude_problematic_cases = True\n",
    "if exclude_problematic_cases:\n",
    "    # CAR973 has a plethora of reported acreages.\n",
    "    # it seems that the acreage reported in the listing supplement, less non-forested acres\n",
    "    # would most closely conform with the approach outlined here.\n",
    "    data.loc[data.index == \"CAR973\", \"acreage\"] = np.nan  # 223431-10397\n",
    "    # harvest problem, IDed to CARB\n",
    "    data.loc[data.index == \"ACR247\", \"acreage\"] = np.nan  # 223431-10397"
   ]
  },
  {
   "cell_type": "markdown",
   "metadata": {},
   "source": [
    "## Estimate ARBOC_initial\n",
    "\n",
    "Spilled a fair amount of ink in the Overview, but the upshot is that if we rearrange Eq. 3a, we can\n",
    "estimate ARBOC*{initial} as: \\begin{align} ARBOC*{RP1} & = ARBOC*{initial} & = ARBOC*{RP1} -\n",
    "ARBOC*{growth} \\\\ ARBOC*{growth} & = (Project*{onsite, End} - Project*{onsite, Start}) +\n",
    "0.8(Project*{woodProducts, RP1} - Baseline*{woodProducts, 1}) + SE*{RP1}\\\\ ARBOC*{initial} & =\n",
    "Project*{onsite, Start} - Baseline*{onsite} \\end{align} Allocation, but remove leakage/woodproducts\n",
    "and project secondary, the remainder is initial carbon. Somewhat counter-intuitively this is because\n",
    "leakage and secondary effects negative.\n"
   ]
  },
  {
   "cell_type": "code",
   "execution_count": null,
   "metadata": {},
   "outputs": [],
   "source": [
    "baseline_wp = (\n",
    "    project_db[\"baseline\"][\"components\"][\"ifm_7\"] + project_db[\"baseline\"][\"components\"][\"ifm_8\"]\n",
    ")\n",
    "\n",
    "actual_wood_products = (\n",
    "    project_db[\"rp_1\"][\"components\"][\"ifm_7\"] + project_db[\"rp_1\"][\"components\"][\"ifm_8\"]\n",
    ")\n",
    "\n",
    "leakage_adjusted_delta_wood_products = (actual_wood_products - baseline_wp) * 0.8\n",
    "\n",
    "data[\"upfront\"] = (\n",
    "    data[\"allocation\"]\n",
    "    - project_db[\"rp_1\"][\"secondary_effects\"]\n",
    "    - leakage_adjusted_delta_wood_products\n",
    ")"
   ]
  },
  {
   "cell_type": "code",
   "execution_count": null,
   "metadata": {},
   "outputs": [],
   "source": [
    "data = data.dropna(subset=[\"delta_onsite\", \"upfront\"])"
   ]
  },
  {
   "cell_type": "code",
   "execution_count": null,
   "metadata": {},
   "outputs": [],
   "source": [
    "mean_squared_error(data[\"delta_onsite\"], data[\"upfront\"]) ** 0.5"
   ]
  },
  {
   "cell_type": "code",
   "execution_count": null,
   "metadata": {},
   "outputs": [],
   "source": [
    "g = sns.FacetGrid(data=data / 1_000_000, height=3.5)\n",
    "g.map(plt.scatter, \"delta_onsite\", \"upfront\", s=125, color=\".3\", alpha=0.55)\n",
    "g.axes[0][0].plot((0, 15), (0, 15), ls=\"--\", lw=3, c=\"r\")"
   ]
  },
  {
   "cell_type": "markdown",
   "metadata": {},
   "source": [
    "## Modeling IFM-1 from common practice\n",
    "\n",
    "So now we need a way to calculate alternate `delta_onsite` After a little bit of sleuthing,\n",
    "`average_slag_baseline` from data entry stage of the retrospective and represents the actual\n",
    "constraint on baseline modeling. In many cases, `average_slag_baseline` equals `common_practice` but\n",
    "not always! Slag \\* Acreage. But IFM-1 is both above and belowground, which isn't constant across\n",
    "species -- so run through linear model\n",
    "\n",
    "- Classic OLS:\n",
    "- Log-transform regression: ,\n",
    "- Forced through Origin:\n",
    "\n",
    "Ultimately, I settled on a simple linear regression, with an intercept term. Intercept represents\n",
    "fact that ratio Also accounts for uncertainties in both data entry into project db and potential\n",
    "errors in reporting of acreage and/or average baseline SLAG in the project documents (e.g., CAR1180\n",
    "doesn't have an Initial OPDR).\n",
    "\n",
    "For model development purposes, it makes total sense to calculate things in terms of ARBOCs -- this\n",
    "lets us skip some of the assumptions...overview. But for purposes of\n"
   ]
  },
  {
   "cell_type": "code",
   "execution_count": null,
   "metadata": {},
   "outputs": [],
   "source": [
    "data[\"X\"] = data[\"average_slag_baseline\"] * data[\"acreage\"]"
   ]
  },
  {
   "cell_type": "code",
   "execution_count": null,
   "metadata": {},
   "outputs": [],
   "source": [
    "log_model = False\n",
    "if log_model:\n",
    "    mod = smf.ols(\"np.log(ifm_1)~-1+np.log(X)\", data=data).fit()\n",
    "    data[\"pred_ifm_1\"] = np.exp(mod.predict(data[\"X\"]))  # transform back out of log space\n",
    "else:\n",
    "    mod = smf.ols(\"ifm_1~-1+X\", data=data).fit()\n",
    "    data[\"pred_ifm_1\"] = mod.predict(data[\"X\"])\n",
    "\n",
    "data[\"predicted_arbocs\"] = use_for_arbocs(data[\"pred_ifm_1\"], project_db)\n",
    "\n",
    "# helps motivate modeling approach"
   ]
  },
  {
   "cell_type": "code",
   "execution_count": null,
   "metadata": {},
   "outputs": [],
   "source": [
    "g = sns.FacetGrid(data=data / 1_000_000, height=4.5)\n",
    "g.map(plt.scatter, \"pred_ifm_1\", \"ifm_1\", color=\".3\", alpha=0.55, s=125)\n",
    "g.axes[0][0].plot((0, 35), (0, 35), lw=3, ls=\"--\", c=\"r\")\n",
    "plt.ylabel(\"Reported Baseline IFM-1\\n(MtCo2e)\")\n",
    "plt.xlabel(\"Predicted Baseline IFM-1\\n(MtCo2e)\")"
   ]
  },
  {
   "cell_type": "markdown",
   "metadata": {},
   "source": [
    "## Some more stuff\n"
   ]
  },
  {
   "cell_type": "code",
   "execution_count": null,
   "metadata": {},
   "outputs": [],
   "source": [
    "sub = data.dropna(subset=[\"ifm_1\", \"pred_ifm_1\"])  # some sites dont have avg slag\n",
    "rmse = mean_squared_error(sub[\"ifm_1\"], sub[\"pred_ifm_1\"]) ** 0.5"
   ]
  },
  {
   "cell_type": "code",
   "execution_count": null,
   "metadata": {},
   "outputs": [],
   "source": [
    "# never been quite sure how much i like this metric -- but rRMSE is low\n",
    "display(f\"RMSE: {rmse:.2f} MtCO2e\")\n",
    "display(f\"relative RMSE: {rmse/data['ifm_1'].mean() * 100:.2f}%\")"
   ]
  },
  {
   "cell_type": "markdown",
   "metadata": {},
   "source": [
    "ANd this next cell is just for model development -- if run the arboc calculation in the forward mode\n",
    "(knowing everything!) and just changing IFM-1 to be based on our linear model, how much error do we\n",
    "introduce?\n",
    "\n",
    "Not a ton!\n"
   ]
  },
  {
   "cell_type": "code",
   "execution_count": null,
   "metadata": {},
   "outputs": [],
   "source": [
    "arboc_rmse = mean_squared_error(sub[\"predicted_arbocs\"], sub[\"allocation\"]) ** 0.5\n",
    "display(f\"RMSE: {arboc_rmse:.2f}\")\n",
    "display(f\"percent RMSE: {arboc_rmse/sub['allocation'].mean()*100:.2f}%\")"
   ]
  },
  {
   "cell_type": "code",
   "execution_count": null,
   "metadata": {},
   "outputs": [],
   "source": [
    "arboc_rmse = (\n",
    "    mean_squared_error(sub[\"project_onsite\"] - (sub[\"pred_ifm_1\"] + sub[\"ifm_3\"]), sub[\"upfront\"])\n",
    "    ** 0.5\n",
    ")\n",
    "display(f\"RMSE: {arboc_rmse:.2f}\")\n",
    "display(f\"percent RMSE: {arboc_rmse/sub['upfront'].mean()*100:.2f}%\")"
   ]
  },
  {
   "cell_type": "markdown",
   "metadata": {},
   "source": [
    "So based on this analysis we're going to scale slag\\*acreage by the following factor!\n"
   ]
  },
  {
   "cell_type": "code",
   "execution_count": null,
   "metadata": {},
   "outputs": [],
   "source": [
    "mod.params"
   ]
  },
  {
   "cell_type": "markdown",
   "metadata": {},
   "source": [
    "## Debugging\n",
    "\n",
    "This section contains some useful debugging diagnostics.\n",
    "\n",
    "For example, we know that IFM-1 against X (average_slag_baseline \\* acreage) should be fairly linear\n",
    "across projects. The below graph shows this relationship explicitly. When I first plotted it,\n",
    "however, there were a handful of really big outliers. Upon further inspection, it turned out that\n",
    "some of those outliers were actually data entry errors! So if more projects get added in the future,\n",
    "it would be good to look at this graph. While it's totally possible a project could diverge from\n",
    "this line (though unlikely) -- it's helpful to double check that this intution holds.\n"
   ]
  },
  {
   "cell_type": "code",
   "execution_count": null,
   "metadata": {},
   "outputs": [],
   "source": [
    "g = sns.FacetGrid(data=data.round() / 1_000_000, height=4.5)\n",
    "g.map(sns.regplot, \"ifm_1\", \"X\")  # , s=125, alpha=0.55, color='.3')\n",
    "plt.plot((0, 15), (0, 15), ls=\"--\", c=\"r\", lw=3)\n",
    "# plt.xlabel('Predicted ARBOCs (millions)')\n",
    "# plt.ylabel('Observed ARBOCs (millions)')\n",
    "plt.xlim(0, 10)\n",
    "plt.ylim(0, 10)"
   ]
  },
  {
   "cell_type": "markdown",
   "metadata": {},
   "source": [
    "It's also helpful to look at projects where the prediction is off. AT this point I've checked all of\n",
    "these and I'm fairly certain that the errors fall into two categories:\n",
    "\n",
    "- big acerage, meaning small errors at the project level but large \"total\" ARBOC errors.\n",
    "- $\\Delta Project_{onsite}$ for some projects is just high -- so maybe a rapidly growing forest (or\n",
    "  I guess slow growing) relative to the average growth across all projects\n"
   ]
  },
  {
   "cell_type": "code",
   "execution_count": null,
   "metadata": {},
   "outputs": [],
   "source": [
    "delta_arbocs = (sub[\"predicted_arbocs\"] - sub[\"allocation\"]) / sub[\"allocation\"]"
   ]
  },
  {
   "cell_type": "code",
   "execution_count": null,
   "metadata": {},
   "outputs": [],
   "source": [
    "delta_arbocs.sort_values().describe()"
   ]
  },
  {
   "cell_type": "code",
   "execution_count": null,
   "metadata": {},
   "outputs": [],
   "source": [
    "delta_arbocs.sort_values().head(10)"
   ]
  },
  {
   "cell_type": "code",
   "execution_count": null,
   "metadata": {},
   "outputs": [],
   "source": [
    "g = sns.FacetGrid(data=data.round() / 1_000_000, height=4.5)\n",
    "g.map(plt.scatter, \"predicted_arbocs\", \"allocation\", s=125, alpha=0.55, color=\".3\")\n",
    "plt.plot((0, 15), (0, 15), ls=\"--\", c=\"r\", lw=3)\n",
    "plt.xlabel(\"Predicted ARBOCs (millions)\")\n",
    "plt.ylabel(\"Observed ARBOCs (millions)\")"
   ]
  },
  {
   "cell_type": "markdown",
   "metadata": {},
   "source": [
    "## What about IFM-3?\n",
    "\n",
    "Originally I had considered also modeling IFM-3 in there -- but it dawned on me that assuming IFM-3\n",
    "remains constant is actually a fairly decent assumption.\n",
    "\n",
    "First, in cases where $CP_{Alt}$ > $CP_0$, holding IFM-3 is inherently conservative -- esentially we\n",
    "assume that IFM doesnt scale upwards with IFM-1, this will lower our estimate of over-credited\n",
    "ARBOCs.\n",
    "\n",
    "Second, it's actually the case that lots of projects don't harvest their IFM-3. To be precise, 75\n",
    "percent of projects have IFM-3 in the baseline scenario that is within 5 percent of the project\n",
    "scenario. I'm not really sure how this emerged (e.g., is it a requirement of the protocol...?) --\n",
    "BUT the pattern is there, so I think we should adhere to the dominant pattern of folks not messing\n",
    "with IFM-3 over the long run.\n"
   ]
  },
  {
   "cell_type": "code",
   "execution_count": null,
   "metadata": {},
   "outputs": [],
   "source": [
    "baseline_sd = project_db[\"baseline\"][\"components\"][\"ifm_3\"]\n",
    "project_sd = project_db[\"rp_1\"][\"components\"][\"ifm_3\"]\n",
    "\n",
    "sd_close = sum(((baseline_sd - project_sd) / np.mean([baseline_sd, project_sd])).abs() <= 0.05)\n",
    "\n",
    "sd_close / len(project_db)"
   ]
  },
  {
   "cell_type": "markdown",
   "metadata": {},
   "source": [
    "And we get to skip all of this now...\n",
    "\n",
    "### get issuance by reporting period -- ARB doesn't always issue all the credits at once, so aggregate by project and rp_id\n",
    "\n",
    "rp_sum = issuance_table.groupby(['opr_id', 'arb_rp_id']).allocation.sum().reset_index()\n",
    "mean_subsequent_rp = rp_sum[rp_sum['arb_rp_id'] != 'A'].groupby('opr_id')['allocation'].mean()\n",
    "rp_data = rp_sum[rp_sum['arb_rp_id'] ==\n",
    "'A'].join(mean_subsequent_rp.rename('mean_subsequent_allocation'), on=['opr_id']) rp_data =\n",
    "rp_data.set_index('opr_id')\n",
    "\n",
    "#### subset to just the 72 projects where ICS > CP\n",
    "\n",
    "rp_data = rp_data[rp_data.index.isin(project_db.index.values.tolist())]\n",
    "\n",
    "#### some projects don't have a second reporting period -- we'll assume that their subsequent RP is the median ratio between i) mean subsequent and ii) allocation\n",
    "\n",
    "rp_data.loc[np.isnan(rp_data['mean_subsequent_allocation']), 'mean_subsequent_allocation'] =\n",
    "rp_data['allocation'] \\* (rp_data['mean_subsequent_allocation']/rp_data['allocation']).median()\n",
    "\n",
    "The algebra in the `Overview` says that $Project_{Onsite, Start} - Baseline_{Onsite}$, referred to\n",
    "as `delta_onsite` in the code, should be fairly close to\n",
    "$Issuance_{RP1} - \\overline{Issuance_{Subsequent}}$. Keeping in mind that we only have\n",
    "$Project_{Onsite, End}$, it should still be the case that `est_upfront` (calculated in the next\n",
    "cell) and should be pretty correlated with `delta_onsite`. Actually, we can be even more specific --\n",
    "`delta_onsite` should be slightly higher than `est_upfront` because it has some \"growth\" carbon\n",
    "baked into it as well. And that's exactly what we see below - `delta_onsite` is a little higher than\n",
    "upfront, but the two are super-duper linear with eachother.\n",
    "\n",
    "est_upfront = rp_data['allocation'] - rp_data['mean_subsequent_allocation']\n",
    "\n",
    "tp = pd.concat([est_upfront.rename('upfront'), data['delta_onsite']], axis=1) tp = tp.dropna() rmse\n",
    "= mean_squared_error(tp['upfront'], tp['delta_onsite']) \\*\\* 0.5 display(f'fairly low RMSE:\n",
    "{rmse/1_000_000:.2f} million ARBOCs')\n",
    "\n",
    "And if we look at the distribution of \"percent differences\" between our estimated upfront carbon and\n",
    "delta onsite, we see fairly good agreement. The median 'percent difference' is about 7 percent --\n",
    "which at least part (if not most) can be explained as the difference $Project_{Onsite, Start}$\n",
    "differing from $Project_{Onsite, End}$. But we're also assuming that SE, woodproducts, AND the\n",
    "increment of IFM-1 \\& IFM-3 don't change when we estimate 'upfront'. The big differences (20-30\n",
    "percent) all deserve a closer look and might be explained by data entry errors (either ours or in\n",
    "the project documents).\n"
   ]
  }
 ],
 "metadata": {
  "kernelspec": {
   "display_name": "Python 3",
   "language": "python",
   "name": "python3"
  },
  "language_info": {
   "codemirror_mode": {
    "name": "ipython",
    "version": 3
   },
   "file_extension": ".py",
   "mimetype": "text/x-python",
   "name": "python",
   "nbconvert_exporter": "python",
   "pygments_lexer": "ipython3",
   "version": "3.7.9"
  }
 },
 "nbformat": 4,
 "nbformat_minor": 4
}
