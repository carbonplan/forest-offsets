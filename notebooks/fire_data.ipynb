{
 "cells": [
  {
   "cell_type": "markdown",
   "metadata": {},
   "source": [
    "<img width=\"50\" src=\"https://carbonplan-assets.s3.amazonaws.com/monogram/dark-small.png\" style=\"margin-left:0px;margin-top:20px\"/>\n",
    "\n",
    "# MTBS Fire Data\n",
    "\n",
    "_by Jeremy Freeman (CarbonPlan), November 28, 2020_\n",
    "\n",
    "We have produced a 4km monthly fire data product from the MTBS database.\n",
    "\n",
    "As background, MTBS itself provides two products: raw fire perimeter shapefiles with individual fire\n",
    "dates, and an annual-only \"burn severity\" mosaic that uses LANDAST data to ascribe pixel-level\n",
    "severity. We combined these to obtain a monthly raster product thresholded by burn severity.\n",
    "\n",
    "The steps to create this data product were as follows:\n",
    "\n",
    "- Extract fire perimeters directly from MTBS shape files for all fire categories except for\n",
    "  prescribed burns\n",
    "- Create a binary raster for each month by \"burning in\" shapes for all fires with dates in that\n",
    "  month\n",
    "- Mask each raster with the MTBS burn severity mosaic from the corresponding year to include only\n",
    "  moderate or high severity fires\n",
    "- Aggregate from 30m to 4km with averaging, treating masked regions in the original data as missing\n",
    "  values\n",
    "\n",
    "We independently validated that, in any given year, the sum of this monthly dataset across months\n",
    "was essentially identical to the annual burn severity mosoaic product restricted to the same\n",
    "severity thresholds. Any differences could be explained by the fact that the existing annual product\n",
    "appears to include prescribed burns, whereas we have excluded them.\n",
    "\n",
    "This notebook loads and inspects the data and demonstrates a few different kinds of queries against\n",
    "it.\n"
   ]
  },
  {
   "cell_type": "code",
   "execution_count": null,
   "metadata": {},
   "outputs": [],
   "source": [
    "import fsspec\n",
    "import geopandas as gp\n",
    "import matplotlib.pyplot as plt\n",
    "import numpy as np\n",
    "from palettable.colorbrewer.sequential import YlOrRd_9\n",
    "import pandas as pd\n",
    "import regionmask as rm\n",
    "import xarray as xr\n",
    "\n",
    "from carbonplan_retro.data import cat\n",
    "from carbonplan_styles.mpl import set_theme\n",
    "\n",
    "cmap = YlOrRd_9.mpl_colormap\n",
    "set_theme(style=\"carbonplan_light\")"
   ]
  },
  {
   "cell_type": "markdown",
   "metadata": {},
   "source": [
    "First we load the monthly MTBS data\n"
   ]
  },
  {
   "cell_type": "code",
   "execution_count": null,
   "metadata": {},
   "outputs": [],
   "source": [
    "da = cat.mtbs.to_dask()[\"monthly\"]\n",
    "da"
   ]
  },
  {
   "cell_type": "markdown",
   "metadata": {},
   "source": [
    "We'll also load \"supersections\" which we'll use for computing regional statistics\n"
   ]
  },
  {
   "cell_type": "code",
   "execution_count": null,
   "metadata": {},
   "outputs": [],
   "source": [
    "regions = cat.supersections.read()"
   ]
  },
  {
   "cell_type": "markdown",
   "metadata": {},
   "source": [
    "And we'll compute masks from these regions\n"
   ]
  },
  {
   "cell_type": "code",
   "execution_count": null,
   "metadata": {},
   "outputs": [],
   "source": [
    "masks = rm.mask_3D_geopandas(regions, da)"
   ]
  },
  {
   "cell_type": "markdown",
   "metadata": {},
   "source": [
    "Now we'll demo two examples of aggregating within regions to extract historical fire statistics.\n"
   ]
  },
  {
   "cell_type": "markdown",
   "metadata": {},
   "source": [
    "## Querying individual regions\n"
   ]
  },
  {
   "cell_type": "markdown",
   "metadata": {},
   "source": [
    "We can use our masks to query individual regions\n"
   ]
  },
  {
   "cell_type": "code",
   "execution_count": null,
   "metadata": {},
   "outputs": [],
   "source": [
    "da.where(masks[0]).mean([\"x\", \"y\"]).plot(figsize=[15, 5])\n",
    "plt.title(regions.iloc[0].SSection)"
   ]
  },
  {
   "cell_type": "code",
   "execution_count": null,
   "metadata": {},
   "outputs": [],
   "source": [
    "da.where(masks[1]).mean([\"x\", \"y\"]).plot(figsize=[15, 5])\n",
    "plt.title(regions.iloc[1].SSection)"
   ]
  },
  {
   "cell_type": "markdown",
   "metadata": {},
   "source": [
    "We can also use the same dataset to compute annual trends. Technically, there may be differences\n",
    "between the following two operations:\n",
    "\n",
    "- taking the sum over all months in a given year at 4km\n",
    "- taking the sum over all months in a given year at 30m, thresholding values greater than 1, and\n",
    "  downsampling to 4km\n",
    "\n",
    "Specifically, if there are repeat fires within the same 30m grid cell across months, the first\n",
    "method will slightly overestimate the annual burn area computed using the second method.\n",
    "Empirically, we compared the results of these two computations, and found effectively identical\n",
    "outputs, with the exception of one location in one year (1996) (not shown).\n",
    "\n",
    "This result implies that essentially no grid cells at 30m have repeat fires across months within a\n",
    "given year. It also implies that we can simply sum across months in the 4km product to get annual\n",
    "burn rates.\n"
   ]
  },
  {
   "cell_type": "markdown",
   "metadata": {},
   "source": [
    "Here we show annual trends for the same regions\n"
   ]
  },
  {
   "cell_type": "code",
   "execution_count": null,
   "metadata": {},
   "outputs": [],
   "source": [
    "da.where(masks[0]).mean([\"x\", \"y\"]).groupby(\"time.year\").sum().plot(figsize=[15, 5])\n",
    "plt.title(regions.iloc[0].SSection)"
   ]
  },
  {
   "cell_type": "code",
   "execution_count": null,
   "metadata": {},
   "outputs": [],
   "source": [
    "da.where(masks[1]).mean([\"x\", \"y\"]).groupby(\"time.year\").sum().plot(figsize=[15, 5])\n",
    "plt.title(regions.iloc[0].SSection)"
   ]
  },
  {
   "cell_type": "markdown",
   "metadata": {},
   "source": [
    "## Fire statistics: reproducing Anderegg et al. (2020)\n"
   ]
  },
  {
   "cell_type": "markdown",
   "metadata": {},
   "source": [
    "Here we show we can reproduce the analysis from Figure 5 of Anderegg et al. (2020) with this new\n",
    "data product. That analysis used MTBS's annual rasters, but here we find the results are essentially\n",
    "identical (and now that we're using `xarray`, the code got a lot simpler!)\n"
   ]
  },
  {
   "cell_type": "markdown",
   "metadata": {},
   "source": [
    "First define a function for converting annual risk to an \"100-year risk\", which estimates the\n",
    "probability of at least 1 fire in 100 years if all fires have a risk equal to the historical burn\n",
    "rate for that region.\n"
   ]
  },
  {
   "cell_type": "code",
   "execution_count": null,
   "metadata": {},
   "outputs": [],
   "source": [
    "from scipy.stats import binom\n",
    "\n",
    "\n",
    "def integrated_risk(p):\n",
    "    return (1 - binom.cdf(0, 100, p)) * 100"
   ]
  },
  {
   "cell_type": "markdown",
   "metadata": {},
   "source": [
    "To look at the period from 1984 to 2000, first we sum within each year, and then average across\n",
    "years.\n"
   ]
  },
  {
   "cell_type": "code",
   "execution_count": null,
   "metadata": {},
   "outputs": [],
   "source": [
    "before_2000 = da.sel(time=slice(\"1984\", \"2000\")).groupby(\"time.year\").sum().mean(\"year\")"
   ]
  },
  {
   "cell_type": "markdown",
   "metadata": {},
   "source": [
    "Use our masks to compute the mean within each region\n"
   ]
  },
  {
   "cell_type": "code",
   "execution_count": null,
   "metadata": {},
   "outputs": [],
   "source": [
    "risks_before_2000 = np.asarray(\n",
    "    [before_2000.where(masks.sel(region=i)).mean([\"x\", \"y\"]).values.item() for i in masks[\"region\"]]\n",
    ")"
   ]
  },
  {
   "cell_type": "markdown",
   "metadata": {},
   "source": [
    "And then plot\n"
   ]
  },
  {
   "cell_type": "code",
   "execution_count": null,
   "metadata": {},
   "outputs": [],
   "source": [
    "regions.to_crs(\"EPSG:5070\").plot(\n",
    "    integrated_risk(risks_before_2000),\n",
    "    figsize=[15, 8],\n",
    "    cmap=cmap,\n",
    "    edgecolor=[0, 0, 0],\n",
    "    linewidth=0.3,\n",
    "    vmin=0,\n",
    "    vmax=50,\n",
    "    legend=True,\n",
    ")\n",
    "plt.axis(\"off\")"
   ]
  },
  {
   "cell_type": "markdown",
   "metadata": {},
   "source": [
    "Now do the same thing for the period from 2001 to 2018\n"
   ]
  },
  {
   "cell_type": "code",
   "execution_count": null,
   "metadata": {},
   "outputs": [],
   "source": [
    "after_2000 = da.sel(time=slice(\"2001\", \"2017\")).groupby(\"time.year\").sum().mean(\"year\")\n",
    "risks_after_2000 = np.asarray(\n",
    "    [after_2000.where(masks.sel(region=i)).mean([\"x\", \"y\"]).values.item() for i in masks[\"region\"]]\n",
    ")\n",
    "regions.to_crs(\"EPSG:5070\").plot(\n",
    "    integrated_risk(risks_after_2000),\n",
    "    figsize=[15, 8],\n",
    "    cmap=cmap,\n",
    "    edgecolor=[0, 0, 0],\n",
    "    linewidth=0.3,\n",
    "    vmin=0,\n",
    "    vmax=50,\n",
    "    legend=True,\n",
    ")\n",
    "plt.axis(\"off\")"
   ]
  },
  {
   "cell_type": "markdown",
   "metadata": {},
   "source": [
    "You can confirm these look essentially identical to the published Figure 5.\n"
   ]
  }
 ],
 "metadata": {
  "kernelspec": {
   "display_name": "Python 3",
   "language": "python",
   "name": "python3"
  },
  "language_info": {
   "codemirror_mode": {
    "name": "ipython",
    "version": 3
   },
   "file_extension": ".py",
   "mimetype": "text/x-python",
   "name": "python",
   "nbconvert_exporter": "python",
   "pygments_lexer": "ipython3",
   "version": "3.7.8"
  }
 },
 "nbformat": 4,
 "nbformat_minor": 4
}
