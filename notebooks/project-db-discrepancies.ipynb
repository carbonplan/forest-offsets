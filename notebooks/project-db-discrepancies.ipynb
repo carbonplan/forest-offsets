{
 "cells": [
  {
   "cell_type": "markdown",
   "metadata": {},
   "source": [
    "This notebook compares the final retro-db, containing all values extracted from Offset Project Data\n",
    "Reports (OPDRs), against the official ARB issuance table.\n",
    "\n",
    "This comparison is meant to accomplish two tasks. First, it should identify instances where OPDR\n",
    "data does not agree with the official ARB issuance outcome. Such discrepancies likely arise when the\n",
    "offset registries host out-of-date OPDRs (e.g., ARB issued ARBOCs on the basis of a separate/updated\n",
    "OPDR that we cannot access). Second, we want to demonstrate the ability to reconstruct ARBOC\n",
    "calculations from the raw \"IFM components\" that are reported in each OPDR. IFM projects are required\n",
    "to report numerous individual \"components\" when quantifying net changes in stored carbon. For IFM\n",
    "projects, the primary components include:\n",
    "\n",
    "- IFM-1: Standing live tree carbon (above \\& below ground)\n",
    "- IFM-3: Standing dead (\"all portions\")\n",
    "- IFM-7: Carbon contained in in-use forest products\n",
    "- IFM-8: Carbon contained in landfilled forest products\n",
    "\n",
    "IFM projects are also required to report \"secondary effects\", which accounts for several other\n",
    "\"secondary components.\" Each OPDR reports calculated secondary effects in section TK.\n",
    "\n",
    "Means we end up with three \"allocation\" values:\n",
    "\n",
    "- Issuance: the official, issued allocation of ARBOCs as recorded by ARB.\n",
    "- OPDR-Reported: the OPO/APD reported ARBC\n",
    "- OPDR-Calculated: issuance derived from IFM-1, IFM-3, IFM-7, IFM-8, and secondary effects (SE).\n",
    "\n",
    "In an ideal world, we would have agreement between all three values. This notebook allows us to\n",
    "explore cases where these values diverge.\n",
    "\n",
    "We've also produced a\n",
    "[narrative description](https://www.eenews.net/climatewire/2020/12/22/stories/1063721299) of these\n",
    "discrepancies.\n"
   ]
  },
  {
   "cell_type": "code",
   "execution_count": null,
   "metadata": {},
   "outputs": [],
   "source": [
    "%load_ext nb_black\n",
    "import pathlib\n",
    "import sys\n",
    "\n",
    "import numpy as np\n",
    "from itertools import permutations\n",
    "import pandas as pd\n",
    "\n",
    "from carbonplan_retro.load.issuance import load_issuance_table\n",
    "from carbonplan_retro.load.project_db import load_project_db\n",
    "from carbonplan_retro.analysis import allocation"
   ]
  },
  {
   "cell_type": "markdown",
   "metadata": {},
   "source": [
    "# Load retro-db and issuance table\n"
   ]
  },
  {
   "cell_type": "code",
   "execution_count": null,
   "metadata": {},
   "outputs": [],
   "source": [
    "project_db = load_project_db(\"Forest-Offset-Projects-v0.3\", use_cache=False)\n",
    "\n",
    "project_db = project_db[~project_db[\"project\"][\"early_action\"].str.startswith(\"CAR\")]"
   ]
  },
  {
   "cell_type": "code",
   "execution_count": null,
   "metadata": {},
   "outputs": [],
   "source": [
    "issuance_table = load_issuance_table(\n",
    "    \"/Users/darryl/forest-retro/documents-of-interest/arb/issuance/arboc_issuance_2020-09-09.xlsx\"\n",
    ")\n",
    "issuance_table = issuance_table[\n",
    "    issuance_table[\"is_ea\"] == False\n",
    "]  # we didnt look at any of the EA proejcts in their EA form; exclude\n",
    "\n",
    "agg_by_rp = issuance_table.groupby([\"opr_id\", \"arb_rp_id\"])[\n",
    "    [\"allocation\", \"buffer_pool\"]\n",
    "].sum()  # One project has multiple issuance events in its first reporting period, aggregate them\n",
    "issuance_first_rp = agg_by_rp.xs(\"A\", level=1)"
   ]
  },
  {
   "cell_type": "markdown",
   "metadata": {},
   "source": [
    "## Run the calculations\n"
   ]
  },
  {
   "cell_type": "code",
   "execution_count": null,
   "metadata": {},
   "outputs": [],
   "source": [
    "opdr_calculated = allocation.calculate_allocation(project_db, round_intermediates=False)\n",
    "compare_allocations = pd.concat(\n",
    "    [opdr_calculated, project_db[\"rp_1\"][\"allocation\"].rename(\"opdr_reported\")],\n",
    "    axis=1,\n",
    ")\n",
    "\n",
    "compare_allocations = compare_allocations.join(issuance_first_rp[\"allocation\"].rename(\"issuance\"))\n",
    "\n",
    "delta_opdr = compare_allocations[\"opdr_reported\"] - compare_allocations[\"opdr_calculated\"]\n",
    "delta_issuance = compare_allocations[\"opdr_reported\"] - compare_allocations[\"issuance\"]"
   ]
  },
  {
   "cell_type": "markdown",
   "metadata": {},
   "source": [
    "# Issuance and Reported do not agree\n"
   ]
  },
  {
   "cell_type": "code",
   "execution_count": null,
   "metadata": {},
   "outputs": [],
   "source": [
    "issuance_reported_differ = delta_issuance[delta_issuance.abs() != 0]\n",
    "\n",
    "# hand classified\n",
    "reported_issuance_errors = {\n",
    "    \"unexplained_possible_overcredit\": [\"CAR1175\"],\n",
    "    \"outdated_opdr_likely\": [\n",
    "        \"CAR1257\",\n",
    "        \"CAR1215\",\n",
    "        \"CAR1264\",\n",
    "        \"VCSOPR10\",\n",
    "        \"CAR1213\",\n",
    "    ],\n",
    "    \"flagged_correctable\": [\"CAR1103\", \"CAR1208\"],\n",
    "    \"rounding_de_minimis\": [\"ACR284\", \"CAR1095\"],\n",
    "}\n",
    "\n",
    "assert sum([len(v) for v in reported_issuance_errors.values()]) == len(\n",
    "    issuance_reported_differ\n",
    ")  # 12 December 2020; if change you better understand why\n",
    "# as of 22 December 2020, these 9 projects continue to have issues."
   ]
  },
  {
   "cell_type": "markdown",
   "metadata": {},
   "source": [
    "The worst possible situation would be where OPDRreported != OPDRcalculated != Issuance. Thankfully\n",
    "that doesn't happen.\n"
   ]
  },
  {
   "cell_type": "code",
   "execution_count": null,
   "metadata": {},
   "outputs": [],
   "source": [
    "assert np.all(delta_opdr[delta_issuance.abs() != 0] < 1)"
   ]
  },
  {
   "cell_type": "markdown",
   "metadata": {},
   "source": [
    "# OPDRreported & OPDRcalculated\n",
    "\n",
    "Here is a nice summary of where things stand. While some significant disagreements still exist,\n",
    "we've overall done a fantastic job of recreating the issuance numbers. I've explored every single\n",
    "discrepancy greater than one and, at this point, have growing confidence that differences reflected\n",
    "here are \"true\" disagreements and not caused by data entry problems on my side.\n"
   ]
  },
  {
   "cell_type": "code",
   "execution_count": null,
   "metadata": {},
   "outputs": [],
   "source": [
    "threshes = [1, 2, 5, 25]\n",
    "\n",
    "for thresh in threshes:\n",
    "    display(\n",
    "        f\"{len(compare_allocations[delta_opdr.abs() < thresh])} of the {len(project_db)} projects are within {thresh} ARBOC(s)\"\n",
    "    )"
   ]
  },
  {
   "cell_type": "markdown",
   "metadata": {},
   "source": [
    "And I've gone through all cases where the difference is > 1 and tried to figure out what the heck is\n",
    "going on -- those learnings are reproduced below but also kept here as a \"comment\" dict so can\n",
    "output those comments on a per project basis to a csv.\n",
    "\n",
    "In the end, we identify 11 projects with ARBOC errors >= 2.\n"
   ]
  },
  {
   "cell_type": "code",
   "execution_count": null,
   "metadata": {},
   "outputs": [],
   "source": [
    "full_comparison.delta_reported_less_calculated.abs().sort_values().tail(12)"
   ]
  },
  {
   "cell_type": "code",
   "execution_count": null,
   "metadata": {},
   "outputs": [],
   "source": [
    "delta_reported_calculated = {\n",
    "    \"small_rounding_errors\": [\"CAR1094\", \"CAR1204\", \"ACR256\", \"ACR257\"],\n",
    "    \"harvest_error\": [\"ACR247\", \"CAR1217\", \"ACR276\"],\n",
    "    \"big_round_errors_uncorrected\": [\"ACR360\", \"ACR427\"],\n",
    "    \"big_rounding_errors_corrected\": [\"ACR282\"],\n",
    "    \"small_error_not_rounding\": [\"CAR1032\"],\n",
    "}"
   ]
  },
  {
   "cell_type": "code",
   "execution_count": null,
   "metadata": {},
   "outputs": [],
   "source": [
    "full_comparison = compare_allocations.join(\n",
    "    delta_issuance.rename(\"delta_reported_less_issuance\")\n",
    ").join(delta_opdr.rename(\"delta_reported_less_calculated\"))\n",
    "\n",
    "# full_comparison.to_csv(\"../data/odpr_issuance_math.csv\", float_format=\"%.3f\")"
   ]
  },
  {
   "cell_type": "code",
   "execution_count": null,
   "metadata": {},
   "outputs": [],
   "source": [
    "full_comparison[\"tag_reported_not_equal_calculated\"] = None\n",
    "for k, lst in delta_reported_calculated.items():\n",
    "    full_comparison.loc[lst, \"tag_reported_not_equal_calculated\"] = k\n",
    "\n",
    "full_comparison[\"tag_reported_not_equal_issuance\"] = None\n",
    "for k, lst in reported_issuance_errors.items():\n",
    "    full_comparison.loc[lst, \"tag_reported_not_equal_issuance\"] = k\n",
    "\n",
    "\n",
    "full_comparison.index = full_comparison.index.rename(\"opr_id\")\n",
    "full_comparison.to_csv(\"/tmp/opdr_discrepancies.csv\", float_format=\"%.3f\")"
   ]
  }
 ],
 "metadata": {
  "kernelspec": {
   "display_name": "Python 3",
   "language": "python",
   "name": "python3"
  },
  "language_info": {
   "codemirror_mode": {
    "name": "ipython",
    "version": 3
   },
   "file_extension": ".py",
   "mimetype": "text/x-python",
   "name": "python",
   "nbconvert_exporter": "python",
   "pygments_lexer": "ipython3",
   "version": "3.8.8"
  }
 },
 "nbformat": 4,
 "nbformat_minor": 4
}
