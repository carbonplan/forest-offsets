{
 "cells": [
  {
   "cell_type": "markdown",
   "metadata": {},
   "source": [
    "This notebook compares the final retro-db, containing all values extracted from\n",
    "Offset Project Data Reports (OPDRs), against the official ARB issuance table.\n",
    "\n",
    "This comparison is meant to accomplish two tasks. First, it should identify\n",
    "instances where OPDR data does not agree with the official ARB issuance outcome.\n",
    "Such discrepancies likely arise when the offset registries host out-of-date\n",
    "OPDRs (e.g., ARB issued ARBOCs on the basis of a separate/updated OPDR that we\n",
    "cannot access). Second, we want to demonstrate the ability to reconstruct ARBOC\n",
    "calculations from the raw \"IFM components\" that are reported in each OPDR. IFM\n",
    "projects are required to report numerous individual \"components\" when\n",
    "quantifying net changes in stored carbon. For IFM projects, the primary\n",
    "components include:\n",
    "\n",
    "- IFM-1: Standing live tree carbon (above \\& below ground)\n",
    "- IFM-3: Standing dead (\"all portions\")\n",
    "- IFM-7: Carbon contained in in-use forest products\n",
    "- IFM-8: Carbon contained in landfilled forest products\n",
    "\n",
    "IFM projects are also required to report \"secondary effects\", which accounts for\n",
    "several other \"secondary components.\" Each OPDR reports calculated secondary\n",
    "effects in section TK.\n",
    "\n",
    "Means we end up with three \"allocation\" values:\n",
    "\n",
    "- Issuance: the official, issued allocation of ARBOCs as recorded by ARB.\n",
    "- OPDR-Reported: the OPO/APD reported ARBC\n",
    "- OPDR-Calculated: issuance derived from IFM-1, IFM-3, IFM-7, IFM-8, and\n",
    "  secondary effects (SE).\n",
    "\n",
    "In an ideal world, we would have agreement between all three values. This\n",
    "notebook allows us to explore cases where these values diverge.\n",
    "\n",
    "We've also produced a\n",
    "[narrative description](https://www.eenews.net/climatewire/2020/12/22/stories/1063721299)\n",
    "of these discrepancies.\n"
   ]
  },
  {
   "cell_type": "code",
   "execution_count": null,
   "metadata": {},
   "outputs": [],
   "source": [
    "%load_ext nb_black\n",
    "import pathlib\n",
    "import sys\n",
    "\n",
    "import numpy as np\n",
    "from itertools import permutations\n",
    "import pandas as pd\n",
    "\n",
    "sys.path.append(\"/Users/darryl/proj/carbonplan/retro/\")\n",
    "\n",
    "from retrospective.load.issuance import load_issuance_table\n",
    "from retrospective.load.project_db import load_project_db\n",
    "from retrospective.analysis import allocation"
   ]
  },
  {
   "cell_type": "markdown",
   "metadata": {},
   "source": [
    "# Load retro-db and issuance table\n"
   ]
  },
  {
   "cell_type": "code",
   "execution_count": null,
   "metadata": {},
   "outputs": [],
   "source": [
    "project_db = load_project_db(\"Forest-Offset-Projects-v0.3\", use_cache=False)\n",
    "\n",
    "project_db = project_db[\n",
    "    ~project_db[\"project\"][\"early_action\"].str.startswith(\"CAR\")\n",
    "]"
   ]
  },
  {
   "cell_type": "code",
   "execution_count": null,
   "metadata": {},
   "outputs": [],
   "source": [
    "issuance_table = load_issuance_table(\n",
    "    \"/Users/darryl/forest-retro/documents-of-interest/arb/issuance/arboc_issuance_2020-09-09.xlsx\"\n",
    ")\n",
    "issuance_table = issuance_table[\n",
    "    issuance_table[\"is_ea\"] == False\n",
    "]  # we didnt look at any of the EA proejcts in their EA form; exclude\n",
    "\n",
    "agg_by_rp = issuance_table.groupby([\"opr_id\", \"arb_rp_id\"])[\n",
    "    [\"allocation\", \"buffer_pool\"]\n",
    "].sum()  # One project has multiple issuance events in its first reporting period, aggregate them\n",
    "issuance_first_rp = agg_by_rp.xs(\"A\", level=1)"
   ]
  },
  {
   "cell_type": "markdown",
   "metadata": {},
   "source": [
    "## Run the calculations\n"
   ]
  },
  {
   "cell_type": "code",
   "execution_count": null,
   "metadata": {},
   "outputs": [],
   "source": [
    "opdr_calculated = allocation.calculate_allocation(\n",
    "    project_db, round_intermediates=False\n",
    ")\n",
    "compare_allocations = pd.concat(\n",
    "    [opdr_calculated, project_db[\"rp_1\"][\"allocation\"].rename(\"opdr_reported\")],\n",
    "    axis=1,\n",
    ")\n",
    "\n",
    "compare_allocations = compare_allocations.join(\n",
    "    issuance_first_rp[\"allocation\"].rename(\"issuance\")\n",
    ")\n",
    "\n",
    "delta_opdr = (\n",
    "    compare_allocations[\"opdr_reported\"]\n",
    "    - compare_allocations[\"opdr_calculated\"]\n",
    ")\n",
    "delta_issuance = (\n",
    "    compare_allocations[\"opdr_reported\"] - compare_allocations[\"issuance\"]\n",
    ")"
   ]
  },
  {
   "cell_type": "markdown",
   "metadata": {},
   "source": [
    "# Issuance and Reported do not agree\n"
   ]
  },
  {
   "cell_type": "code",
   "execution_count": null,
   "metadata": {},
   "outputs": [],
   "source": [
    "issuance_reported_differ = delta_issuance[delta_issuance.abs() != 0]\n",
    "\n",
    "# hand classified\n",
    "reported_issuance_errors = {\n",
    "    \"unexplained_possible_overcredit\": [\"CAR1175\"],\n",
    "    \"outdated_opdr_likely\": [\n",
    "        \"CAR1257\",\n",
    "        \"CAR1215\",\n",
    "        \"CAR1264\",\n",
    "        \"VCSOPR10\",\n",
    "        \"CAR1213\",\n",
    "    ],\n",
    "    \"flagged_correctable\": [\"CAR1103\", \"CAR1208\"],\n",
    "    \"rounding_de_minimis\": [\"ACR284\", \"CAR1095\"],\n",
    "}\n",
    "\n",
    "assert sum([len(v) for v in reported_issuance_errors.values()]) == len(\n",
    "    issuance_reported_differ\n",
    ")  # 12 December 2020; if change you better understand why\n",
    "# as of 22 December 2020, these 9 projects continue to have issues."
   ]
  },
  {
   "cell_type": "markdown",
   "metadata": {},
   "source": [
    "The worst possible situation would be where OPDRreported != OPDRcalculated !=\n",
    "Issuance. Thankfully that doesn't happen.\n"
   ]
  },
  {
   "cell_type": "code",
   "execution_count": null,
   "metadata": {},
   "outputs": [],
   "source": [
    "assert np.all(delta_opdr[delta_issuance.abs() != 0] < 1)"
   ]
  },
  {
   "cell_type": "markdown",
   "metadata": {},
   "source": [
    "# OPDRreported & OPDRcalculated\n",
    "\n",
    "Here is a nice summary of where things stand. While some significant\n",
    "disagreements still exist, we've overall done a fantastic job of recreating the\n",
    "issuance numbers. I've explored every single discrepancy greater than one and,\n",
    "at this point, have growing confidence that differences reflected here are\n",
    "\"true\" disagreements and not caused by data entry problems on my side.\n"
   ]
  },
  {
   "cell_type": "code",
   "execution_count": null,
   "metadata": {},
   "outputs": [],
   "source": [
    "threshes = [1, 2, 5, 25]\n",
    "\n",
    "for thresh in threshes:\n",
    "    display(\n",
    "        f\"{len(compare_allocations[delta_opdr.abs() < thresh])} of the {len(project_db)} projects are within {thresh} ARBOC(s)\"\n",
    "    )"
   ]
  },
  {
   "cell_type": "markdown",
   "metadata": {},
   "source": [
    "And I've gone through all cases where the difference is > 1 and tried to figure\n",
    "out what the heck is going on -- those learnings are reproduced below but also\n",
    "kept here as a \"comment\" dict so can output those comments on a per project\n",
    "basis to a csv.\n",
    "\n",
    "In the end, we identify 11 projects with ARBOC errors >= 2.\n"
   ]
  },
  {
   "cell_type": "code",
   "execution_count": null,
   "metadata": {},
   "outputs": [],
   "source": [
    "full_comparison.delta_reported_less_calculated.abs().sort_values().tail(12)"
   ]
  },
  {
   "cell_type": "code",
   "execution_count": null,
   "metadata": {},
   "outputs": [],
   "source": [
    "delta_reported_calculated = {\n",
    "    \"small_rounding_errors\": [\"CAR1094\", \"CAR1204\", \"ACR256\", \"ACR257\"],\n",
    "    \"harvest_error\": [\"ACR247\", \"CAR1217\", \"ACR276\"],\n",
    "    \"big_round_errors_uncorrected\": [\"ACR360\", \"ACR427\"],\n",
    "    \"big_rounding_errors_corrected\": [\"ACR282\"],\n",
    "    \"small_error_not_rounding\": [\"CAR1032\"],\n",
    "}"
   ]
  },
  {
   "cell_type": "code",
   "execution_count": null,
   "metadata": {},
   "outputs": [],
   "source": [
    "full_comparison = compare_allocations.join(\n",
    "    delta_issuance.rename(\"delta_reported_less_issuance\")\n",
    ").join(delta_opdr.rename(\"delta_reported_less_calculated\"))\n",
    "\n",
    "# full_comparison.to_csv(\"../data/odpr_issuance_math.csv\", float_format=\"%.3f\")"
   ]
  },
  {
   "cell_type": "code",
   "execution_count": null,
   "metadata": {},
   "outputs": [],
   "source": [
    "full_comparison[\"tag_reported_not_equal_calculated\"] = None\n",
    "for k, lst in delta_reported_calculated.items():\n",
    "    full_comparison.loc[lst, \"tag_reported_not_equal_calculated\"] = k\n",
    "\n",
    "full_comparison[\"tag_reported_not_equal_issuance\"] = None\n",
    "for k, lst in reported_issuance_errors.items():\n",
    "    full_comparison.loc[lst, \"tag_reported_not_equal_issuance\"] = k\n",
    "\n",
    "\n",
    "full_comparison.index = full_comparison.index.rename(\"opr_id\")\n",
    "full_comparison.to_csv(\"/tmp/opdr_discrepancies.csv\", float_format=\"%.3f\")"
   ]
  }
 ],
 "metadata": {
  "kernelspec": {
   "display_name": "Python 3",
   "language": "python",
   "name": "python3"
  },
  "language_info": {
   "codemirror_mode": {
    "name": "ipython",
    "version": 3
   },
   "file_extension": ".py",
   "mimetype": "text/x-python",
   "name": "python",
   "nbconvert_exporter": "python",
   "pygments_lexer": "ipython3",
   "version": "3.7.4"
  }
 },
 "nbformat": 4,
 "nbformat_minor": 2
}
