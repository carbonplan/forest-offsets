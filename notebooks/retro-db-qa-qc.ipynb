{
 "cells": [
  {
   "cell_type": "code",
   "execution_count": null,
   "metadata": {},
   "outputs": [],
   "source": [
    "%load_ext nb_black\n",
    "\n",
    "import numpy as np\n",
    "from itertools import permutations\n",
    "import pathlib\n",
    "\n",
    "import sys\n",
    "\n",
    "sys.path.append(\"/Users/darryl/proj/carbonplan/retro/\")\n",
    "\n",
    "from retrospective.load.issuance import issuance\n",
    "from retrospective.load.retro import retro"
   ]
  },
  {
   "cell_type": "code",
   "execution_count": null,
   "metadata": {},
   "outputs": [],
   "source": [
    "def compare_lists(lst1, lst2):\n",
    "    store = []\n",
    "    for compare, canon in permutations([lst1, lst2]):\n",
    "        # print(compare)\n",
    "        store += [item for item in compare if item not in canon]\n",
    "    return store"
   ]
  },
  {
   "cell_type": "markdown",
   "metadata": {},
   "source": [
    "We pinned our analysis at the 2020-09-09 version of the ARB issuance table. So we'll use that for our QA/QC!\n",
    "We start by loading data and confirming that we have all the projects.\n",
    "Start by pulling most up to date version of the retrodb and loading up the issuance table."
   ]
  },
  {
   "cell_type": "code",
   "execution_count": null,
   "metadata": {},
   "outputs": [],
   "source": [
    "retro_db = retro(\"Forest-Offset-Projects-v0.3\", use_cache=False, save=True)"
   ]
  },
  {
   "cell_type": "code",
   "execution_count": null,
   "metadata": {},
   "outputs": [],
   "source": [
    "issuance_table = issuance(\n",
    "    \"/Users/darryl/forest-retro/documents-of-interest/arb/issuance/arboc_issuance_2020-09-09.xlsx\"\n",
    ")\n",
    "issuance_table = issuance_table[\n",
    "    issuance_table[\"is_ea\"] == False\n",
    "]  # we didnt look at any of the EA proejcts in their EA form; exclude\n",
    "\n",
    "issuance_table = issuance_table.replace(\"reforest defer\", np.nan)"
   ]
  },
  {
   "cell_type": "markdown",
   "metadata": {},
   "source": [
    "We're looking for 101 projects. "
   ]
  },
  {
   "cell_type": "code",
   "execution_count": null,
   "metadata": {},
   "outputs": [],
   "source": [
    "issuance_opr_ids = issuance_table[\"opr_id\"].unique()\n",
    "display(len(issuance_opr_ids))"
   ]
  },
  {
   "cell_type": "code",
   "execution_count": null,
   "metadata": {},
   "outputs": [],
   "source": [
    "proj_types = [\"ifm\", \"avoided_conversion\", \"reforest\"]\n",
    "dir_counts = {\n",
    "    proj_type: len(\n",
    "        [\n",
    "            item\n",
    "            for item in pathlib.Path(f\"/Users/darryl/forest-retro/{proj_type}/\").glob(\n",
    "                \"*\"\n",
    "            )\n",
    "            if not item.stem.startswith(\".\")\n",
    "        ]\n",
    "    )\n",
    "    for proj_type in proj_types\n",
    "}\n",
    "display(dir_counts)"
   ]
  },
  {
   "cell_type": "code",
   "execution_count": null,
   "metadata": {},
   "outputs": [],
   "source": [
    "assert sum(dir_counts.values()) == len(\n",
    "    issuance_opr_ids\n",
    ")  # And we indeed have 101 projects!"
   ]
  },
  {
   "cell_type": "code",
   "execution_count": null,
   "metadata": {},
   "outputs": [],
   "source": [
    "proj_types = [\"ifm\", \"avoided_conversion\", \"reforest\"]\n",
    "all_downloaded_opr_ids = []\n",
    "for proj_type in proj_types:\n",
    "    proj_ids = [\n",
    "        item.stem\n",
    "        for item in pathlib.Path(f\"/Users/darryl/forest-retro/{proj_type}/\").glob(\"*\")\n",
    "        if not item.stem.startswith(\".\")\n",
    "    ]\n",
    "    all_downloaded_opr_ids += proj_ids"
   ]
  },
  {
   "cell_type": "code",
   "execution_count": null,
   "metadata": {},
   "outputs": [],
   "source": [
    "downloaded_ifms = [\n",
    "    fn.stem\n",
    "    for fn in pathlib.Path(\"/Users/darryl/forest-retro/ifm\").glob(\"*\")\n",
    "    if not fn.stem.startswith(\".\")\n",
    "]\n",
    "\n",
    "n_ifm_in_retrodb = retro_db[\"project\"][\"opr_id\"].nunique()\n",
    "\n",
    "assert n_ifm_in_retrodb == len(downloaded_ifms)"
   ]
  },
  {
   "cell_type": "code",
   "execution_count": null,
   "metadata": {},
   "outputs": [],
   "source": [
    "[\n",
    "    issuance_opr_id\n",
    "    for issuance_opr_id in issuance_table[\"opr_id\"].unique()\n",
    "    if issuance_opr_id not in all_downloaded_opr_ids\n",
    "]"
   ]
  },
  {
   "cell_type": "markdown",
   "metadata": {},
   "source": [
    "## Project QA/QC"
   ]
  },
  {
   "cell_type": "code",
   "execution_count": null,
   "metadata": {},
   "outputs": [],
   "source": [
    "project = retro_db[\"project\"].copy()"
   ]
  },
  {
   "cell_type": "code",
   "execution_count": null,
   "metadata": {},
   "outputs": [],
   "source": [
    "assert np.all(project.index == project[\"opr_id\"])\n",
    "\n",
    "assert np.all(project[\"arb_id\"].str.startswith(\"CAFR\"))"
   ]
  },
  {
   "cell_type": "code",
   "execution_count": null,
   "metadata": {},
   "outputs": [],
   "source": [
    "assert np.all(~np.isnan(project[\"acreage\"]))"
   ]
  },
  {
   "cell_type": "markdown",
   "metadata": {},
   "source": [
    "# Baseline QA"
   ]
  },
  {
   "cell_type": "code",
   "execution_count": null,
   "metadata": {},
   "outputs": [],
   "source": [
    "assert np.all(~np.isnan(retro_db[\"project\"][\"reversal_risk\"]))"
   ]
  },
  {
   "cell_type": "markdown",
   "metadata": {},
   "source": [
    "## RP1 redux"
   ]
  },
  {
   "cell_type": "code",
   "execution_count": null,
   "metadata": {},
   "outputs": [],
   "source": [
    "assert np.all(~np.isnan(retro_db[\"rp_1\"][\"confidence_deduction\"]))"
   ]
  },
  {
   "cell_type": "markdown",
   "metadata": {},
   "source": [
    "## RP1 QA/QC"
   ]
  },
  {
   "cell_type": "code",
   "execution_count": null,
   "metadata": {},
   "outputs": [],
   "source": [
    "rp_df = issuance_table.groupby([\"opr_id\", \"arb_rp_id\"])[\n",
    "    [\"allocation\", \"buffer_pool\"]\n",
    "].sum()\n",
    "issuance_first_rp = rp_df.xs(\"A\", level=1)"
   ]
  },
  {
   "cell_type": "code",
   "execution_count": null,
   "metadata": {},
   "outputs": [],
   "source": [
    "retro_first_rp = retro_db[\"rp_1\"][[\"allocation\", \"buffer_contribution\"]].copy()\n",
    "retro_first_rp.columns = retro_first_rp.columns.droplevel(1)\n"
   ]
  },
  {
   "cell_type": "code",
   "execution_count": null,
   "metadata": {},
   "outputs": [],
   "source": [
    "compare = retro_first_rp.join(issuance_first_rp, lsuffix=\"_opdr\", rsuffix=\"_issuance\")"
   ]
  },
  {
   "cell_type": "code",
   "execution_count": null,
   "metadata": {},
   "outputs": [],
   "source": [
    "delta = compare[\"allocation_opdr\"] - compare[\"allocation_issuance\"]"
   ]
  },
  {
   "cell_type": "code",
   "execution_count": null,
   "metadata": {},
   "outputs": [],
   "source": [
    "retro_first_rp.reset_index()[\"index\"].str[:3].value_counts()"
   ]
  },
  {
   "cell_type": "code",
   "execution_count": null,
   "metadata": {},
   "outputs": [],
   "source": [
    "delta[delta != 0].sort_values()"
   ]
  },
  {
   "cell_type": "code",
   "execution_count": null,
   "metadata": {},
   "outputs": [],
   "source": [
    "len(delta[delta != 0].sort_values())"
   ]
  },
  {
   "cell_type": "code",
   "execution_count": null,
   "metadata": {},
   "outputs": [],
   "source": [
    "assert np.all(delta == 0)"
   ]
  },
  {
   "cell_type": "markdown",
   "metadata": {},
   "source": [
    "## Early Action Errors\n",
    "- CAR1062 -- First reporting period of this project was a reversal -- allocation listed as n/a in issuance table. \n",
    "- CAR1070 -- likely just not most up to date initial OPDR? Verification report has wrong #.\n",
    "- CAR1161 (no note but partner project has note, so likely just out of date)\n",
    "- CAR1162 (and has a note!) had a correctable error in 2020 -- which meant that it only got issued 777 credits. \n",
    "\n",
    "## De minimus\n",
    "- ACR284: we never round\n",
    "\n",
    "## Documentation Error\n",
    "\n",
    "- CAR1095 -- no allocation listed in document and when impute from rounded values cannot get to issuance table\n",
    "\n",
    "## Correctable Errors\n",
    "\n",
    "- CAR1103 (BS) had a correctable error -- meant it was issued 3136 fewer credits. Project note provided, but no other details. \n",
    "- CAR1208 - another correctable error example.\n",
    "\n",
    "## Unexplained\n",
    "- CAR1175 -- this might be a transpose error? not sure -- why did it have allocation issued over three dates? BH gets same thing -- 30 too many. \n",
    "- CAR1257 -- maybe CAR forgot to upload correctable error?\n",
    "- CAR1215 -- ?? \n",
    "- CAR1264 -- has to be out of date -- has incorrect reversal calculation too\n",
    "- VCSOPR10 -- numbers just disagree -- no documentation explaining. Both Initial and Annual report values as appear in retro_db\n",
    "- CAR1213 -- this is meaningful example. Initial OPDR is newer than RP1. Baseline in Initial is lower than Baseline in RP1 that seems to be outdated.\n",
    "\n"
   ]
  },
  {
   "cell_type": "code",
   "execution_count": null,
   "metadata": {},
   "outputs": [],
   "source": [
    "{\n",
    "    \"ACR248\": \"OPDRreported includes fractional ARBOC. We never round OPDRreported\",\n",
    "    \"CAR1095\": \"Allocation not reported in OPDR, only buffer pool contribution and our efforts to impute allocation yield a discrepancy\",\n",
    "    \"CAR1103\": \"Correctable Error note issued that matches Issuance\",\n",
    "    \"CAR1208\": \"Correctable Error note issued that matches Issuance\",\n",
    "    \"CAR1175\": \"Unexaplained. BH confirms 30 ARBOC difference\",\n",
    "    \"CAR1257\": \"Unexplained. Out of date OPDR?\",\n",
    "    \"CAR1215\": \"Unexplained. Out of date OPDR?\",\n",
    "    \"CAR1264\": \"Unexplained. OPDR reversal does not match Issuance-derived reversal. Seems likely an out of date OPDR.\",\n",
    "    \"VCSOPR10\": \"Unexplained.\",\n",
    "    \"CAR1213\": \"Unexplained. Initial OPDR has completion date that is more recent than Annual OPDR for RP1 and the two documents have different baselines. Seems Initial OPDR is out of date.\",\n",
    "}"
   ]
  },
  {
   "cell_type": "code",
   "execution_count": null,
   "metadata": {},
   "outputs": [],
   "source": [
    "issuance_reversals = issuance_first_rp[\"buffer_pool\"] / issuance_first_rp[\"allocation\"]"
   ]
  },
  {
   "cell_type": "code",
   "execution_count": null,
   "metadata": {},
   "outputs": [],
   "source": [
    "low_idx = issuance_reversals.astype(float).round(4) == 0.192\n",
    "\n",
    "issuance_reversals.astype(float).round(4).value_counts()"
   ]
  },
  {
   "cell_type": "code",
   "execution_count": null,
   "metadata": {},
   "outputs": [],
   "source": [
    "retro_reversals = retro_db[\"project\"][\"reversal_risk\"]"
   ]
  },
  {
   "cell_type": "code",
   "execution_count": null,
   "metadata": {},
   "outputs": [],
   "source": [
    "reversal_risks = pd.concat([retro_reversals, issuance_reversals], axis=1).rename(\n",
    "    columns={\"reversal_risk\": \"retro\", 0: \"issuance\"}\n",
    ")"
   ]
  },
  {
   "cell_type": "code",
   "execution_count": null,
   "metadata": {},
   "outputs": [],
   "source": [
    "reversal_risks = reversal_risks.dropna().astype(float).round(4)"
   ]
  },
  {
   "cell_type": "code",
   "execution_count": null,
   "metadata": {},
   "outputs": [],
   "source": [
    "reversal_risks[(reversal_risks[\"retro\"] - reversal_risks[\"issuance\"]) > 0]"
   ]
  },
  {
   "cell_type": "markdown",
   "metadata": {},
   "source": [
    "## Calculated from Components"
   ]
  },
  {
   "cell_type": "code",
   "execution_count": null,
   "metadata": {},
   "outputs": [],
   "source": [
    "%load_ext nb_black\n",
    "import pathlib\n",
    "import sys\n",
    "\n",
    "import numpy as np\n",
    "from itertools import permutations\n",
    "import pandas as pd\n",
    "\n",
    "sys.path.append(\"/Users/darryl/proj/carbonplan/retro/\")\n",
    "\n",
    "from retrospective.load.issuance import issuance\n",
    "from retrospective.load.retro import retro"
   ]
  },
  {
   "cell_type": "code",
   "execution_count": null,
   "metadata": {},
   "outputs": [],
   "source": [
    "from retrospective.analysis import allocation"
   ]
  },
  {
   "cell_type": "code",
   "execution_count": null,
   "metadata": {},
   "outputs": [],
   "source": [
    "retro_db = retro(\"Forest-Offset-Projects-v0.3\", use_cache=True)"
   ]
  },
  {
   "cell_type": "code",
   "execution_count": null,
   "metadata": {},
   "outputs": [],
   "source": [
    "issuance_table = issuance(\n",
    "    \"/Users/darryl/forest-retro/documents-of-interest/arb/issuance/arboc_issuance_2020-09-09.xlsx\"\n",
    ")\n",
    "issuance_table = issuance_table[\n",
    "    issuance_table[\"is_ea\"] == False\n",
    "]  # we didnt look at any of the EA proejcts in their EA form; exclude\n",
    "\n",
    "issuance_table = issuance_table.replace(\"reforest defer\", np.nan)"
   ]
  },
  {
   "cell_type": "code",
   "execution_count": null,
   "metadata": {},
   "outputs": [],
   "source": [
    "retro_db[~retro_db[\"project\"][\"early_action\"].str.startswith(\"CAR\")].index.str[\n",
    "    :3\n",
    "].value_counts()"
   ]
  },
  {
   "cell_type": "code",
   "execution_count": null,
   "metadata": {},
   "outputs": [],
   "source": [
    "retro_db = retro_db[~retro_db[\"project\"][\"early_action\"].str.startswith(\"CAR\")]\n",
    "retro_db = retro_db[\n",
    "    retro_db[\"baseline\"][\"initial_carbon_stock\"]\n",
    "    > retro_db[\"baseline\"][\"common_practice\"]\n",
    "]"
   ]
  },
  {
   "cell_type": "code",
   "execution_count": null,
   "metadata": {},
   "outputs": [],
   "source": [
    "opdr_calculated = allocation.calculate_allocation(retro_db, round_intermediates=False)\n",
    "compare_allocations = pd.concat(\n",
    "    [opdr_calculated, retro_db[\"rp_1\"][\"allocation\"].rename(\"opdr_reported\")], axis=1\n",
    ")"
   ]
  },
  {
   "cell_type": "code",
   "execution_count": null,
   "metadata": {},
   "outputs": [],
   "source": [
    "display(\n",
    "    f\"There are {len(retro_db)} COP IFM projects whre ICS > CP [we might relax this later]\"\n",
    ")"
   ]
  },
  {
   "cell_type": "markdown",
   "metadata": {},
   "source": [
    "Wihtout rounding we can exactly reproduce ONE project."
   ]
  },
  {
   "cell_type": "code",
   "execution_count": null,
   "metadata": {},
   "outputs": [],
   "source": [
    "compare_allocations = compare_allocations.join(\n",
    "    issuance_first_rp[\"allocation\"].rename(\"issuance\")\n",
    ")"
   ]
  },
  {
   "cell_type": "code",
   "execution_count": null,
   "metadata": {},
   "outputs": [],
   "source": [
    "delta_opdr = (\n",
    "    compare_allocations[\"opdr_reported\"] - compare_allocations[\"opdr_calculated\"]\n",
    ")\n",
    "delta_issuance = compare_allocations[\"opdr_reported\"] - compare_allocations[\"issuance\"]"
   ]
  },
  {
   "cell_type": "code",
   "execution_count": null,
   "metadata": {},
   "outputs": [],
   "source": [
    "sum(delta_issuance.abs() > 1)"
   ]
  },
  {
   "cell_type": "markdown",
   "metadata": {},
   "source": [
    "# Issuance and Reported do not agree"
   ]
  },
  {
   "cell_type": "code",
   "execution_count": null,
   "metadata": {},
   "outputs": [],
   "source": [
    "issuance_reported_differ = delta_issuance[delta_issuance.abs() != 0]\n",
    "\n",
    "# hand classified\n",
    "reported_issuance_errors = {\n",
    "    \"unexplained\": [\"CAR1175\", \"CAR1257\", \"CAR1215\", \"CAR1264\", \"VCSOPR10\", \"CAR1213\"],\n",
    "    \"flagged_correctable\": [\"CAR1103\", \"CAR1208\"],\n",
    "    \"de_minimus\": [\"ACR284\", \"CAR1095\"],\n",
    "}\n",
    "\n",
    "assert (\n",
    "    sum([len(v) for v in reported_issuance_errors.values()]) == 10\n",
    ")  # 12 December 2020; if change you better understand why"
   ]
  },
  {
   "cell_type": "markdown",
   "metadata": {},
   "source": [
    "When issuance and reported differ, its always the case that OPDR_calc and OPDR_reported are within 1 (rounding issue). \n",
    "This gives us confidence that the Issuance != Reported fall into three primary categories:\n",
    "\n",
    "1. Outdated OPDRs (5) [All at CAR]\n",
    "2. De minimus rounding considerations (2)\n",
    "3. Flagged Correctable (2)\n",
    "\n",
    "There is one possible exception: CAR1175. It seems that the OPDR is up-to-date but 30 too many ARBOCs have been issued."
   ]
  },
  {
   "cell_type": "code",
   "execution_count": null,
   "metadata": {},
   "outputs": [],
   "source": [
    "assert np.all(delta_opdr[delta_issuance.abs() != 0] < 1)"
   ]
  },
  {
   "cell_type": "code",
   "execution_count": null,
   "metadata": {},
   "outputs": [],
   "source": [
    "compare_allocations[\n",
    "    (compare_allocations[\"opdr_reported\"] != compare_allocations[\"issuance\"])\n",
    "    & ((compare_allocations['opdr_calculated'] - compare_allocations['issuance']).abs() < 10)\n",
    "]\n"
   ]
  },
  {
   "cell_type": "code",
   "execution_count": null,
   "metadata": {},
   "outputs": [],
   "source": [
    "delta_allocation = (\n",
    "    compare_allocations[\"opdr_calculated\"] - compare_allocations[\"opdr_reported\"]\n",
    ")"
   ]
  },
  {
   "cell_type": "code",
   "execution_count": null,
   "metadata": {},
   "outputs": [],
   "source": [
    "threshes = [1, 2, 10, 100]\n",
    "\n",
    "for thresh in threshes:\n",
    "    display(\n",
    "        f\"{len(compare_allocations[delta_allocation.abs() < thresh])} of the {len(retro_db)} projects are within {thresh} ARBOC(s)\"\n",
    "    )"
   ]
  },
  {
   "cell_type": "code",
   "execution_count": null,
   "metadata": {
    "scrolled": true
   },
   "outputs": [],
   "source": [
    "delta_allocation[delta_allocation.abs() >= 100].sort_values()"
   ]
  },
  {
   "cell_type": "code",
   "execution_count": null,
   "metadata": {},
   "outputs": [],
   "source": [
    "{\n",
    "    # Unexaplained\n",
    "    \"CAR1183\": \"OPDRreported is 1000 greater than OPDRcalculated. Unexplainable.\",\n",
    "    # CD rounding that is definitely overcreditting\n",
    "    \"ACR282\": \"OPDR reports CD of 0.3%. However, OPDRreported seems to assume CD == 0%. Results in over creditting.\",\n",
    "    # CD rounding that is perhaps overcreditting\n",
    "    \"ACR427\": \"OPDR reports CD of 2.445%, but OPDRreported seems to assume CD == 2.4%. Depending on how rounding is treated, could be overcreditting.\",\n",
    "    \"ACR360\": \"OPDR reports CD of 0.67% but OPDRreported seems to assume CD ~= 0.66531%. Likely not overcreditting but need clarification on rounding\",\n",
    "    # Harvest\n",
    "    \"ACR247\": \"Large harvest component -- still exploring.\",\n",
    "    \"CAR1217\": \"Large harvest component -- still exploring.\",\n",
    "    \"CAR1197\": \"Large harvest component -- still exploring.\",\n",
    "    \"ACR276\": \"Large harvest component -- still exploring.\",\n",
    "}"
   ]
  },
  {
   "cell_type": "markdown",
   "metadata": {},
   "source": [
    "# Bigger Errors\n",
    "\n",
    "## Just off?\n",
    "\n",
    "- CAR1183: was originally off by 1000 but only error i could find just made things worse. Transpose? [TK from BH]\n",
    "\n",
    "\n",
    "\n",
    "\n",
    "## Fairly Sure Rounding Error on Confidence \n",
    "\n",
    "## Over creditting \n",
    "- ACR282: The OPDR reported number and the final issuance for first reporting period assumes that confdience deduction is equal to zero. \n",
    "OPDR reports a 0.3\\% CD. \n",
    "Rounding, here, yields an over crediting of 9171 ARBOCs.\n",
    "See `Extras` -- if set confidence deduction to 0, off by < 1. \n",
    "- ACR427: OPDR reports CD of 2.445\\%. \n",
    "If you round CD to 2.4\\%, OPDRcalculated = OPDRreported = Issuance. \n",
    "If rounding is not allowed, yields overcrediting of 4096 ARBOCs. \n",
    "\n",
    "\n",
    "## Likely report rounded confidence deduction but use more precise (lower) CD.\n",
    "- ACR360: Reports a confidence deduction of 6.7\\%.\n",
    "If we change CD to 6.6531\\%, less than one ARBOC error. \n",
    "Seems likely the correct number of ARBOCs issued if CD can be reported to arbitrary precision.\n",
    "\n",
    "\n",
    "## Big Harvest/TC (mainly...)\n",
    "- ACR247 -- turns on how interp secondary fx? If scale IFM7/IFM8 by 1.5, it mostly works... [FC with harvest]\n",
    "- CAR1217 reports positive Secondary Effects -- this will be cast to zero by calcs -- but more broadly, is this entry correct? [FC, with harvest]. BH gets the same answer. \n",
    "- CAR1197 Think they give themselves credit for negative leakage? [FC with harvest! Error == SE!]\n",
    "- ACR276 similarly has a SE == 0, but to get their # right, need to have IFM7+IFM8actual - IFM7+IFM8baseline > 0 cast to 0. Still wrong after lots of effort to work through. IFM-7 and IFM-8 are probably too low because later RP have same values, but are roughly half as long [first RP == 551 days.]. Need BH back-up on this one. Defiitely could be incorrect [Blue Source w heavy harvest -- IFM7/8 scaling solve anything?]"
   ]
  },
  {
   "cell_type": "markdown",
   "metadata": {},
   "source": [
    "## Middling Errors"
   ]
  },
  {
   "cell_type": "code",
   "execution_count": null,
   "metadata": {},
   "outputs": [],
   "source": [
    "delta_allocation[\n",
    "    (delta_allocation.abs() < 100) & (delta_allocation.abs() >= 2)\n",
    "].sort_values()"
   ]
  },
  {
   "cell_type": "code",
   "execution_count": null,
   "metadata": {},
   "outputs": [],
   "source": []
  },
  {
   "cell_type": "markdown",
   "metadata": {},
   "source": [
    "- CAR1032: Cannot be explained by confdience deduction. BH is off by exactly two as well!\n",
    "\n",
    "\n",
    "\n",
    "## More Rounding\n",
    "\n",
    "\n",
    "- CAR1094: Double checked -- seems explainable due to rounding of confidence deduction.\n",
    "- ACR257: Double checked RP[0] -- seems explainable by small rounding of confidence \n",
    "\n",
    "## Over 10 ARBOCs\n",
    "They're all explainable making reasonable inferences about rounding of confidence deduction\n",
    "- CAR1204: An error of 0.016035 would get you wi 0.5 of an ARBOC -- [ROUNDED REPORTING >> USED RIGHT VALUE]\n",
    "- ACR256: Confidence deduction reported at 1.00% -- but yeah likely culprit [double check w BH]\n",
    "- ACR361: Similar situation. Confidence reported as 3.4 percent [But its BS project -- need to double check]\n",
    "- CAR1205: TK\n"
   ]
  },
  {
   "cell_type": "markdown",
   "metadata": {},
   "source": [
    "# Small Errors"
   ]
  },
  {
   "cell_type": "code",
   "execution_count": null,
   "metadata": {},
   "outputs": [],
   "source": [
    "delta_allocation[\n",
    "    (delta_allocation.abs() >= 1) & (delta_allocation.abs() < 2)\n",
    "].sort_values()"
   ]
  },
  {
   "cell_type": "markdown",
   "metadata": {},
   "source": [
    "## Not rounding\n",
    "do not have confidence deductions. Double checked both but cannot explain difference -- likely due to some sort of rounding of intermediary steps in ARBOC calculation? \n",
    "\n",
    "\n",
    "- CAR1066 \n",
    "- ACR393 \n",
    "\n",
    "## Likely Rounding\n",
    "Remaining errors are small. We double checked them all on 8 Dec 2020 -- last time plan to revisit\n",
    "- [x] ACR260\n",
    "- [x] ACR288\n",
    "- [x] CAR1314\n",
    "- [x] ACR423\n",
    "- [x] ACR182 [from worksheet can see exactly how rounding of confidence stat effects things]\n",
    "- [ ] CAR1104 -- if use workbook number and not description in text, error disappears. BH TK.\n"
   ]
  },
  {
   "cell_type": "code",
   "execution_count": null,
   "metadata": {},
   "outputs": [],
   "source": [
    "comments = {\n",
    "    # Reported != Issuance\n",
    "    \"ACR248\": \"OPDRreported includes fractional ARBOC. We never round OPDRreported\",\n",
    "    \"CAR1095\": \"Allocation not reported in OPDR, only buffer pool contribution and our efforts to impute allocation yield a discrepancy\",\n",
    "    \"CAR1103\": \"Correctable Error note issued that matches Issuance\",\n",
    "    \"CAR1208\": \"Correctable Error note issued that matches Issuance\",\n",
    "    \"CAR1175\": \"Unexaplained. BH confirms 30 ARBOC difference\",\n",
    "    \"CAR1257\": \"Unexplained. Out of date OPDR?\",\n",
    "    \"CAR1215\": \"Unexplained. Out of date OPDR?\",\n",
    "    \"CAR1264\": \"Unexplained. OPDR reversal does not match Issuance-derived reversal. Seems likely an out of date OPDR.\",\n",
    "    \"VCSOPR10\": \"Unexplained.\",\n",
    "    \"CAR1213\": \"Unexplained. Initial OPDR has completion date that is more recent than Annual OPDR for RP1 and the two documents have different baselines. Seems Initial OPDR is out of date.\",\n",
    "    # Errors > 100\n",
    "    # Unexaplained\n",
    "    \"CAR1183\": \"OPDRreported is 1000 greater than OPDRcalculated. Unexplainable.\",\n",
    "    # CD rounding that is definitely overcreditting\n",
    "    \"ACR282\": \"OPDR reports CD of 0.3%. However, OPDRreported seems to assume CD == 0%. Results in over creditting.\",\n",
    "    # CD rounding that is perhaps overcreditting\n",
    "    \"ACR427\": \"OPDR reports CD of 2.445%, but OPDRreported seems to assume CD == 2.4%. Depending on how rounding is treated, could be overcreditting.\",\n",
    "    \"ACR360\": \"OPDR reports CD of 0.67% but OPDRreported seems to assume CD ~= 0.66531%. Likely not overcreditting but need clarification on rounding\",\n",
    "    # Harvest\n",
    "    \"ACR247\": \"Large harvest component -- still exploring.\",\n",
    "    \"CAR1217\": \"Large harvest component -- still exploring.\",\n",
    "    \"CAR1197\": \"Large harvest component -- still exploring.\",\n",
    "    \"ACR276\": \"Large harvest component -- still exploring.\",\n",
    "    # <= 100 & > 2; All explainable by CDreported != CDused\n",
    "    \"CAR1205\": \"TK -- recently entered, could have mistake\",\n",
    "    \"CAR1032\": \"Whole value so likely not rounding, BH also off by 2\",\n",
    "    \"CAR1094\": \"Could be caused by unrounded CD\",\n",
    "    \"ACR257\": \"Could be caused by unrounded CD\",\n",
    "    \"CAR1204\": \"Could be caused by unrounded CD\",\n",
    "    \"ACR256\": \"Could be caused by unrounded CD\",\n",
    "    \"ACR361\": \"Could be caused by unrounded CD [TK Double Check]\",\n",
    "    # Errors < 2 -- Explained by Leakage/CD rounding\n",
    "    \"ACR260\": \"Likely Rounding (CD and/or Leakage)\",\n",
    "    \"ACR288\": \"Likely Rounding (CD and/or Leakage)\",\n",
    "    \"CAR1314\": \"Likely Rounding (CD and/or Leakage)\",\n",
    "    \"ACR423\": \"Likely Rounding (CD and/or Leakage)\",\n",
    "    \"ACR182\": \"Likely Rounding (CD and/or Leakage)\",\n",
    "    \"CAR1104\": \"TK\",\n",
    "    # Errors < 2 -- Have CD == 0 but still could be leakage rounding error? Have confirmed data entered correctly\n",
    "    \"CAR1066\": \"CD == 0. Intermediate rounding?\",\n",
    "    \"ACR393\": \"CD == 0. Intermediate rounding?\",\n",
    "}"
   ]
  },
  {
   "cell_type": "code",
   "execution_count": null,
   "metadata": {},
   "outputs": [],
   "source": [
    "full_comparison = compare_allocations.join(\n",
    "    delta_issuance.rename(\"delta_reported_less_issuance\")\n",
    ").join(delta_opdr.rename(\"delta_reported_less_calculated\"))"
   ]
  },
  {
   "cell_type": "code",
   "execution_count": null,
   "metadata": {},
   "outputs": [],
   "source": [
    "full_comparison[\"comment\"] = full_comparison.index.map(comments)"
   ]
  },
  {
   "cell_type": "code",
   "execution_count": null,
   "metadata": {},
   "outputs": [],
   "source": [
    "full_comparison.to_csv(\"../data/odpr_issuance_math.csv\", float_format=\"%.3f\")"
   ]
  },
  {
   "cell_type": "code",
   "execution_count": null,
   "metadata": {},
   "outputs": [],
   "source": [
    "# reversal #s?"
   ]
  },
  {
   "cell_type": "markdown",
   "metadata": {},
   "source": [
    "- ACR288: Using Initial OPDR reported value of 12.37% would yield 1.1 ARBOC difference\n",
    "- CAR1046: see allocation analysis -- think that documentation out of date. \n",
    "- ACR425: If use 10.6% 3.2 ARBOC difference\n",
    "- ACR458: If use 10.6% 78.478 ARBOC difference\n",
    "- CAR1130: Issuance table yields 19.21 -- feeds into previous discussion of rounding. RP1 OPDR and Initial use 19.2, but section 7.3 of Initial OPDR reports 19.24 percent. Issuance yields 19.21 -- what is going on here? \n",
    "\n",
    "## semi-unrelated\n",
    "- CAR1180: Undocumented change in risk reversal from Listing to RP1 because Initial is absent. What does FOP say about changes between listing and initial?\n",
    "- CAR1264: similar undocumented change -- looks like we only have an outdated Initial OPDR\n",
    "\n",
    "Questions of rounding become even more important when we get to confidence deductions.\n"
   ]
  },
  {
   "cell_type": "code",
   "execution_count": null,
   "metadata": {},
   "outputs": [],
   "source": [
    "delta_allocate.loc[\"CAR1104\"]"
   ]
  },
  {
   "cell_type": "code",
   "execution_count": null,
   "metadata": {},
   "outputs": [],
   "source": [
    "sns.regplot(x=\"calc_alloc\", y=\"allocation\", data=compare_allocations, fit_reg=True)"
   ]
  },
  {
   "cell_type": "code",
   "execution_count": null,
   "metadata": {},
   "outputs": [],
   "source": [
    "issuance_reversal = (\n",
    "    (issuance_first_rp[\"buffer_pool\"] / issuance_first_rp[\"allocation\"])\n",
    "    .round(4)\n",
    "    .rename(\"issuance_reversal\")\n",
    ")"
   ]
  },
  {
   "cell_type": "code",
   "execution_count": null,
   "metadata": {},
   "outputs": [],
   "source": [
    "reported_reversal = retro_db['project']['reversal_risk'].rename('reported_reversal')\n"
   ]
  },
  {
   "cell_type": "code",
   "execution_count": null,
   "metadata": {},
   "outputs": [],
   "source": [
    "reversal_risks = (\n",
    "    pd.concat([reported_reversal.round(4), issuance_reversal], axis=1)\n",
    "    .dropna()\n",
    "    .astype(float)\n",
    ")"
   ]
  },
  {
   "cell_type": "code",
   "execution_count": null,
   "metadata": {},
   "outputs": [],
   "source": [
    "reversal_risks.loc[\"CAR1205\"][1]"
   ]
  },
  {
   "cell_type": "code",
   "execution_count": null,
   "metadata": {},
   "outputs": [],
   "source": [
    "reversal_risks[\n",
    "    reversal_risks[\"reported_reversal\"] != reversal_risks[\"issuance_reversal\"]\n",
    "]"
   ]
  },
  {
   "cell_type": "code",
   "execution_count": null,
   "metadata": {},
   "outputs": [],
   "source": [
    "issuance_reversal.round(4)"
   ]
  },
  {
   "cell_type": "code",
   "execution_count": null,
   "metadata": {},
   "outputs": [],
   "source": [
    "(1 - retro_db.loc[\"ACR427\"][\"rp[0]\"][\"confidence_deduction\"]).astype(float).round(6)"
   ]
  },
  {
   "cell_type": "code",
   "execution_count": null,
   "metadata": {},
   "outputs": [],
   "source": [
    "baseline_wood_products = (\n",
    "    retro_db[\"baseline\"][\"components\"][\"ifm_7\"]\n",
    "    + retro_db[\"baseline\"][\"components\"][\"ifm_8\"]\n",
    ")\n",
    "\n",
    "actual_wood_products = (\n",
    "    retro_db[f\"rp[0]\"][\"components\"][\"ifm_7\"]\n",
    "    + retro_db[f\"rp[0]\"][\"components\"][\"ifm_8\"]\n",
    ")\n",
    "leakage_adjusted = (actual_wood_products - baseline_wood_products) * 0.8\n",
    "\n",
    "leakage_adjusted.loc[\"ACR247\"]"
   ]
  },
  {
   "cell_type": "code",
   "execution_count": null,
   "metadata": {},
   "outputs": [],
   "source": [
    "retro_db.loc[\"ACR360\"][\"baseline\"][\"components\"].values"
   ]
  },
  {
   "cell_type": "code",
   "execution_count": null,
   "metadata": {},
   "outputs": [],
   "source": [
    "(1 - data[f'rp[{rp}]']['confidence_deduction'])"
   ]
  },
  {
   "cell_type": "code",
   "execution_count": null,
   "metadata": {},
   "outputs": [],
   "source": [
    "pd.to_numeric(\"0.0067\")dd"
   ]
  }
 ],
 "metadata": {
  "kernelspec": {
   "display_name": "Python 3",
   "language": "python",
   "name": "python3"
  },
  "language_info": {
   "codemirror_mode": {
    "name": "ipython",
    "version": 3
   },
   "file_extension": ".py",
   "mimetype": "text/x-python",
   "name": "python",
   "nbconvert_exporter": "python",
   "pygments_lexer": "ipython3",
   "version": "3.7.4"
  }
 },
 "nbformat": 4,
 "nbformat_minor": 2
}
