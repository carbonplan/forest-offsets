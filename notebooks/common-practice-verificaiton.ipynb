{
 "cells": [
  {
   "cell_type": "code",
   "execution_count": null,
   "id": "completed-twist",
   "metadata": {},
   "outputs": [],
   "source": [
    "import fsspec\n",
    "import json\n",
    "import os\n",
    "\n",
    "import matplotlib.pyplot as plt\n",
    "import numpy as np\n",
    "import pandas as pd\n",
    "import seaborn as sns\n",
    "from sklearn.metrics import mean_squared_error\n",
    "import statsmodels.formula.api as smf\n",
    "\n",
    "from carbonplan_forest_offsets.data import cat\n",
    "from carbonplan_forest_offsets.analysis import rfia\n",
    "\n",
    "from carbonplan import styles\n",
    "\n",
    "styles.mpl.set_theme(style=\"carbonplan_light\", font_scale=1.5)\n",
    "colors = styles.colors.light"
   ]
  },
  {
   "cell_type": "code",
   "execution_count": null,
   "id": "threatened-reunion",
   "metadata": {},
   "outputs": [],
   "source": [
    "project_db = cat.project_db_json.read()"
   ]
  },
  {
   "cell_type": "code",
   "execution_count": null,
   "id": "quarterly-bullet",
   "metadata": {},
   "outputs": [],
   "source": [
    "used_assessment_areas = list(\n",
    "    set(\n",
    "        [\n",
    "            assessment_area[\"code\"]\n",
    "            for project in project_db\n",
    "            for assessment_area in project[\"assessment_areas\"]\n",
    "        ]\n",
    "    )\n",
    ")"
   ]
  },
  {
   "cell_type": "code",
   "execution_count": null,
   "id": "bacterial-merchant",
   "metadata": {},
   "outputs": [],
   "source": [
    "units = \"(tCO2e acre$^{-1}$)\""
   ]
  },
  {
   "cell_type": "code",
   "execution_count": null,
   "id": "fifth-conducting",
   "metadata": {},
   "outputs": [],
   "source": [
    "arb_numbers = cat.arb_common_practice.read()"
   ]
  },
  {
   "cell_type": "code",
   "execution_count": null,
   "id": "wanted-outreach",
   "metadata": {},
   "outputs": [],
   "source": [
    "arb_numbers.site_class.unique()"
   ]
  },
  {
   "cell_type": "code",
   "execution_count": null,
   "id": "nuclear-section",
   "metadata": {},
   "outputs": [],
   "source": [
    "assessment_areas = arb_numbers.set_index(\"aa_code\")[\"site_class\"].to_dict()\n",
    "\n",
    "rfia_results = []\n",
    "for row in arb_numbers.itertuples():\n",
    "    if row.aa_code in used_assessment_areas:\n",
    "        try:\n",
    "            rfia_data = rfia.load_rfia_data(row.aa_code, site_class=row.site_class)\n",
    "        except:\n",
    "            print(row.aa_code)\n",
    "            continue\n",
    "        cp_per_inventory = rfia_data.groupby(\"YEAR\").apply(rfia.get_rfia_slag_co2e_acre)\n",
    "\n",
    "        median_cp = cp_per_inventory.loc[\n",
    "            (cp_per_inventory.index <= 2013) & (cp_per_inventory.index >= 2010)\n",
    "        ].median()\n",
    "\n",
    "        # if np.isnan(median_cp):\n",
    "        #    median_cp = cp_per_inventory.loc[(cp_per_inventory.index == 2010)].median()\n",
    "\n",
    "        if np.isnan(median_cp):\n",
    "            # when stitch evals across states/supersections, some old inventories are missing\n",
    "            # specifically assessment areas: 82, 93, 94, 228, 229 [WA/OR/ID mix?]\n",
    "            # in this instance -- and only in this instance -- look to more recent inventorys\n",
    "            median_cp = cp_per_inventory.loc[(cp_per_inventory.index >= 2010)].median()\n",
    "        rfia_results.append((row.aa_code, row.site_class, median_cp))\n",
    "\n",
    "    rfia_df = pd.DataFrame(rfia_results, columns=[\"aa_code\", \"site_class\", \"rfia\"])\n",
    "    comparison = arb_numbers.join(\n",
    "        rfia_df.set_index([\"aa_code\", \"site_class\"]), on=[\"aa_code\", \"site_class\"]\n",
    "    )"
   ]
  },
  {
   "cell_type": "code",
   "execution_count": null,
   "id": "detailed-stand",
   "metadata": {},
   "outputs": [],
   "source": [
    "sns.displot(\n",
    "    data=comparison[[\"rfia\", \"common_practice\"]].dropna(), palette=[\"g\", \"k\"], bins=25, alpha=0.25\n",
    ")"
   ]
  },
  {
   "cell_type": "code",
   "execution_count": null,
   "id": "retired-olympus",
   "metadata": {},
   "outputs": [],
   "source": [
    "comparison = comparison.dropna()\n",
    "params = smf.ols(\"common_practice~rfia\", data=comparison).fit().params\n",
    "rmse = mean_squared_error(comparison[\"common_practice\"], comparison[\"rfia\"]) ** 0.5"
   ]
  },
  {
   "cell_type": "code",
   "execution_count": null,
   "id": "configured-prediction",
   "metadata": {},
   "outputs": [],
   "source": [
    "r2 = (comparison.corr() ** 2)[\"common_practice\"][\"rfia\"]\n",
    "display(r2)"
   ]
  },
  {
   "cell_type": "code",
   "execution_count": null,
   "id": "decimal-violation",
   "metadata": {},
   "outputs": [],
   "source": [
    "aa_data = comparison[[\"aa_code\", \"site_class\", \"common_practice\", \"rfia\"]].to_dict(orient=\"records\")"
   ]
  },
  {
   "cell_type": "code",
   "execution_count": null,
   "id": "banner-secondary",
   "metadata": {},
   "outputs": [],
   "source": [
    "g = sns.FacetGrid(data=comparison, height=4.5)\n",
    "g.map(plt.scatter, \"rfia\", \"common_practice\", s=175, alpha=0.5, color=\".3\")\n",
    "\n",
    "EXTENT = 215\n",
    "ticks = np.arange(0, 201, 50)\n",
    "plt.xlim(0, EXTENT)\n",
    "plt.ylim(0, EXTENT)\n",
    "plt.yticks(ticks)\n",
    "plt.xticks(ticks)\n",
    "\n",
    "plt.plot((0, EXTENT), (0, EXTENT), lw=3, ls=\"--\", color=\"r\")\n",
    "\n",
    "plt.ylabel(f\"ARB Common Practice\\n{units}\")\n",
    "plt.xlabel(f\"rFIA Common Practice\\n{units}\")\n",
    "\n",
    "g.axes[0][0].annotate(\n",
    "    f\"R$^{2}$: {r2:.2f}\\nSlope: {params['rfia']:.2f}\\nRMSE: {rmse:.2f}\",\n",
    "    xy=(0.6, 0.25),\n",
    "    xycoords=\"figure fraction\",\n",
    ")"
   ]
  },
  {
   "cell_type": "code",
   "execution_count": null,
   "id": "solid-velvet",
   "metadata": {},
   "outputs": [],
   "source": [
    "store = {}\n",
    "for project in project_db:\n",
    "    slag_store = []\n",
    "    for assessment_area in project[\"assessment_areas\"]:\n",
    "        if assessment_area[\"code\"] != 999:\n",
    "\n",
    "            aa_slag = comparison.loc[\n",
    "                (comparison[\"aa_code\"] == assessment_area[\"code\"])\n",
    "                & (comparison[\"site_class\"] == assessment_area[\"site_class\"]),\n",
    "                \"rfia\",\n",
    "            ].mean()\n",
    "            if np.isnan(aa_slag):\n",
    "\n",
    "                # used to have `all` but got split in 2015\n",
    "                if assessment_area[\"site_class\"] == \"all\":\n",
    "                    aa_slag = comparison.loc[\n",
    "                        (comparison[\"aa_code\"] == assessment_area[\"code\"]), \"rfia\"\n",
    "                    ].mean()\n",
    "\n",
    "                # used to be split but got combined in 2015\n",
    "                else:\n",
    "                    aa_slag = comparison.loc[\n",
    "                        (comparison[\"aa_code\"] == assessment_area[\"code\"])\n",
    "                        & (comparison[\"site_class\"] == \"all\"),\n",
    "                        \"rfia\",\n",
    "                    ].mean()\n",
    "\n",
    "            if np.isnan(aa_slag):\n",
    "                continue\n",
    "                raise ValueError(\"aa_slag is nan\")\n",
    "            weighted_slag = aa_slag * assessment_area[\"acreage\"] / project[\"acreage\"]\n",
    "            slag_store.append(weighted_slag)\n",
    "\n",
    "            store[project[\"opr_id\"]] = sum(slag_store)"
   ]
  },
  {
   "cell_type": "code",
   "execution_count": null,
   "id": "effective-backing",
   "metadata": {},
   "outputs": [],
   "source": [
    "cp = {project[\"opr_id\"]: project[\"carbon\"][\"common_practice\"][\"value\"] for project in project_db}\n",
    "\n",
    "per_proj_cp = pd.concat(\n",
    "    [pd.Series(store).rename(\"ours\"), pd.Series(cp).rename(\"theirs\")], axis=1\n",
    ").dropna()\n",
    "\n",
    "per_proj_r2 = per_proj_cp.corr()[\"ours\"][\"theirs\"] ** 2\n",
    "\n",
    "per_proj_rmse = mean_squared_error(per_proj_cp[\"ours\"], per_proj_cp[\"theirs\"]) ** 0.5"
   ]
  },
  {
   "cell_type": "code",
   "execution_count": null,
   "id": "listed-leone",
   "metadata": {},
   "outputs": [],
   "source": [
    "proj_data = (\n",
    "    per_proj_cp.reset_index()\n",
    "    .rename(columns={\"index\": \"opr_id\", \"theirs\": \"project_reported\", \"ours\": \"recalculated\"})\n",
    "    .to_dict(orient=\"records\")\n",
    ")"
   ]
  },
  {
   "cell_type": "code",
   "execution_count": null,
   "id": "complete-casting",
   "metadata": {},
   "outputs": [],
   "source": [
    "g = sns.FacetGrid(data=per_proj_cp, height=4.5)\n",
    "g.map(plt.scatter, \"ours\", \"theirs\", s=175, alpha=0.5, color=\".3\")\n",
    "\n",
    "EXTENT = 240\n",
    "ticks = np.arange(0, 201, 50)\n",
    "plt.xlim(0, EXTENT)\n",
    "plt.ylim(0, EXTENT)\n",
    "plt.yticks(ticks)\n",
    "plt.xticks(ticks)\n",
    "\n",
    "plt.plot((0, EXTENT), (0, EXTENT), lw=3, ls=\"--\", color=\"r\")\n",
    "\n",
    "plt.ylabel(f\"Project Reported\\nCommon Practice\\n{units}\")\n",
    "plt.xlabel(f\"Project Recalculated\\nCommon Practice\\n{units}\")\n",
    "\n",
    "g.axes[0][0].annotate(\n",
    "    f\"R$^{2}$: {per_proj_r2:.2f}\\nRMSE: {per_proj_rmse:.2f}\",\n",
    "    xy=(0.6, 0.35),\n",
    "    xycoords=\"figure fraction\",\n",
    ")\n",
    "# fn = \"/home/jovyan/pub-figs/per_project_cp_compare.svg\"\n",
    "# plt.savefig(fn, dpi=300, bbox_inches=\"tight\")"
   ]
  },
  {
   "cell_type": "code",
   "execution_count": null,
   "id": "annual-tyler",
   "metadata": {},
   "outputs": [],
   "source": [
    "d = {\"assessment_areas\": aa_data, \"projects\": proj_data}\n",
    "\n",
    "with fsspec.open(\n",
    "    \"az://carbonplan-retro/results/common-practice-verification.json\",\n",
    "    account_key=os.environ[\"BLOB_ACCOUNT_KEY\"],\n",
    "    account_name=\"carbonplan\",\n",
    "    mode=\"w\",\n",
    ") as f:\n",
    "    json.dump(d, f)"
   ]
  }
 ],
 "metadata": {
  "kernelspec": {
   "display_name": "Python 3",
   "language": "python",
   "name": "python3"
  },
  "language_info": {
   "codemirror_mode": {
    "name": "ipython",
    "version": 3
   },
   "file_extension": ".py",
   "mimetype": "text/x-python",
   "name": "python",
   "nbconvert_exporter": "python",
   "pygments_lexer": "ipython3",
   "version": "3.8.8"
  }
 },
 "nbformat": 4,
 "nbformat_minor": 5
}
