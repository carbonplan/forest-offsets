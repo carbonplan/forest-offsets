{
 "cells": [
  {
   "cell_type": "code",
   "execution_count": null,
   "id": "allied-bottom",
   "metadata": {},
   "outputs": [],
   "source": [
    "from collections import defaultdict, Counter\n",
    "import fsspec\n",
    "import json\n",
    "import os\n",
    "\n",
    "import pandas as pd\n",
    "\n",
    "from carbonplan_forest_offsets.data import cat\n",
    "from carbonplan_forest_offsets.utils import aa_code_to_ss_code"
   ]
  },
  {
   "cell_type": "code",
   "execution_count": null,
   "id": "settled-environment",
   "metadata": {},
   "outputs": [],
   "source": [
    "def get_top_species_by_aa(project):\n",
    "    spcd_per_ss = defaultdict(Counter)\n",
    "    aa_to_ss_d = aa_code_to_ss_code()\n",
    "    for assessment_area in project[\"assessment_areas\"]:\n",
    "        if assessment_area[\"code\"] != 999:\n",
    "            ss = aa_to_ss_d.get(assessment_area[\"code\"])\n",
    "            for species in assessment_area[\"species\"]:\n",
    "                spcd_per_ss[(ss, assessment_area[\"code\"], assessment_area[\"site_class\"])][\n",
    "                    species[\"code\"]\n",
    "                ] += species[\"fraction\"]\n",
    "        else:\n",
    "            all_species = {\n",
    "                species[\"code\"]: species[\"fraction\"] for species in assessment_area[\"species\"]\n",
    "            }\n",
    "            return {(ss, 999, \"all\"): all_species for ss in project[\"supersection_ids\"]}\n",
    "\n",
    "    return spcd_per_ss"
   ]
  },
  {
   "cell_type": "code",
   "execution_count": null,
   "id": "intelligent-charm",
   "metadata": {},
   "outputs": [],
   "source": [
    "with fsspec.open(\n",
    "    \"az://carbonplan-retro/classifications.json\",\n",
    "    account_key=os.environ[\"BLOB_ACCOUNT_KEY\"],\n",
    "    account_name=\"carbonplan\",\n",
    "    mode=\"r\",\n",
    ") as f:\n",
    "    reclassification_weights = json.load(f)\n",
    "\n",
    "aa_to_ss_d = aa_code_to_ss_code()"
   ]
  },
  {
   "cell_type": "code",
   "execution_count": null,
   "id": "overhead-quarter",
   "metadata": {},
   "outputs": [],
   "source": [
    "project_db = cat.project_db_json.read()\n",
    "spcd_to_name = cat.fia_species_names.read()[0]\n",
    "fia_fortyp_names = cat.fia_fortyp_to_common_name.read()[0]"
   ]
  },
  {
   "cell_type": "code",
   "execution_count": null,
   "id": "therapeutic-strand",
   "metadata": {},
   "outputs": [],
   "source": [
    "fia_fortyp_names[\"104\"] = \"Eastern white pine / eastern hemlock\"\n",
    "fia_fortyp_names[\"266\"] = \"Engelmann spruce / subalpine fir\"\n",
    "fia_fortyp_names[\"124\"] = \"Red spruce / balsam fir\"\n",
    "fia_fortyp_names[\"371\"] = \"California mixed conifer\"\n",
    "fia_fortyp_names[\"401\"] = \"Eastern white pine / northern red oak / white ash\"\n",
    "fia_fortyp_names[\"403\"] = \"Longleaf pine / oak\"\n",
    "fia_fortyp_names[\"404\"] = \"Shortleaf pine / oak\"\n",
    "fia_fortyp_names[\"405\"] = \"Virginia pine / southern red oak\"\n",
    "fia_fortyp_names[\"516\"] = \"Cherry / white ash / yellow-poplar\""
   ]
  },
  {
   "cell_type": "code",
   "execution_count": null,
   "id": "limiting-chart",
   "metadata": {},
   "outputs": [],
   "source": [
    "records = []\n",
    "for project in project_db:\n",
    "    if project[\"opr_id\"] != \"CAR1\":\n",
    "        try:\n",
    "            top_species = get_top_species_by_aa(project)\n",
    "            for k, species_fraction in top_species.items():\n",
    "                ss_id, aa_id, _ = k\n",
    "                classification_key = f\"({ss_id}, {aa_id})\"\n",
    "                proj_class = reclassification_weights[project[\"opr_id\"]][classification_key]\n",
    "                classifications_arr = [\n",
    "                    (fia_fortyp_names.get(str(int(float(k))), f\"error-{k}\"), v)\n",
    "                    for k, v in proj_class.items()\n",
    "                    if v > 0.1\n",
    "                ]\n",
    "                species_arr = [\n",
    "                    {\"name\": spcd_to_name.get(str(k), f\"none-{k}\"), \"fraction\": v}\n",
    "                    for k, v in species_fraction.items()\n",
    "                    if v > 0.10\n",
    "                ]\n",
    "                record = {\n",
    "                    \"id\": project[\"opr_id\"],\n",
    "                    \"aa_id\": aa_id,\n",
    "                    \"ss_id\": ss_id,\n",
    "                    \"classification\": classifications_arr,\n",
    "                    \"species\": species_arr,\n",
    "                }\n",
    "                records.append(record)\n",
    "        except:\n",
    "            # raise\n",
    "            print(project[\"opr_id\"])\n",
    "            # display(project)"
   ]
  },
  {
   "cell_type": "code",
   "execution_count": null,
   "id": "complimentary-evanescence",
   "metadata": {},
   "outputs": [],
   "source": [
    "df = pd.DataFrame()\n",
    "df[\"Project\"] = [d[\"id\"] for d in records]\n",
    "df[\"Supersection\"] = [d[\"ss_id\"] for d in records]\n",
    "df[\"Assessment Area\"] = [d[\"aa_id\"] for d in records]\n",
    "df[\"Species\"] = [\n",
    "    \"\\n\".join(\n",
    "        [\n",
    "            str(s[\"name\"]).capitalize() + \" : \" + \"%.1f\" % (s[\"fraction\"] * 100) + \"%\"\n",
    "            for s in d[\"species\"]\n",
    "        ]\n",
    "    )\n",
    "    for d in records\n",
    "]\n",
    "df[\"Classification\"] = [\n",
    "    \"\\n\".join(\n",
    "        [str(s[0]).capitalize() + \" : \" + \"%.1f\" % (s[1] * 100) + \"%\" for s in d[\"classification\"]]\n",
    "    )\n",
    "    for d in records\n",
    "]"
   ]
  },
  {
   "cell_type": "code",
   "execution_count": null,
   "id": "naked-acrobat",
   "metadata": {},
   "outputs": [],
   "source": [
    "with fsspec.open(\n",
    "    \"az://carbonplan-retro/results/reclassification-labels.json\",\n",
    "    account_key=os.environ[\"BLOB_ACCOUNT_KEY\"],\n",
    "    account_name=\"carbonplan\",\n",
    "    mode=\"w\",\n",
    ") as f:\n",
    "    json.dump(records, f)"
   ]
  }
 ],
 "metadata": {
  "kernelspec": {
   "display_name": "Python 3",
   "language": "python",
   "name": "python3"
  },
  "language_info": {
   "codemirror_mode": {
    "name": "ipython",
    "version": 3
   },
   "file_extension": ".py",
   "mimetype": "text/x-python",
   "name": "python",
   "nbconvert_exporter": "python",
   "pygments_lexer": "ipython3",
   "version": "3.8.8"
  }
 },
 "nbformat": 4,
 "nbformat_minor": 5
}
