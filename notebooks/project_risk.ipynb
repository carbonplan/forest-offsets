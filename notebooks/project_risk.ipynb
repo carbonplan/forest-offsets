{
 "cells": [
  {
   "cell_type": "markdown",
   "metadata": {},
   "source": [
    "<img width=\"50\" src=\"https://carbonplan-assets.s3.amazonaws.com/monogram/dark-small.png\" style=\"margin-left:0px;margin-top:20px\"/>\n",
    "\n",
    "# Project Fire Risk\n",
    "\n",
    "_by Jeremy Freeman (CarbonPlan), November 28, 2020_\n",
    "\n",
    "This notebook shows a couple different ways of extracting the fire risk for a forest carbon project\n",
    "based on historical records.\n"
   ]
  },
  {
   "cell_type": "code",
   "execution_count": null,
   "metadata": {},
   "outputs": [],
   "source": [
    "import fsspec\n",
    "import numpy as np\n",
    "import pandas as pd\n",
    "import xarray as xr\n",
    "import geopandas as gp\n",
    "import regionmask as rm\n",
    "from scipy.stats import binom\n",
    "from shapely.geometry import Point"
   ]
  },
  {
   "cell_type": "code",
   "execution_count": null,
   "metadata": {},
   "outputs": [],
   "source": [
    "%matplotlib inline\n",
    "from showit import image\n",
    "import matplotlib.pyplot as plt"
   ]
  },
  {
   "cell_type": "markdown",
   "metadata": {},
   "source": [
    "First we load the monthly MTBS data\n"
   ]
  },
  {
   "cell_type": "code",
   "execution_count": null,
   "metadata": {},
   "outputs": [],
   "source": [
    "mapper = fsspec.get_mapper(\n",
    "    \"/Users/freeman/workdir/carbonplan-data/processed/mtbs/conus/4000m/monthly.zarr\"\n",
    ")\n",
    "da = xr.open_zarr(mapper)[\"monthly\"]\n",
    "da.load()"
   ]
  },
  {
   "cell_type": "markdown",
   "metadata": {},
   "source": [
    "We'll also load \"supersections\" which we'll use for computing regional statistics\n"
   ]
  },
  {
   "cell_type": "code",
   "execution_count": null,
   "metadata": {},
   "outputs": [],
   "source": [
    "regions = gp.read_file(\n",
    "    \"/Users/freeman/workdir/carbonplan-data/raw/ecoregions/supersections.geojson\"\n",
    ")"
   ]
  },
  {
   "cell_type": "markdown",
   "metadata": {},
   "source": [
    "And we'll compute masks from these regions\n"
   ]
  },
  {
   "cell_type": "code",
   "execution_count": null,
   "metadata": {},
   "outputs": [],
   "source": [
    "masks = rm.mask_3D_geopandas(regions, da)"
   ]
  },
  {
   "cell_type": "markdown",
   "metadata": {},
   "source": [
    "Now we'll demo two examples of aggregating within regions to extract historical fire statistics.\n"
   ]
  },
  {
   "cell_type": "code",
   "execution_count": null,
   "metadata": {},
   "outputs": [],
   "source": [
    "def integrated_risk(p):\n",
    "    return (1 - binom.cdf(0, 100, p)) * 100"
   ]
  },
  {
   "cell_type": "markdown",
   "metadata": {},
   "source": [
    "## Querying a project based on ecoregion\n"
   ]
  },
  {
   "cell_type": "markdown",
   "metadata": {},
   "source": [
    "First we find the ecoregion a project belongs to\n"
   ]
  },
  {
   "cell_type": "code",
   "execution_count": null,
   "metadata": {},
   "outputs": [],
   "source": [
    "p = Point(-121.183861, 42.672889)"
   ]
  },
  {
   "cell_type": "code",
   "execution_count": null,
   "metadata": {},
   "outputs": [],
   "source": [
    "ecoregion = [i for i in regions.index if regions.geometry[i].contains(p)][0]"
   ]
  },
  {
   "cell_type": "markdown",
   "metadata": {},
   "source": [
    "Get integrated fire risk\n"
   ]
  },
  {
   "cell_type": "code",
   "execution_count": null,
   "metadata": {},
   "outputs": [],
   "source": [
    "integrated_risk(\n",
    "    da.where(masks[ecoregion])\n",
    "    .mean([\"x\", \"y\"])\n",
    "    .groupby(\"time.year\")\n",
    "    .sum()\n",
    "    .sel(year=slice(\"2001\", \"2018\"))\n",
    "    .mean()\n",
    ")"
   ]
  },
  {
   "cell_type": "markdown",
   "metadata": {},
   "source": [
    "Plot burn area over time\n"
   ]
  },
  {
   "cell_type": "code",
   "execution_count": null,
   "metadata": {},
   "outputs": [],
   "source": [
    "da.where(masks[ecoregion]).mean([\"x\", \"y\"]).groupby(\"time.year\").sum().sel(\n",
    "    year=slice(\"1984\", \"2018\")\n",
    ").plot()"
   ]
  },
  {
   "cell_type": "markdown",
   "metadata": {},
   "source": [
    "## Querying a project based on location\n"
   ]
  },
  {
   "cell_type": "markdown",
   "metadata": {},
   "source": [
    "In this version we define a disc with fixed radius at the center of a location and integrate over\n",
    "that\n"
   ]
  },
  {
   "cell_type": "code",
   "execution_count": null,
   "metadata": {},
   "outputs": [],
   "source": [
    "center = [-121.183861, 42.672889]"
   ]
  },
  {
   "cell_type": "code",
   "execution_count": null,
   "metadata": {},
   "outputs": [],
   "source": [
    "lat = da[\"lat\"]\n",
    "lon = da[\"lon\"]\n",
    "dist = (lon - center[0]) ** 2 + (lat - center[1]) ** 2\n",
    "mask = dist < 0.5"
   ]
  },
  {
   "cell_type": "code",
   "execution_count": null,
   "metadata": {},
   "outputs": [],
   "source": [
    "integrated_risk(\n",
    "    da.where(mask)\n",
    "    .mean([\"x\", \"y\"])\n",
    "    .groupby(\"time.year\")\n",
    "    .sum()\n",
    "    .sel(year=slice(\"2001\", \"2018\"))\n",
    "    .mean()\n",
    ")"
   ]
  },
  {
   "cell_type": "markdown",
   "metadata": {},
   "source": [
    "## Querying a project based on the shapefile\n"
   ]
  },
  {
   "cell_type": "markdown",
   "metadata": {},
   "source": [
    "Finally, we can use a shapefile for a project and integrate over that area\n"
   ]
  },
  {
   "cell_type": "code",
   "execution_count": null,
   "metadata": {},
   "outputs": [],
   "source": [
    "region = gp.read_file(\"CAR1314.json\")"
   ]
  },
  {
   "cell_type": "code",
   "execution_count": null,
   "metadata": {},
   "outputs": [],
   "source": [
    "mask = rm.mask_3D_geopandas(region1.simplify(0.002).buffer(0.005), da)[0]"
   ]
  },
  {
   "cell_type": "code",
   "execution_count": null,
   "metadata": {},
   "outputs": [],
   "source": [
    "integrated_risk(\n",
    "    da.where(mask)\n",
    "    .mean([\"x\", \"y\"])\n",
    "    .groupby(\"time.year\")\n",
    "    .sum()\n",
    "    .sel(year=slice(\"2001\", \"2018\"))\n",
    "    .mean()\n",
    ")"
   ]
  },
  {
   "cell_type": "code",
   "execution_count": null,
   "metadata": {},
   "outputs": [],
   "source": [
    "da.where(mask).mean([\"x\", \"y\"]).groupby(\"time.year\").sum().plot()"
   ]
  }
 ],
 "metadata": {
  "kernelspec": {
   "display_name": "Python 3",
   "language": "python",
   "name": "python3"
  },
  "language_info": {
   "codemirror_mode": {
    "name": "ipython",
    "version": 3
   },
   "file_extension": ".py",
   "mimetype": "text/x-python",
   "name": "python",
   "nbconvert_exporter": "python",
   "pygments_lexer": "ipython3",
   "version": "3.7.8"
  }
 },
 "nbformat": 4,
 "nbformat_minor": 4
}
