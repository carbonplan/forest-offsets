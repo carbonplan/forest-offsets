{
 "cells": [
  {
   "cell_type": "markdown",
   "metadata": {},
   "source": [
    "<img width=\"50\" src=\"https://carbonplan-assets.s3.amazonaws.com/monogram/dark-small.png\" style=\"margin-left:0px;margin-top:20px\"/>\n",
    "\n",
    "# Geographic Arbitrage\n",
    "\n",
    "_by Joe Hamman (CarbonPlan) and Grayson Badgley, January 25, 2021_\n"
   ]
  },
  {
   "cell_type": "code",
   "execution_count": null,
   "metadata": {
    "collapsed": true,
    "jupyter": {
     "outputs_hidden": true
    }
   },
   "outputs": [],
   "source": [
    "!pip install descartes\n",
    "!pip install -e .."
   ]
  },
  {
   "cell_type": "code",
   "execution_count": null,
   "metadata": {},
   "outputs": [],
   "source": [
    "import geopandas\n",
    "import matplotlib.pyplot as plt\n",
    "from shapely.geometry import Point\n",
    "from sklearn.neighbors import KDTree\n",
    "import numpy as np\n",
    "\n",
    "from carbonplan import styles\n",
    "from carbonplan.data import cat as core_cat\n",
    "from carbonplan_retro.data import cat\n",
    "from carbonplan_retro.load.fia import to_geodataframe\n",
    "from carbonplan_retro.load.fia import fia, load_fia_long\n",
    "\n",
    "\n",
    "styles.mpl.set_theme(style=\"carbonplan_light\")\n",
    "colors = styles.colors.light"
   ]
  },
  {
   "cell_type": "markdown",
   "metadata": {},
   "source": [
    "## Input data\n",
    "\n",
    "#### 4km Albers Equal Area Grid\n"
   ]
  },
  {
   "cell_type": "code",
   "execution_count": null,
   "metadata": {},
   "outputs": [],
   "source": [
    "ds = core_cat.grids.conus4k.to_dask()\n",
    "\n",
    "display(ds)\n",
    "\n",
    "mask = ds.mask.values.flat > 0\n",
    "crs = ds.crs.attrs[\"crs_wkt\"]"
   ]
  },
  {
   "cell_type": "markdown",
   "metadata": {},
   "source": [
    "#### FIA Condition Level Table\n"
   ]
  },
  {
   "cell_type": "code",
   "execution_count": null,
   "metadata": {},
   "outputs": [],
   "source": [
    "df = load_fia_long(\"ca\")\n",
    "\n",
    "# project to Albers\n",
    "df = df.to_crs(crs)\n",
    "\n",
    "display(df.head())"
   ]
  },
  {
   "cell_type": "markdown",
   "metadata": {},
   "source": [
    "#### Supersection geometries\n"
   ]
  },
  {
   "cell_type": "code",
   "execution_count": null,
   "metadata": {},
   "outputs": [],
   "source": [
    "supersections = cat.supersections.read().set_index(\"SSection\").to_crs(crs=crs)\n",
    "section_name = \"Southern Cascades\"  # we'll use this for testing\n",
    "supersections.loc[[section_name]].plot()"
   ]
  },
  {
   "cell_type": "markdown",
   "metadata": {},
   "source": [
    "### Create the evaluation mesh\n"
   ]
  },
  {
   "cell_type": "code",
   "execution_count": null,
   "metadata": {},
   "outputs": [],
   "source": [
    "# create the mesh that we will sample from\n",
    "points = [Point(x, y) for x, y in zip(ds.lon.values.flat[mask], ds.lat.values.flat[mask])]\n",
    "\n",
    "mesh = geopandas.GeoDataFrame(\n",
    "    data={\"num\": list(range(len(points)))}, crs=\"epsg:4326\", geometry=points\n",
    ")\n",
    "mesh = mesh.to_crs(crs=crs)\n",
    "mesh.plot(markersize=0.01)"
   ]
  },
  {
   "cell_type": "code",
   "execution_count": null,
   "metadata": {},
   "outputs": [],
   "source": [
    "# show that we can subset the mesh by supersection\n",
    "supersection_mesh = geopandas.clip(mesh, supersections.loc[[section_name]])\n",
    "supersection_mesh.plot(markersize=0.1)"
   ]
  },
  {
   "cell_type": "markdown",
   "metadata": {},
   "source": [
    "Next we want to calculate the average above ground biomass for each mesh location based on its\n",
    "nearest 100 neighbors. For this example, we look at only FORTYPCD < 400. We use a `KDTree` to\n",
    "quickly select the closest points.\n"
   ]
  },
  {
   "cell_type": "code",
   "execution_count": null,
   "metadata": {},
   "outputs": [],
   "source": [
    "# get a subset of the FIA table\n",
    "subset_df = df[df[\"forest_type\"] < 400]\n",
    "\n",
    "# create the KDTree\n",
    "tree = KDTree(np.stack([subset_df.geometry.x.values, subset_df.geometry.y.values], axis=1))\n",
    "\n",
    "# pick a sample point in the mesh\n",
    "pind = 1500\n",
    "p = supersection_mesh.geometry.iloc[pind]\n",
    "xy = (p.x, p.y)\n",
    "\n",
    "# Find the indicies of the nearest 100 points\n",
    "inds = tree.query([xy], k=100, return_distance=False)[0]\n",
    "\n",
    "# Finally, pull out the 100 conds from the FIA table\n",
    "p_plots = subset_df.iloc[inds]"
   ]
  },
  {
   "cell_type": "markdown",
   "metadata": {},
   "source": [
    "A quick visual. Below we plot the full supersection mesh (grey), a single evaluation point (black),\n",
    "and the selected FIA Conditions (red).\n"
   ]
  },
  {
   "cell_type": "code",
   "execution_count": null,
   "metadata": {},
   "outputs": [],
   "source": [
    "fig, ax = plt.subplots(figsize=(5, 10))\n",
    "\n",
    "supersection_mesh.plot(ax=ax, c=colors[\"secondary\"], markersize=1, label=\"sample mesh\")\n",
    "p_plots.plot(ax=ax, c=colors[\"red\"], markersize=2, label=\"fia points\")\n",
    "supersection_mesh.iloc[[pind]].plot(ax=ax, c=colors[\"primary\"], label=\"sample point\")\n",
    "\n",
    "ax.legend()"
   ]
  },
  {
   "cell_type": "markdown",
   "metadata": {},
   "source": [
    "#### The simplest arbitrage map\n",
    "\n",
    "Now, we can calculate a simple version of the arbitrage map by calculating the mean above ground\n",
    "biomass for all mesh locations by taking the average of the 100 closest FIA conditions.\n"
   ]
  },
  {
   "cell_type": "code",
   "execution_count": null,
   "metadata": {},
   "outputs": [],
   "source": [
    "mean_agb = []\n",
    "for p in supersection_mesh.geometry:\n",
    "    xy = p.x, p.y\n",
    "    inds = tree.query([xy], k=100, return_distance=False)[0]\n",
    "    mean_agb.append(subset_df[\"adj_ag_biomass\"].iloc[inds].mean())\n",
    "supersection_mesh[\"mean_agb\"] = mean_agb"
   ]
  },
  {
   "cell_type": "markdown",
   "metadata": {},
   "source": [
    "Now we plot the above ground biomass map.\n"
   ]
  },
  {
   "cell_type": "code",
   "execution_count": null,
   "metadata": {},
   "outputs": [],
   "source": [
    "fig, ax = plt.subplots(figsize=(5, 10))\n",
    "ax = supersection_mesh.plot(\"mean_agb\", cmap=\"Greens\", legend=True, ax=ax, markersize=3)"
   ]
  },
  {
   "cell_type": "markdown",
   "metadata": {},
   "source": [
    "### all together now\n",
    "\n",
    "The cell below is semi-complete but should illustrate how to repeate the steps above for all\n",
    "supersections/assessment areas.\n"
   ]
  },
  {
   "cell_type": "code",
   "execution_count": null,
   "metadata": {},
   "outputs": [],
   "source": [
    "for supersection in supersections:\n",
    "    assessment_areas = ...\n",
    "    for assessment_area in assessment_areas:\n",
    "\n",
    "        subset_df = ...  # e.g. df[df['forest_type'] < 400]\n",
    "\n",
    "        tree = KDTree(np.stack([subset_df.geometry.x.values, subset_df.geometry.y.values], axis=1))\n",
    "\n",
    "        supersection_mesh = geopandas.clip(mesh, supersections.loc[[supersection]])\n",
    "\n",
    "        mean_agb = []\n",
    "        for p in supersection_mesh.geometry:\n",
    "            xy = p.x, p.y\n",
    "            inds = tree.query([xy], k=100, return_distance=False)[0]\n",
    "            mean_agb.append(subset_df[\"adj_ag_biomass\"].iloc[inds].mean())\n",
    "\n",
    "        # add some logic to store/aggregate intermediate results"
   ]
  }
 ],
 "metadata": {
  "kernelspec": {
   "display_name": "Python [conda env:notebook] *",
   "language": "python",
   "name": "conda-env-notebook-py"
  },
  "language_info": {
   "codemirror_mode": {
    "name": "ipython",
    "version": 3
   },
   "file_extension": ".py",
   "mimetype": "text/x-python",
   "name": "python",
   "nbconvert_exporter": "python",
   "pygments_lexer": "ipython3",
   "version": "3.7.9"
  }
 },
 "nbformat": 4,
 "nbformat_minor": 4
}
