{
 "cells": [
  {
   "cell_type": "code",
   "execution_count": null,
   "metadata": {},
   "outputs": [],
   "source": [
    "%load_ext nb_black\n",
    "%load_ext autoreload\n",
    "%autoreload 2\n",
    "\n",
    "import pandas\n",
    "import shutil"
   ]
  },
  {
   "cell_type": "code",
   "execution_count": null,
   "metadata": {},
   "outputs": [],
   "source": [
    "DROPBOX = \"/Users/jhamman/CarbonPlan Dropbox/Projects/Microsoft/Forests-Retrospective\"\n",
    "BUCKET = f\"{DROPBOX}/carbonplan-retro\""
   ]
  },
  {
   "cell_type": "code",
   "execution_count": null,
   "metadata": {},
   "outputs": [],
   "source": [
    "# issuance table\n",
    "shutil.copy(\n",
    "    f\"{DROPBOX}/documents-of-interest/arb/issuance/arboc_issuance_2020-09-09.xlsx\",\n",
    "    f\"{BUCKET}/ancillary/arboc_issuance_2020-09-09.xlsx\",\n",
    ")"
   ]
  },
  {
   "cell_type": "code",
   "execution_count": null,
   "metadata": {},
   "outputs": [],
   "source": [
    "# lookup tables\n",
    "for fname in [\"super_section_lookup.csv\", \"assessment_area_lookup.csv\"]:\n",
    "    shutil.copy(\n",
    "        f\"{DROPBOX}/ancillary-files/{fname}\",\n",
    "        f\"{BUCKET}/ancillary/{fname}\",\n",
    "    )"
   ]
  },
  {
   "cell_type": "code",
   "execution_count": null,
   "metadata": {},
   "outputs": [],
   "source": [
    "print(f\"{BUCKET}/ancillary/{fname}\")"
   ]
  }
 ],
 "metadata": {
  "kernelspec": {
   "display_name": "Python 3",
   "language": "python",
   "name": "python3"
  },
  "language_info": {
   "codemirror_mode": {
    "name": "ipython",
    "version": 3
   },
   "file_extension": ".py",
   "mimetype": "text/x-python",
   "name": "python",
   "nbconvert_exporter": "python",
   "pygments_lexer": "ipython3",
   "version": "3.7.8"
  }
 },
 "nbformat": 4,
 "nbformat_minor": 4
}
