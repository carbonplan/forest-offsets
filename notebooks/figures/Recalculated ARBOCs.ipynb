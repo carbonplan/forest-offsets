{
 "cells": [
  {
   "cell_type": "code",
   "execution_count": null,
   "id": "graduate-bridges",
   "metadata": {},
   "outputs": [],
   "source": [
    "import matplotlib.pyplot as plt\n",
    "import numpy as np\n",
    "import pandas as pd\n",
    "import seaborn as sns\n",
    "\n",
    "from carbonplan_retro.analysis.common_practice import get_arbocs\n",
    "from carbonplan_retro.data import cat\n",
    "\n",
    "from carbonplan import styles\n",
    "\n",
    "styles.mpl.set_theme(style=\"carbonplan_light\", font_scale=1.5)\n",
    "colors = styles.colors.light"
   ]
  },
  {
   "cell_type": "code",
   "execution_count": null,
   "id": "defined-tracker",
   "metadata": {},
   "outputs": [],
   "source": [
    "retro_json = cat.retro_db_light_json.read()\n",
    "arbocs = pd.DataFrame(\n",
    "    {\n",
    "        project[\"opr_id\"]: (\n",
    "            get_arbocs(project[\"baseline\"], project[\"rp_1\"]),\n",
    "            project[\"arbocs\"][\"issuance\"],\n",
    "            project[\"arbocs\"][\"calculated\"],\n",
    "        )\n",
    "        for project in retro_json\n",
    "    }\n",
    ").T.rename(columns={0: \"calculated\", 1: \"issuance\", 2: \"old_calc\"})"
   ]
  },
  {
   "cell_type": "code",
   "execution_count": null,
   "id": "offshore-daughter",
   "metadata": {},
   "outputs": [],
   "source": [
    "g = sns.FacetGrid(data=arbocs / 1_000_000, height=3.5)\n",
    "g.map(plt.scatter, \"calculated\", \"issuance\", s=125, color=\".3\", alpha=0.65)\n",
    "g.axes[0][0].plot((0, 15), (0, 15), lw=3, ls=\"--\", color=\"r\", zorder=-9)\n",
    "plt.xlabel(\"Calculated ARBOCs\\n(Millions)\")\n",
    "plt.ylabel(\"Issued ARBOCs\\n(Millions)\")\n",
    "plt.xlim(0, 15.5)\n",
    "plt.ylim(0, 15.5)\n",
    "\n",
    "g.axes[0][0].set_xticks(np.arange(0, 15.1, 5))\n",
    "g.axes[0][0].set_yticks(np.arange(0, 15.1, 5))\n",
    "plt.savefig(\"/home/jovyan/pub-figs/recalculate_arbocs.pdf\", dpi=300, bbox_inches=\"tight\")"
   ]
  }
 ],
 "metadata": {
  "kernelspec": {
   "display_name": "Python 3",
   "language": "python",
   "name": "python3"
  },
  "language_info": {
   "codemirror_mode": {
    "name": "ipython",
    "version": 3
   },
   "file_extension": ".py",
   "mimetype": "text/x-python",
   "name": "python",
   "nbconvert_exporter": "python",
   "pygments_lexer": "ipython3",
   "version": "3.7.10"
  }
 },
 "nbformat": 4,
 "nbformat_minor": 5
}
