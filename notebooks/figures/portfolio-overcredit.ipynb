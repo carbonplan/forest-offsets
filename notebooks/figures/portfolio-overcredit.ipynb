{
 "cells": [
  {
   "cell_type": "code",
   "execution_count": null,
   "id": "surrounded-extent",
   "metadata": {},
   "outputs": [],
   "source": [
    "import os\n",
    "import json\n",
    "import fsspec\n",
    "\n",
    "import pandas as pd\n",
    "\n",
    "with fsspec.open(\n",
    "    \"az://carbonplan-scratch/overcredited_arbocs.json\",\n",
    "    account_key=os.environ[\"BLOB_ACCOUNT_KEY\"],\n",
    "    account_name=\"carbonplan\",\n",
    "    mode=\"r\",\n",
    ") as f:\n",
    "    d = json.load(f)\n",
    "\n",
    "\n",
    "with fsspec.open(\n",
    "    \"az://carbonplan-retro/remapping/overcredited_arbocs.json\",\n",
    "    account_key=os.environ[\"BLOB_ACCOUNT_KEY\"],\n",
    "    account_name=\"carbonplan\",\n",
    "    mode=\"r\",\n",
    ") as f:\n",
    "    d = json.load(f)\n",
    "\n",
    "import seaborn as sns\n",
    "from carbonplan import styles\n",
    "import matplotlib.pyplot as plt\n",
    "\n",
    "styles.mpl.set_theme(style=\"carbonplan_light\", font_scale=1.5)\n",
    "colors = styles.colors.light\n",
    "\n",
    "\n",
    "import numpy as np\n",
    "\n",
    "from carbonplan_retro.data import cat\n",
    "\n",
    "retro_json = cat.retro_db_light_json.read()"
   ]
  },
  {
   "cell_type": "code",
   "execution_count": null,
   "id": "informative-franklin",
   "metadata": {},
   "outputs": [],
   "source": [
    "def get_portfolio_crediting_errors(fn):\n",
    "    with fsspec.open(\n",
    "        fn,\n",
    "        account_key=os.environ[\"BLOB_ACCOUNT_KEY\"],\n",
    "        account_name=\"carbonplan\",\n",
    "        mode=\"r\",\n",
    "    ) as f:\n",
    "\n",
    "        d = json.load(f)\n",
    "\n",
    "    # this can go once we've run things through again\n",
    "    corrected_oc = {}\n",
    "    for k, v in d.items():\n",
    "        calc_arbocs = [\n",
    "            project[\"arbocs\"][\"calculated\"] for project in retro_json if project[\"opr_id\"] == k\n",
    "        ][0]\n",
    "        corrected_oc[k] = [calc_arbocs - alt_est for alt_est in v[\"alt_arbocs\"]]\n",
    "    df = pd.DataFrame({k: v for k, v in corrected_oc.items() if k != \"ACR360\"})\n",
    "    # df = pd.DataFrame({k: v[\"delta_arbocs\"] for k, v in d.items() if k != \"ACR360\"})\n",
    "    return df"
   ]
  },
  {
   "cell_type": "code",
   "execution_count": null,
   "id": "spoken-onion",
   "metadata": {},
   "outputs": [],
   "source": [
    "res = get_portfolio_crediting_errors(\n",
    "    \"az://carbonplan-retro/results/reclassification-crediting-error.json\"\n",
    ")"
   ]
  },
  {
   "cell_type": "code",
   "execution_count": null,
   "id": "prescribed-plant",
   "metadata": {},
   "outputs": [],
   "source": [
    "with fsspec.open(\n",
    "    \"az://carbonplan-retro/results/reclassification-crediting-error.json\",\n",
    "    account_key=os.environ[\"BLOB_ACCOUNT_KEY\"],\n",
    "    account_name=\"carbonplan\",\n",
    "    mode=\"r\",\n",
    ") as f:\n",
    "\n",
    "    d = json.load(f)\n",
    "\n",
    "del d[\"CAR1102\"]\n",
    "del d[\"ACR360\"]"
   ]
  },
  {
   "cell_type": "code",
   "execution_count": null,
   "id": "vocational-tobago",
   "metadata": {},
   "outputs": [],
   "source": [
    "np.sum([np.percentile(d[k][\"delta_arbocs\"], 50) for k in d.keys()])"
   ]
  },
  {
   "cell_type": "code",
   "execution_count": null,
   "id": "quantitative-legend",
   "metadata": {},
   "outputs": [],
   "source": [
    "res[\"CAR1205\"]"
   ]
  },
  {
   "cell_type": "code",
   "execution_count": null,
   "id": "spectacular-donor",
   "metadata": {},
   "outputs": [],
   "source": [
    "res.sum(axis=1).describe(percentiles=[0.05, 0.95]).round()"
   ]
  },
  {
   "cell_type": "code",
   "execution_count": null,
   "id": "prime-driving",
   "metadata": {},
   "outputs": [],
   "source": [
    "from sklearn.metrics import mean_absolute_error"
   ]
  },
  {
   "cell_type": "code",
   "execution_count": null,
   "id": "soviet-winning",
   "metadata": {},
   "outputs": [],
   "source": [
    "remapped = get_portfolio_crediting_errors(\n",
    "    \"az://carbonplan-retro/remapping/overcredited_arbocs.json\",\n",
    ")"
   ]
  },
  {
   "cell_type": "code",
   "execution_count": null,
   "id": "better-worcester",
   "metadata": {},
   "outputs": [],
   "source": [
    "classify_compare = pd.concat(\n",
    "    [remapped.median(axis=0).rename(\"remapped\"), res.median(axis=0).rename(\"reclass\")], axis=1\n",
    ").dropna()"
   ]
  },
  {
   "cell_type": "code",
   "execution_count": null,
   "id": "specific-utility",
   "metadata": {},
   "outputs": [],
   "source": [
    "(classify_compare[\"remapped\"] - classify_compare[\"reclass\"]).abs().median()"
   ]
  },
  {
   "cell_type": "code",
   "execution_count": null,
   "id": "returning-danish",
   "metadata": {},
   "outputs": [],
   "source": [
    "mean_absolute_error(classify_compare[\"remapped\"], classify_compare[\"reclass\"])"
   ]
  },
  {
   "cell_type": "code",
   "execution_count": null,
   "id": "cognitive-greece",
   "metadata": {},
   "outputs": [],
   "source": [
    "import seaborn as sns\n",
    "\n",
    "sns.lmplot(\"new\", \"old\", data=ij.round(1) / 1_000_000, fit_reg=False)"
   ]
  },
  {
   "cell_type": "code",
   "execution_count": null,
   "id": "italian-crawford",
   "metadata": {},
   "outputs": [],
   "source": [
    "reclass[\"ACR255\"].describe().round()"
   ]
  },
  {
   "cell_type": "code",
   "execution_count": null,
   "id": "growing-chase",
   "metadata": {},
   "outputs": [],
   "source": [
    "remapped = get_portfolio_crediting_errors(\n",
    "    \"az://carbonplan-retro/remapping/overcredited_arbocs.json\"\n",
    ")"
   ]
  },
  {
   "cell_type": "code",
   "execution_count": null,
   "id": "employed-grenada",
   "metadata": {},
   "outputs": [],
   "source": [
    "comp = pd.concat(\n",
    "    [reclass.median(axis=0).rename(\"reclass\"), remapped.median(axis=0).rename(\"remap\")], axis=1\n",
    ")"
   ]
  },
  {
   "cell_type": "code",
   "execution_count": null,
   "id": "theoretical-tumor",
   "metadata": {},
   "outputs": [],
   "source": [
    "comp[(comp[\"reclass\"] > 0) & (comp[\"remap\"] < 0)].round(1)"
   ]
  },
  {
   "cell_type": "code",
   "execution_count": null,
   "id": "guilty-sunglasses",
   "metadata": {},
   "outputs": [],
   "source": [
    "project = [project for project in retro_json if project[\"opr_id\"] == \"ACR255\"][0]"
   ]
  },
  {
   "cell_type": "code",
   "execution_count": null,
   "id": "separated-sierra",
   "metadata": {},
   "outputs": [],
   "source": [
    "from collections import Counter, defaultdict"
   ]
  },
  {
   "cell_type": "code",
   "execution_count": null,
   "id": "attractive-bhutan",
   "metadata": {},
   "outputs": [],
   "source": [
    "aa_frac = defaultdict(Counter)\n",
    "for k in project[\"assessment_areas\"]:\n",
    "    for species in k[\"species\"]:\n",
    "        aa_frac[k[\"code\"]][species[\"code\"]] += species[\"fraction\"]"
   ]
  },
  {
   "cell_type": "code",
   "execution_count": null,
   "id": "surprising-buddy",
   "metadata": {},
   "outputs": [],
   "source": [
    "list(set([species[\"code\"] for k in project[\"assessment_areas\"] for species in k[\"species\"]]))"
   ]
  },
  {
   "cell_type": "code",
   "execution_count": null,
   "id": "functioning-hands",
   "metadata": {},
   "outputs": [],
   "source": [
    "project[\"assessment_areas\"]"
   ]
  },
  {
   "cell_type": "code",
   "execution_count": null,
   "id": "yellow-stable",
   "metadata": {},
   "outputs": [],
   "source": [
    "aa_frac"
   ]
  },
  {
   "cell_type": "code",
   "execution_count": null,
   "id": "surgical-subscription",
   "metadata": {},
   "outputs": [],
   "source": [
    "import seaborn as sns\n",
    "\n",
    "sns.lmplot(\n",
    "    data=comp,\n",
    "    x=\"remap\",\n",
    "    y=\"reclass\",\n",
    "    fit_reg=False,\n",
    "    scatter_kws={\"color\": \".3\", \"alpha\": 0.55, \"s\": 70},\n",
    ")"
   ]
  },
  {
   "cell_type": "code",
   "execution_count": null,
   "id": "approximate-inventory",
   "metadata": {},
   "outputs": [],
   "source": [
    "remapped.median(axis=0)"
   ]
  },
  {
   "cell_type": "code",
   "execution_count": null,
   "id": "quiet-profile",
   "metadata": {},
   "outputs": [],
   "source": [
    "df = pd.DataFrame({k: v for k, v in corrected_oc.items() if k != \"ACR360\"})"
   ]
  },
  {
   "cell_type": "code",
   "execution_count": null,
   "id": "worldwide-bloom",
   "metadata": {},
   "outputs": [],
   "source": [
    "df = pd.DataFrame({k: v[\"delta_arbocs\"] for k, v in d.items() if k != \"ACR360\"})"
   ]
  },
  {
   "cell_type": "code",
   "execution_count": null,
   "id": "fourth-breakfast",
   "metadata": {},
   "outputs": [],
   "source": [
    "pd.Series(d[\"ACR189\"][\"delta_arbocs\"]).describe(percentiles=[0.05, 0.95]).round()"
   ]
  },
  {
   "cell_type": "code",
   "execution_count": null,
   "id": "ruled-champagne",
   "metadata": {},
   "outputs": [],
   "source": [
    "pd.Series(d[\"ACR427\"][\"delta_arbocs\"]).describe().round(2)"
   ]
  },
  {
   "cell_type": "code",
   "execution_count": null,
   "id": "northern-voice",
   "metadata": {},
   "outputs": [],
   "source": [
    "pd.Series(d[\"ACR427\"][\"delta_arbocs\"]).describe().round(2)"
   ]
  },
  {
   "cell_type": "code",
   "execution_count": null,
   "id": "convenient-serve",
   "metadata": {},
   "outputs": [],
   "source": [
    "df.shape"
   ]
  },
  {
   "cell_type": "code",
   "execution_count": null,
   "id": "direct-correction",
   "metadata": {},
   "outputs": [],
   "source": [
    "df.sum(axis=1).describe(percentiles=[0.05, 0.95]).round(1)"
   ]
  },
  {
   "cell_type": "code",
   "execution_count": null,
   "id": "residential-christmas",
   "metadata": {},
   "outputs": [],
   "source": [
    "df.sum(axis=1).describe(percentiles=[0.05, 0.95]).round(1)"
   ]
  },
  {
   "cell_type": "code",
   "execution_count": null,
   "id": "authorized-greensboro",
   "metadata": {},
   "outputs": [],
   "source": [
    "(df.sum(axis=1) / 1_000_000).hist(color=\".3\", alpha=0.55, bins=25)\n",
    "plt.grid(False)\n",
    "plt.xlabel(\"Overcrediting (Million ARBOCs)\")\n",
    "plt.ylabel(\"Draw Count\")\n",
    "plt.savefig(\"/home/jovyan/pub-figs/distribution_overcrediting.pdf\", dpi=300, bbox_inches=\"tight\")"
   ]
  },
  {
   "cell_type": "code",
   "execution_count": null,
   "id": "smaller-bridge",
   "metadata": {},
   "outputs": [],
   "source": [
    "from collections import Counter"
   ]
  },
  {
   "cell_type": "code",
   "execution_count": null,
   "id": "electrical-customs",
   "metadata": {},
   "outputs": [],
   "source": [
    "analyzed = df.columns.tolist()"
   ]
  },
  {
   "cell_type": "code",
   "execution_count": null,
   "id": "rational-procurement",
   "metadata": {},
   "outputs": [],
   "source": [
    "len([p[\"opr_id\"] for p in retro_json if p[\"opr_id\"] not in analyzed])"
   ]
  },
  {
   "cell_type": "code",
   "execution_count": null,
   "id": "underlying-render",
   "metadata": {},
   "outputs": [],
   "source": [
    "largest_aa = {}\n",
    "for project in retro_json:\n",
    "    try:\n",
    "        acreage_counter = Counter()\n",
    "        for assessment_area in project[\"assessment_areas\"]:\n",
    "            if assessment_area[\"code\"] != 999:\n",
    "                acreage_counter[assessment_area[\"code\"]] += assessment_area[\"acreage\"]\n",
    "        largest_aa[project[\"opr_id\"]] = max(acreage_counter, key=acreage_counter.get)\n",
    "    except:\n",
    "        print(project[\"opr_id\"])"
   ]
  },
  {
   "cell_type": "code",
   "execution_count": null,
   "id": "prostate-confusion",
   "metadata": {},
   "outputs": [],
   "source": [
    "arb_stats = pd.read_csv(\"/home/jovyan/lost+found/cleaned_olaf.csv\")"
   ]
  },
  {
   "cell_type": "code",
   "execution_count": null,
   "id": "neutral-boundary",
   "metadata": {},
   "outputs": [],
   "source": [
    "arboc_range = df.quantile(q=[0.25, 0.75]).T"
   ]
  },
  {
   "cell_type": "code",
   "execution_count": null,
   "id": "fourth-earth",
   "metadata": {},
   "outputs": [],
   "source": [
    "arboc_range[\"norm_range\"] = (arboc_range[0.75] - arboc_range[0.25]) / (\n",
    "    arboc_range[0.25] + arboc_range[0.75]\n",
    ")"
   ]
  },
  {
   "cell_type": "code",
   "execution_count": null,
   "id": "vulnerable-slovak",
   "metadata": {},
   "outputs": [],
   "source": [
    "arb_nconds = arb_stats.groupby(\"aa_code\")[\"cond_prop_group\"].sum()\n",
    "\n",
    "arb_stats[\"cov\"] = arb_stats[\"slag_co2e_std\"] / arb_stats[\"slag_co2e_acre\"]\n",
    "\n",
    "arboc_range[\"nconds\"] = arboc_range.reset_index().index.map(arb_nconds)\n",
    "\n",
    "subset = arboc_range[arboc_range[\"nconds\"] < 1500]\n",
    "\n",
    "# plt.scatter(arboc_range['nconds'], arboc_range['norm_range'], )\n",
    "plt.scatter(subset[\"nconds\"], subset[\"norm_range\"], c=\".3\", alpha=0.55, s=125)\n",
    "plt.xlabel(\"ARB Reported\\nFIA Condition Count\")\n",
    "plt.ylabel(\"Normalized\\nOvercrediting IQR\")"
   ]
  },
  {
   "cell_type": "code",
   "execution_count": null,
   "id": "opened-colorado",
   "metadata": {},
   "outputs": [],
   "source": [
    "plt.scatter(\n",
    "    arboc_range[\"nconds\"],\n",
    "    arboc_range[\"norm_range\"],\n",
    ")\n",
    "df.T.loc[nf_opr_ids].T.median(axis=0).round(0)"
   ]
  },
  {
   "cell_type": "code",
   "execution_count": null,
   "id": "eleven-weight",
   "metadata": {},
   "outputs": [],
   "source": [
    "nf_opr_ids = [project[\"opr_id\"] for project in nf_proj]"
   ]
  },
  {
   "cell_type": "code",
   "execution_count": null,
   "id": "bright-airport",
   "metadata": {},
   "outputs": [],
   "source": [
    "issued_arbocs = pd.Series(\n",
    "    {project[\"opr_id\"]: project[\"arbocs\"][\"issuance\"] for project in retro_json}\n",
    ").rename(\"issuance\")"
   ]
  },
  {
   "cell_type": "code",
   "execution_count": null,
   "id": "interracial-aspect",
   "metadata": {},
   "outputs": [],
   "source": [
    "df = pd.concat([df.quantile(0.5, axis=0).rename(\"overcredit\"), issued_arbocs], axis=1).dropna()"
   ]
  }
 ],
 "metadata": {
  "kernelspec": {
   "display_name": "Python 3",
   "language": "python",
   "name": "python3"
  },
  "language_info": {
   "codemirror_mode": {
    "name": "ipython",
    "version": 3
   },
   "file_extension": ".py",
   "mimetype": "text/x-python",
   "name": "python",
   "nbconvert_exporter": "python",
   "pygments_lexer": "ipython3",
   "version": "3.8.8"
  }
 },
 "nbformat": 4,
 "nbformat_minor": 5
}
