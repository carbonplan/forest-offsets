{
 "cells": [
  {
   "cell_type": "code",
   "execution_count": null,
   "id": "described-dependence",
   "metadata": {},
   "outputs": [],
   "source": [
    "import os\n",
    "import json\n",
    "import fsspec\n",
    "\n",
    "import pandas as pd\n",
    "\n",
    "with fsspec.open(\n",
    "    \"az://carbonplan-scratch/overcredited_arbocs.json\",\n",
    "    account_key=os.environ[\"BLOB_ACCOUNT_KEY\"],\n",
    "    account_name=\"carbonplan\",\n",
    "    mode=\"r\",\n",
    ") as f:\n",
    "    d = json.load(f)\n",
    "\n",
    "import seaborn as sns\n",
    "from carbonplan import styles\n",
    "import matplotlib.pyplot as plt\n",
    "\n",
    "styles.mpl.set_theme(style=\"carbonplan_light\", font_scale=1.5)\n",
    "colors = styles.colors.light\n",
    "\n",
    "\n",
    "import numpy as np\n",
    "\n",
    "from carbonplan_retro.data import cat\n",
    "\n",
    "retro_json = cat.retro_db_light_json.read()"
   ]
  },
  {
   "cell_type": "code",
   "execution_count": null,
   "id": "excess-device",
   "metadata": {},
   "outputs": [],
   "source": [
    "df = pd.DataFrame({k: v[\"alt_slag\"] for k, v in d.items() if k != \"ACR360\"})"
   ]
  },
  {
   "cell_type": "code",
   "execution_count": null,
   "id": "constant-nelson",
   "metadata": {},
   "outputs": [],
   "source": [
    "d[\"ACR282\"].keys()"
   ]
  },
  {
   "cell_type": "code",
   "execution_count": null,
   "id": "peripheral-differential",
   "metadata": {},
   "outputs": [],
   "source": [
    "pd.Series(d[\"ACR189\"][\"delta_arbocs\"]).describe(percentiles=[0.05, 0.95]).round()"
   ]
  },
  {
   "cell_type": "code",
   "execution_count": null,
   "id": "technological-trance",
   "metadata": {},
   "outputs": [],
   "source": [
    "pd.Series(d[\"ACR282\"][\"delta_arbocs\"]).hist()"
   ]
  },
  {
   "cell_type": "code",
   "execution_count": null,
   "id": "vulnerable-direction",
   "metadata": {},
   "outputs": [],
   "source": [
    "df.sum(axis=1).describe(percentiles=[0.05, 0.95]).round(1)"
   ]
  },
  {
   "cell_type": "code",
   "execution_count": null,
   "id": "abstract-honey",
   "metadata": {},
   "outputs": [],
   "source": [
    "(df.sum(axis=1) / 1_000_000).hist(color=\".3\", alpha=0.55, bins=25)\n",
    "plt.grid(False)\n",
    "plt.xlabel(\"Overcrediting (Million ARBOCs)\")\n",
    "plt.ylabel(\"Draw Count\")\n",
    "plt.savefig(\"/home/jovyan/pub-figs/distribution_overcrediting.pdf\", dpi=300, bbox_inches=\"tight\")"
   ]
  },
  {
   "cell_type": "code",
   "execution_count": null,
   "id": "enabling-wheel",
   "metadata": {},
   "outputs": [],
   "source": [
    "from collections import Counter"
   ]
  },
  {
   "cell_type": "code",
   "execution_count": null,
   "id": "collect-baghdad",
   "metadata": {},
   "outputs": [],
   "source": [
    "analyzed = df.columns.tolist()"
   ]
  },
  {
   "cell_type": "code",
   "execution_count": null,
   "id": "recovered-cancer",
   "metadata": {},
   "outputs": [],
   "source": [
    "len([p[\"opr_id\"] for p in retro_json if p[\"opr_id\"] not in analyzed])"
   ]
  },
  {
   "cell_type": "code",
   "execution_count": null,
   "id": "employed-counter",
   "metadata": {},
   "outputs": [],
   "source": [
    "largest_aa = {}\n",
    "for project in retro_json:\n",
    "    try:\n",
    "        acreage_counter = Counter()\n",
    "        for assessment_area in project[\"assessment_areas\"]:\n",
    "            if assessment_area[\"code\"] != 999:\n",
    "                acreage_counter[assessment_area[\"code\"]] += assessment_area[\"acreage\"]\n",
    "        largest_aa[project[\"opr_id\"]] = max(acreage_counter, key=acreage_counter.get)\n",
    "    except:\n",
    "        print(project[\"opr_id\"])"
   ]
  },
  {
   "cell_type": "code",
   "execution_count": null,
   "id": "optical-costume",
   "metadata": {},
   "outputs": [],
   "source": [
    "arb_stats = pd.read_csv(\"/home/jovyan/lost+found/cleaned_olaf.csv\")"
   ]
  },
  {
   "cell_type": "code",
   "execution_count": null,
   "id": "amazing-landscape",
   "metadata": {},
   "outputs": [],
   "source": [
    "arboc_range = df.quantile(q=[0.25, 0.75]).T"
   ]
  },
  {
   "cell_type": "code",
   "execution_count": null,
   "id": "stock-america",
   "metadata": {},
   "outputs": [],
   "source": [
    "arboc_range[\"norm_range\"] = (arboc_range[0.75] - arboc_range[0.25]) / (\n",
    "    arboc_range[0.25] + arboc_range[0.75]\n",
    ")"
   ]
  },
  {
   "cell_type": "code",
   "execution_count": null,
   "id": "automated-webcam",
   "metadata": {},
   "outputs": [],
   "source": [
    "arb_nconds = arb_stats.groupby(\"aa_code\")[\"cond_prop_group\"].sum()"
   ]
  },
  {
   "cell_type": "code",
   "execution_count": null,
   "id": "funny-junior",
   "metadata": {},
   "outputs": [],
   "source": [
    "arb_stats[\"cov\"] = arb_stats[\"slag_co2e_std\"] / arb_stats[\"slag_co2e_acre\"]"
   ]
  },
  {
   "cell_type": "code",
   "execution_count": null,
   "id": "australian-anime",
   "metadata": {},
   "outputs": [],
   "source": [
    "arboc_range[\"nconds\"] = arboc_range.reset_index().index.map(arb_nconds)"
   ]
  },
  {
   "cell_type": "code",
   "execution_count": null,
   "id": "assumed-watts",
   "metadata": {},
   "outputs": [],
   "source": [
    "subset = arboc_range[arboc_range[\"nconds\"] < 1500]"
   ]
  },
  {
   "cell_type": "code",
   "execution_count": null,
   "id": "dried-cause",
   "metadata": {},
   "outputs": [],
   "source": [
    "# plt.scatter(arboc_range['nconds'], arboc_range['norm_range'], )\n",
    "plt.scatter(subset[\"nconds\"], subset[\"norm_range\"], c=\".3\", alpha=0.55, s=125)\n",
    "plt.xlabel(\"ARB Reported\\nFIA Condition Count\")\n",
    "plt.ylabel(\"Normalized\\nOvercrediting IQR\")"
   ]
  },
  {
   "cell_type": "code",
   "execution_count": null,
   "id": "interstate-packaging",
   "metadata": {},
   "outputs": [],
   "source": [
    "plt.scatter(\n",
    "    arboc_range[\"nconds\"],\n",
    "    arboc_range[\"norm_range\"],\n",
    ")\n",
    "df.T.loc[nf_opr_ids].T.median(axis=0).round(0)"
   ]
  },
  {
   "cell_type": "code",
   "execution_count": null,
   "id": "critical-skating",
   "metadata": {},
   "outputs": [],
   "source": [
    "nf_opr_ids = [project[\"opr_id\"] for project in nf_proj]"
   ]
  },
  {
   "cell_type": "code",
   "execution_count": null,
   "id": "proper-husband",
   "metadata": {},
   "outputs": [],
   "source": [
    "issued_arbocs = pd.Series(\n",
    "    {project[\"opr_id\"]: project[\"arbocs\"][\"issuance\"] for project in retro_json}\n",
    ").rename(\"issuance\")"
   ]
  },
  {
   "cell_type": "code",
   "execution_count": null,
   "id": "lined-cedar",
   "metadata": {},
   "outputs": [],
   "source": [
    "df = pd.concat([df.quantile(0.5, axis=0).rename(\"overcredit\"), issued_arbocs], axis=1).dropna()"
   ]
  }
 ],
 "metadata": {
  "kernelspec": {
   "display_name": "Python 3",
   "language": "python",
   "name": "python3"
  },
  "language_info": {
   "codemirror_mode": {
    "name": "ipython",
    "version": 3
   },
   "file_extension": ".py",
   "mimetype": "text/x-python",
   "name": "python",
   "nbconvert_exporter": "python",
   "pygments_lexer": "ipython3",
   "version": "3.7.10"
  }
 },
 "nbformat": 4,
 "nbformat_minor": 5
}
