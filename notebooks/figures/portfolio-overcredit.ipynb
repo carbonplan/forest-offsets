{
 "cells": [
  {
   "cell_type": "code",
   "execution_count": null,
   "id": "damaged-gardening",
   "metadata": {},
   "outputs": [],
   "source": [
    "import os\n",
    "import json\n",
    "import fsspec\n",
    "\n",
    "import pandas as pd\n",
    "\n",
    "with fsspec.open(\n",
    "    \"az://carbonplan-scratch/overcredited_arbocs.json\",\n",
    "    account_key=os.environ[\"BLOB_ACCOUNT_KEY\"],\n",
    "    account_name=\"carbonplan\",\n",
    "    mode=\"r\",\n",
    ") as f:\n",
    "    d = json.load(f)\n",
    "\n",
    "\n",
    "with fsspec.open(\n",
    "    \"az://carbonplan-retro/remapping/overcredited_arbocs.json\",\n",
    "    account_key=os.environ[\"BLOB_ACCOUNT_KEY\"],\n",
    "    account_name=\"carbonplan\",\n",
    "    mode=\"r\",\n",
    ") as f:\n",
    "    d = json.load(f)\n",
    "\n",
    "import seaborn as sns\n",
    "from carbonplan import styles\n",
    "import matplotlib.pyplot as plt\n",
    "\n",
    "styles.mpl.set_theme(style=\"carbonplan_light\", font_scale=1.5)\n",
    "colors = styles.colors.light\n",
    "\n",
    "\n",
    "import numpy as np\n",
    "\n",
    "from carbonplan_retro.data import cat\n",
    "\n",
    "retro_json = cat.retro_db_light_json.read()"
   ]
  },
  {
   "cell_type": "code",
   "execution_count": null,
   "id": "human-democracy",
   "metadata": {},
   "outputs": [],
   "source": [
    "def get_portfolio_crediting_errors(fn):\n",
    "    with fsspec.open(\n",
    "        fn,\n",
    "        account_key=os.environ[\"BLOB_ACCOUNT_KEY\"],\n",
    "        account_name=\"carbonplan\",\n",
    "        mode=\"r\",\n",
    "    ) as f:\n",
    "\n",
    "        d = json.load(f)\n",
    "\n",
    "    # this can go once we've run things through again\n",
    "    corrected_oc = {}\n",
    "    for k, v in d.items():\n",
    "        calc_arbocs = [\n",
    "            project[\"arbocs\"][\"calculated\"] for project in retro_json if project[\"opr_id\"] == k\n",
    "        ][0]\n",
    "        corrected_oc[k] = [calc_arbocs - alt_est for alt_est in v[\"alt_arbocs\"]]\n",
    "    df = pd.DataFrame({k: v for k, v in corrected_oc.items() if k != \"ACR360\"})\n",
    "    # df = pd.DataFrame({k: v[\"delta_arbocs\"] for k, v in d.items() if k != \"ACR360\"})\n",
    "    return df"
   ]
  },
  {
   "cell_type": "code",
   "execution_count": null,
   "id": "threatened-easter",
   "metadata": {},
   "outputs": [],
   "source": [
    "reclass = get_portfolio_crediting_errors(\n",
    "    \"az://carbonplan-scratch/overcredited_arbocs.json\",\n",
    ")"
   ]
  },
  {
   "cell_type": "code",
   "execution_count": null,
   "id": "based-preview",
   "metadata": {},
   "outputs": [],
   "source": [
    "remapped = get_portfolio_crediting_errors(\n",
    "    \"az://carbonplan-retro/remapping/overcredited_arbocs.json\"\n",
    ")"
   ]
  },
  {
   "cell_type": "code",
   "execution_count": null,
   "id": "destroyed-event",
   "metadata": {},
   "outputs": [],
   "source": [
    "comp = pd.concat(\n",
    "    [reclass.median(axis=0).rename(\"reclass\"), remapped.median(axis=0).rename(\"remap\")], axis=1\n",
    ")"
   ]
  },
  {
   "cell_type": "code",
   "execution_count": null,
   "id": "increased-preserve",
   "metadata": {},
   "outputs": [],
   "source": [
    "comp[(comp[\"reclass\"] > 0) & (comp[\"remap\"] < 0)].round(1)"
   ]
  },
  {
   "cell_type": "code",
   "execution_count": null,
   "id": "rotary-convert",
   "metadata": {},
   "outputs": [],
   "source": [
    "project = [project for project in retro_json if project[\"opr_id\"] == \"ACR255\"][0]"
   ]
  },
  {
   "cell_type": "code",
   "execution_count": null,
   "id": "paperback-blues",
   "metadata": {},
   "outputs": [],
   "source": [
    "from collections import Counter, defaultdict"
   ]
  },
  {
   "cell_type": "code",
   "execution_count": null,
   "id": "regulated-salmon",
   "metadata": {},
   "outputs": [],
   "source": [
    "aa_frac = defaultdict(Counter)\n",
    "for k in project[\"assessment_areas\"]:\n",
    "    for species in k[\"species\"]:\n",
    "        aa_frac[k[\"code\"]][species[\"code\"]] += species[\"fraction\"]"
   ]
  },
  {
   "cell_type": "code",
   "execution_count": null,
   "id": "fewer-embassy",
   "metadata": {},
   "outputs": [],
   "source": [
    "list(set([species[\"code\"] for k in project[\"assessment_areas\"] for species in k[\"species\"]]))"
   ]
  },
  {
   "cell_type": "code",
   "execution_count": null,
   "id": "collect-skirt",
   "metadata": {},
   "outputs": [],
   "source": [
    "project[\"assessment_areas\"]"
   ]
  },
  {
   "cell_type": "code",
   "execution_count": null,
   "id": "falling-adjustment",
   "metadata": {},
   "outputs": [],
   "source": [
    "aa_frac"
   ]
  },
  {
   "cell_type": "code",
   "execution_count": null,
   "id": "portuguese-legend",
   "metadata": {},
   "outputs": [],
   "source": [
    "import seaborn as sns\n",
    "\n",
    "sns.lmplot(\n",
    "    data=comp,\n",
    "    x=\"remap\",\n",
    "    y=\"reclass\",\n",
    "    fit_reg=False,\n",
    "    scatter_kws={\"color\": \".3\", \"alpha\": 0.55, \"s\": 70},\n",
    ")"
   ]
  },
  {
   "cell_type": "code",
   "execution_count": null,
   "id": "consecutive-court",
   "metadata": {},
   "outputs": [],
   "source": [
    "remapped.median(axis=0)"
   ]
  },
  {
   "cell_type": "code",
   "execution_count": null,
   "id": "solid-depression",
   "metadata": {},
   "outputs": [],
   "source": [
    "df = pd.DataFrame({k: v for k, v in corrected_oc.items() if k != \"ACR360\"})"
   ]
  },
  {
   "cell_type": "code",
   "execution_count": null,
   "id": "floating-productivity",
   "metadata": {},
   "outputs": [],
   "source": [
    "df = pd.DataFrame({k: v[\"delta_arbocs\"] for k, v in d.items() if k != \"ACR360\"})"
   ]
  },
  {
   "cell_type": "code",
   "execution_count": null,
   "id": "forbidden-agent",
   "metadata": {},
   "outputs": [],
   "source": [
    "pd.Series(d[\"ACR189\"][\"delta_arbocs\"]).describe(percentiles=[0.05, 0.95]).round()"
   ]
  },
  {
   "cell_type": "code",
   "execution_count": null,
   "id": "massive-company",
   "metadata": {},
   "outputs": [],
   "source": [
    "pd.Series(d[\"ACR427\"][\"delta_arbocs\"]).describe().round(2)"
   ]
  },
  {
   "cell_type": "code",
   "execution_count": null,
   "id": "headed-encounter",
   "metadata": {},
   "outputs": [],
   "source": [
    "pd.Series(d[\"ACR427\"][\"delta_arbocs\"]).describe().round(2)"
   ]
  },
  {
   "cell_type": "code",
   "execution_count": null,
   "id": "upper-filter",
   "metadata": {},
   "outputs": [],
   "source": [
    "df.shape"
   ]
  },
  {
   "cell_type": "code",
   "execution_count": null,
   "id": "intellectual-composition",
   "metadata": {},
   "outputs": [],
   "source": [
    "df.sum(axis=1).describe(percentiles=[0.05, 0.95]).round(1)"
   ]
  },
  {
   "cell_type": "code",
   "execution_count": null,
   "id": "apparent-closing",
   "metadata": {},
   "outputs": [],
   "source": [
    "df.sum(axis=1).describe(percentiles=[0.05, 0.95]).round(1)"
   ]
  },
  {
   "cell_type": "code",
   "execution_count": null,
   "id": "labeled-weekly",
   "metadata": {},
   "outputs": [],
   "source": [
    "(df.sum(axis=1) / 1_000_000).hist(color=\".3\", alpha=0.55, bins=25)\n",
    "plt.grid(False)\n",
    "plt.xlabel(\"Overcrediting (Million ARBOCs)\")\n",
    "plt.ylabel(\"Draw Count\")\n",
    "plt.savefig(\"/home/jovyan/pub-figs/distribution_overcrediting.pdf\", dpi=300, bbox_inches=\"tight\")"
   ]
  },
  {
   "cell_type": "code",
   "execution_count": null,
   "id": "yellow-hazard",
   "metadata": {},
   "outputs": [],
   "source": [
    "from collections import Counter"
   ]
  },
  {
   "cell_type": "code",
   "execution_count": null,
   "id": "challenging-minneapolis",
   "metadata": {},
   "outputs": [],
   "source": [
    "analyzed = df.columns.tolist()"
   ]
  },
  {
   "cell_type": "code",
   "execution_count": null,
   "id": "amino-contrast",
   "metadata": {},
   "outputs": [],
   "source": [
    "len([p[\"opr_id\"] for p in retro_json if p[\"opr_id\"] not in analyzed])"
   ]
  },
  {
   "cell_type": "code",
   "execution_count": null,
   "id": "fatal-adelaide",
   "metadata": {},
   "outputs": [],
   "source": [
    "largest_aa = {}\n",
    "for project in retro_json:\n",
    "    try:\n",
    "        acreage_counter = Counter()\n",
    "        for assessment_area in project[\"assessment_areas\"]:\n",
    "            if assessment_area[\"code\"] != 999:\n",
    "                acreage_counter[assessment_area[\"code\"]] += assessment_area[\"acreage\"]\n",
    "        largest_aa[project[\"opr_id\"]] = max(acreage_counter, key=acreage_counter.get)\n",
    "    except:\n",
    "        print(project[\"opr_id\"])"
   ]
  },
  {
   "cell_type": "code",
   "execution_count": null,
   "id": "naval-eclipse",
   "metadata": {},
   "outputs": [],
   "source": [
    "arb_stats = pd.read_csv(\"/home/jovyan/lost+found/cleaned_olaf.csv\")"
   ]
  },
  {
   "cell_type": "code",
   "execution_count": null,
   "id": "angry-desert",
   "metadata": {},
   "outputs": [],
   "source": [
    "arboc_range = df.quantile(q=[0.25, 0.75]).T"
   ]
  },
  {
   "cell_type": "code",
   "execution_count": null,
   "id": "defined-assistant",
   "metadata": {},
   "outputs": [],
   "source": [
    "arboc_range[\"norm_range\"] = (arboc_range[0.75] - arboc_range[0.25]) / (\n",
    "    arboc_range[0.25] + arboc_range[0.75]\n",
    ")"
   ]
  },
  {
   "cell_type": "code",
   "execution_count": null,
   "id": "positive-withdrawal",
   "metadata": {},
   "outputs": [],
   "source": [
    "arb_nconds = arb_stats.groupby(\"aa_code\")[\"cond_prop_group\"].sum()"
   ]
  },
  {
   "cell_type": "code",
   "execution_count": null,
   "id": "nonprofit-grade",
   "metadata": {},
   "outputs": [],
   "source": [
    "arb_stats[\"cov\"] = arb_stats[\"slag_co2e_std\"] / arb_stats[\"slag_co2e_acre\"]"
   ]
  },
  {
   "cell_type": "code",
   "execution_count": null,
   "id": "favorite-messenger",
   "metadata": {},
   "outputs": [],
   "source": [
    "arboc_range[\"nconds\"] = arboc_range.reset_index().index.map(arb_nconds)"
   ]
  },
  {
   "cell_type": "code",
   "execution_count": null,
   "id": "industrial-advancement",
   "metadata": {},
   "outputs": [],
   "source": [
    "subset = arboc_range[arboc_range[\"nconds\"] < 1500]"
   ]
  },
  {
   "cell_type": "code",
   "execution_count": null,
   "id": "impossible-programmer",
   "metadata": {},
   "outputs": [],
   "source": [
    "# plt.scatter(arboc_range['nconds'], arboc_range['norm_range'], )\n",
    "plt.scatter(subset[\"nconds\"], subset[\"norm_range\"], c=\".3\", alpha=0.55, s=125)\n",
    "plt.xlabel(\"ARB Reported\\nFIA Condition Count\")\n",
    "plt.ylabel(\"Normalized\\nOvercrediting IQR\")"
   ]
  },
  {
   "cell_type": "code",
   "execution_count": null,
   "id": "legislative-butter",
   "metadata": {},
   "outputs": [],
   "source": [
    "plt.scatter(\n",
    "    arboc_range[\"nconds\"],\n",
    "    arboc_range[\"norm_range\"],\n",
    ")\n",
    "df.T.loc[nf_opr_ids].T.median(axis=0).round(0)"
   ]
  },
  {
   "cell_type": "code",
   "execution_count": null,
   "id": "smart-external",
   "metadata": {},
   "outputs": [],
   "source": [
    "nf_opr_ids = [project[\"opr_id\"] for project in nf_proj]"
   ]
  },
  {
   "cell_type": "code",
   "execution_count": null,
   "id": "eastern-disease",
   "metadata": {},
   "outputs": [],
   "source": [
    "issued_arbocs = pd.Series(\n",
    "    {project[\"opr_id\"]: project[\"arbocs\"][\"issuance\"] for project in retro_json}\n",
    ").rename(\"issuance\")"
   ]
  },
  {
   "cell_type": "code",
   "execution_count": null,
   "id": "aware-macintosh",
   "metadata": {},
   "outputs": [],
   "source": [
    "df = pd.concat([df.quantile(0.5, axis=0).rename(\"overcredit\"), issued_arbocs], axis=1).dropna()"
   ]
  }
 ],
 "metadata": {
  "kernelspec": {
   "display_name": "Python 3",
   "language": "python",
   "name": "python3"
  },
  "language_info": {
   "codemirror_mode": {
    "name": "ipython",
    "version": 3
   },
   "file_extension": ".py",
   "mimetype": "text/x-python",
   "name": "python",
   "nbconvert_exporter": "python",
   "pygments_lexer": "ipython3",
   "version": "3.8.8"
  }
 },
 "nbformat": 4,
 "nbformat_minor": 5
}
