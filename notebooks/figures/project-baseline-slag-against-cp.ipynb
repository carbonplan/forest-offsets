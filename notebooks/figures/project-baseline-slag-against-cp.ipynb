{
 "cells": [
  {
   "cell_type": "code",
   "execution_count": null,
   "id": "formed-illness",
   "metadata": {},
   "outputs": [],
   "source": [
    "from carbonplan_retro.data import cat\n",
    "\n",
    "import pandas as pd\n",
    "\n",
    "import numpy as np\n",
    "import statsmodels.formula.api as smf\n",
    "\n",
    "import seaborn as sns\n",
    "from carbonplan import styles\n",
    "import matplotlib.pyplot as plt\n",
    "\n",
    "styles.mpl.set_theme(style=\"carbonplan_light\", font_scale=1.5)\n",
    "colors = styles.colors.light"
   ]
  },
  {
   "cell_type": "code",
   "execution_count": null,
   "id": "radical-magnitude",
   "metadata": {},
   "outputs": [],
   "source": [
    "retro_json = cat.retro_db_light_json.read()\n",
    "projects = [\n",
    "    project\n",
    "    for project in retro_json\n",
    "    if project[\"carbon\"][\"initial_carbon_stock\"][\"value\"]\n",
    "    > project[\"carbon\"][\"common_practice\"][\"value\"]\n",
    "]"
   ]
  },
  {
   "cell_type": "code",
   "execution_count": null,
   "id": "opponent-darwin",
   "metadata": {},
   "outputs": [],
   "source": [
    "def get_summary_stats(data):\n",
    "    summary_d = {}\n",
    "    mod = smf.ols(\"cp~average_slag_baseline\", data=data).fit()\n",
    "    summary_d[\"slope\"] = mod.params[\"average_slag_baseline\"]\n",
    "\n",
    "    delta_slag = data[\"average_slag_baseline\"] - data[\"cp\"]\n",
    "    desc = delta_slag.describe()\n",
    "    summary_d[\"median_delta\"] = desc[\"50%\"]\n",
    "    summary_d[\"mean_delta\"] = desc[\"mean\"]\n",
    "    return summary_d"
   ]
  },
  {
   "cell_type": "code",
   "execution_count": null,
   "id": "excess-place",
   "metadata": {},
   "outputs": [],
   "source": [
    "df = pd.DataFrame(\n",
    "    {\n",
    "        project[\"opr_id\"]: (\n",
    "            project[\"carbon\"][\"average_slag_baseline\"][\"value\"],\n",
    "            project[\"carbon\"][\"common_practice\"][\"value\"],\n",
    "        )\n",
    "        for project in projects\n",
    "    }\n",
    ").T.rename(columns={0: \"average_slag_baseline\", 1: \"cp\"})"
   ]
  },
  {
   "cell_type": "code",
   "execution_count": null,
   "id": "thirty-virginia",
   "metadata": {},
   "outputs": [],
   "source": [
    "df = df.dropna()"
   ]
  },
  {
   "cell_type": "code",
   "execution_count": null,
   "id": "representative-picking",
   "metadata": {},
   "outputs": [],
   "source": [
    "df.sort_values(by=[\"cp\"], inplace=True, ascending=False)"
   ]
  },
  {
   "cell_type": "code",
   "execution_count": null,
   "id": "northern-renaissance",
   "metadata": {},
   "outputs": [],
   "source": [
    "fig, ax = plt.subplots(1, 1, figsize=(20, 4))\n",
    "\n",
    "# ax.bar(df.index.values, df['cp'], width=3, fc='None')\n",
    "ax.scatter(\n",
    "    df.index.values, df[\"cp\"], marker=\"_\", s=200, color=\".3\", lw=2.5, label=\"ARB Minimum Baseline\"\n",
    ")\n",
    "ax.scatter(\n",
    "    df.index.values,\n",
    "    df[\"average_slag_baseline\"],\n",
    "    marker=\"o\",\n",
    "    s=40,\n",
    "    color=\"#7EB36A\",\n",
    "    label=\"Baseline Average\",\n",
    ")\n",
    "plt.ylim(0, 200)\n",
    "plt.tick_params(axis=\"x\", which=\"major\", rotation=90)\n",
    "ax.xaxis.set_visible(False)  # axes()['lower'].set(visible=False)\n",
    "plt.xlim(-1, 65)\n",
    "plt.legend(frameon=False)\n",
    "ax.spines[\"bottom\"].set_visible(False)\n",
    "\n",
    "med_diff = np.median(df[\"average_slag_baseline\"] - df[\"cp\"])\n",
    "mean_diff = np.mean(df[\"average_slag_baseline\"] - df[\"cp\"])\n",
    "\n",
    "ax.annotate(\n",
    "    f\"Median $\\Delta$: {med_diff:.1f}\\n  Mean $\\Delta$: {mean_diff:.1f}\",\n",
    "    xy=(0.8325, 0.51),\n",
    "    xycoords=\"figure fraction\",\n",
    ")\n",
    "plt.ylabel(\"Aboveground Carbon\\n(tCO2e acre$^{-1}$)\")\n",
    "\n",
    "plt.savefig(\"/home/jovyan/pub-figs/convergence.eps\")"
   ]
  },
  {
   "cell_type": "markdown",
   "id": "popular-belly",
   "metadata": {},
   "source": [
    "## Scatter and Barplots\n"
   ]
  },
  {
   "cell_type": "code",
   "execution_count": null,
   "id": "reflected-upper",
   "metadata": {},
   "outputs": [],
   "source": [
    "no_impute_summary = get_summary_stats(df)\n",
    "\n",
    "fig, (ax1) = plt.subplots(1, 1, figsize=(3.5, 3.5))\n",
    "sns.regplot(\n",
    "    x=\"average_slag_baseline\",\n",
    "    y=\"cp\",\n",
    "    data=df,\n",
    "    ax=ax1,\n",
    "    scatter_kws={\"s\": 165, \"alpha\": 0.55, \"color\": \".3\"},\n",
    "    fit_reg=False,\n",
    ")\n",
    "x_max = 200\n",
    "ax1.plot((0, x_max), (0, x_max), lw=3, ls=\"--\", color=\"r\")\n",
    "ax1.set_xlim(0, x_max)\n",
    "ax1.set_ylim(0, x_max)\n",
    "\n",
    "shared_ticks = np.linspace(0, x_max, 3)\n",
    "\n",
    "ax1.set_yticks(shared_ticks)\n",
    "ax1.set_xticks(shared_ticks)\n",
    "\n",
    "slag_units = \"tCO2e acre$^{-1}$\"\n",
    "\n",
    "ax1.set_xlabel(f\"Baseline Average\\n({slag_units})\")\n",
    "ax1.set_ylabel(f\"Common Practice\\n({slag_units})\")\n",
    "\n",
    "ax1.annotate(\n",
    "    f\"Slope: {str(no_impute_summary['slope'])[:4]}\",\n",
    "    xy=(0.55, 0.26),\n",
    "    xycoords=\"axes fraction\",\n",
    "    fontsize=15,\n",
    ")\n",
    "ax1.annotate(\n",
    "    f\"Median $\\Delta$: {no_impute_summary['median_delta']:.0f}\",\n",
    "    xy=(0.55, 0.18),\n",
    "    xycoords=\"axes fraction\",\n",
    "    fontsize=15,\n",
    ")\n",
    "ax1.annotate(\n",
    "    f\"Mean $\\Delta$: {no_impute_summary['mean_delta']:.2f}\",\n",
    "    xy=(0.55, 0.1),\n",
    "    xycoords=\"axes fraction\",\n",
    "    fontsize=15,\n",
    ")\n",
    "\n",
    "\n",
    "sns.despine()\n",
    "\n",
    "out_fn = \"/home/jovyan/pub-figs/baseline_common_practice_scatter.pdf\"\n",
    "plt.savefig(out_fn, dpi=300, bbox_inches=\"tight\")"
   ]
  },
  {
   "cell_type": "code",
   "execution_count": null,
   "id": "derived-recording",
   "metadata": {},
   "outputs": [],
   "source": [
    "fig, ax = plt.subplots(1, 1, figsize=(3.5, 3.5))\n",
    "sns.histplot(\n",
    "    df[\"average_slag_baseline\"] - df[\"cp\"],\n",
    "    binwidth=5,\n",
    "    color=\".3\",\n",
    "    ax=ax,\n",
    "    alpha=0.75,\n",
    "    kde=False,\n",
    "    element=\"bars\",\n",
    "    fill=True,\n",
    "    # line_kws=dict(edgecolor=\"k\", linewidth=0),\n",
    ")\n",
    "\n",
    "ax.set_xticks(np.linspace(0, 30, 3))\n",
    "\n",
    "ax.set_xlabel(f\"Baseline Carbon minus\\nCommon Practice\\n({slag_units})\")\n",
    "\n",
    "sns.despine()\n",
    "\n",
    "out_fn = \"/home/jovyan/pub-figs/baseline_common_practice_hist.pdf\"\n",
    "plt.savefig(out_fn, dpi=300, bbox_inches=\"tight\")"
   ]
  }
 ],
 "metadata": {
  "kernelspec": {
   "display_name": "Python 3",
   "language": "python",
   "name": "python3"
  },
  "language_info": {
   "codemirror_mode": {
    "name": "ipython",
    "version": 3
   },
   "file_extension": ".py",
   "mimetype": "text/x-python",
   "name": "python",
   "nbconvert_exporter": "python",
   "pygments_lexer": "ipython3",
   "version": "3.7.10"
  }
 },
 "nbformat": 4,
 "nbformat_minor": 5
}
