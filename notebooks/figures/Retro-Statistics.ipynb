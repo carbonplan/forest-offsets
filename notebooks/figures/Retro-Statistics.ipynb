{
 "cells": [
  {
   "cell_type": "code",
   "execution_count": 1,
   "id": "virtual-transsexual",
   "metadata": {},
   "outputs": [],
   "source": [
    "import json\n",
    "import pandas as pd\n",
    "import numpy as np"
   ]
  },
  {
   "cell_type": "markdown",
   "id": "documentary-advocacy",
   "metadata": {},
   "source": [
    "## Load the data"
   ]
  },
  {
   "cell_type": "markdown",
   "id": "separate-watch",
   "metadata": {},
   "source": [
    "We exclude two projects from all further analysis due to insufficient underlying FIA data"
   ]
  },
  {
   "cell_type": "code",
   "execution_count": 2,
   "id": "inside-tomato",
   "metadata": {},
   "outputs": [],
   "source": [
    "with open('overcredited_arbocs.json', 'r') as f:\n",
    "    data = json.load(f)\n",
    "del data['ACR360']\n",
    "del data['CAR1102']\n",
    "\n",
    "with open('retro-db-light-v1.0.json', 'r') as f:\n",
    "    db = json.load(f)\n",
    "db = list(filter(lambda x: ~(x['id'] == 'ACR360') & ~(x['id'] == 'CAR1102'), db))"
   ]
  },
  {
   "cell_type": "code",
   "execution_count": 3,
   "id": "north-insight",
   "metadata": {},
   "outputs": [
    {
     "name": "stdout",
     "output_type": "stream",
     "text": [
      "Number of projects: 74\n"
     ]
    }
   ],
   "source": [
    "print(f'Number of projects: {len(db)}')"
   ]
  },
  {
   "cell_type": "code",
   "execution_count": 4,
   "id": "latest-organizer",
   "metadata": {},
   "outputs": [
    {
     "name": "stdout",
     "output_type": "stream",
     "text": [
      "Total ARBOCs: 102064294.0\n"
     ]
    }
   ],
   "source": [
    "print(f\"Total ARBOCs: {np.sum([[x for x in db if x['id'] == key][0]['arbocs']['issuance'] for key in data.keys()])}\")"
   ]
  },
  {
   "cell_type": "markdown",
   "id": "celtic-funds",
   "metadata": {},
   "source": [
    "## Calculate over-crediting"
   ]
  },
  {
   "cell_type": "markdown",
   "id": "dominant-shelter",
   "metadata": {},
   "source": [
    "We write a simple function to help with formatting"
   ]
  },
  {
   "cell_type": "code",
   "execution_count": 5,
   "id": "desperate-ratio",
   "metadata": {},
   "outputs": [],
   "source": [
    "def format_si(num, precision=1, suffixes=['', 'K', 'M', 'G', 'T', 'P'], hide_suffix=False):\n",
    "    m = sum([abs(num/1000.0**x) >= 1 for x in range(1, len(suffixes))])\n",
    "    if hide_suffix:\n",
    "        return f'{num/1000.0**m:.{precision}f}'\n",
    "    else:\n",
    "        return f'{num/1000.0**m:.{precision}f}{suffixes[m]}'"
   ]
  },
  {
   "cell_type": "code",
   "execution_count": 6,
   "id": "trained-central",
   "metadata": {},
   "outputs": [],
   "source": [
    "def format_pt(num, precision=1):\n",
    "    return f'{num * 100:.{precision}f}%'"
   ]
  },
  {
   "cell_type": "markdown",
   "id": "sharing-climate",
   "metadata": {},
   "source": [
    "We write a function to calculate over-crediting (as a percentage or in ARBOCs), optionally using a condition by which to filter projects"
   ]
  },
  {
   "cell_type": "code",
   "execution_count": 7,
   "id": "amazing-fifteen",
   "metadata": {},
   "outputs": [],
   "source": [
    "def get_overcrediting(condition=None, percentage=True, display=False):\n",
    "    if condition is not None:\n",
    "        keys = list(map(lambda x: x['id'], filter(condition, db)))\n",
    "    else:\n",
    "        keys = list(map(lambda x: x['id'], db))\n",
    "    keys = list(filter(lambda x: x in data.keys(), keys))\n",
    "    total = []\n",
    "    for i in range(1000):\n",
    "        total.append(np.nansum([data[key]['delta_arbocs'][i] for key in keys]))\n",
    "        total_percentage = np.percentile(\n",
    "            total, [5, 50, 95]) / np.sum([[x for x in db if x['id'] == key][0]['arbocs']['issuance'] for key in keys]\n",
    "        )\n",
    "        total_arbocs = np.percentile(total, [5, 50, 95])\n",
    "    if display:\n",
    "        print(\n",
    "            f'Over-crediting in ARBOCs: \\\n",
    "            {format_si(total_arbocs[1])}, ({format_si(total_arbocs[0])}, {format_si(total_arbocs[2])})'\n",
    "        )\n",
    "        print(\n",
    "            f'Over-crediting as %: \\\n",
    "            {format_pt(total_percentage[1])} ({format_pt(total_percentage[0])}, {format_pt(total_percentage[2])})'\n",
    "        )\n",
    "        print(f'Projects included: \\\n",
    "            {len(keys)}'\n",
    "        )\n",
    "    else:\n",
    "        return {\n",
    "            'count': len(keys),\n",
    "            'percent': total_percentage,\n",
    "            'arbocs': total_arbocs\n",
    "        }"
   ]
  },
  {
   "cell_type": "markdown",
   "id": "extra-natural",
   "metadata": {},
   "source": [
    "## Examples of over-crediting"
   ]
  },
  {
   "cell_type": "markdown",
   "id": "australian-region",
   "metadata": {},
   "source": [
    "Now we compute over-crediting for some example conditions"
   ]
  },
  {
   "cell_type": "code",
   "execution_count": 8,
   "id": "celtic-thing",
   "metadata": {},
   "outputs": [
    {
     "name": "stdout",
     "output_type": "stream",
     "text": [
      "Over-crediting in ARBOCs:             27.8M, (15.0M, 38.3M)\n",
      "Over-crediting as %:             27.2% (14.7%, 37.5%)\n",
      "Projects included:             65\n"
     ]
    }
   ],
   "source": [
    "condition = None\n",
    "get_overcrediting(condition=condition, percentage=True, display=True)"
   ]
  },
  {
   "cell_type": "code",
   "execution_count": 9,
   "id": "inappropriate-client",
   "metadata": {},
   "outputs": [
    {
     "name": "stdout",
     "output_type": "stream",
     "text": [
      "Over-crediting in ARBOCs:             8.5M, (5.8M, 10.5M)\n",
      "Over-crediting as %:             46.9% (31.7%, 57.6%)\n",
      "Projects included:             13\n"
     ]
    }
   ],
   "source": [
    "condition = lambda x: 'New Forests' in x['developers'] or 'New Forests' in x['owners']\n",
    "get_overcrediting(condition=condition, percentage=True, display=True)"
   ]
  },
  {
   "cell_type": "code",
   "execution_count": 10,
   "id": "neural-parish",
   "metadata": {},
   "outputs": [
    {
     "name": "stdout",
     "output_type": "stream",
     "text": [
      "Over-crediting in ARBOCs:             12.1M, (2.2M, 20.8M)\n",
      "Over-crediting as %:             24.1% (4.5%, 41.6%)\n",
      "Projects included:             18\n"
     ]
    }
   ],
   "source": [
    "condition = lambda x: 'Finite Carbon' in x['developers'] or 'Finite Carbon' in x['owners']\n",
    "get_overcrediting(condition=condition, percentage=True, display=True)"
   ]
  },
  {
   "cell_type": "code",
   "execution_count": 11,
   "id": "running-refund",
   "metadata": {},
   "outputs": [
    {
     "name": "stdout",
     "output_type": "stream",
     "text": [
      "Over-crediting in ARBOCs:             129.3K, (37.9K, 215.4K)\n",
      "Over-crediting as %:             47.7% (14.0%, 79.5%)\n",
      "Projects included:             1\n"
     ]
    }
   ],
   "source": [
    "condition = lambda x: x['id'] == 'ACR189'\n",
    "get_overcrediting(condition=condition, percentage=True, display=True)"
   ]
  },
  {
   "cell_type": "markdown",
   "id": "generic-cookbook",
   "metadata": {},
   "source": [
    "## Table of over-crediting by developer"
   ]
  },
  {
   "cell_type": "markdown",
   "id": "funded-queue",
   "metadata": {},
   "source": [
    "First we get unique developers"
   ]
  },
  {
   "cell_type": "code",
   "execution_count": 12,
   "id": "outdoor-specification",
   "metadata": {},
   "outputs": [],
   "source": [
    "developers = [x['developers'] for x in db if x['id'] in data.keys()]\n",
    "developers = [item for sublist in developers for item in sublist]\n",
    "developers = list(set(developers))"
   ]
  },
  {
   "cell_type": "code",
   "execution_count": 13,
   "id": "stuffed-philosophy",
   "metadata": {},
   "outputs": [],
   "source": [
    "df = pd.DataFrame()\n",
    "df['Developer'] = developers\n",
    "results = [get_overcrediting(condition=lambda x: d in x['developers'] or d in x['owners'], percentage=True) for d in developers]\n",
    "df['Count'] = [d['count'] for d in results]\n",
    "df['Over-crediting as %'] = [f'{format_pt(d[\"percent\"][1])}' for d in results]\n",
    "df['Range for %'] = [f'({format_pt(d[\"percent\"][0])}, {format_pt(d[\"percent\"][2])})' for d in results]\n",
    "df['Over-crediting as ARBOCs'] = [f'{format_si(d[\"arbocs\"][1])}' for d in results]\n",
    "df['Range for ARBOCs'] = [f'({format_si(d[\"arbocs\"][0])}, {format_si(d[\"arbocs\"][2])})' for d in results]"
   ]
  },
  {
   "cell_type": "code",
   "execution_count": 14,
   "id": "portuguese-smith",
   "metadata": {},
   "outputs": [
    {
     "data": {
      "text/html": [
       "<div>\n",
       "<style scoped>\n",
       "    .dataframe tbody tr th:only-of-type {\n",
       "        vertical-align: middle;\n",
       "    }\n",
       "\n",
       "    .dataframe tbody tr th {\n",
       "        vertical-align: top;\n",
       "    }\n",
       "\n",
       "    .dataframe thead th {\n",
       "        text-align: right;\n",
       "    }\n",
       "</style>\n",
       "<table border=\"1\" class=\"dataframe\">\n",
       "  <thead>\n",
       "    <tr style=\"text-align: right;\">\n",
       "      <th></th>\n",
       "      <th>Developer</th>\n",
       "      <th>Count</th>\n",
       "      <th>Over-crediting as %</th>\n",
       "      <th>Range for %</th>\n",
       "      <th>Over-crediting as ARBOCs</th>\n",
       "      <th>Range for ARBOCs</th>\n",
       "    </tr>\n",
       "  </thead>\n",
       "  <tbody>\n",
       "    <tr>\n",
       "      <th>0</th>\n",
       "      <td>NCRM</td>\n",
       "      <td>7</td>\n",
       "      <td>5.6%</td>\n",
       "      <td>(-5.8%, 16.9%)</td>\n",
       "      <td>211.3K</td>\n",
       "      <td>(-218.7K, 636.6K)</td>\n",
       "    </tr>\n",
       "    <tr>\n",
       "      <th>1</th>\n",
       "      <td>ecoPartners</td>\n",
       "      <td>6</td>\n",
       "      <td>13.9%</td>\n",
       "      <td>(9.2%, 18.7%)</td>\n",
       "      <td>1.4M</td>\n",
       "      <td>(897.5K, 1.8M)</td>\n",
       "    </tr>\n",
       "    <tr>\n",
       "      <th>6</th>\n",
       "      <td>Finite Carbon</td>\n",
       "      <td>18</td>\n",
       "      <td>24.1%</td>\n",
       "      <td>(4.5%, 41.6%)</td>\n",
       "      <td>12.1M</td>\n",
       "      <td>(2.2M, 20.8M)</td>\n",
       "    </tr>\n",
       "    <tr>\n",
       "      <th>8</th>\n",
       "      <td>Blue Source</td>\n",
       "      <td>15</td>\n",
       "      <td>35.8%</td>\n",
       "      <td>(23.8%, 46.4%)</td>\n",
       "      <td>4.3M</td>\n",
       "      <td>(2.8M, 5.5M)</td>\n",
       "    </tr>\n",
       "    <tr>\n",
       "      <th>16</th>\n",
       "      <td>New Forests</td>\n",
       "      <td>13</td>\n",
       "      <td>46.9%</td>\n",
       "      <td>(31.7%, 57.6%)</td>\n",
       "      <td>8.5M</td>\n",
       "      <td>(5.8M, 10.5M)</td>\n",
       "    </tr>\n",
       "  </tbody>\n",
       "</table>\n",
       "</div>"
      ],
      "text/plain": [
       "        Developer  Count Over-crediting as %     Range for %  \\\n",
       "0            NCRM      7                5.6%  (-5.8%, 16.9%)   \n",
       "1     ecoPartners      6               13.9%   (9.2%, 18.7%)   \n",
       "6   Finite Carbon     18               24.1%   (4.5%, 41.6%)   \n",
       "8     Blue Source     15               35.8%  (23.8%, 46.4%)   \n",
       "16    New Forests     13               46.9%  (31.7%, 57.6%)   \n",
       "\n",
       "   Over-crediting as ARBOCs   Range for ARBOCs  \n",
       "0                    211.3K  (-218.7K, 636.6K)  \n",
       "1                      1.4M     (897.5K, 1.8M)  \n",
       "6                     12.1M      (2.2M, 20.8M)  \n",
       "8                      4.3M       (2.8M, 5.5M)  \n",
       "16                     8.5M      (5.8M, 10.5M)  "
      ]
     },
     "execution_count": 14,
     "metadata": {},
     "output_type": "execute_result"
    }
   ],
   "source": [
    "df[df['Count'] > 5]"
   ]
  }
 ],
 "metadata": {
  "kernelspec": {
   "display_name": "Python 3",
   "language": "python",
   "name": "python3"
  },
  "language_info": {
   "codemirror_mode": {
    "name": "ipython",
    "version": 3
   },
   "file_extension": ".py",
   "mimetype": "text/x-python",
   "name": "python",
   "nbconvert_exporter": "python",
   "pygments_lexer": "ipython3",
   "version": "3.8.6"
  }
 },
 "nbformat": 4,
 "nbformat_minor": 5
}
