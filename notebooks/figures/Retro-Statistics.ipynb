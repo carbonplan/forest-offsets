{
 "cells": [
  {
   "cell_type": "code",
   "execution_count": null,
   "id": "nonprofit-photographer",
   "metadata": {},
   "outputs": [],
   "source": [
    "import os\n",
    "import fsspec\n",
    "import json\n",
    "import pandas as pd\n",
    "import numpy as np"
   ]
  },
  {
   "cell_type": "markdown",
   "id": "decreased-support",
   "metadata": {},
   "source": [
    "## Load the data\n"
   ]
  },
  {
   "cell_type": "markdown",
   "id": "destroyed-benefit",
   "metadata": {},
   "source": [
    "We exclude two projects from all further analysis due to insufficient underlying FIA data\n"
   ]
  },
  {
   "cell_type": "code",
   "execution_count": null,
   "id": "remarkable-guarantee",
   "metadata": {},
   "outputs": [],
   "source": [
    "with fsspec.open(\n",
    "    \"https://carbonplan.blob.core.windows.net/carbonplan-scratch/overcredited_arbocs.json\", \"r\"\n",
    ") as f:\n",
    "    data = json.load(f)\n",
    "del data[\"ACR360\"]\n",
    "del data[\"CAR1102\"]\n",
    "\n",
    "with fsspec.open(\n",
    "    \"https://carbonplan.blob.core.windows.net/carbonplan-retro/projects/retro-db-light-v1.0.json\",\n",
    "    \"r\",\n",
    ") as f:\n",
    "    db = json.load(f)\n",
    "db = list(filter(lambda x: ~(x[\"id\"] == \"ACR360\") & ~(x[\"id\"] == \"CAR1102\"), db))"
   ]
  },
  {
   "cell_type": "code",
   "execution_count": null,
   "id": "generic-helena",
   "metadata": {},
   "outputs": [],
   "source": [
    "print(f\"Number of projects: {len(db)}\")"
   ]
  },
  {
   "cell_type": "code",
   "execution_count": null,
   "id": "insured-nirvana",
   "metadata": {},
   "outputs": [],
   "source": [
    "print(\n",
    "    f\"Total ARBOCs: {np.sum([[x for x in db if x['id'] == key][0]['arbocs']['issuance'] for key in data.keys()])}\"\n",
    ")"
   ]
  },
  {
   "cell_type": "markdown",
   "id": "clear-center",
   "metadata": {},
   "source": [
    "## Calculate over-crediting\n"
   ]
  },
  {
   "cell_type": "markdown",
   "id": "cross-uganda",
   "metadata": {},
   "source": [
    "We write a simple function to help with formatting\n"
   ]
  },
  {
   "cell_type": "code",
   "execution_count": null,
   "id": "sunset-russia",
   "metadata": {},
   "outputs": [],
   "source": [
    "def format_si(num, precision=1, suffixes=[\"\", \"K\", \"M\", \"G\", \"T\", \"P\"], hide_suffix=False):\n",
    "    m = sum([abs(num / 1000.0 ** x) >= 1 for x in range(1, len(suffixes))])\n",
    "    if hide_suffix:\n",
    "        return f\"{num/1000.0**m:.{precision}f}\"\n",
    "    else:\n",
    "        return f\"{num/1000.0**m:.{precision}f}{suffixes[m]}\""
   ]
  },
  {
   "cell_type": "code",
   "execution_count": null,
   "id": "spanish-aviation",
   "metadata": {},
   "outputs": [],
   "source": [
    "def format_pt(num, precision=1):\n",
    "    return f\"{num * 100:.{precision}f}%\""
   ]
  },
  {
   "cell_type": "markdown",
   "id": "brief-hometown",
   "metadata": {},
   "source": [
    "We write a function to calculate over-crediting (as a percentage or in ARBOCs), optionally using a\n",
    "condition by which to filter projects\n"
   ]
  },
  {
   "cell_type": "code",
   "execution_count": null,
   "id": "settled-consultancy",
   "metadata": {},
   "outputs": [],
   "source": [
    "def get_overcrediting(condition=None, percentage=True, display=False):\n",
    "    if condition is not None:\n",
    "        keys = list(map(lambda x: x[\"id\"], filter(condition, db)))\n",
    "    else:\n",
    "        keys = list(map(lambda x: x[\"id\"], db))\n",
    "    keys = list(filter(lambda x: x in data.keys(), keys))\n",
    "    total = []\n",
    "    for i in range(1000):\n",
    "        total.append(np.nansum([data[key][\"delta_arbocs\"][i] for key in keys]))\n",
    "        total_percentage = np.percentile(total, [5, 50, 95]) / np.sum(\n",
    "            [[x for x in db if x[\"id\"] == key][0][\"arbocs\"][\"issuance\"] for key in keys]\n",
    "        )\n",
    "        total_arbocs = np.percentile(total, [5, 50, 95])\n",
    "    if display:\n",
    "        print(\n",
    "            f\"Over-crediting in ARBOCs: \\\n",
    "            {format_si(total_arbocs[1])}, ({format_si(total_arbocs[0])}, {format_si(total_arbocs[2])})\"\n",
    "        )\n",
    "        print(\n",
    "            f\"Over-crediting as %: \\\n",
    "            {format_pt(total_percentage[1])} ({format_pt(total_percentage[0])}, {format_pt(total_percentage[2])})\"\n",
    "        )\n",
    "        print(\n",
    "            f\"Projects included: \\\n",
    "            {len(keys)}\"\n",
    "        )\n",
    "    else:\n",
    "        return {\"count\": len(keys), \"percent\": total_percentage, \"arbocs\": total_arbocs}"
   ]
  },
  {
   "cell_type": "markdown",
   "id": "blond-stupid",
   "metadata": {},
   "source": [
    "## Examples of over-crediting\n"
   ]
  },
  {
   "cell_type": "markdown",
   "id": "trained-thomas",
   "metadata": {},
   "source": [
    "Now we compute over-crediting for some example conditions\n"
   ]
  },
  {
   "cell_type": "code",
   "execution_count": null,
   "id": "local-trade",
   "metadata": {},
   "outputs": [],
   "source": [
    "condition = None\n",
    "get_overcrediting(condition=condition, percentage=True, display=True)"
   ]
  },
  {
   "cell_type": "code",
   "execution_count": null,
   "id": "smoking-given",
   "metadata": {},
   "outputs": [],
   "source": [
    "condition = lambda x: \"New Forests\" in x[\"developers\"] or \"New Forests\" in x[\"owners\"]\n",
    "get_overcrediting(condition=condition, percentage=True, display=True)"
   ]
  },
  {
   "cell_type": "code",
   "execution_count": null,
   "id": "progressive-colors",
   "metadata": {},
   "outputs": [],
   "source": [
    "condition = lambda x: \"Finite Carbon\" in x[\"developers\"] or \"Finite Carbon\" in x[\"owners\"]\n",
    "get_overcrediting(condition=condition, percentage=True, display=True)"
   ]
  },
  {
   "cell_type": "code",
   "execution_count": null,
   "id": "strategic-emperor",
   "metadata": {},
   "outputs": [],
   "source": [
    "condition = lambda x: x[\"id\"] == \"ACR189\"\n",
    "get_overcrediting(condition=condition, percentage=True, display=True)"
   ]
  },
  {
   "cell_type": "markdown",
   "id": "rural-allen",
   "metadata": {},
   "source": [
    "## Table of over-crediting by developer\n"
   ]
  },
  {
   "cell_type": "markdown",
   "id": "medieval-helmet",
   "metadata": {},
   "source": [
    "First we get unique developers\n"
   ]
  },
  {
   "cell_type": "code",
   "execution_count": null,
   "id": "ranking-effort",
   "metadata": {},
   "outputs": [],
   "source": [
    "developers = [x[\"developers\"] for x in db if x[\"id\"] in data.keys()]\n",
    "developers = [item for sublist in developers for item in sublist]\n",
    "developers = list(set(developers))"
   ]
  },
  {
   "cell_type": "code",
   "execution_count": null,
   "id": "registered-dublin",
   "metadata": {},
   "outputs": [],
   "source": [
    "df = pd.DataFrame()\n",
    "df[\"Developer\"] = developers\n",
    "results = [\n",
    "    get_overcrediting(condition=lambda x: d in x[\"developers\"] or d in x[\"owners\"], percentage=True)\n",
    "    for d in developers\n",
    "]\n",
    "df[\"Count\"] = [d[\"count\"] for d in results]\n",
    "df[\"Over-crediting as %\"] = [f'{format_pt(d[\"percent\"][1])}' for d in results]\n",
    "df[\"Range for %\"] = [\n",
    "    f'({format_pt(d[\"percent\"][0])}, {format_pt(d[\"percent\"][2])})' for d in results\n",
    "]\n",
    "df[\"Over-crediting as ARBOCs\"] = [f'{format_si(d[\"arbocs\"][1])}' for d in results]\n",
    "df[\"Range for ARBOCs\"] = [\n",
    "    f'({format_si(d[\"arbocs\"][0])}, {format_si(d[\"arbocs\"][2])})' for d in results\n",
    "]"
   ]
  },
  {
   "cell_type": "code",
   "execution_count": null,
   "id": "speaking-header",
   "metadata": {},
   "outputs": [],
   "source": [
    "df[df[\"Count\"] > 5]"
   ]
  }
 ],
 "metadata": {
  "kernelspec": {
   "display_name": "Python 3",
   "language": "python",
   "name": "python3"
  },
  "language_info": {
   "codemirror_mode": {
    "name": "ipython",
    "version": 3
   },
   "file_extension": ".py",
   "mimetype": "text/x-python",
   "name": "python",
   "nbconvert_exporter": "python",
   "pygments_lexer": "ipython3",
   "version": "3.8.8"
  }
 },
 "nbformat": 4,
 "nbformat_minor": 5
}
