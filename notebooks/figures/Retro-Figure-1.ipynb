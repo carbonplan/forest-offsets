{
 "cells": [
  {
   "cell_type": "markdown",
   "id": "coral-temperature",
   "metadata": {},
   "source": [
    "# Retro — Figure 1"
   ]
  },
  {
   "cell_type": "code",
   "execution_count": 1,
   "id": "dressed-frank",
   "metadata": {},
   "outputs": [],
   "source": [
    "import json\n",
    "import pandas as pd\n",
    "import numpy as np\n",
    "import matplotlib.pyplot as plt\n",
    "from matplotlib import ticker"
   ]
  },
  {
   "cell_type": "code",
   "execution_count": 2,
   "id": "gothic-sarah",
   "metadata": {},
   "outputs": [],
   "source": [
    "%matplotlib inline"
   ]
  },
  {
   "cell_type": "markdown",
   "id": "satisfactory-catering",
   "metadata": {},
   "source": [
    "## Load the data"
   ]
  },
  {
   "cell_type": "code",
   "execution_count": 3,
   "id": "described-lyric",
   "metadata": {},
   "outputs": [],
   "source": [
    "with open('overcredited_arbocs.json', 'r') as f:\n",
    "    data = json.load(f)\n",
    "del data['ACR360']\n",
    "del data['CAR1102']"
   ]
  },
  {
   "cell_type": "code",
   "execution_count": 4,
   "id": "alternate-speech",
   "metadata": {},
   "outputs": [],
   "source": [
    "with open('retro-db-light-v1.0.json', 'r') as f:\n",
    "    db = json.load(f)\n",
    "db = list(filter(lambda x: ~(x['id'] == 'ACR360') & ~(x['id'] == 'CAR1102'), db))"
   ]
  },
  {
   "cell_type": "code",
   "execution_count": 5,
   "id": "sensitive-spider",
   "metadata": {},
   "outputs": [],
   "source": [
    "def get(id):\n",
    "    return [x for x in db if x['id'] == id][0]"
   ]
  },
  {
   "cell_type": "code",
   "execution_count": 6,
   "id": "thermal-intellectual",
   "metadata": {},
   "outputs": [],
   "source": [
    "numbers = {\n",
    "    'all': (474, 192996530.0),\n",
    "    'all_forest': (130, 156069203.0),\n",
    "    'compliance_ifm': (74, 131462946.0),\n",
    "    'upfront_ifm': (72, 120954134.0),\n",
    "}"
   ]
  },
  {
   "cell_type": "code",
   "execution_count": 7,
   "id": "serious-mortgage",
   "metadata": {},
   "outputs": [],
   "source": [
    "numbers['analyzed'] = (len(data.keys()), np.sum([get(key)['arbocs']['issuance'] for key in data.keys()]))"
   ]
  },
  {
   "cell_type": "markdown",
   "id": "quick-lightweight",
   "metadata": {},
   "source": [
    "## Make the plot"
   ]
  },
  {
   "cell_type": "code",
   "execution_count": 8,
   "id": "disturbed-engineer",
   "metadata": {},
   "outputs": [
    {
     "data": {
      "image/png": "[encoded data removed]",
      "text/plain": [
       "<Figure size 360x216 with 1 Axes>"
      ]
     },
     "metadata": {
      "needs_background": "light"
     },
     "output_type": "display_data"
    }
   ],
   "source": [
    "cats = ['analyzed', 'upfront_ifm', 'compliance_ifm', 'all_forest', 'all']\n",
    "\n",
    "fig, ax = plt.subplots(1,1, figsize=(5,3))\n",
    "\n",
    "ax.spines['left'].set_visible(False)\n",
    "ax.spines['right'].set_visible(False)\n",
    "ax.spines['top'].set_visible(False)\n",
    "ax.spines['bottom'].set_visible(False)\n",
    "ax.barh(cats, width=[numbers[c][1] for c in cats], height=0.5)\n",
    "\n",
    "plt.savefig('Figure-1.svg')"
   ]
  }
 ],
 "metadata": {
  "kernelspec": {
   "display_name": "Python 3",
   "language": "python",
   "name": "python3"
  },
  "language_info": {
   "codemirror_mode": {
    "name": "ipython",
    "version": 3
   },
   "file_extension": ".py",
   "mimetype": "text/x-python",
   "name": "python",
   "nbconvert_exporter": "python",
   "pygments_lexer": "ipython3",
   "version": "3.8.6"
  }
 },
 "nbformat": 4,
 "nbformat_minor": 5
}
