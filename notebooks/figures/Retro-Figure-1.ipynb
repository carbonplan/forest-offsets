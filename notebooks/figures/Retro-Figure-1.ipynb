{
 "cells": [
  {
   "cell_type": "markdown",
   "id": "collective-debate",
   "metadata": {},
   "source": [
    "# Retro — Figure 1\n"
   ]
  },
  {
   "cell_type": "code",
   "execution_count": null,
   "id": "eastern-secretary",
   "metadata": {},
   "outputs": [],
   "source": [
    "import os\n",
    "import fsspec\n",
    "import json\n",
    "import numpy as np\n",
    "import matplotlib.pyplot as plt"
   ]
  },
  {
   "cell_type": "markdown",
   "id": "liable-acrylic",
   "metadata": {},
   "source": [
    "## Load the data\n"
   ]
  },
  {
   "cell_type": "code",
   "execution_count": null,
   "id": "timely-piece",
   "metadata": {},
   "outputs": [],
   "source": [
    "with fsspec.open(\n",
    "    \"https://carbonplan.blob.core.windows.net/carbonplan-scratch/overcredited_arbocs.json\", \"r\"\n",
    ") as f:\n",
    "    data = json.load(f)\n",
    "\n",
    "# TODO: explain\n",
    "del data[\"ACR360\"]\n",
    "del data[\"CAR1102\"]"
   ]
  },
  {
   "cell_type": "code",
   "execution_count": null,
   "id": "local-reservoir",
   "metadata": {},
   "outputs": [],
   "source": [
    "with fsspec.open(\n",
    "    \"https://carbonplan.blob.core.windows.net/carbonplan-retro/projects/retro-db-light-v1.0.json\",\n",
    "    \"r\",\n",
    ") as f:\n",
    "    db = json.load(f)\n",
    "db = list(filter(lambda x: ~(x[\"id\"] == \"ACR360\") & ~(x[\"id\"] == \"CAR1102\"), db))"
   ]
  },
  {
   "cell_type": "code",
   "execution_count": null,
   "id": "elementary-departure",
   "metadata": {},
   "outputs": [],
   "source": [
    "def get(id):\n",
    "    return [x for x in db if x[\"id\"] == id][0]"
   ]
  },
  {
   "cell_type": "code",
   "execution_count": null,
   "id": "premium-extent",
   "metadata": {},
   "outputs": [],
   "source": [
    "# TODO:\n",
    "numbers = {\n",
    "    \"all\": (474, 192996530.0),\n",
    "    \"all_forest\": (130, 156069203.0),\n",
    "    \"compliance_ifm\": (74, 131462946.0),\n",
    "    \"upfront_ifm\": (72, 120954134.0),\n",
    "}"
   ]
  },
  {
   "cell_type": "code",
   "execution_count": null,
   "id": "offshore-cornell",
   "metadata": {},
   "outputs": [],
   "source": [
    "numbers[\"analyzed\"] = (\n",
    "    len(data.keys()),\n",
    "    np.sum([get(key)[\"arbocs\"][\"issuance\"] for key in data.keys()]),\n",
    ")"
   ]
  },
  {
   "cell_type": "markdown",
   "id": "amino-fitness",
   "metadata": {},
   "source": [
    "## Make the plot\n"
   ]
  },
  {
   "cell_type": "code",
   "execution_count": null,
   "id": "related-skirt",
   "metadata": {},
   "outputs": [],
   "source": [
    "cats = [\"analyzed\", \"upfront_ifm\", \"compliance_ifm\", \"all_forest\", \"all\"]\n",
    "\n",
    "fig, ax = plt.subplots(1, 1, figsize=(5, 3))\n",
    "\n",
    "ax.spines[\"left\"].set_visible(False)\n",
    "ax.spines[\"right\"].set_visible(False)\n",
    "ax.spines[\"top\"].set_visible(False)\n",
    "ax.spines[\"bottom\"].set_visible(False)\n",
    "ax.barh(cats, width=[numbers[c][1] for c in cats], height=0.5, color=\"#7eb36a\")\n",
    "\n",
    "\n",
    "fname = \"Figure-1.svg\"\n",
    "if \"BLOB_ACCOUNT_KEY\" in os.environ:\n",
    "    with fsspec.open(\n",
    "        f\"az://carbonplan-retro/figures/raw/{fname}\",\n",
    "        \"w\",\n",
    "        account_name=\"carbonplan\",\n",
    "        account_key=os.environ[\"BLOB_ACCOUNT_KEY\"],\n",
    "    ) as f:\n",
    "        fig.savefig(f, format=\"svg\")\n",
    "else:\n",
    "    plt.savefig(fname)"
   ]
  }
 ],
 "metadata": {
  "kernelspec": {
   "display_name": "Python 3",
   "language": "python",
   "name": "python3"
  },
  "language_info": {
   "codemirror_mode": {
    "name": "ipython",
    "version": 3
   },
   "file_extension": ".py",
   "mimetype": "text/x-python",
   "name": "python",
   "nbconvert_exporter": "python",
   "pygments_lexer": "ipython3",
   "version": "3.8.8"
  }
 },
 "nbformat": 4,
 "nbformat_minor": 5
}
