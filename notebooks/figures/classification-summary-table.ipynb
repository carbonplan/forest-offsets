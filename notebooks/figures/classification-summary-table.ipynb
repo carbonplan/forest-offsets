{
 "cells": [
  {
   "cell_type": "code",
   "execution_count": null,
   "id": "therapeutic-beatles",
   "metadata": {},
   "outputs": [],
   "source": [
    "import os\n",
    "import json\n",
    "import fsspec"
   ]
  },
  {
   "cell_type": "code",
   "execution_count": null,
   "id": "hungry-values",
   "metadata": {},
   "outputs": [],
   "source": [
    "with fsspec.open(\n",
    "    \"az://carbonplan-retro/classifications.json\",\n",
    "    account_key=os.environ[\"BLOB_ACCOUNT_KEY\"],\n",
    "    account_name=\"carbonplan\",\n",
    "    mode=\"r\",\n",
    ") as f:\n",
    "    reclassification_weights = json.load(f)"
   ]
  },
  {
   "cell_type": "code",
   "execution_count": null,
   "id": "difficult-earthquake",
   "metadata": {},
   "outputs": [],
   "source": [
    "reclassification_weights[\"ACR377\"]"
   ]
  },
  {
   "cell_type": "code",
   "execution_count": null,
   "id": "warming-welding",
   "metadata": {},
   "outputs": [],
   "source": [
    "from carbonplan_retro.data import cat\n",
    "\n",
    "retro_json = cat.retro_db_light_json.read()"
   ]
  },
  {
   "cell_type": "code",
   "execution_count": null,
   "id": "split-tolerance",
   "metadata": {},
   "outputs": [],
   "source": [
    "from carbonplan_retro.utils import aa_code_to_ss_code\n",
    "\n",
    "aa_to_ss_d = aa_code_to_ss_code()"
   ]
  },
  {
   "cell_type": "code",
   "execution_count": null,
   "id": "imperial-pitch",
   "metadata": {},
   "outputs": [],
   "source": [
    "from collections import defaultdict, Counter"
   ]
  },
  {
   "cell_type": "code",
   "execution_count": null,
   "id": "associate-mitchell",
   "metadata": {},
   "outputs": [],
   "source": [
    "def get_top_species_by_aa(project):\n",
    "    spcd_per_ss = defaultdict(Counter)\n",
    "    aa_to_ss_d = aa_code_to_ss_code()\n",
    "    for assessment_area in project[\"assessment_areas\"]:\n",
    "        if assessment_area[\"code\"] != 999:\n",
    "            ss = aa_to_ss_d.get(assessment_area[\"code\"])\n",
    "            for species in assessment_area[\"species\"]:\n",
    "                spcd_per_ss[(ss, assessment_area[\"code\"])][species[\"code\"]] += species[\"fraction\"]\n",
    "        else:\n",
    "            all_species = {\n",
    "                species[\"code\"]: species[\"fraction\"] for species in assessment_area[\"species\"]\n",
    "            }\n",
    "            return {(ss, 999): all_species for ss in project[\"supersection_ids\"]}\n",
    "\n",
    "    return spcd_per_ss"
   ]
  },
  {
   "cell_type": "code",
   "execution_count": null,
   "id": "ignored-clear",
   "metadata": {},
   "outputs": [],
   "source": [
    "top_species = get_top_species_by_aa(project)"
   ]
  },
  {
   "cell_type": "code",
   "execution_count": null,
   "id": "dutch-republic",
   "metadata": {},
   "outputs": [],
   "source": [
    "spcd_to_name = json.load(open(\"fia_spcd_to_name.json\"))"
   ]
  },
  {
   "cell_type": "code",
   "execution_count": null,
   "id": "dominican-lawrence",
   "metadata": {},
   "outputs": [],
   "source": [
    "species_fraction"
   ]
  },
  {
   "cell_type": "code",
   "execution_count": null,
   "id": "operational-kruger",
   "metadata": {},
   "outputs": [],
   "source": [
    "records = []\n",
    "for project in retro_json[:]:\n",
    "    try:\n",
    "        top_species = get_top_species_by_aa(project)\n",
    "        for k, species_fraction in top_species.items():\n",
    "            ss_id, aa_id = k\n",
    "            proj_class = reclassification_weights[project[\"opr_id\"]]\n",
    "            classifications_arr = [\n",
    "                k for k, v in proj_class[f\"({ss_id}, {aa_id})\"].items() if v > 0.1\n",
    "            ]\n",
    "            species_arr = [\n",
    "                {\"name\": spcd_to_name.get(str(k)), \"fraction\": v}\n",
    "                for k, v in species_fraction.items()\n",
    "                if v > 0.1\n",
    "            ]\n",
    "            record = {\n",
    "                \"id\": project[\"opr_id\"],\n",
    "                \"aa_id\": aa_id,\n",
    "                \"ss_id\": ss_id,\n",
    "                \"classification\": classifications,\n",
    "                \"species\": species_arr,\n",
    "            }\n",
    "            records.append(record)\n",
    "    except:\n",
    "        print(project[\"opr_id\"])"
   ]
  },
  {
   "cell_type": "code",
   "execution_count": null,
   "id": "solar-behalf",
   "metadata": {},
   "outputs": [],
   "source": [
    "with open(\"/home/jovyan/lost+found/reclass_table.json\", \"w\") as f:\n",
    "    json.dump(records, f)"
   ]
  },
  {
   "cell_type": "code",
   "execution_count": null,
   "id": "killing-wholesale",
   "metadata": {},
   "outputs": [],
   "source": [
    "records"
   ]
  },
  {
   "cell_type": "code",
   "execution_count": null,
   "id": "sound-bathroom",
   "metadata": {},
   "outputs": [],
   "source": [
    "%debug"
   ]
  },
  {
   "cell_type": "code",
   "execution_count": null,
   "id": "surgical-fossil",
   "metadata": {},
   "outputs": [],
   "source": [
    "specspcd_to_name"
   ]
  },
  {
   "cell_type": "code",
   "execution_count": null,
   "id": "incoming-corpus",
   "metadata": {},
   "outputs": [],
   "source": [
    "for aa_id, species_comp in d.items():\n",
    "    store = {}\n",
    "    for species, fraction in species_comp.items():\n",
    "        if fraction > 0.1:\n",
    "            store[]"
   ]
  }
 ],
 "metadata": {
  "kernelspec": {
   "display_name": "Python 3",
   "language": "python",
   "name": "python3"
  },
  "language_info": {
   "codemirror_mode": {
    "name": "ipython",
    "version": 3
   },
   "file_extension": ".py",
   "mimetype": "text/x-python",
   "name": "python",
   "nbconvert_exporter": "python",
   "pygments_lexer": "ipython3",
   "version": "3.8.8"
  }
 },
 "nbformat": 4,
 "nbformat_minor": 5
}
