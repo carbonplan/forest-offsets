{
 "cells": [
  {
   "cell_type": "code",
   "execution_count": null,
   "id": "beneficial-andrews",
   "metadata": {},
   "outputs": [],
   "source": [
    "import matplotlib.pyplot as plt\n",
    "import numpy as np\n",
    "import pandas as pd\n",
    "import seaborn as sns\n",
    "\n",
    "import statsmodels.formula.api as smf\n",
    "\n",
    "from sklearn.metrics import mean_squared_error\n",
    "\n",
    "\n",
    "from carbonplan_retro.data import cat\n",
    "from carbonplan_retro.analysis import rfia\n",
    "\n",
    "from carbonplan import styles\n",
    "\n",
    "styles.mpl.set_theme(style=\"carbonplan_light\", font_scale=1.5)\n",
    "colors = styles.colors.light"
   ]
  },
  {
   "cell_type": "code",
   "execution_count": null,
   "id": "crucial-corruption",
   "metadata": {},
   "outputs": [],
   "source": [
    "retro_json = cat.retro_db_light_json.read()"
   ]
  },
  {
   "cell_type": "code",
   "execution_count": null,
   "id": "southwest-colon",
   "metadata": {},
   "outputs": [],
   "source": [
    "used_assessment_areas = list(\n",
    "    set(\n",
    "        [\n",
    "            assessment_area[\"code\"]\n",
    "            for project in retro_json\n",
    "            for assessment_area in project[\"assessment_areas\"]\n",
    "        ]\n",
    "    )\n",
    ")"
   ]
  },
  {
   "cell_type": "code",
   "execution_count": null,
   "id": "ranging-newcastle",
   "metadata": {},
   "outputs": [],
   "source": [
    "arb_numbers = pd.read_csv(\"~/lost+found/2015_aa_lut.csv\")"
   ]
  },
  {
   "cell_type": "code",
   "execution_count": null,
   "id": "likely-tourist",
   "metadata": {},
   "outputs": [],
   "source": [
    "assessment_areas = arb_numbers.set_index(\"aa_code\")[\"site_class\"].to_dict()\n",
    "\n",
    "rfia_results = []\n",
    "for row in arb_numbers.itertuples():\n",
    "    if row.aa_code in used_assessment_areas:\n",
    "        try:\n",
    "            rfia_data = rfia.load_rfia_data(row.aa_code, site_class=row.site_class)\n",
    "        except:\n",
    "            print(row.aa_code)\n",
    "            raise\n",
    "        cp_per_inventory = rfia_data.groupby(\"YEAR\").apply(rfia.get_rfia_slag_co2e_acre)\n",
    "\n",
    "        median_cp = cp_per_inventory.loc[\n",
    "            (cp_per_inventory.index <= 2011) & (cp_per_inventory.index >= 2010)\n",
    "        ].median()\n",
    "        if np.isnan(median_cp):\n",
    "            # when stitch evals across states/supersections, some old inventories are missing\n",
    "            # specifically assessment areas: 82, 93, 94, 228, 229 [WA/OR/ID mix?]\n",
    "            # in this instance -- and only in this instance -- look to more recent inventorys\n",
    "            median_cp = cp_per_inventory.loc[(cp_per_inventory.index >= 2010)].median()\n",
    "        rfia_results.append((row.aa_code, row.site_class, median_cp))\n",
    "\n",
    "    rfia_df = pd.DataFrame(rfia_results, columns=[\"aa_code\", \"site_class\", \"rfia\"])\n",
    "    comparison = arb_numbers.join(\n",
    "        rfia_df.set_index([\"aa_code\", \"site_class\"]), on=[\"aa_code\", \"site_class\"]\n",
    "    )"
   ]
  },
  {
   "cell_type": "code",
   "execution_count": null,
   "id": "advanced-special",
   "metadata": {},
   "outputs": [],
   "source": [
    "units = \"(tCO2e acre$^{-1}$)\""
   ]
  },
  {
   "cell_type": "code",
   "execution_count": null,
   "id": "extensive-period",
   "metadata": {},
   "outputs": [],
   "source": [
    "sns.displot(\n",
    "    data=comparison[[\"rfia\", \"common_practice\"]].dropna(), palette=[\"g\", \"k\"], bins=25, alpha=0.25\n",
    ")"
   ]
  },
  {
   "cell_type": "code",
   "execution_count": null,
   "id": "finite-tackle",
   "metadata": {},
   "outputs": [],
   "source": [
    "comparison = comparison.dropna()\n",
    "params = smf.ols(\"common_practice~rfia\", data=comparison).fit().params\n",
    "rmse = mean_squared_error(comparison[\"common_practice\"], comparison[\"rfia\"]) ** 0.5"
   ]
  },
  {
   "cell_type": "code",
   "execution_count": null,
   "id": "adaptive-violin",
   "metadata": {},
   "outputs": [],
   "source": [
    "r2 = (comparison.corr() ** 2)[\"common_practice\"][\"rfia\"]"
   ]
  },
  {
   "cell_type": "code",
   "execution_count": null,
   "id": "lyric-witness",
   "metadata": {},
   "outputs": [],
   "source": [
    "r2"
   ]
  },
  {
   "cell_type": "code",
   "execution_count": null,
   "id": "engaging-aggregate",
   "metadata": {},
   "outputs": [],
   "source": [
    "g = sns.FacetGrid(data=comparison, height=4.5)\n",
    "g.map(plt.scatter, \"rfia\", \"common_practice\", s=175, alpha=0.5, color=\".3\")\n",
    "\n",
    "EXTENT = 215\n",
    "ticks = np.arange(0, 201, 50)\n",
    "plt.xlim(0, EXTENT)\n",
    "plt.ylim(0, EXTENT)\n",
    "plt.yticks(ticks)\n",
    "plt.xticks(ticks)\n",
    "\n",
    "plt.plot((0, EXTENT), (0, EXTENT), lw=3, ls=\"--\", color=\"r\")\n",
    "\n",
    "plt.ylabel(f\"ARB Common Practice\\n{units}\")\n",
    "plt.xlabel(f\"rFIA Common Practice\\n{units}\")\n",
    "\n",
    "g.axes[0][0].annotate(\n",
    "    f\"R$^{2}$: {r2:.2f}\\nSlope: {params['rfia']:.2f}\\nRMSE: {rmse:.2f}\",\n",
    "    xy=(0.6, 0.25),\n",
    "    xycoords=\"figure fraction\",\n",
    ")"
   ]
  },
  {
   "cell_type": "code",
   "execution_count": null,
   "id": "daily-diagram",
   "metadata": {},
   "outputs": [],
   "source": [
    "store = {}\n",
    "for project in retro_json:\n",
    "    slag_store = []\n",
    "    for assessment_area in project[\"assessment_areas\"]:\n",
    "        if assessment_area[\"code\"] != 999:\n",
    "\n",
    "            aa_slag = comparison.loc[\n",
    "                (comparison[\"aa_code\"] == assessment_area[\"code\"])\n",
    "                & (comparison[\"site_class\"] == assessment_area[\"site_class\"]),\n",
    "                \"rfia\",\n",
    "            ].mean()\n",
    "            if np.isnan(aa_slag):\n",
    "\n",
    "                # used to have `all` but got split in 2015\n",
    "                if assessment_area[\"site_class\"] == \"all\":\n",
    "                    aa_slag = comparison.loc[\n",
    "                        (comparison[\"aa_code\"] == assessment_area[\"code\"]), \"rfia\"\n",
    "                    ].mean()\n",
    "\n",
    "                # used to be split but got combined in 2015\n",
    "                else:\n",
    "                    aa_slag = comparison.loc[\n",
    "                        (comparison[\"aa_code\"] == assessment_area[\"code\"])\n",
    "                        & (comparison[\"site_class\"] == \"all\"),\n",
    "                        \"rfia\",\n",
    "                    ].mean()\n",
    "\n",
    "            if np.isnan(aa_slag):\n",
    "                raise\n",
    "            weighted_slag = aa_slag * assessment_area[\"acreage\"] / project[\"acreage\"]\n",
    "            slag_store.append(weighted_slag)\n",
    "\n",
    "            store[project[\"opr_id\"]] = sum(slag_store)"
   ]
  },
  {
   "cell_type": "code",
   "execution_count": null,
   "id": "stable-creator",
   "metadata": {},
   "outputs": [],
   "source": [
    "cp = {project[\"opr_id\"]: project[\"carbon\"][\"common_practice\"][\"value\"] for project in retro_json}\n",
    "\n",
    "per_proj_cp = pd.concat(\n",
    "    [pd.Series(store).rename(\"ours\"), pd.Series(cp).rename(\"theirs\")], axis=1\n",
    ").dropna()\n",
    "\n",
    "per_proj_r2 = per_proj_cp.corr()[\"ours\"][\"theirs\"]\n",
    "\n",
    "per_proj_rmse = mean_squared_error(per_proj_cp[\"ours\"], per_proj_cp[\"theirs\"]) ** 0.5"
   ]
  },
  {
   "cell_type": "code",
   "execution_count": null,
   "id": "laughing-novelty",
   "metadata": {},
   "outputs": [],
   "source": [
    "g = sns.FacetGrid(data=per_proj_cp, height=4.5)\n",
    "g.map(plt.scatter, \"ours\", \"theirs\", s=175, alpha=0.5, color=\".3\")\n",
    "\n",
    "EXTENT = 215\n",
    "ticks = np.arange(0, 201, 50)\n",
    "plt.xlim(0, EXTENT)\n",
    "plt.ylim(0, EXTENT)\n",
    "plt.yticks(ticks)\n",
    "plt.xticks(ticks)\n",
    "\n",
    "plt.plot((0, EXTENT), (0, EXTENT), lw=3, ls=\"--\", color=\"r\")\n",
    "\n",
    "plt.ylabel(f\"Project Reported\\nCommon Practice\\n{units}\")\n",
    "plt.xlabel(f\"Project Recalculated\\nCommon Practice\\n{units}\")\n",
    "\n",
    "g.axes[0][0].annotate(\n",
    "    f\"R$^{2}$: {per_proj_r2:.2f}\\nRMSE: {per_proj_rmse:.2f}\",\n",
    "    xy=(0.6, 0.35),\n",
    "    xycoords=\"figure fraction\",\n",
    ")\n",
    "fn = \"/home/jovyan/pub-figs/per_project_cp_compare.pdf\"\n",
    "plt.savefig(fn, dpi=300, bbox_inches=\"tight\")"
   ]
  },
  {
   "cell_type": "code",
   "execution_count": null,
   "id": "happy-merchandise",
   "metadata": {},
   "outputs": [],
   "source": [
    "(\n",
    "    (per_proj_cp[\"ours\"] - per_proj_cp[\"theirs\"])\n",
    "    / ((per_proj_cp[\"ours\"] + per_proj_cp[\"theirs\"]) / 2)\n",
    ").describe()"
   ]
  },
  {
   "cell_type": "code",
   "execution_count": null,
   "id": "prospective-protocol",
   "metadata": {},
   "outputs": [],
   "source": [
    "store = {}\n",
    "for project in retro_json:\n",
    "    slag_store = []\n",
    "    for assessment_area in project[\"assessment_areas\"]:\n",
    "        if assessment_area[\"code\"] != 999:\n",
    "\n",
    "            aa_slag = comparison.loc[\n",
    "                (comparison[\"aa_code\"] == assessment_area[\"code\"]), \"rfia\"\n",
    "            ].mean()\n",
    "            if np.isnan(aa_slag):\n",
    "\n",
    "                # used to have `all` but got split in 2015\n",
    "                if assessment_area[\"site_class\"] == \"all\":\n",
    "                    aa_slag = comparison.loc[\n",
    "                        (comparison[\"aa_code\"] == assessment_area[\"code\"]), \"rfia\"\n",
    "                    ].mean()\n",
    "\n",
    "                # used to be split but got combined in 2015\n",
    "                else:\n",
    "                    aa_slag = comparison.loc[\n",
    "                        (comparison[\"aa_code\"] == assessment_area[\"code\"])\n",
    "                        & (comparison[\"site_class\"] == \"all\"),\n",
    "                        \"rfia\",\n",
    "                    ].mean()\n",
    "\n",
    "            if np.isnan(aa_slag):\n",
    "                raise\n",
    "            weighted_slag = aa_slag * assessment_area[\"acreage\"] / project[\"acreage\"]\n",
    "            slag_store.append(weighted_slag)\n",
    "\n",
    "            store[project[\"opr_id\"]] = sum(slag_store)"
   ]
  },
  {
   "cell_type": "code",
   "execution_count": null,
   "id": "front-highland",
   "metadata": {},
   "outputs": [],
   "source": [
    "cp = {project[\"opr_id\"]: project[\"carbon\"][\"common_practice\"][\"value\"] for project in retro_json}\n",
    "\n",
    "per_proj_cp = pd.concat(\n",
    "    [pd.Series(store).rename(\"ours\"), pd.Series(cp).rename(\"theirs\")], axis=1\n",
    ").dropna()\n",
    "\n",
    "per_proj_r2 = per_proj_cp.corr()[\"ours\"][\"theirs\"]\n",
    "\n",
    "per_proj_rmse = mean_squared_error(per_proj_cp[\"ours\"], per_proj_cp[\"theirs\"]) ** 0.5"
   ]
  },
  {
   "cell_type": "code",
   "execution_count": null,
   "id": "coupled-prediction",
   "metadata": {},
   "outputs": [],
   "source": [
    "g = sns.FacetGrid(data=per_proj_cp, height=4.5)\n",
    "g.map(plt.scatter, \"ours\", \"theirs\", s=175, alpha=0.5, color=\".3\")\n",
    "\n",
    "EXTENT = 215\n",
    "ticks = np.arange(0, 201, 50)\n",
    "plt.xlim(0, EXTENT)\n",
    "plt.ylim(0, EXTENT)\n",
    "plt.yticks(ticks)\n",
    "plt.xticks(ticks)\n",
    "\n",
    "plt.plot((0, EXTENT), (0, EXTENT), lw=3, ls=\"--\", color=\"r\")\n",
    "\n",
    "plt.ylabel(f\"Project Reported\\nCommon Practice\\n{units}\")\n",
    "plt.xlabel(f\"Project Recalculated\\nCommon Practice\\n{units}\")\n",
    "\n",
    "g.axes[0][0].annotate(\n",
    "    f\"R$^{2}$: {per_proj_r2:.2f}\\nRMSE: {per_proj_rmse:.2f}\",\n",
    "    xy=(0.6, 0.35),\n",
    "    xycoords=\"figure fraction\",\n",
    ")\n",
    "fn = \"/home/jovyan/pub-figs/per_project_cp_compare_no_site_class.pdf\"\n",
    "plt.savefig(fn, dpi=300, bbox_inches=\"tight\")"
   ]
  }
 ],
 "metadata": {
  "kernelspec": {
   "display_name": "Python 3",
   "language": "python",
   "name": "python3"
  },
  "language_info": {
   "codemirror_mode": {
    "name": "ipython",
    "version": 3
   },
   "file_extension": ".py",
   "mimetype": "text/x-python",
   "name": "python",
   "nbconvert_exporter": "python",
   "pygments_lexer": "ipython3",
   "version": "3.7.10"
  }
 },
 "nbformat": 4,
 "nbformat_minor": 5
}
