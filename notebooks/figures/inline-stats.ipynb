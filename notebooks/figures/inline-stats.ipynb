{
 "cells": [
  {
   "cell_type": "code",
   "execution_count": null,
   "id": "champion-lightning",
   "metadata": {},
   "outputs": [],
   "source": [
    "import os\n",
    "import json\n",
    "import fsspec\n",
    "\n",
    "import numpy as np\n",
    "import pandas as pd\n",
    "\n",
    "from carbonplan_retro.data import cat\n",
    "from carbonplan_retro.load.issuance import load_issuance_table, ifm_opr_ids"
   ]
  },
  {
   "cell_type": "code",
   "execution_count": null,
   "id": "dimensional-establishment",
   "metadata": {},
   "outputs": [],
   "source": [
    "import pandas as pd\n",
    "\n",
    "import seaborn as sns\n",
    "from collections import Counter\n",
    "\n",
    "import matplotlib.pyplot as plt\n",
    "\n",
    "from carbonplan_retro.analysis.project_crediting_error import get_slag_to_total_scalar"
   ]
  },
  {
   "cell_type": "code",
   "execution_count": null,
   "id": "informal-segment",
   "metadata": {},
   "outputs": [],
   "source": [
    "df = load_issuance_table(forest_only=False)\n",
    "retro_json = cat.retro_db_light_json.read()"
   ]
  },
  {
   "cell_type": "code",
   "execution_count": null,
   "id": "infectious-emerald",
   "metadata": {},
   "outputs": [],
   "source": [
    "total_arbocs = df[\"allocation\"].sum()\n",
    "display(total_arbocs)"
   ]
  },
  {
   "cell_type": "markdown",
   "id": "executed-genius",
   "metadata": {},
   "source": [
    "## Total Value\n"
   ]
  },
  {
   "cell_type": "code",
   "execution_count": null,
   "id": "renewable-diploma",
   "metadata": {},
   "outputs": [],
   "source": [
    "price_per_arboc = 13.67\n",
    "\n",
    "display(price_per_arboc * total_arbocs)"
   ]
  },
  {
   "cell_type": "markdown",
   "id": "elementary-republic",
   "metadata": {},
   "source": [
    "### figure 3a\n"
   ]
  },
  {
   "cell_type": "code",
   "execution_count": null,
   "id": "compliant-exclusion",
   "metadata": {},
   "outputs": [],
   "source": [
    "def subset_stats(criteria):\n",
    "    nunique_opr_ids = df[criteria][\"opr_id\"].nunique()\n",
    "    total_arbocs = (df[criteria][\"allocation\"].sum() / 1_000_000).round(1)\n",
    "    return (nunique_opr_ids, total_arbocs)\n",
    "\n",
    "\n",
    "upfront_opr_ids = [\n",
    "    project[\"opr_id\"]\n",
    "    for project in retro_json\n",
    "    if project[\"carbon\"][\"initial_carbon_stock\"][\"value\"]\n",
    "    > project[\"carbon\"][\"common_practice\"][\"value\"]\n",
    "]\n",
    "compliance_opr_ids = [project[\"opr_id\"] for project in retro_json]\n",
    "\n",
    "subsets = {\n",
    "    \"all\": np.tile(True, len(df)),\n",
    "    \"all_forest\": df[\"project_type\"] == \"forest\",\n",
    "    \"compliance_ifm\": (df[\"opr_id\"].isin(ifm_opr_ids)) & (df[\"Early Action/ Compliance\"] == \"COP\"),\n",
    "    \"non_graduated_compliance_ifms\": (df[\"opr_id\"].isin(compliance_opr_ids))\n",
    "    & (df[\"Early Action/ Compliance\"] == \"COP\"),\n",
    "    \"upfront_ifm\": (df[\"opr_id\"].isin(upfront_opr_ids)) & (df[\"arb_rp_id\"].isin([\"A\"])),\n",
    "}\n",
    "{k: subset_stats(v) for k, v in subsets.items()}"
   ]
  },
  {
   "cell_type": "markdown",
   "id": "pregnant-romance",
   "metadata": {},
   "source": [
    "## Carbon stocks for SC by species\n"
   ]
  },
  {
   "cell_type": "code",
   "execution_count": null,
   "id": "reserved-incident",
   "metadata": {},
   "outputs": [],
   "source": [
    "sc_data = cat.rfia_all(assessment_area_id=297).read()\n",
    "\n",
    "sc_data = sc_data[sc_data[\"YEAR\"] == 2010].copy()  # use 2010 because comporable to CP data\n",
    "\n",
    "\n",
    "sc_data[\"CARB_ACRE\"] = sc_data[\"CARB_ACRE\"] * 44 / 12 * 0.907185"
   ]
  },
  {
   "cell_type": "code",
   "execution_count": null,
   "id": "authorized-productivity",
   "metadata": {},
   "outputs": [],
   "source": [
    "fortyps_of_interest = {\"Douglas fir\": 201, \"Ponderosa pine\": 221, \"Tanoak\": 941}"
   ]
  },
  {
   "cell_type": "code",
   "execution_count": null,
   "id": "imported-mediterranean",
   "metadata": {},
   "outputs": [],
   "source": [
    "standing_carbon = {}\n",
    "for k, v in fortyps_of_interest.items():\n",
    "    standing_carbon[k] = sc_data.loc[sc_data[\"FORTYPCD\"] == v, \"CARB_ACRE\"].item()\n",
    "display(standing_carbon)"
   ]
  },
  {
   "cell_type": "code",
   "execution_count": null,
   "id": "green-delaware",
   "metadata": {},
   "outputs": [],
   "source": [
    "sc_data[[\"FORTYPCD\", \"CARB_ACRE\", \"nPlots_TREE\"]]"
   ]
  },
  {
   "cell_type": "markdown",
   "id": "paperback-pledge",
   "metadata": {},
   "source": [
    "### Coastal Alaska\n"
   ]
  },
  {
   "cell_type": "code",
   "execution_count": null,
   "id": "adverse-pencil",
   "metadata": {},
   "outputs": [],
   "source": [
    "# ak has three assessment areas but lets summarize across all to report inline value\n",
    "ak_assessment_areas = [285, 286, 287]\n",
    "ak_all = pd.concat([cat.rfia_all(assessment_area_id=aa_id).read() for aa_id in ak_assessment_areas])\n",
    "\n",
    "ak_all = ak_all[ak_all[\"YEAR\"] == 2013].copy()  # 2013 to match what used in CP\n",
    "\n",
    "sums = ak_all.groupby(\"FORTYPCD\").sum()[[\"CARB_TOTAL\", \"AREA_TOTAL\", \"nPlots_TREE\"]]"
   ]
  },
  {
   "cell_type": "code",
   "execution_count": null,
   "id": "military-canberra",
   "metadata": {},
   "outputs": [],
   "source": [
    "ak_forests_of_interest = {\n",
    "    \"Sitka sprice\": 305,\n",
    "    \"Western hemlock\": 301,\n",
    "    \"Cottonwood\": 703,\n",
    "    \"Paper birch\": 902,\n",
    "}"
   ]
  },
  {
   "cell_type": "code",
   "execution_count": null,
   "id": "latter-verse",
   "metadata": {},
   "outputs": [],
   "source": [
    "ak_carb_acre = sums[\"CARB_TOTAL\"] / sums[\"AREA_TOTAL\"] * 44 / 12 * 0.907185"
   ]
  },
  {
   "cell_type": "code",
   "execution_count": null,
   "id": "sudden-decision",
   "metadata": {},
   "outputs": [],
   "source": [
    "sums"
   ]
  },
  {
   "cell_type": "code",
   "execution_count": null,
   "id": "sensitive-interface",
   "metadata": {},
   "outputs": [],
   "source": [
    "{k: ak_carb_acre[v].round(1) for k, v in ak_forests_of_interest.items()}"
   ]
  },
  {
   "cell_type": "markdown",
   "id": "naval-tuesday",
   "metadata": {},
   "source": [
    "### Project Examples\n"
   ]
  },
  {
   "cell_type": "code",
   "execution_count": null,
   "id": "aggressive-positive",
   "metadata": {},
   "outputs": [],
   "source": [
    "with fsspec.open(\n",
    "    # carbonplan-retro/remapping/\n",
    "    \"az://carbonplan-retro/results/reclassification-crediting-error.json\",\n",
    "    account_key=os.environ[\"BLOB_ACCOUNT_KEY\"],\n",
    "    account_name=\"carbonplan\",\n",
    "    mode=\"r\",\n",
    ") as f:\n",
    "    reclass_credit = json.load(f)"
   ]
  },
  {
   "cell_type": "code",
   "execution_count": null,
   "id": "southeast-hanging",
   "metadata": {},
   "outputs": [],
   "source": [
    "np.median(reclass_credit[project[\"opr_id\"]][\"delta_arbocs\"])"
   ]
  },
  {
   "cell_type": "code",
   "execution_count": null,
   "id": "frozen-aviation",
   "metadata": {},
   "outputs": [],
   "source": [
    "def summarize_project(project):\n",
    "    crediting_error = np.percentile(\n",
    "        reclass_credit[project[\"opr_id\"]][\"delta_arbocs\"], q=[5, 50, 95]\n",
    "    ).round(1)\n",
    "\n",
    "    as_frac = crediting_error / project[\"arbocs\"][\"calculated\"]\n",
    "    print(f\"{project['opr_id']} has a {crediting_error[1]} crediting error ({as_frac[1].round(3)})\")\n",
    "    print(f\"CI: {crediting_error[0]}, {crediting_error[2]}\")\n",
    "    print(f\"% CI: {as_frac[0].round(3)}, {as_frac[2].round(3)}\")"
   ]
  },
  {
   "cell_type": "code",
   "execution_count": null,
   "id": "overhead-response",
   "metadata": {},
   "outputs": [],
   "source": [
    "opr_id = \"ACR189\"\n",
    "project = [x for x in retro_json if x[\"opr_id\"] == opr_id][0]\n",
    "\n",
    "summarize_project(project)"
   ]
  },
  {
   "cell_type": "code",
   "execution_count": null,
   "id": "instant-launch",
   "metadata": {},
   "outputs": [],
   "source": [
    "opr_id = \"ACR361\"\n",
    "project = [x for x in retro_json if x[\"opr_id\"] == opr_id][0]\n",
    "\n",
    "summarize_project(project)"
   ]
  },
  {
   "cell_type": "markdown",
   "id": "respiratory-timing",
   "metadata": {},
   "source": [
    "Old values: 839,636 tCO2e (95% CI: 155,996 to 1,482,684 tCO2e) or 35.3% of its total credits (95%\n",
    "CI: 6.5% to 62.4%).\n"
   ]
  },
  {
   "cell_type": "code",
   "execution_count": null,
   "id": "destroyed-collector",
   "metadata": {},
   "outputs": [],
   "source": [
    "opr_id = \"CAR1183\"\n",
    "project = [x for x in retro_json if x[\"opr_id\"] == opr_id][0]\n",
    "\n",
    "summarize_project(project)"
   ]
  },
  {
   "cell_type": "markdown",
   "id": "confused-league",
   "metadata": {},
   "source": [
    "### Ecosection combos\n"
   ]
  },
  {
   "cell_type": "code",
   "execution_count": null,
   "id": "nasty-dylan",
   "metadata": {},
   "outputs": [],
   "source": [
    "data = pd.read_csv(\"~/rfia/processed_data/297_by_ecosection.csv\")\n",
    "data = data[data[\"YEAR\"] == 2010]  # match CP calculation period"
   ]
  },
  {
   "cell_type": "code",
   "execution_count": null,
   "id": "adjusted-blanket",
   "metadata": {},
   "outputs": [],
   "source": [
    "data[\"ECOSECTION\"] = data[\"ECOSUBCD\"].str[:-1].str.strip()\n",
    "\n",
    "\n",
    "lst = [\"M261A\", \"M261B\", \"M261D\"]  # ['263A']# [\"M221A\",\"M221B\",\"M221C\"] #['263A']#\n",
    "subset = data[(data[\"CARB_TOTAL\"] > 0) & (data[\"ECOSECTION\"].isin(lst))].copy()"
   ]
  },
  {
   "cell_type": "code",
   "execution_count": null,
   "id": "proper-steering",
   "metadata": {},
   "outputs": [],
   "source": [
    "sums = subset.groupby([\"site\", \"ECOSECTION\"])[[\"CARB_TOTAL\", \"AREA_TOTAL\"]].sum()\n",
    "slag = sums[\"CARB_TOTAL\"] / sums[\"AREA_TOTAL\"] * 44 / 12 * 0.907185"
   ]
  },
  {
   "cell_type": "code",
   "execution_count": null,
   "id": "cooperative-paste",
   "metadata": {},
   "outputs": [],
   "source": [
    "ss_average = subset.groupby([\"site\"])[[\"CARB_TOTAL\", \"AREA_TOTAL\"]].sum()"
   ]
  },
  {
   "cell_type": "code",
   "execution_count": null,
   "id": "printable-insider",
   "metadata": {},
   "outputs": [],
   "source": [
    "ss_slag = ss_average[\"CARB_TOTAL\"] / ss_average[\"AREA_TOTAL\"] * 44 / 12 * 0.907185"
   ]
  },
  {
   "cell_type": "code",
   "execution_count": null,
   "id": "judicial-advice",
   "metadata": {},
   "outputs": [],
   "source": [
    "slag.unstack(1).round(1)"
   ]
  },
  {
   "cell_type": "code",
   "execution_count": null,
   "id": "experimental-superior",
   "metadata": {},
   "outputs": [],
   "source": [
    "ss_slag"
   ]
  },
  {
   "cell_type": "code",
   "execution_count": null,
   "id": "purple-sentence",
   "metadata": {},
   "outputs": [],
   "source": [
    "((ss_slag - slag) / slag).unstack(0)"
   ]
  },
  {
   "cell_type": "markdown",
   "id": "historical-organization",
   "metadata": {},
   "source": [
    "# Methods\n"
   ]
  },
  {
   "cell_type": "markdown",
   "id": "competent-business",
   "metadata": {},
   "source": [
    "## Classifier\n"
   ]
  },
  {
   "cell_type": "code",
   "execution_count": null,
   "id": "original-houston",
   "metadata": {},
   "outputs": [],
   "source": [
    "with fsspec.open(\n",
    "    \"az://carbonplan-retro/reclassification/classifier_fscores.json\",\n",
    "    account_name=\"carbonplan\",\n",
    "    mode=\"r\",\n",
    "    account_key=os.environ[\"BLOB_ACCOUNT_KEY\"],\n",
    ") as f:\n",
    "    fscores = json.load(f)"
   ]
  },
  {
   "cell_type": "code",
   "execution_count": null,
   "id": "minute-night",
   "metadata": {},
   "outputs": [],
   "source": [
    "np.median([scores[0] for ss_name, scores in fscores.items()])"
   ]
  },
  {
   "cell_type": "code",
   "execution_count": null,
   "id": "sticky-attack",
   "metadata": {},
   "outputs": [],
   "source": [
    "table = (\n",
    "    pd.Series({ss_name: round(scores[0], 2) for ss_name, scores in fscores.items()})\n",
    "    .sort_values(ascending=False)\n",
    "    .rename(\"Weighted F-Score\")\n",
    "    .to_frame()\n",
    ")"
   ]
  },
  {
   "cell_type": "code",
   "execution_count": null,
   "id": "surprising-lebanon",
   "metadata": {},
   "outputs": [],
   "source": [
    "table.index = table.index.set_names(\"Superseciton\")"
   ]
  },
  {
   "cell_type": "code",
   "execution_count": null,
   "id": "involved-breakfast",
   "metadata": {},
   "outputs": [],
   "source": [
    "table"
   ]
  },
  {
   "cell_type": "markdown",
   "id": "cordless-acting",
   "metadata": {},
   "source": [
    "## Common Practice Stuff\n"
   ]
  },
  {
   "cell_type": "code",
   "execution_count": null,
   "id": "aware-pension",
   "metadata": {},
   "outputs": [],
   "source": [
    "retro_json[0]"
   ]
  },
  {
   "cell_type": "code",
   "execution_count": null,
   "id": "korean-example",
   "metadata": {},
   "outputs": [],
   "source": [
    "projects = [\n",
    "    x\n",
    "    for x in retro_json\n",
    "    if x[\"carbon\"][\"initial_carbon_stock\"][\"value\"] > x[\"carbon\"][\"common_practice\"][\"value\"]\n",
    "]"
   ]
  },
  {
   "cell_type": "code",
   "execution_count": null,
   "id": "august-lexington",
   "metadata": {},
   "outputs": [],
   "source": [
    "cp_df = pd.DataFrame(\n",
    "    [\n",
    "        (\n",
    "            project[\"carbon\"][\"average_slag_baseline\"][\"value\"],\n",
    "            project[\"carbon\"][\"common_practice\"][\"value\"],\n",
    "        )\n",
    "        for project in projects\n",
    "    ],\n",
    "    columns=[\"baseline\", \"cp\"],\n",
    ")"
   ]
  },
  {
   "cell_type": "code",
   "execution_count": null,
   "id": "saved-sheep",
   "metadata": {},
   "outputs": [],
   "source": [
    "sum((cp_df[\"baseline\"] <= cp_df[\"cp\"] * 1.05)) / len(cp_df.dropna())"
   ]
  },
  {
   "cell_type": "code",
   "execution_count": null,
   "id": "third-child",
   "metadata": {},
   "outputs": [],
   "source": [
    "pd.DataFrame([get_slag_to_total_scalar(project) for project in projects]).describe()"
   ]
  },
  {
   "cell_type": "code",
   "execution_count": null,
   "id": "robust-cotton",
   "metadata": {},
   "outputs": [],
   "source": [
    "sum([x[\"rp_1\"][\"ifm_3\"] == x[\"baseline\"][\"ifm_3\"] for x in projects]) / len(projects)"
   ]
  },
  {
   "cell_type": "code",
   "execution_count": null,
   "id": "cognitive-castle",
   "metadata": {},
   "outputs": [],
   "source": [
    "with fsspec.open(\n",
    "    \"az://carbonplan-scratch/results/common-practice-verification.json\",\n",
    "    account_key=os.environ[\"BLOB_ACCOUNT_KEY\"],\n",
    "    account_name=\"carbonplan\",\n",
    "    mode=\"r\",\n",
    ") as f:\n",
    "    cp_verification = json.load(f)"
   ]
  },
  {
   "cell_type": "code",
   "execution_count": null,
   "id": "brilliant-strip",
   "metadata": {},
   "outputs": [],
   "source": [
    "cp_recalc = {x[\"opr_id\"]: x[\"recalculated\"] for x in cp_verification[\"projects\"]}"
   ]
  },
  {
   "cell_type": "code",
   "execution_count": null,
   "id": "ruled-jersey",
   "metadata": {},
   "outputs": [],
   "source": [
    "with fsspec.open(\n",
    "    \"az://carbonplan-retro/results/reclassification-crediting-error.json\",\n",
    "    account_key=os.environ[\"BLOB_ACCOUNT_KEY\"],\n",
    "    account_name=\"carbonplan\",\n",
    "    mode=\"r\",\n",
    ") as f:\n",
    "\n",
    "    crediting_error = json.load(f)"
   ]
  },
  {
   "cell_type": "code",
   "execution_count": null,
   "id": "electrical-arizona",
   "metadata": {},
   "outputs": [],
   "source": [
    "crediting_df = pd.DataFrame({k: v[\"delta_arbocs\"] for k, v in crediting_error.items()})"
   ]
  },
  {
   "cell_type": "code",
   "execution_count": null,
   "id": "handled-problem",
   "metadata": {},
   "outputs": [],
   "source": [
    "median_crediting_error = {k: np.median(v[\"delta_arbocs\"]) for k, v in crediting_error.items()}"
   ]
  },
  {
   "cell_type": "code",
   "execution_count": null,
   "id": "unexpected-guard",
   "metadata": {},
   "outputs": [],
   "source": [
    "pd.Series(median_crediting_error).abs().describe().round()"
   ]
  },
  {
   "cell_type": "code",
   "execution_count": null,
   "id": "prostate-tolerance",
   "metadata": {},
   "outputs": [],
   "source": [
    "tp = pd.concat(\n",
    "    [\n",
    "        pd.Series(median_crediting_error).rename(\"crediting_error\"),\n",
    "        pd.Series(cp_recalc).rename(\"cp\"),\n",
    "    ],\n",
    "    axis=1,\n",
    ")"
   ]
  },
  {
   "cell_type": "code",
   "execution_count": null,
   "id": "protective-address",
   "metadata": {},
   "outputs": [],
   "source": [
    "tp.corr()"
   ]
  },
  {
   "cell_type": "code",
   "execution_count": null,
   "id": "referenced-vertex",
   "metadata": {},
   "outputs": [],
   "source": [
    "sns.jointplot(\"cp\", \"crediting_error\", data=tp)"
   ]
  },
  {
   "cell_type": "code",
   "execution_count": null,
   "id": "confused-warren",
   "metadata": {},
   "outputs": [],
   "source": [
    "nconds_df = pd.read_csv(\"~/lost+found/cleaned_olaf.csv\")"
   ]
  },
  {
   "cell_type": "code",
   "execution_count": null,
   "id": "blocked-religion",
   "metadata": {},
   "outputs": [],
   "source": [
    "nconds_df[\"cond_prop_group\"]"
   ]
  },
  {
   "cell_type": "code",
   "execution_count": null,
   "id": "proved-sword",
   "metadata": {},
   "outputs": [],
   "source": [
    "largest_aa = {}\n",
    "for project in retro_json:\n",
    "    try:\n",
    "        acreage_counter = Counter()\n",
    "        for assessment_area in project[\"assessment_areas\"]:\n",
    "            if assessment_area[\"code\"] != 999:\n",
    "                acreage_counter[assessment_area[\"code\"]] += assessment_area[\"acreage\"]\n",
    "        largest_aa[project[\"opr_id\"]] = max(acreage_counter, key=acreage_counter.get)\n",
    "    except:\n",
    "        print(project[\"opr_id\"])\n",
    "\n",
    "        arboc_range = crediting_df.quantile(q=[0.25, 0.75]).T\n",
    "arboc_range[\"norm_range\"] = (arboc_range[0.75] - arboc_range[0.25]) / (\n",
    "    arboc_range[0.25] + arboc_range[0.75]\n",
    ")\n",
    "arboc_range[\"abs_range\"] = np.abs(arboc_range[0.75] - arboc_range[0.25])"
   ]
  },
  {
   "cell_type": "code",
   "execution_count": null,
   "id": "fifty-eugene",
   "metadata": {},
   "outputs": [],
   "source": [
    "subset.corr()[\"nconds\"]"
   ]
  },
  {
   "cell_type": "code",
   "execution_count": null,
   "id": "infectious-satisfaction",
   "metadata": {},
   "outputs": [],
   "source": [
    "arb_nconds = nconds_df.groupby(\"aa_code\")[\"cond_prop_group\"].sum()\n",
    "\n",
    "nconds_df[\"cov\"] = nconds_df[\"slag_co2e_std\"] / nconds_df[\"slag_co2e_acre\"]\n",
    "\n",
    "arboc_range[\"nconds\"] = arboc_range.reset_index().index.map(arb_nconds)\n",
    "\n",
    "subset = arboc_range[arboc_range[\"nconds\"] < 1500]\n",
    "\n",
    "# plt.scatter(arboc_range['nconds'], arboc_range['norm_range'], )\n",
    "plt.scatter(subset[\"nconds\"], subset[\"norm_range\"], c=\".3\", alpha=0.55, s=125)\n",
    "plt.xlabel(\"ARB Reported\\nFIA Condition Count\")\n",
    "plt.ylabel(\"Normalized\\nOvercrediting IQR\")"
   ]
  },
  {
   "cell_type": "code",
   "execution_count": null,
   "id": "missing-struggle",
   "metadata": {},
   "outputs": [],
   "source": [
    "[x[\"arbocs\"][\"calculated\"] - x[\"arbocs\"][\"issuance\"] for x in projects if x[\"opr_id\"] == \"ACR257\"]"
   ]
  },
  {
   "cell_type": "markdown",
   "id": "established-source",
   "metadata": {},
   "source": [
    "### Plots in AK\n"
   ]
  },
  {
   "cell_type": "code",
   "execution_count": null,
   "id": "latter-fitness",
   "metadata": {},
   "outputs": [],
   "source": [
    "import pandas as pd"
   ]
  },
  {
   "cell_type": "code",
   "execution_count": null,
   "id": "boolean-pattern",
   "metadata": {},
   "outputs": [],
   "source": [
    "ak_assessment_areas = [285, 286, 287]\n",
    "ak_all = pd.concat([cat.rfia_all(assessment_area_id=aa_id).read() for aa_id in ak_assessment_areas])"
   ]
  },
  {
   "cell_type": "code",
   "execution_count": null,
   "id": "skilled-correction",
   "metadata": {},
   "outputs": [],
   "source": [
    "ak_all = ak_all[ak_all[\"YEAR\"] == 2013]"
   ]
  },
  {
   "cell_type": "code",
   "execution_count": null,
   "id": "organized-arcade",
   "metadata": {},
   "outputs": [],
   "source": [
    "plots_by_aa = ak_all.groupby(\"Assessment\")[\"nPlots_TREE\"].sum()\n",
    "display(plots_by_aa)"
   ]
  },
  {
   "cell_type": "code",
   "execution_count": null,
   "id": "pressing-hampshire",
   "metadata": {},
   "outputs": [],
   "source": [
    "# total AK plots\n",
    "display(plots_by_aa.sum())"
   ]
  },
  {
   "cell_type": "code",
   "execution_count": null,
   "id": "given-blade",
   "metadata": {},
   "outputs": [],
   "source": [
    "sc = cat.rfia_all(assessment_area_id=297).read()"
   ]
  },
  {
   "cell_type": "code",
   "execution_count": null,
   "id": "acting-measurement",
   "metadata": {},
   "outputs": [],
   "source": [
    "sc[sc[\"YEAR\"] == 2010].nPlots_TREE.sum()"
   ]
  },
  {
   "cell_type": "code",
   "execution_count": null,
   "id": "handy-impact",
   "metadata": {},
   "outputs": [],
   "source": [
    "[project[\"arbocs\"][\"issuance\"] for project in retro_json if 286 in project[\"supersection_ids\"]]"
   ]
  }
 ],
 "metadata": {
  "kernelspec": {
   "display_name": "Python 3",
   "language": "python",
   "name": "python3"
  },
  "language_info": {
   "codemirror_mode": {
    "name": "ipython",
    "version": 3
   },
   "file_extension": ".py",
   "mimetype": "text/x-python",
   "name": "python",
   "nbconvert_exporter": "python",
   "pygments_lexer": "ipython3",
   "version": "3.8.8"
  }
 },
 "nbformat": 4,
 "nbformat_minor": 5
}
