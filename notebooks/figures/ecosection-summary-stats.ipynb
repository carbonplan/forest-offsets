{
 "cells": [
  {
   "cell_type": "code",
   "execution_count": null,
   "id": "loved-steel",
   "metadata": {},
   "outputs": [],
   "source": [
    "import geopandas\n",
    "from carbonplan_retro.data import cat\n",
    "\n",
    "ecomap_sections = geopandas.read_file(\n",
    "    \"/home/jovyan/lost+found/cleland-ecosections/sections\"\n",
    ").to_crs(\"epsg:4326\")"
   ]
  },
  {
   "cell_type": "code",
   "execution_count": null,
   "id": "painted-massage",
   "metadata": {},
   "outputs": [],
   "source": [
    "retro_json = cat.retro_db_light_json.read()"
   ]
  },
  {
   "cell_type": "code",
   "execution_count": null,
   "id": "appreciated-marriage",
   "metadata": {},
   "outputs": [],
   "source": [
    "ecomap_sections.crs"
   ]
  },
  {
   "cell_type": "code",
   "execution_count": null,
   "id": "turkish-cheat",
   "metadata": {},
   "outputs": [],
   "source": [
    "project"
   ]
  },
  {
   "cell_type": "code",
   "execution_count": null,
   "id": "adult-component",
   "metadata": {},
   "outputs": [],
   "source": [
    "retro_json[10]"
   ]
  },
  {
   "cell_type": "code",
   "execution_count": null,
   "id": "dependent-january",
   "metadata": {},
   "outputs": [],
   "source": [
    "store = []\n",
    "for project in retro_json:\n",
    "    if 79 in project[\"supersection_ids\"]:\n",
    "\n",
    "        opr_id = project[\"opr_id\"]\n",
    "        shp = cat.arb_geometries(opr_id=opr_id).read()\n",
    "        if (\n",
    "            len(\n",
    "                geopandas.overlay(\n",
    "                    shp,\n",
    "                    ecomap_sections[ecomap_sections[\"MAP_UNIT_S\"] == \"M261D\"],\n",
    "                    how=\"intersection\",\n",
    "                )\n",
    "            )\n",
    "            > 0\n",
    "        ):\n",
    "            # gdf = geopandas.GeoDataFrame(data=np.arange(len(project['shape_centroid'])), geometry=[Point(x, y) for x,y in project['shape_centroid']], crs='epsg:4326')\n",
    "            store.append(opr_id)\n",
    "        # geopandas.sjoin(gdf, ecomap_sections, op='within').MAP_UNIT_S.unique().tolist()"
   ]
  },
  {
   "cell_type": "code",
   "execution_count": null,
   "id": "capable-episode",
   "metadata": {},
   "outputs": [],
   "source": [
    "def get_percent_spcd(project, spcd):\n",
    "    total_fraction = 0\n",
    "    for assessment_area in project[\"assessment_areas\"]:\n",
    "        # print(assessment_area['code'])\n",
    "        for species in assessment_area[\"species\"]:\n",
    "            if species[\"code\"] == spcd:\n",
    "                total_fraction += species.get(\"fraction\", 999)\n",
    "    return total_fraction"
   ]
  },
  {
   "cell_type": "code",
   "execution_count": null,
   "id": "ethical-dietary",
   "metadata": {},
   "outputs": [],
   "source": [
    "ss_projects = [project for project in retro_json if 79 in project[\"supersection_ids\"]]"
   ]
  },
  {
   "cell_type": "code",
   "execution_count": null,
   "id": "impossible-latino",
   "metadata": {},
   "outputs": [],
   "source": [
    "{project[\"opr_id\"]: get_percent_spcd(project, 211) for project in ss_projects}"
   ]
  },
  {
   "cell_type": "code",
   "execution_count": null,
   "id": "purple-northern",
   "metadata": {},
   "outputs": [],
   "source": [
    "len(\n",
    "    [\n",
    "        project[\"opr_id\"]\n",
    "        for project in retro_json\n",
    "        for assessment_area in project[\"assessment_areas\"]\n",
    "        if assessment_area[\"code\"] == 999\n",
    "    ]\n",
    ")"
   ]
  },
  {
   "cell_type": "code",
   "execution_count": null,
   "id": "distinct-reading",
   "metadata": {},
   "outputs": [],
   "source": [
    "retro_json[0]"
   ]
  },
  {
   "cell_type": "code",
   "execution_count": null,
   "id": "finnish-liver",
   "metadata": {},
   "outputs": [],
   "source": [
    "len(store)"
   ]
  },
  {
   "cell_type": "code",
   "execution_count": null,
   "id": "labeled-brick",
   "metadata": {},
   "outputs": [],
   "source": [
    "len(store) / len([project for project in retro_json if 79 in project[\"supersection_ids\"]])"
   ]
  },
  {
   "cell_type": "code",
   "execution_count": null,
   "id": "patent-danger",
   "metadata": {},
   "outputs": [],
   "source": [
    "shp = cat.arb_geometries(opr_id=\"CAR1066\").read()"
   ]
  },
  {
   "cell_type": "code",
   "execution_count": null,
   "id": "adjusted-biotechnology",
   "metadata": {},
   "outputs": [],
   "source": [
    "ecomap_sections[ecomap_sections[\"MAP_UNIT_S\"] == \"M261B\"].intersects(shp.geometry)"
   ]
  },
  {
   "cell_type": "code",
   "execution_count": null,
   "id": "reflected-botswana",
   "metadata": {},
   "outputs": [],
   "source": [
    "store"
   ]
  },
  {
   "cell_type": "code",
   "execution_count": null,
   "id": "surprised-basis",
   "metadata": {},
   "outputs": [],
   "source": [
    "shp = cat.arb_geometries(opr_id=\"ACR282\").read()"
   ]
  },
  {
   "cell_type": "code",
   "execution_count": null,
   "id": "analyzed-recycling",
   "metadata": {},
   "outputs": [],
   "source": [
    "shp.crs"
   ]
  },
  {
   "cell_type": "code",
   "execution_count": null,
   "id": "included-usage",
   "metadata": {},
   "outputs": [],
   "source": [
    "if len(ecomap_sections[ecomap_sections[\"MAP_UNIT_S\"] == \"M261B\"].intersects(shp)) > 0:\n",
    "    print(\"yay\")"
   ]
  },
  {
   "cell_type": "code",
   "execution_count": null,
   "id": "bearing-housing",
   "metadata": {},
   "outputs": [],
   "source": [
    "shp"
   ]
  },
  {
   "cell_type": "code",
   "execution_count": null,
   "id": "lesser-adult",
   "metadata": {},
   "outputs": [],
   "source": [
    "len([k for k, v in store.items() if \"M261B\" in v])"
   ]
  },
  {
   "cell_type": "code",
   "execution_count": null,
   "id": "english-skirt",
   "metadata": {},
   "outputs": [],
   "source": [
    "import pandas as pd"
   ]
  },
  {
   "cell_type": "code",
   "execution_count": null,
   "id": "cosmetic-bathroom",
   "metadata": {},
   "outputs": [],
   "source": [
    "store"
   ]
  },
  {
   "cell_type": "code",
   "execution_count": null,
   "id": "induced-breath",
   "metadata": {},
   "outputs": [],
   "source": [
    "pd.DataFrame(store)"
   ]
  },
  {
   "cell_type": "code",
   "execution_count": null,
   "id": "regulation-accuracy",
   "metadata": {},
   "outputs": [],
   "source": [
    "len(store)"
   ]
  },
  {
   "cell_type": "code",
   "execution_count": null,
   "id": "acceptable-evaluation",
   "metadata": {},
   "outputs": [],
   "source": [
    "from shapely.geometry import Point"
   ]
  }
 ],
 "metadata": {
  "kernelspec": {
   "display_name": "Python 3",
   "language": "python",
   "name": "python3"
  },
  "language_info": {
   "codemirror_mode": {
    "name": "ipython",
    "version": 3
   },
   "file_extension": ".py",
   "mimetype": "text/x-python",
   "name": "python",
   "nbconvert_exporter": "python",
   "pygments_lexer": "ipython3",
   "version": "3.7.10"
  }
 },
 "nbformat": 4,
 "nbformat_minor": 5
}
