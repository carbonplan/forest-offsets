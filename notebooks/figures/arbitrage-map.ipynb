{
 "cells": [
  {
   "cell_type": "code",
   "execution_count": null,
   "id": "damaged-homeless",
   "metadata": {},
   "outputs": [],
   "source": [
    "!pip install tenacity"
   ]
  },
  {
   "cell_type": "code",
   "execution_count": null,
   "id": "tropical-keeping",
   "metadata": {},
   "outputs": [],
   "source": [
    "import geopandas\n",
    "from carbonplan_retro.data import cat\n",
    "\n",
    "ecomap_sections = geopandas.read_file(\n",
    "    \"/home/jovyan/lost+found/cleland-ecosections/sections\"\n",
    ").to_crs(\"epsg:4326\")"
   ]
  },
  {
   "cell_type": "code",
   "execution_count": null,
   "id": "exclusive-florist",
   "metadata": {},
   "outputs": [],
   "source": [
    "from carbonplan_retro.arbitrage.project_arbitrage import get_crs\n",
    "\n",
    "from mpl_toolkits.axes_grid1.inset_locator import inset_axes\n",
    "\n",
    "\n",
    "from matplotlib.colors import LinearSegmentedColormap\n",
    "\n",
    "import matplotlib as mpl\n",
    "import matplotlib.pyplot as plt\n",
    "import numpy as np\n",
    "from matplotlib.colors import ListedColormap\n",
    "\n",
    "from mpl_toolkits.axes_grid1.inset_locator import inset_axes"
   ]
  },
  {
   "cell_type": "code",
   "execution_count": null,
   "id": "allied-stevens",
   "metadata": {},
   "outputs": [],
   "source": [
    "from carbonplan_retro.data import cat\n",
    "\n",
    "retro_json = cat.retro_db_light_json.read()\n",
    "\n",
    "import matplotlib.pyplot as plt\n",
    "\n",
    "from shapely.geometry import Point"
   ]
  },
  {
   "cell_type": "code",
   "execution_count": null,
   "id": "aquatic-blake",
   "metadata": {},
   "outputs": [],
   "source": [
    "from carbonplan_retro.arbitrage.prism_arbitrage import load_prism_arbitrage\n",
    "\n",
    "arbitrage_df = load_prism_arbitrage(79)"
   ]
  },
  {
   "cell_type": "code",
   "execution_count": null,
   "id": "sacred-bullet",
   "metadata": {},
   "outputs": [],
   "source": [
    "ecosections = [\"M261A\", \"M261B\", \"M261D\"]"
   ]
  },
  {
   "cell_type": "code",
   "execution_count": null,
   "id": "reliable-secretariat",
   "metadata": {},
   "outputs": [],
   "source": [
    "proj_centroids = {\n",
    "    project[\"opr_id\"]: Point(project[\"shape_centroid\"][0][0], project[\"shape_centroid\"][0][1])\n",
    "    for project in retro_json\n",
    "    if 79 in project[\"supersection_ids\"]\n",
    "}"
   ]
  },
  {
   "cell_type": "code",
   "execution_count": null,
   "id": "sporting-matrix",
   "metadata": {},
   "outputs": [],
   "source": [
    "proj_points = geopandas.GeoDataFrame(\n",
    "    data=list(proj_centroids.keys()), geometry=list(proj_centroids.values()), crs=\"epsg:4326\"\n",
    ")"
   ]
  },
  {
   "cell_type": "code",
   "execution_count": null,
   "id": "hybrid-accent",
   "metadata": {},
   "outputs": [],
   "source": [
    "from carbonplan_retro.load.geometry import load_states\n",
    "\n",
    "states = load_states()\n",
    "conus = [\n",
    "    \"AL\",\n",
    "    \"AZ\",\n",
    "    \"AR\",\n",
    "    \"CA\",\n",
    "    \"CO\",\n",
    "    \"CT\",\n",
    "    \"DE\",\n",
    "    \"FL\",\n",
    "    \"GA\",\n",
    "    \"ID\",\n",
    "    \"IL\",\n",
    "    \"IN\",\n",
    "    \"IA\",\n",
    "    \"KS\",\n",
    "    \"KY\",\n",
    "    \"LA\",\n",
    "    \"ME\",\n",
    "    \"MD\",\n",
    "    \"MA\",\n",
    "    \"MI\",\n",
    "    \"MN\",\n",
    "    \"MS\",\n",
    "    \"MO\",\n",
    "    \"MT\",\n",
    "    \"NE\",\n",
    "    \"NV\",\n",
    "    \"NH\",\n",
    "    \"NJ\",\n",
    "    \"NM\",\n",
    "    \"NY\",\n",
    "    \"NC\",\n",
    "    \"ND\",\n",
    "    \"OH\",\n",
    "    \"OK\",\n",
    "    \"OR\",\n",
    "    \"PA\",\n",
    "    \"RI\",\n",
    "    \"SC\",\n",
    "    \"SD\",\n",
    "    \"TN\",\n",
    "    \"TX\",\n",
    "    \"UT\",\n",
    "    \"VT\",\n",
    "    \"VA\",\n",
    "    \"WA\",\n",
    "    \"WV\",\n",
    "    \"WI\",\n",
    "    \"WY\",\n",
    "]\n",
    "states = states.loc[states[\"postal\"].isin(conus)]\n",
    "outline_states = states.dissolve(\"adm0_a3\")\n",
    "\n",
    "sub_states = states.loc[states[\"postal\"].isin([\"CA\", \"OR\"])]"
   ]
  },
  {
   "cell_type": "code",
   "execution_count": null,
   "id": "going-ocean",
   "metadata": {},
   "outputs": [],
   "source": [
    "crs = get_crs()"
   ]
  },
  {
   "cell_type": "code",
   "execution_count": null,
   "id": "increasing-feedback",
   "metadata": {},
   "outputs": [],
   "source": [
    "arbitrage_df.mean_local_slag.mean()"
   ]
  },
  {
   "cell_type": "code",
   "execution_count": null,
   "id": "negative-things",
   "metadata": {},
   "outputs": [],
   "source": [
    "vmin, vmax = arbitrage_df.mean_local_slag.quantile(0.025), arbitrage_df.mean_local_slag.quantile(\n",
    "    0.975\n",
    ")\n",
    "\n",
    "norm = mpl.colors.Normalize(vmin, vmax)"
   ]
  },
  {
   "cell_type": "code",
   "execution_count": null,
   "id": "official-project",
   "metadata": {},
   "outputs": [],
   "source": [
    "vmin, vmax"
   ]
  },
  {
   "cell_type": "code",
   "execution_count": null,
   "id": "fitted-dylan",
   "metadata": {},
   "outputs": [],
   "source": [
    "rfia_mean = 116.91\n",
    "slag_per_section = {\n",
    "    \"M261B\": 148.86 - rfia_mean,\n",
    "    \"M261A\": 122.65 - rfia_mean,\n",
    "    \"M261D\": 91.84 - rfia_mean,\n",
    "}"
   ]
  },
  {
   "cell_type": "code",
   "execution_count": null,
   "id": "dependent-uzbekistan",
   "metadata": {},
   "outputs": [],
   "source": [
    "def make_colormap():\n",
    "    N = 256\n",
    "    vals1 = np.ones((N, 4))\n",
    "    vals1[:, 0] = np.linspace(126 / 256, 1, N)\n",
    "    vals1[:, 1] = np.linspace(179 / 256, 1, N)\n",
    "    vals1[:, 2] = np.linspace(106 / 256, 1, N)\n",
    "    vals2 = np.ones((N, 4))\n",
    "    vals2[:, 0] = np.linspace(128 / 256, 1, N)\n",
    "    vals2[:, 1] = np.linspace(128 / 256, 1, N)\n",
    "    vals2[:, 2] = np.linspace(128 / 256, 1, N)\n",
    "    return mpl.colors.ListedColormap(np.concatenate([vals2, vals1[::-1]]))"
   ]
  },
  {
   "cell_type": "code",
   "execution_count": null,
   "id": "arbitrary-proof",
   "metadata": {},
   "outputs": [],
   "source": [
    "cp_cm = make_colormap()\n",
    "ecomap_colors = cp_cm(norm(list(slag_per_section.values())))\n",
    "ecomap_cmap = ListedColormap(ecomap_colors[::-1], name=\"ecomap\")"
   ]
  },
  {
   "cell_type": "code",
   "execution_count": null,
   "id": "precious-capital",
   "metadata": {},
   "outputs": [],
   "source": [
    "supersection_sections = (\n",
    "    ecomap_sections.loc[ecomap_sections[\"MAP_UNIT_S\"].isin(ecosections)].to_crs(crs).copy()\n",
    ")\n",
    "supersection_sections[\"slag\"] = supersection_sections[\"MAP_UNIT_S\"].map(slag_per_section)\n",
    "supersection_outline = supersection_sections.dissolve(\"PROJECT\")"
   ]
  },
  {
   "cell_type": "code",
   "execution_count": null,
   "id": "waiting-volleyball",
   "metadata": {},
   "outputs": [],
   "source": [
    "supersection_sections"
   ]
  },
  {
   "cell_type": "code",
   "execution_count": null,
   "id": "impossible-taste",
   "metadata": {},
   "outputs": [],
   "source": [
    "fig, ax = plt.subplots(1, 2, figsize=(7, 7))\n",
    "\n",
    "\n",
    "left, bottom, width, height = 0.7, 0.2, 0.3, 0.05\n",
    "cax = fig.add_axes([left, bottom, width, height])\n",
    "\n",
    "\n",
    "arbitrage_df.to_crs(crs).plot(\n",
    "    \"delta_slag\",\n",
    "    markersize=4.5,\n",
    "    ax=ax[0],\n",
    "    cmap=cp_cm,\n",
    "    legend=True,\n",
    "    cax=cax,\n",
    "    vmin=-55,\n",
    "    vmax=55,\n",
    "    legend_kwds={\"label\": \"Aboveground Carbon\", \"orientation\": \"horizontal\"},\n",
    ")\n",
    "\n",
    "proj_points.to_crs(crs).plot(ax=ax[0], marker=\"^\", color=\".3\", markersize=100)\n",
    "supersection_outline.plot(ax=ax[0], edgecolor=\"k\", lw=0.2, color=\"None\")\n",
    "\n",
    "supersection_sections.plot(\n",
    "    column=\"slag\",\n",
    "    ax=ax[1],\n",
    "    edgecolor=\"k\",\n",
    "    lw=0.2,\n",
    "    cmap=cp_cm,\n",
    "    vmin=-55,\n",
    "    vmax=55,\n",
    ")\n",
    "proj_points.to_crs(crs).plot(ax=ax[1], marker=\"^\", color=\".3\", markersize=100)\n",
    "\n",
    "width = 4.5\n",
    "inset = inset_axes(\n",
    "    ax[1],\n",
    "    width=width,\n",
    "    height=width / 2,\n",
    "    bbox_to_anchor=(1.8, 0.65, 0.55, 0.275),\n",
    "    bbox_transform=ax[1].transAxes,\n",
    ")\n",
    "outline_states.to_crs(crs).plot(ax=inset, color=\"None\", edgecolor=\".8\")\n",
    "supersection_sections.to_crs(crs).plot(ax=inset, color=\".1\", alpha=0.55)\n",
    "inset.axes.set_axis_off()\n",
    "\n",
    "inset_2 = inset_axes(\n",
    "    ax[1],\n",
    "    width=4 / 3,\n",
    "    height=4,\n",
    "    bbox_to_anchor=(1.1, 0.4, 0.75, 0.25),\n",
    "    bbox_transform=ax[1].transAxes,\n",
    ")\n",
    "sub_states.to_crs(crs).plot(ax=inset_2, color=\"None\", edgecolor=\".8\")\n",
    "supersection_sections.to_crs(crs).plot(ax=inset_2, color=\".1\", alpha=0.55)\n",
    "\n",
    "\n",
    "inset_2.axes.set_axis_off()\n",
    "\n",
    "\n",
    "ax[0].set_axis_off()\n",
    "ax[1].set_axis_off()\n",
    "# [spine.set_visible(False) for spine in ax[0].spines.values()]\n",
    "# [spine.set_visible(False) for spine in ax[1].spines.values()]\n",
    "fig.tight_layout()\n",
    "plt.savefig(\"/home/jovyan/pub-figs/southern-cascades-arbitrage.pdf\", dpi=300, bbox_inches=\"tight\")"
   ]
  }
 ],
 "metadata": {
  "kernelspec": {
   "display_name": "Python 3",
   "language": "python",
   "name": "python3"
  },
  "language_info": {
   "codemirror_mode": {
    "name": "ipython",
    "version": 3
   },
   "file_extension": ".py",
   "mimetype": "text/x-python",
   "name": "python",
   "nbconvert_exporter": "python",
   "pygments_lexer": "ipython3",
   "version": "3.7.10"
  }
 },
 "nbformat": 4,
 "nbformat_minor": 5
}
