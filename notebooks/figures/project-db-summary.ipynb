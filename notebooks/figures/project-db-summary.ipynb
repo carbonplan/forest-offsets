{
 "cells": [
  {
   "cell_type": "code",
   "execution_count": null,
   "id": "abandoned-journey",
   "metadata": {},
   "outputs": [],
   "source": [
    "from carbonplan_retro.load.project_db import load_project_db"
   ]
  },
  {
   "cell_type": "code",
   "execution_count": null,
   "id": "continuous-circular",
   "metadata": {},
   "outputs": [],
   "source": [
    "df = load_project_db(\"/home/jovyan/lost+found/Forest-Offset-Projects-v0.3.json\", use_cache=True)"
   ]
  },
  {
   "cell_type": "code",
   "execution_count": null,
   "id": "cheap-fossil",
   "metadata": {},
   "outputs": [],
   "source": [
    "len(df)"
   ]
  },
  {
   "cell_type": "code",
   "execution_count": null,
   "id": "sitting-pierce",
   "metadata": {},
   "outputs": [],
   "source": [
    "df[df[\"project\"][\"early_action\"].str.startswith(\"CAR\")][\"project\"][\"species\"]"
   ]
  }
 ],
 "metadata": {
  "kernelspec": {
   "display_name": "Python 3",
   "language": "python",
   "name": "python3"
  },
  "language_info": {
   "codemirror_mode": {
    "name": "ipython",
    "version": 3
   },
   "file_extension": ".py",
   "mimetype": "text/x-python",
   "name": "python",
   "nbconvert_exporter": "python",
   "pygments_lexer": "ipython3",
   "version": "3.7.10"
  }
 },
 "nbformat": 4,
 "nbformat_minor": 5
}
